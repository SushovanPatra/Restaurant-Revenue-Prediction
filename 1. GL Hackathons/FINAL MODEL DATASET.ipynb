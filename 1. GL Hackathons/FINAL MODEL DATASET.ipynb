{
 "cells": [
  {
   "cell_type": "code",
   "execution_count": 1,
   "metadata": {},
   "outputs": [],
   "source": [
    "## Importing the libraries\n",
    "import numpy as np\n",
    "import pandas as pd\n",
    "from sklearn.linear_model import LinearRegression\n",
    "import matplotlib.pyplot as plt\n",
    "import seaborn as sns \n",
    "from sklearn.impute import KNNImputer\n",
    "from sklearn.model_selection import GridSearchCV\n",
    "\n",
    "from sklearn.preprocessing import StandardScaler\n",
    "scaler=StandardScaler()\n",
    "\n",
    "from sklearn import model_selection,metrics\n",
    "\n",
    "from sklearn.model_selection import cross_val_score,train_test_split"
   ]
  },
  {
   "cell_type": "code",
   "execution_count": 2,
   "metadata": {},
   "outputs": [],
   "source": [
    "import scipy.stats as stats"
   ]
  },
  {
   "cell_type": "code",
   "execution_count": 3,
   "metadata": {},
   "outputs": [],
   "source": [
    "test_Data=pd.read_csv('Test_dataset.csv')\n",
    "df_train = pd.read_csv('Train_dataset.csv')"
   ]
  },
  {
   "cell_type": "code",
   "execution_count": 4,
   "metadata": {},
   "outputs": [
    {
     "data": {
      "text/plain": [
       "(3493, 34)"
      ]
     },
     "execution_count": 4,
     "metadata": {},
     "output_type": "execute_result"
    }
   ],
   "source": [
    "df_train.shape"
   ]
  },
  {
   "cell_type": "code",
   "execution_count": 5,
   "metadata": {},
   "outputs": [
    {
     "data": {
      "text/html": [
       "<div>\n",
       "<style scoped>\n",
       "    .dataframe tbody tr th:only-of-type {\n",
       "        vertical-align: middle;\n",
       "    }\n",
       "\n",
       "    .dataframe tbody tr th {\n",
       "        vertical-align: top;\n",
       "    }\n",
       "\n",
       "    .dataframe thead th {\n",
       "        text-align: right;\n",
       "    }\n",
       "</style>\n",
       "<table border=\"1\" class=\"dataframe\">\n",
       "  <thead>\n",
       "    <tr style=\"text-align: right;\">\n",
       "      <th></th>\n",
       "      <th>Registration Number</th>\n",
       "      <th>Annual Turnover</th>\n",
       "      <th>Cuisine</th>\n",
       "      <th>City</th>\n",
       "      <th>Restaurant Location</th>\n",
       "      <th>Opening Day of Restaurant</th>\n",
       "      <th>Facebook Popularity Quotient</th>\n",
       "      <th>Endorsed By</th>\n",
       "      <th>Instagram Popularity Quotient</th>\n",
       "      <th>Fire Audit</th>\n",
       "      <th>...</th>\n",
       "      <th>Overall Restaurant Rating</th>\n",
       "      <th>Live Music Rating</th>\n",
       "      <th>Comedy Gigs Rating</th>\n",
       "      <th>Value Deals Rating</th>\n",
       "      <th>Live Sports Rating</th>\n",
       "      <th>Ambience</th>\n",
       "      <th>Lively</th>\n",
       "      <th>Service</th>\n",
       "      <th>Comfortablility</th>\n",
       "      <th>Privacy</th>\n",
       "    </tr>\n",
       "  </thead>\n",
       "  <tbody>\n",
       "    <tr>\n",
       "      <th>0</th>\n",
       "      <td>60001</td>\n",
       "      <td>42000000</td>\n",
       "      <td>indian,irish</td>\n",
       "      <td>Bangalore</td>\n",
       "      <td>Near Business Hub</td>\n",
       "      <td>14-02-2009</td>\n",
       "      <td>84.3</td>\n",
       "      <td>Not Specific</td>\n",
       "      <td>95.8</td>\n",
       "      <td>1</td>\n",
       "      <td>...</td>\n",
       "      <td>10.0</td>\n",
       "      <td>4.0</td>\n",
       "      <td>NaN</td>\n",
       "      <td>NaN</td>\n",
       "      <td>NaN</td>\n",
       "      <td>8.0</td>\n",
       "      <td>8</td>\n",
       "      <td>6</td>\n",
       "      <td>6</td>\n",
       "      <td>6</td>\n",
       "    </tr>\n",
       "    <tr>\n",
       "      <th>1</th>\n",
       "      <td>60002</td>\n",
       "      <td>50000000</td>\n",
       "      <td>indian,irish</td>\n",
       "      <td>Indore</td>\n",
       "      <td>Near Party Hub</td>\n",
       "      <td>29-09-2008</td>\n",
       "      <td>85.4</td>\n",
       "      <td>Tier A Celebrity</td>\n",
       "      <td>85.0</td>\n",
       "      <td>1</td>\n",
       "      <td>...</td>\n",
       "      <td>9.0</td>\n",
       "      <td>NaN</td>\n",
       "      <td>4.0</td>\n",
       "      <td>NaN</td>\n",
       "      <td>NaN</td>\n",
       "      <td>5.0</td>\n",
       "      <td>7</td>\n",
       "      <td>7</td>\n",
       "      <td>3</td>\n",
       "      <td>8</td>\n",
       "    </tr>\n",
       "    <tr>\n",
       "      <th>2</th>\n",
       "      <td>60003</td>\n",
       "      <td>32500000</td>\n",
       "      <td>tibetan,italian</td>\n",
       "      <td>Chennai</td>\n",
       "      <td>Near Business Hub</td>\n",
       "      <td>30-07-2011</td>\n",
       "      <td>85.0</td>\n",
       "      <td>Tier A Celebrity</td>\n",
       "      <td>68.2</td>\n",
       "      <td>1</td>\n",
       "      <td>...</td>\n",
       "      <td>8.0</td>\n",
       "      <td>3.0</td>\n",
       "      <td>NaN</td>\n",
       "      <td>NaN</td>\n",
       "      <td>NaN</td>\n",
       "      <td>7.0</td>\n",
       "      <td>10</td>\n",
       "      <td>5</td>\n",
       "      <td>2</td>\n",
       "      <td>8</td>\n",
       "    </tr>\n",
       "    <tr>\n",
       "      <th>3</th>\n",
       "      <td>60004</td>\n",
       "      <td>110000000</td>\n",
       "      <td>turkish,nigerian</td>\n",
       "      <td>Gurgaon</td>\n",
       "      <td>Near Party Hub</td>\n",
       "      <td>30-11-2008</td>\n",
       "      <td>85.6</td>\n",
       "      <td>Tier A Celebrity</td>\n",
       "      <td>83.6</td>\n",
       "      <td>0</td>\n",
       "      <td>...</td>\n",
       "      <td>9.0</td>\n",
       "      <td>6.0</td>\n",
       "      <td>NaN</td>\n",
       "      <td>NaN</td>\n",
       "      <td>NaN</td>\n",
       "      <td>7.0</td>\n",
       "      <td>7</td>\n",
       "      <td>4</td>\n",
       "      <td>3</td>\n",
       "      <td>5</td>\n",
       "    </tr>\n",
       "    <tr>\n",
       "      <th>4</th>\n",
       "      <td>60005</td>\n",
       "      <td>20000000</td>\n",
       "      <td>irish,belgian</td>\n",
       "      <td>Manesar</td>\n",
       "      <td>Near Party Hub</td>\n",
       "      <td>22-02-2010</td>\n",
       "      <td>NaN</td>\n",
       "      <td>Tier A Celebrity</td>\n",
       "      <td>76.8</td>\n",
       "      <td>1</td>\n",
       "      <td>...</td>\n",
       "      <td>6.0</td>\n",
       "      <td>NaN</td>\n",
       "      <td>2.0</td>\n",
       "      <td>NaN</td>\n",
       "      <td>NaN</td>\n",
       "      <td>NaN</td>\n",
       "      <td>6</td>\n",
       "      <td>2</td>\n",
       "      <td>4</td>\n",
       "      <td>6</td>\n",
       "    </tr>\n",
       "  </tbody>\n",
       "</table>\n",
       "<p>5 rows × 34 columns</p>\n",
       "</div>"
      ],
      "text/plain": [
       "   Registration Number  Annual Turnover           Cuisine       City  \\\n",
       "0                60001         42000000      indian,irish  Bangalore   \n",
       "1                60002         50000000      indian,irish     Indore   \n",
       "2                60003         32500000   tibetan,italian    Chennai   \n",
       "3                60004        110000000  turkish,nigerian    Gurgaon   \n",
       "4                60005         20000000     irish,belgian    Manesar   \n",
       "\n",
       "  Restaurant Location Opening Day of Restaurant  Facebook Popularity Quotient  \\\n",
       "0   Near Business Hub                14-02-2009                          84.3   \n",
       "1      Near Party Hub                29-09-2008                          85.4   \n",
       "2   Near Business Hub                30-07-2011                          85.0   \n",
       "3      Near Party Hub                30-11-2008                          85.6   \n",
       "4      Near Party Hub                22-02-2010                           NaN   \n",
       "\n",
       "        Endorsed By  Instagram Popularity Quotient  Fire Audit  ...  \\\n",
       "0      Not Specific                           95.8           1  ...   \n",
       "1  Tier A Celebrity                           85.0           1  ...   \n",
       "2  Tier A Celebrity                           68.2           1  ...   \n",
       "3  Tier A Celebrity                           83.6           0  ...   \n",
       "4  Tier A Celebrity                           76.8           1  ...   \n",
       "\n",
       "   Overall Restaurant Rating  Live Music Rating  Comedy Gigs Rating  \\\n",
       "0                       10.0                4.0                 NaN   \n",
       "1                        9.0                NaN                 4.0   \n",
       "2                        8.0                3.0                 NaN   \n",
       "3                        9.0                6.0                 NaN   \n",
       "4                        6.0                NaN                 2.0   \n",
       "\n",
       "   Value Deals Rating  Live Sports Rating Ambience Lively  Service  \\\n",
       "0                 NaN                 NaN      8.0      8        6   \n",
       "1                 NaN                 NaN      5.0      7        7   \n",
       "2                 NaN                 NaN      7.0     10        5   \n",
       "3                 NaN                 NaN      7.0      7        4   \n",
       "4                 NaN                 NaN      NaN      6        2   \n",
       "\n",
       "   Comfortablility  Privacy  \n",
       "0                6        6  \n",
       "1                3        8  \n",
       "2                2        8  \n",
       "3                3        5  \n",
       "4                4        6  \n",
       "\n",
       "[5 rows x 34 columns]"
      ]
     },
     "execution_count": 5,
     "metadata": {},
     "output_type": "execute_result"
    }
   ],
   "source": [
    "df_train.head()"
   ]
  },
  {
   "cell_type": "code",
   "execution_count": 6,
   "metadata": {
    "scrolled": true
   },
   "outputs": [
    {
     "data": {
      "text/html": [
       "<div>\n",
       "<style scoped>\n",
       "    .dataframe tbody tr th:only-of-type {\n",
       "        vertical-align: middle;\n",
       "    }\n",
       "\n",
       "    .dataframe tbody tr th {\n",
       "        vertical-align: top;\n",
       "    }\n",
       "\n",
       "    .dataframe thead th {\n",
       "        text-align: right;\n",
       "    }\n",
       "</style>\n",
       "<table border=\"1\" class=\"dataframe\">\n",
       "  <thead>\n",
       "    <tr style=\"text-align: right;\">\n",
       "      <th></th>\n",
       "      <th>Registration Number</th>\n",
       "      <th>Cuisine</th>\n",
       "      <th>City</th>\n",
       "      <th>Restaurant Location</th>\n",
       "      <th>Opening Day of Restaurant</th>\n",
       "      <th>Facebook Popularity Quotient</th>\n",
       "      <th>Endoresed By</th>\n",
       "      <th>Instagram Popularity Quotient</th>\n",
       "      <th>Fire Audit</th>\n",
       "      <th>Liquor License Obtained</th>\n",
       "      <th>...</th>\n",
       "      <th>Overall Restaurant Rating</th>\n",
       "      <th>Live Music Rating</th>\n",
       "      <th>Comedy Gigs Rating</th>\n",
       "      <th>Value Deals Rating</th>\n",
       "      <th>Live Sports Rating</th>\n",
       "      <th>Ambience</th>\n",
       "      <th>Lively</th>\n",
       "      <th>Service</th>\n",
       "      <th>Comfortablility</th>\n",
       "      <th>Privacy</th>\n",
       "    </tr>\n",
       "  </thead>\n",
       "  <tbody>\n",
       "    <tr>\n",
       "      <th>0</th>\n",
       "      <td>20001</td>\n",
       "      <td>tibetan,italian</td>\n",
       "      <td>Bangalore</td>\n",
       "      <td>Near Business Hub</td>\n",
       "      <td>13-07-2010</td>\n",
       "      <td>78.00</td>\n",
       "      <td>Tier A Celebrity</td>\n",
       "      <td>69.00</td>\n",
       "      <td>1</td>\n",
       "      <td>1</td>\n",
       "      <td>...</td>\n",
       "      <td>6.0</td>\n",
       "      <td>NaN</td>\n",
       "      <td>2.0</td>\n",
       "      <td>NaN</td>\n",
       "      <td>NaN</td>\n",
       "      <td>5</td>\n",
       "      <td>2</td>\n",
       "      <td>2</td>\n",
       "      <td>6</td>\n",
       "      <td>0</td>\n",
       "    </tr>\n",
       "    <tr>\n",
       "      <th>1</th>\n",
       "      <td>20002</td>\n",
       "      <td>tibetan,italian</td>\n",
       "      <td>Hyderabad</td>\n",
       "      <td>Near Party Hub</td>\n",
       "      <td>05-09-2011</td>\n",
       "      <td>89.17</td>\n",
       "      <td>Not Specific</td>\n",
       "      <td>96.00</td>\n",
       "      <td>1</td>\n",
       "      <td>1</td>\n",
       "      <td>...</td>\n",
       "      <td>9.0</td>\n",
       "      <td>3.0</td>\n",
       "      <td>NaN</td>\n",
       "      <td>NaN</td>\n",
       "      <td>6.0</td>\n",
       "      <td>7</td>\n",
       "      <td>8</td>\n",
       "      <td>5</td>\n",
       "      <td>1</td>\n",
       "      <td>8</td>\n",
       "    </tr>\n",
       "    <tr>\n",
       "      <th>2</th>\n",
       "      <td>20003</td>\n",
       "      <td>algerian,belgian</td>\n",
       "      <td>Hyderabad</td>\n",
       "      <td>Near Party Hub</td>\n",
       "      <td>12-04-2011</td>\n",
       "      <td>84.00</td>\n",
       "      <td>Not Specific</td>\n",
       "      <td>86.00</td>\n",
       "      <td>1</td>\n",
       "      <td>1</td>\n",
       "      <td>...</td>\n",
       "      <td>6.0</td>\n",
       "      <td>3.0</td>\n",
       "      <td>NaN</td>\n",
       "      <td>NaN</td>\n",
       "      <td>NaN</td>\n",
       "      <td>9</td>\n",
       "      <td>7</td>\n",
       "      <td>5</td>\n",
       "      <td>1</td>\n",
       "      <td>5</td>\n",
       "    </tr>\n",
       "    <tr>\n",
       "      <th>3</th>\n",
       "      <td>20004</td>\n",
       "      <td>tibetan,greek</td>\n",
       "      <td>-1</td>\n",
       "      <td>Near Party Hub</td>\n",
       "      <td>16-01-2005</td>\n",
       "      <td>79.38</td>\n",
       "      <td>Not Specific</td>\n",
       "      <td>74.40</td>\n",
       "      <td>0</td>\n",
       "      <td>1</td>\n",
       "      <td>...</td>\n",
       "      <td>9.0</td>\n",
       "      <td>6.0</td>\n",
       "      <td>NaN</td>\n",
       "      <td>NaN</td>\n",
       "      <td>NaN</td>\n",
       "      <td>6</td>\n",
       "      <td>7</td>\n",
       "      <td>6</td>\n",
       "      <td>4</td>\n",
       "      <td>7</td>\n",
       "    </tr>\n",
       "    <tr>\n",
       "      <th>4</th>\n",
       "      <td>20005</td>\n",
       "      <td>cuban,british</td>\n",
       "      <td>Pune</td>\n",
       "      <td>Near Party Hub</td>\n",
       "      <td>10-11-2008</td>\n",
       "      <td>84.67</td>\n",
       "      <td>Not Specific</td>\n",
       "      <td>86.46</td>\n",
       "      <td>1</td>\n",
       "      <td>1</td>\n",
       "      <td>...</td>\n",
       "      <td>NaN</td>\n",
       "      <td>NaN</td>\n",
       "      <td>NaN</td>\n",
       "      <td>NaN</td>\n",
       "      <td>NaN</td>\n",
       "      <td>4</td>\n",
       "      <td>4</td>\n",
       "      <td>7</td>\n",
       "      <td>7</td>\n",
       "      <td>3</td>\n",
       "    </tr>\n",
       "  </tbody>\n",
       "</table>\n",
       "<p>5 rows × 33 columns</p>\n",
       "</div>"
      ],
      "text/plain": [
       "   Registration Number           Cuisine       City Restaurant Location  \\\n",
       "0                20001   tibetan,italian  Bangalore   Near Business Hub   \n",
       "1                20002   tibetan,italian  Hyderabad      Near Party Hub   \n",
       "2                20003  algerian,belgian  Hyderabad      Near Party Hub   \n",
       "3                20004     tibetan,greek         -1      Near Party Hub   \n",
       "4                20005     cuban,british      Pune       Near Party Hub   \n",
       "\n",
       "  Opening Day of Restaurant  Facebook Popularity Quotient      Endoresed By  \\\n",
       "0                13-07-2010                         78.00  Tier A Celebrity   \n",
       "1                05-09-2011                         89.17      Not Specific   \n",
       "2                12-04-2011                         84.00      Not Specific   \n",
       "3                16-01-2005                         79.38      Not Specific   \n",
       "4                10-11-2008                         84.67      Not Specific   \n",
       "\n",
       "   Instagram Popularity Quotient  Fire Audit  Liquor License Obtained  ...  \\\n",
       "0                          69.00           1                        1  ...   \n",
       "1                          96.00           1                        1  ...   \n",
       "2                          86.00           1                        1  ...   \n",
       "3                          74.40           0                        1  ...   \n",
       "4                          86.46           1                        1  ...   \n",
       "\n",
       "   Overall Restaurant Rating  Live Music Rating  Comedy Gigs Rating  \\\n",
       "0                        6.0                NaN                 2.0   \n",
       "1                        9.0                3.0                 NaN   \n",
       "2                        6.0                3.0                 NaN   \n",
       "3                        9.0                6.0                 NaN   \n",
       "4                        NaN                NaN                 NaN   \n",
       "\n",
       "   Value Deals Rating Live Sports Rating Ambience  Lively  Service  \\\n",
       "0                 NaN                NaN        5       2        2   \n",
       "1                 NaN                6.0        7       8        5   \n",
       "2                 NaN                NaN        9       7        5   \n",
       "3                 NaN                NaN        6       7        6   \n",
       "4                 NaN                NaN        4       4        7   \n",
       "\n",
       "   Comfortablility  Privacy  \n",
       "0                6        0  \n",
       "1                1        8  \n",
       "2                1        5  \n",
       "3                4        7  \n",
       "4                7        3  \n",
       "\n",
       "[5 rows x 33 columns]"
      ]
     },
     "execution_count": 6,
     "metadata": {},
     "output_type": "execute_result"
    }
   ],
   "source": [
    "test_Data.head()"
   ]
  },
  {
   "cell_type": "code",
   "execution_count": 7,
   "metadata": {},
   "outputs": [],
   "source": [
    "target=df_train['Annual Turnover']# target variable removed\n",
    "\n",
    "train_Regno=df_train['Registration Number']#registration number copied\n",
    "\n",
    "#df_train.drop('Registration Number',axis=1,inplace=True)\n",
    "df_train.drop('Annual Turnover',axis=1,inplace=True)\n",
    "\n",
    "test_Regno=test_Data['Registration Number']#registration number copied test set\n",
    "\n",
    "#test_Data.drop('Registration Number',axis=1,inplace=True)\n"
   ]
  },
  {
   "cell_type": "code",
   "execution_count": 8,
   "metadata": {},
   "outputs": [],
   "source": [
    "test_Data.rename(columns={'Endoresed By': 'Endorsed By'}, inplace=True)\n"
   ]
  },
  {
   "cell_type": "code",
   "execution_count": 9,
   "metadata": {},
   "outputs": [
    {
     "data": {
      "text/plain": [
       "((500, 33), (3493, 33))"
      ]
     },
     "execution_count": 9,
     "metadata": {},
     "output_type": "execute_result"
    }
   ],
   "source": [
    "test_Data.shape,df_train.shape"
   ]
  },
  {
   "cell_type": "code",
   "execution_count": 10,
   "metadata": {},
   "outputs": [
    {
     "data": {
      "text/plain": [
       "(3993, 33)"
      ]
     },
     "execution_count": 10,
     "metadata": {},
     "output_type": "execute_result"
    }
   ],
   "source": [
    "data=pd.concat([df_train,test_Data],axis=0)\n",
    "data.shape"
   ]
  },
  {
   "cell_type": "code",
   "execution_count": 11,
   "metadata": {},
   "outputs": [
    {
     "data": {
      "text/plain": [
       "Registration Number                 0\n",
       "Cuisine                             0\n",
       "City                                0\n",
       "Restaurant Location                 0\n",
       "Opening Day of Restaurant           0\n",
       "Facebook Popularity Quotient       99\n",
       "Endorsed By                         0\n",
       "Instagram Popularity Quotient      56\n",
       "Fire Audit                          0\n",
       "Liquor License Obtained             0\n",
       "Situated in a Multi Complex         0\n",
       "Dedicated Parking                   0\n",
       "Open Sitting Available              0\n",
       "Resturant Tier                     49\n",
       "Restaurant Type                     0\n",
       "Restaurant Theme                    0\n",
       "Restaurant Zomato Rating            0\n",
       "Restaurant City Tier                0\n",
       "Order Wait Time                     0\n",
       "Staff Responsivness                 0\n",
       "Value for Money                     0\n",
       "Hygiene Rating                      0\n",
       "Food Rating                         0\n",
       "Overall Restaurant Rating         246\n",
       "Live Music Rating                 867\n",
       "Comedy Gigs Rating               2853\n",
       "Value Deals Rating               3092\n",
       "Live Sports Rating               3759\n",
       "Ambience                           25\n",
       "Lively                              0\n",
       "Service                             0\n",
       "Comfortablility                     0\n",
       "Privacy                             0\n",
       "dtype: int64"
      ]
     },
     "execution_count": 11,
     "metadata": {},
     "output_type": "execute_result"
    }
   ],
   "source": [
    "data.isna().sum()"
   ]
  },
  {
   "cell_type": "markdown",
   "metadata": {},
   "source": [
    "#### City"
   ]
  },
  {
   "cell_type": "code",
   "execution_count": 12,
   "metadata": {},
   "outputs": [
    {
     "data": {
      "text/plain": [
       "257"
      ]
     },
     "execution_count": 12,
     "metadata": {},
     "output_type": "execute_result"
    }
   ],
   "source": [
    "len(data.City.str.upper().unique())"
   ]
  },
  {
   "cell_type": "code",
   "execution_count": 13,
   "metadata": {},
   "outputs": [
    {
     "data": {
      "text/plain": [
       "Bangalore        627\n",
       "-1               461\n",
       "Noida            368\n",
       "Hyderabad        335\n",
       "Pune             290\n",
       "Chennai          272\n",
       "Gurgaon          198\n",
       "New Delhi        196\n",
       "Mumbai           108\n",
       "Kolkata           98\n",
       "Jaipur            46\n",
       "Lucknow           36\n",
       "Mysore            36\n",
       "Navi Mumbai       32\n",
       "chennai           27\n",
       "Greater Noida     26\n",
       "pune              26\n",
       "Chandigarh        26\n",
       "Indore            24\n",
       "Bhubaneswar       22\n",
       "Name: City, dtype: int64"
      ]
     },
     "execution_count": 13,
     "metadata": {},
     "output_type": "execute_result"
    }
   ],
   "source": [
    "data['City'].value_counts().head(20)"
   ]
  },
  {
   "cell_type": "code",
   "execution_count": 14,
   "metadata": {},
   "outputs": [],
   "source": [
    "data['City']=data['City'].str.upper()\n",
    "data['City']=data['City'].str.strip()"
   ]
  },
  {
   "cell_type": "code",
   "execution_count": 15,
   "metadata": {},
   "outputs": [
    {
     "data": {
      "text/plain": [
       "array(['BANGALORE', 'INDORE', 'CHENNAI', 'GURGAON', 'MANESAR',\n",
       "       'HYDERABAD', 'BANGLORE', 'NOIDA', 'KOLKATA', 'PUNE', '-1',\n",
       "       'MOHALI', 'JHANSI', 'DELHI', 'BHUBANESWAR', 'NAVI MUMBAI',\n",
       "       'MUMBAI', 'NEW DELHI', 'MANGALORE', 'REWARI', 'GAZIABAAD',\n",
       "       'BHIWADI', 'MYSORE', 'RAJKOT', 'GREATER NOIDA', 'JAIPUR', 'THANE',\n",
       "       'MAHARAJGANJ', 'THIRUVANANTHAPURAM', 'PUNCHKULA', 'BHUBANESHWAR',\n",
       "       'COIMBATORE', 'DHANBAD', 'LUCKNOW', 'TRIVANDRUM', 'GANDHI NAGAR',\n",
       "       'UNA', 'DAMAN AND DIU', 'GURGOAN', 'VSAKHAPTTNAM', 'NAGPUR',\n",
       "       'BHAGALPUR', 'NEW DELHI - JAISALMER', 'AHMEDABAD', 'KOCHI/COCHIN',\n",
       "       'BANKURA', 'BENGALURU', 'KANPUR', 'VIJAYAWADA', 'KOCHI', 'BEAWAR',\n",
       "       'ALWAR', 'SILIGURI', 'RAIPUR', 'BHOPAL', 'FARIDABAD', 'JODHPUR',\n",
       "       'UDAIPUR', 'MUZAFFARPUR', 'KOLKATA`', 'BULANDSHAHAR', 'HARIDWAR',\n",
       "       'RAIGARH', 'VISAKHAPATNAM', 'JABALPUR', 'UNNAO', 'AURANGABAD',\n",
       "       'BELGAUM', 'DEHRADUN', 'RUDRAPUR', 'JAMSHEDPUR', 'VIZAG', 'NOUDA',\n",
       "       'DHARAMSHALA', 'BANAGALORE', 'HISSAR', 'RANCHI', 'MADURAI',\n",
       "       'GURGA', 'CHANDIGARH', 'AUSTRALIA', 'CHEYYAR', 'SONEPAT',\n",
       "       'GHAZIABAD', 'PANTNAGAR', 'JAGDALPUR', 'ANGUL', 'BARODA',\n",
       "       'ARIYALUR', 'JOWAI', 'KOCHI/COCHIN, CHENNAI AND COIMBATORE',\n",
       "       'NEEMRANA', 'TIRUPATHI', 'BHUBNESHWAR', 'CALICUT', 'GANDHINAGAR',\n",
       "       'DUBAI', 'AHMEDNAGAR', 'NASHIK', 'BELLARY', 'LUDHIANA',\n",
       "       'MUZAFFARNAGAR', 'GAGRET', 'INDIRAPURAM, GHAZIABAD', 'GWALIOR',\n",
       "       'CHENNAI & MUMBAI', 'RAJASTHAN', 'SONIPAT', 'BARELI', 'HOSPETE',\n",
       "       'MIRYALAGUDA', 'DHARUHERA', 'MEERUT', 'GANJAM', 'HUBLI', 'NCR',\n",
       "       'AGRA', 'TRICHY', 'KUDANKULAM ,TARAPUR', 'ONGOLE', 'SAMBALPUR',\n",
       "       'PONDICHERRY', 'BUNDI', 'SADULPUR,RAJGARH,DISTT-CHURU,RAJASTHAN',\n",
       "       'AM', 'BIKANER', 'VADODARA', 'INDIA', 'ASANSOL', 'TIRUNELVELLI',\n",
       "       'ERNAKULAM', 'BILASPUR', 'CHANDRAPUR', 'NANDED', 'DHARMAPURI',\n",
       "       'VANDAVASI', 'ROHTAK', 'PATNA', 'SALEM', 'NASIKCITY',\n",
       "       'TECHNOPARK, TRIVANDRUM', 'BHARUCH', 'TORNAGALLU', 'JASPUR',\n",
       "       'BURDWAN', 'SHIMLA', 'GAJIABAAD', 'JAMMU', 'SHAHDOL',\n",
       "       'MUVATTUPUZHA', 'SECUNDERABAD', 'RATNAGIRI', 'JHAJJAR', 'GULBARGA',\n",
       "       'HYDERABAD(BHADURPALLY)', 'NALAGARH', 'CHENNAI, BANGALORE',\n",
       "       'JAMNAGAR', 'TIRUPATI', 'GONDA', 'ORISSA', 'KHARAGPUR',\n",
       "       'NAVI MUMBAI , HYDERABAD', 'JOSHIMATH', 'BATHINDA', 'KALA AMB',\n",
       "       'KARNAL', 'LONDON', 'KOTA', 'PANCHKULA', 'BADDI HP', 'NAGARI',\n",
       "       'METTUR, TAMIL NADU', 'DURGAPUR', 'PONDI', 'SURAT', 'KURNOOL',\n",
       "       'KOLHAPUR', 'BHILAI', 'HDERABAD', 'BAHADURGARH',\n",
       "       'RAYAGADA, ODISHA', 'KAKINADA', 'VARANASI', 'PUNR', 'NELLORE',\n",
       "       'SAHIBABAD', 'HOWRAH', 'TRICHUR', 'AMBALA', 'KHOPOLI', 'KERAL',\n",
       "       'ROORKEE', 'ALLAHABAD', 'DELHI/NCR', 'JALANDHAR', 'VAPI', 'PILANI',\n",
       "       'MUZZAFARPUR', 'RAS AL KHAIMAH', 'BIHAR', 'SINGARULI', 'PONDY',\n",
       "       'GURAGAON', 'GUWAHATI', 'NEW DEHLI', 'AMBALA CITY', 'RAE BARELI',\n",
       "       'PHAGWARA', 'LATUR (MAHARASHTRA )', 'SAMPLA', 'HALDIA', 'MAINPURI',\n",
       "       'GORAKHPUR', 'KARAD', 'HARYANA', 'VELLORE', 'PATIALA',\n",
       "       'YAMUNA NAGAR', 'ROURKELA', 'BANAGLORE', 'BARIPADA', 'DAUSA',\n",
       "       'ASIFABADBANGLORE', 'RAJPURA', 'DAMMAM', 'SHAHIBABAD'],\n",
       "      dtype=object)"
      ]
     },
     "execution_count": 15,
     "metadata": {},
     "output_type": "execute_result"
    }
   ],
   "source": [
    "data['City'].unique()"
   ]
  },
  {
   "cell_type": "code",
   "execution_count": 16,
   "metadata": {},
   "outputs": [],
   "source": [
    "data['City'] = data['City'].replace(['BANGLORE'],'BANGALORE')\n",
    "data['City'] = data['City'].replace(['BANGALORE '],'BANGALORE')\n",
    "data['City'] = data['City'].replace(['GREATER NOIDA'],'NOIDA')\n",
    "data['City'] = data['City'].replace(['NAVI MUMBAI'],'MUMBAI')\n",
    "data['City'] = data['City'].replace(['-1'],'OTHERS')\n",
    "data['City'] = data['City'].replace(['BHUBANESWAR'],'BHUBANESHWAR')\n",
    "data['City'] = data['City'].replace(['NEW DELHI'],'DELHI')\n",
    "data['City'] = data['City'].replace(['LATUR (MAHARASHTRA )'],'MAHARASHTRA')\n",
    "data['City'] = data['City'].replace(['HYDERABAD(BHADURPALLY)'],'HYDERABAD')\n",
    "data['City'] = data['City'].replace([ 'SADULPUR,RAJGARH,DISTT-CHURU,RAJASTHAN'],'RAJASTHAN')\n",
    "data['City'] = data['City'].replace(['KOCHI/COCHIN'],'KOCHI')\n",
    "data['City'] = data['City'].replace(['NEW DELHI - JAISALMER'],'DELHI')\n",
    "data['City'] = data['City'].replace(['DELHI/NCR'],'DELHI')\n",
    "data['City'] = data['City'].replace(['NCR'],'DELHI')\n",
    "data['City'] = data['City'].replace(['CHENNAI, BANGALORE'],'CHENNAI')\n",
    "data['City'] = data['City'].replace([ 'NOUDA' ],'NOIDA')\n",
    "data['City'] = data['City'].replace(['ASIFABADBANGLORE' ],'BANGLORE')\n",
    "data['City'] = data['City'].replace([' BANGALORE' ],'BANGLORE')\n",
    "data['City'] = data['City'].replace(['PUNR' ],'PUNE')\n",
    "data['City'] = data['City'].replace(['HDERABAD' ],'HYDERABAD')\n",
    "data['City'] = data['City'].replace(['BANGLORE ' ],'BANGLORE')\n",
    "data['City'] = data['City'].replace(['LONDON' ],'OTHERS')\n",
    "data['City'] = data['City'].replace(['KOLKATA`' ],'KOLKATA')\n",
    "data['City'] = data['City'].replace([' DELHI' ],'DELHI')\n",
    "data['City'] = data['City'].replace([ 'KOCHI/COCHIN, CHENNAI AND COIMBATORE' ],'KOCHI')\n",
    "data['City'] = data['City'].replace(['BENGALURU' ],'BANGLORE')\n",
    "data['City'] = data['City'].replace(['NAVI MUMBAI , HYDERABAD' ],'MUMBAI')\n",
    "data['City'] = data['City'].replace(['BANAGLORE' ],'BANGLORE')\n",
    "data['City'] = data['City'].replace(['GURAGAON' ],'GURGAON')\n",
    "data['City'] = data['City'].replace([' MUMBAI' ],'MUMBAI')\n",
    "data['City'] = data['City'].replace(['NEW DEHLI' ],'DELHI')\n",
    "data['City'] = data['City'].replace(['CHENNAI & MUMBAI' ],'CHENNAI')\n",
    "data['City'] = data['City'].replace(['INDIRAPURAM, GHAZIABAD' ],'GHAZIABAD')\n",
    "data['City'] = data['City'].replace(['GURGOAN' ],'GURGAON')\n",
    "data['City'] = data['City'].replace(['BANAGALORE' ],'BANGLORE')\n",
    "data['City'] = data['City'].replace(['INDIA' ],'OTHERS')\n",
    "data['City'] = data['City'].replace(['DUBAI' ],'OTHERS')\n",
    "data['City'] = data['City'].replace(['BHUBNESHWAR' ],'BHUBANESHWAR')\n",
    "data['City'] = data['City'].replace(['AUSTRALIA' ],'OTHERS')\n",
    "data['City'] = data['City'].replace(['BANGALORE' ],'BANGLORE')"
   ]
  },
  {
   "cell_type": "code",
   "execution_count": 17,
   "metadata": {},
   "outputs": [
    {
     "data": {
      "text/plain": [
       "Index(['BANGLORE', 'OTHERS', 'NOIDA', 'HYDERABAD', 'PUNE', 'CHENNAI', 'DELHI',\n",
       "       'GURGAON', 'MUMBAI', 'KOLKATA', 'JAIPUR', 'LUCKNOW', 'MYSORE',\n",
       "       'BHUBANESHWAR', 'CHANDIGARH', 'INDORE', 'COIMBATORE', 'AHMEDABAD',\n",
       "       'BHOPAL', 'FARIDABAD', 'GHAZIABAD', 'KOCHI', 'MOHALI', 'NAGPUR',\n",
       "       'DEHRADUN', 'MANGALORE'],\n",
       "      dtype='object')"
      ]
     },
     "execution_count": 17,
     "metadata": {},
     "output_type": "execute_result"
    }
   ],
   "source": [
    "df=pd.DataFrame(data['City'].value_counts())\n",
    "df[df['City']>10].index"
   ]
  },
  {
   "cell_type": "code",
   "execution_count": 18,
   "metadata": {},
   "outputs": [
    {
     "name": "stdout",
     "output_type": "stream",
     "text": [
      "['BANGLORE', 'OTHERS', 'NOIDA', 'HYDERABAD', 'PUNE', 'CHENNAI', 'DELHI', 'GURGAON', 'MUMBAI', 'KOLKATA', 'JAIPUR', 'LUCKNOW', 'MYSORE', 'BHUBANESHWAR', 'CHANDIGARH', 'INDORE', 'COIMBATORE', 'AHMEDABAD', 'BHOPAL', 'FARIDABAD', 'GHAZIABAD', 'KOCHI', 'MOHALI', 'NAGPUR', 'DEHRADUN', 'MANGALORE']\n"
     ]
    }
   ],
   "source": [
    "l=list(df[df['City']>10].index)\n",
    "print(l)"
   ]
  },
  {
   "cell_type": "code",
   "execution_count": 19,
   "metadata": {},
   "outputs": [
    {
     "data": {
      "text/plain": [
       "array(['BANGLORE', 'INDORE', 'CHENNAI', 'GURGAON', 'OTHERS', 'HYDERABAD',\n",
       "       'NOIDA', 'KOLKATA', 'PUNE', 'MOHALI', 'DELHI', 'BHUBANESHWAR',\n",
       "       'MUMBAI', 'MANGALORE', 'MYSORE', 'JAIPUR', 'COIMBATORE', 'LUCKNOW',\n",
       "       'NAGPUR', 'AHMEDABAD', 'KOCHI', 'BHOPAL', 'FARIDABAD', 'DEHRADUN',\n",
       "       'CHANDIGARH', 'GHAZIABAD'], dtype=object)"
      ]
     },
     "execution_count": 19,
     "metadata": {},
     "output_type": "execute_result"
    }
   ],
   "source": [
    "k2=[]\n",
    "k=list(data['City'])\n",
    "for i in range(len(k)):\n",
    "    if k[i] in l:\n",
    "        k2.append(k[i])\n",
    "    else:\n",
    "        k2.append('OTHERS')\n",
    "data['City']=k2\n",
    "data.City.unique()"
   ]
  },
  {
   "cell_type": "code",
   "execution_count": 20,
   "metadata": {},
   "outputs": [],
   "source": [
    "city_dummy=pd.get_dummies(data['City'],drop_first=True)# -----------------------------------------------------------------------------------------------------------IMPORTANT"
   ]
  },
  {
   "cell_type": "code",
   "execution_count": 21,
   "metadata": {},
   "outputs": [
    {
     "data": {
      "text/plain": [
       "(3993, 25)"
      ]
     },
     "execution_count": 21,
     "metadata": {},
     "output_type": "execute_result"
    }
   ],
   "source": [
    "city_dummy.shape"
   ]
  },
  {
   "cell_type": "code",
   "execution_count": 22,
   "metadata": {},
   "outputs": [],
   "source": [
    "data.drop('City',axis=1,inplace=True)"
   ]
  },
  {
   "cell_type": "markdown",
   "metadata": {},
   "source": [
    "###### Comedy Gigs Rating Value Deals Rating Live Sports Rating"
   ]
  },
  {
   "cell_type": "code",
   "execution_count": 23,
   "metadata": {},
   "outputs": [],
   "source": [
    "data.drop(['Comedy Gigs Rating','Value Deals Rating','Live Sports Rating'],axis=1,inplace=True)"
   ]
  },
  {
   "cell_type": "markdown",
   "metadata": {},
   "source": [
    "###### Cuisine"
   ]
  },
  {
   "cell_type": "code",
   "execution_count": 24,
   "metadata": {},
   "outputs": [],
   "source": [
    "data['Cuisine']=data['Cuisine'].str.upper()\n",
    "data['Cuisine']=data['Cuisine'].str.strip()"
   ]
  },
  {
   "cell_type": "code",
   "execution_count": 25,
   "metadata": {},
   "outputs": [
    {
     "data": {
      "text/plain": [
       "array(['INDIAN,IRISH', 'TIBETAN,ITALIAN', 'TURKISH,NIGERIAN',\n",
       "       'IRISH,BELGIAN', 'TIBETAN,GREEK', 'CHINESE,SALVADORIAN',\n",
       "       'ALGERIAN,BELGIAN', 'WELSH,THAI', 'PERUVIAN,CUBAN',\n",
       "       'JAPANESE,THAI', 'BRITISH,JAPANESE', 'NIGERIAN,CAJUN',\n",
       "       'ALGERIAN,ALGERIAN', 'POLISH,JEWISH', 'CUBAN,BRITISH',\n",
       "       'ALGERIAN,KOREAN', 'SWEDISH,GREEK', 'TURKISH,SAPNISH',\n",
       "       'BRITISH,BELGIAN', 'HAWAIIAN,LATVIAN'], dtype=object)"
      ]
     },
     "execution_count": 25,
     "metadata": {},
     "output_type": "execute_result"
    }
   ],
   "source": [
    "data['Cuisine'].unique()"
   ]
  },
  {
   "cell_type": "code",
   "execution_count": 26,
   "metadata": {},
   "outputs": [
    {
     "data": {
      "text/html": [
       "<div>\n",
       "<style scoped>\n",
       "    .dataframe tbody tr th:only-of-type {\n",
       "        vertical-align: middle;\n",
       "    }\n",
       "\n",
       "    .dataframe tbody tr th {\n",
       "        vertical-align: top;\n",
       "    }\n",
       "\n",
       "    .dataframe thead th {\n",
       "        text-align: right;\n",
       "    }\n",
       "</style>\n",
       "<table border=\"1\" class=\"dataframe\">\n",
       "  <thead>\n",
       "    <tr style=\"text-align: right;\">\n",
       "      <th></th>\n",
       "      <th>0</th>\n",
       "      <th>1</th>\n",
       "    </tr>\n",
       "  </thead>\n",
       "  <tbody>\n",
       "    <tr>\n",
       "      <th>0</th>\n",
       "      <td>INDIAN</td>\n",
       "      <td>IRISH</td>\n",
       "    </tr>\n",
       "    <tr>\n",
       "      <th>1</th>\n",
       "      <td>INDIAN</td>\n",
       "      <td>IRISH</td>\n",
       "    </tr>\n",
       "    <tr>\n",
       "      <th>2</th>\n",
       "      <td>TIBETAN</td>\n",
       "      <td>ITALIAN</td>\n",
       "    </tr>\n",
       "    <tr>\n",
       "      <th>3</th>\n",
       "      <td>TURKISH</td>\n",
       "      <td>NIGERIAN</td>\n",
       "    </tr>\n",
       "    <tr>\n",
       "      <th>4</th>\n",
       "      <td>IRISH</td>\n",
       "      <td>BELGIAN</td>\n",
       "    </tr>\n",
       "    <tr>\n",
       "      <th>...</th>\n",
       "      <td>...</td>\n",
       "      <td>...</td>\n",
       "    </tr>\n",
       "    <tr>\n",
       "      <th>495</th>\n",
       "      <td>INDIAN</td>\n",
       "      <td>IRISH</td>\n",
       "    </tr>\n",
       "    <tr>\n",
       "      <th>496</th>\n",
       "      <td>TIBETAN</td>\n",
       "      <td>GREEK</td>\n",
       "    </tr>\n",
       "    <tr>\n",
       "      <th>497</th>\n",
       "      <td>INDIAN</td>\n",
       "      <td>IRISH</td>\n",
       "    </tr>\n",
       "    <tr>\n",
       "      <th>498</th>\n",
       "      <td>TIBETAN</td>\n",
       "      <td>GREEK</td>\n",
       "    </tr>\n",
       "    <tr>\n",
       "      <th>499</th>\n",
       "      <td>TIBETAN</td>\n",
       "      <td>GREEK</td>\n",
       "    </tr>\n",
       "  </tbody>\n",
       "</table>\n",
       "<p>3993 rows × 2 columns</p>\n",
       "</div>"
      ],
      "text/plain": [
       "           0         1\n",
       "0     INDIAN     IRISH\n",
       "1     INDIAN     IRISH\n",
       "2    TIBETAN   ITALIAN\n",
       "3    TURKISH  NIGERIAN\n",
       "4      IRISH   BELGIAN\n",
       "..       ...       ...\n",
       "495   INDIAN     IRISH\n",
       "496  TIBETAN     GREEK\n",
       "497   INDIAN     IRISH\n",
       "498  TIBETAN     GREEK\n",
       "499  TIBETAN     GREEK\n",
       "\n",
       "[3993 rows x 2 columns]"
      ]
     },
     "execution_count": 26,
     "metadata": {},
     "output_type": "execute_result"
    }
   ],
   "source": [
    "k=data['Cuisine'].str.split(\",\", n = 1, expand = True)\n",
    "k"
   ]
  },
  {
   "cell_type": "code",
   "execution_count": 27,
   "metadata": {},
   "outputs": [
    {
     "name": "stdout",
     "output_type": "stream",
     "text": [
      "['INDIAN', 'TIBETAN', 'TURKISH', 'IRISH', 'CHINESE', 'ALGERIAN', 'WELSH', 'PERUVIAN', 'JAPANESE', 'BRITISH', 'NIGERIAN', 'POLISH', 'CUBAN', 'SWEDISH', 'HAWAIIAN', 'ITALIAN', 'BELGIAN', 'GREEK', 'SALVADORIAN', 'THAI', 'CAJUN', 'JEWISH', 'KOREAN', 'SAPNISH', 'LATVIAN']\n"
     ]
    }
   ],
   "source": [
    "t1=list(k[0].unique())\n",
    "t2=list(k[1].unique())\n",
    "typ=pd.DataFrame(t1+t2)\n",
    "typ=list(typ.drop_duplicates()[0])\n",
    "print(typ)"
   ]
  },
  {
   "cell_type": "code",
   "execution_count": 28,
   "metadata": {},
   "outputs": [
    {
     "data": {
      "text/plain": [
       "25"
      ]
     },
     "execution_count": 28,
     "metadata": {},
     "output_type": "execute_result"
    }
   ],
   "source": [
    "len(typ)"
   ]
  },
  {
   "cell_type": "code",
   "execution_count": 29,
   "metadata": {},
   "outputs": [
    {
     "data": {
      "text/plain": [
       "(3993, 29)"
      ]
     },
     "execution_count": 29,
     "metadata": {},
     "output_type": "execute_result"
    }
   ],
   "source": [
    "data.shape"
   ]
  },
  {
   "cell_type": "code",
   "execution_count": 30,
   "metadata": {},
   "outputs": [],
   "source": [
    "cusine=pd.DataFrame(np.zeros(3993*25).reshape(3993,25),columns=typ)# IMPORTANT"
   ]
  },
  {
   "cell_type": "code",
   "execution_count": 31,
   "metadata": {},
   "outputs": [],
   "source": [
    "for i in range(len(k)):\n",
    "    n1=k[0].iloc[i]\n",
    "    n2=k[1].iloc[i]\n",
    "    cusine[n1].iloc[i]=1\n",
    "    cusine[n2].iloc[i]=1"
   ]
  },
  {
   "cell_type": "code",
   "execution_count": 32,
   "metadata": {},
   "outputs": [
    {
     "data": {
      "text/html": [
       "<div>\n",
       "<style scoped>\n",
       "    .dataframe tbody tr th:only-of-type {\n",
       "        vertical-align: middle;\n",
       "    }\n",
       "\n",
       "    .dataframe tbody tr th {\n",
       "        vertical-align: top;\n",
       "    }\n",
       "\n",
       "    .dataframe thead th {\n",
       "        text-align: right;\n",
       "    }\n",
       "</style>\n",
       "<table border=\"1\" class=\"dataframe\">\n",
       "  <thead>\n",
       "    <tr style=\"text-align: right;\">\n",
       "      <th></th>\n",
       "      <th>INDIAN</th>\n",
       "      <th>TIBETAN</th>\n",
       "      <th>TURKISH</th>\n",
       "      <th>IRISH</th>\n",
       "      <th>CHINESE</th>\n",
       "      <th>ALGERIAN</th>\n",
       "      <th>WELSH</th>\n",
       "      <th>PERUVIAN</th>\n",
       "      <th>JAPANESE</th>\n",
       "      <th>BRITISH</th>\n",
       "      <th>...</th>\n",
       "      <th>ITALIAN</th>\n",
       "      <th>BELGIAN</th>\n",
       "      <th>GREEK</th>\n",
       "      <th>SALVADORIAN</th>\n",
       "      <th>THAI</th>\n",
       "      <th>CAJUN</th>\n",
       "      <th>JEWISH</th>\n",
       "      <th>KOREAN</th>\n",
       "      <th>SAPNISH</th>\n",
       "      <th>LATVIAN</th>\n",
       "    </tr>\n",
       "  </thead>\n",
       "  <tbody>\n",
       "    <tr>\n",
       "      <th>0</th>\n",
       "      <td>1.0</td>\n",
       "      <td>0.0</td>\n",
       "      <td>0.0</td>\n",
       "      <td>1.0</td>\n",
       "      <td>0.0</td>\n",
       "      <td>0.0</td>\n",
       "      <td>0.0</td>\n",
       "      <td>0.0</td>\n",
       "      <td>0.0</td>\n",
       "      <td>0.0</td>\n",
       "      <td>...</td>\n",
       "      <td>0.0</td>\n",
       "      <td>0.0</td>\n",
       "      <td>0.0</td>\n",
       "      <td>0.0</td>\n",
       "      <td>0.0</td>\n",
       "      <td>0.0</td>\n",
       "      <td>0.0</td>\n",
       "      <td>0.0</td>\n",
       "      <td>0.0</td>\n",
       "      <td>0.0</td>\n",
       "    </tr>\n",
       "    <tr>\n",
       "      <th>1</th>\n",
       "      <td>1.0</td>\n",
       "      <td>0.0</td>\n",
       "      <td>0.0</td>\n",
       "      <td>1.0</td>\n",
       "      <td>0.0</td>\n",
       "      <td>0.0</td>\n",
       "      <td>0.0</td>\n",
       "      <td>0.0</td>\n",
       "      <td>0.0</td>\n",
       "      <td>0.0</td>\n",
       "      <td>...</td>\n",
       "      <td>0.0</td>\n",
       "      <td>0.0</td>\n",
       "      <td>0.0</td>\n",
       "      <td>0.0</td>\n",
       "      <td>0.0</td>\n",
       "      <td>0.0</td>\n",
       "      <td>0.0</td>\n",
       "      <td>0.0</td>\n",
       "      <td>0.0</td>\n",
       "      <td>0.0</td>\n",
       "    </tr>\n",
       "    <tr>\n",
       "      <th>2</th>\n",
       "      <td>0.0</td>\n",
       "      <td>1.0</td>\n",
       "      <td>0.0</td>\n",
       "      <td>0.0</td>\n",
       "      <td>0.0</td>\n",
       "      <td>0.0</td>\n",
       "      <td>0.0</td>\n",
       "      <td>0.0</td>\n",
       "      <td>0.0</td>\n",
       "      <td>0.0</td>\n",
       "      <td>...</td>\n",
       "      <td>1.0</td>\n",
       "      <td>0.0</td>\n",
       "      <td>0.0</td>\n",
       "      <td>0.0</td>\n",
       "      <td>0.0</td>\n",
       "      <td>0.0</td>\n",
       "      <td>0.0</td>\n",
       "      <td>0.0</td>\n",
       "      <td>0.0</td>\n",
       "      <td>0.0</td>\n",
       "    </tr>\n",
       "    <tr>\n",
       "      <th>3</th>\n",
       "      <td>0.0</td>\n",
       "      <td>0.0</td>\n",
       "      <td>1.0</td>\n",
       "      <td>0.0</td>\n",
       "      <td>0.0</td>\n",
       "      <td>0.0</td>\n",
       "      <td>0.0</td>\n",
       "      <td>0.0</td>\n",
       "      <td>0.0</td>\n",
       "      <td>0.0</td>\n",
       "      <td>...</td>\n",
       "      <td>0.0</td>\n",
       "      <td>0.0</td>\n",
       "      <td>0.0</td>\n",
       "      <td>0.0</td>\n",
       "      <td>0.0</td>\n",
       "      <td>0.0</td>\n",
       "      <td>0.0</td>\n",
       "      <td>0.0</td>\n",
       "      <td>0.0</td>\n",
       "      <td>0.0</td>\n",
       "    </tr>\n",
       "    <tr>\n",
       "      <th>4</th>\n",
       "      <td>0.0</td>\n",
       "      <td>0.0</td>\n",
       "      <td>0.0</td>\n",
       "      <td>1.0</td>\n",
       "      <td>0.0</td>\n",
       "      <td>0.0</td>\n",
       "      <td>0.0</td>\n",
       "      <td>0.0</td>\n",
       "      <td>0.0</td>\n",
       "      <td>0.0</td>\n",
       "      <td>...</td>\n",
       "      <td>0.0</td>\n",
       "      <td>1.0</td>\n",
       "      <td>0.0</td>\n",
       "      <td>0.0</td>\n",
       "      <td>0.0</td>\n",
       "      <td>0.0</td>\n",
       "      <td>0.0</td>\n",
       "      <td>0.0</td>\n",
       "      <td>0.0</td>\n",
       "      <td>0.0</td>\n",
       "    </tr>\n",
       "  </tbody>\n",
       "</table>\n",
       "<p>5 rows × 25 columns</p>\n",
       "</div>"
      ],
      "text/plain": [
       "   INDIAN  TIBETAN  TURKISH  IRISH  CHINESE  ALGERIAN  WELSH  PERUVIAN  \\\n",
       "0     1.0      0.0      0.0    1.0      0.0       0.0    0.0       0.0   \n",
       "1     1.0      0.0      0.0    1.0      0.0       0.0    0.0       0.0   \n",
       "2     0.0      1.0      0.0    0.0      0.0       0.0    0.0       0.0   \n",
       "3     0.0      0.0      1.0    0.0      0.0       0.0    0.0       0.0   \n",
       "4     0.0      0.0      0.0    1.0      0.0       0.0    0.0       0.0   \n",
       "\n",
       "   JAPANESE  BRITISH  ...  ITALIAN  BELGIAN  GREEK  SALVADORIAN  THAI  CAJUN  \\\n",
       "0       0.0      0.0  ...      0.0      0.0    0.0          0.0   0.0    0.0   \n",
       "1       0.0      0.0  ...      0.0      0.0    0.0          0.0   0.0    0.0   \n",
       "2       0.0      0.0  ...      1.0      0.0    0.0          0.0   0.0    0.0   \n",
       "3       0.0      0.0  ...      0.0      0.0    0.0          0.0   0.0    0.0   \n",
       "4       0.0      0.0  ...      0.0      1.0    0.0          0.0   0.0    0.0   \n",
       "\n",
       "   JEWISH  KOREAN  SAPNISH  LATVIAN  \n",
       "0     0.0     0.0      0.0      0.0  \n",
       "1     0.0     0.0      0.0      0.0  \n",
       "2     0.0     0.0      0.0      0.0  \n",
       "3     0.0     0.0      0.0      0.0  \n",
       "4     0.0     0.0      0.0      0.0  \n",
       "\n",
       "[5 rows x 25 columns]"
      ]
     },
     "execution_count": 32,
     "metadata": {},
     "output_type": "execute_result"
    }
   ],
   "source": [
    "cusine.head()"
   ]
  },
  {
   "cell_type": "code",
   "execution_count": 33,
   "metadata": {},
   "outputs": [],
   "source": [
    "data.drop('Cuisine',axis=1,inplace=True)"
   ]
  },
  {
   "cell_type": "markdown",
   "metadata": {},
   "source": [
    "###### Restaurant Location"
   ]
  },
  {
   "cell_type": "code",
   "execution_count": 34,
   "metadata": {},
   "outputs": [
    {
     "data": {
      "text/plain": [
       "Near Party Hub       3036\n",
       "Near Business Hub     957\n",
       "Name: Restaurant Location, dtype: int64"
      ]
     },
     "execution_count": 34,
     "metadata": {},
     "output_type": "execute_result"
    }
   ],
   "source": [
    "data['Restaurant Location'].value_counts()"
   ]
  },
  {
   "cell_type": "markdown",
   "metadata": {},
   "source": [
    "###### Opening day"
   ]
  },
  {
   "cell_type": "code",
   "execution_count": 35,
   "metadata": {},
   "outputs": [],
   "source": [
    "#converting it into date time\n",
    "data['Opening Day of Restaurant']=pd.to_datetime(data['Opening Day of Restaurant'])\n",
    "old=pd.DataFrame(columns=['years_old'])\n",
    "old['years_old']=2021-data['Opening Day of Restaurant'].dt.year\n"
   ]
  },
  {
   "cell_type": "code",
   "execution_count": 36,
   "metadata": {},
   "outputs": [
    {
     "data": {
      "text/plain": [
       "11    983\n",
       "10    838\n",
       "12    780\n",
       "13    523\n",
       "14    310\n",
       "9     296\n",
       "15    121\n",
       "16     59\n",
       "8      29\n",
       "17     29\n",
       "18     13\n",
       "19      5\n",
       "7       2\n",
       "20      2\n",
       "5       1\n",
       "21      1\n",
       "25      1\n",
       "Name: years_old, dtype: int64"
      ]
     },
     "execution_count": 36,
     "metadata": {},
     "output_type": "execute_result"
    }
   ],
   "source": [
    "old['years_old'].value_counts()"
   ]
  },
  {
   "cell_type": "code",
   "execution_count": 37,
   "metadata": {},
   "outputs": [],
   "source": [
    "data['Opening Day of Restaurant']=old['years_old']"
   ]
  },
  {
   "cell_type": "raw",
   "metadata": {},
   "source": [
    "k=[]\n",
    "for i in old['years_old']:\n",
    "    if i <=10:\n",
    "        k.append('LessThanEq10Y')\n",
    "    elif i>10 and i<=15:\n",
    "        k.append('LessThanEq15Y-10Y')\n",
    "    else:\n",
    "        k.append('GreaterThan15Y')\n",
    "df_train['Opening Day of Restaurant']=k\n",
    "df_train.rename(columns={'Opening Day of Restaurant':'Years_Old'},inplace=True)"
   ]
  },
  {
   "cell_type": "markdown",
   "metadata": {},
   "source": [
    "###### Facebook and Instagram Popularity"
   ]
  },
  {
   "cell_type": "code",
   "execution_count": 38,
   "metadata": {},
   "outputs": [
    {
     "name": "stdout",
     "output_type": "stream",
     "text": [
      "Facebook Popularity Quotient     77.887678\n",
      "Instagram Popularity Quotient    74.448954\n",
      "dtype: float64 \n",
      " Facebook Popularity Quotient     79.00\n",
      "Instagram Popularity Quotient    74.33\n",
      "dtype: float64\n"
     ]
    },
    {
     "data": {
      "image/png": "[encoded data removed]",
      "text/plain": [
       "<Figure size 432x288 with 2 Axes>"
      ]
     },
     "metadata": {
      "needs_background": "light"
     },
     "output_type": "display_data"
    }
   ],
   "source": [
    "popularity=data[['Facebook Popularity Quotient','Instagram Popularity Quotient']].copy(deep=True)\n",
    "print(popularity.mean(),'\\n',popularity.median())\n",
    "plt.subplot(1,2,1)\n",
    "popularity['Facebook Popularity Quotient'].hist()\n",
    "plt.subplot(1,2,2)\n",
    "popularity['Instagram Popularity Quotient'].hist()\n",
    "plt.show()"
   ]
  },
  {
   "cell_type": "code",
   "execution_count": 39,
   "metadata": {},
   "outputs": [],
   "source": [
    "data['Facebook Popularity Quotient'].fillna(79,inplace=True)\n",
    "data['Instagram Popularity Quotient'].fillna(74,inplace=True)"
   ]
  },
  {
   "cell_type": "code",
   "execution_count": 40,
   "metadata": {},
   "outputs": [],
   "source": [
    "data[['Facebook Popularity Quotient','Instagram Popularity Quotient']]=scaler.fit_transform(data[['Facebook Popularity Quotient','Instagram Popularity Quotient']])"
   ]
  },
  {
   "cell_type": "markdown",
   "metadata": {},
   "source": [
    "###### Endorsed By"
   ]
  },
  {
   "cell_type": "code",
   "execution_count": 41,
   "metadata": {},
   "outputs": [
    {
     "data": {
      "text/plain": [
       "Not Specific        2260\n",
       "Tier A Celebrity    1696\n",
       "Local Celebrity       37\n",
       "Name: Endorsed By, dtype: int64"
      ]
     },
     "execution_count": 41,
     "metadata": {},
     "output_type": "execute_result"
    }
   ],
   "source": [
    "data['Endorsed By'].value_counts()"
   ]
  },
  {
   "cell_type": "markdown",
   "metadata": {},
   "source": [
    "###### FireAudit"
   ]
  },
  {
   "cell_type": "code",
   "execution_count": 42,
   "metadata": {},
   "outputs": [
    {
     "data": {
      "text/plain": [
       "Ttest_indResult(statistic=2.0019614849572145, pvalue=0.04535643001209218)"
      ]
     },
     "execution_count": 42,
     "metadata": {},
     "output_type": "execute_result"
    }
   ],
   "source": [
    "d=pd.DataFrame(data['Fire Audit'])\n",
    "d['revenue']=target\n",
    "t1=d[d['Fire Audit']==1]['revenue']\n",
    "t2=d[d['Fire Audit']==0]['revenue']\n",
    "stats.ttest_ind(t1,t2)"
   ]
  },
  {
   "cell_type": "code",
   "execution_count": 43,
   "metadata": {},
   "outputs": [],
   "source": [
    "#data['Fire Audit']=data['Fire Audit'].astype('object')"
   ]
  },
  {
   "cell_type": "markdown",
   "metadata": {},
   "source": [
    "###### Liquor"
   ]
  },
  {
   "cell_type": "code",
   "execution_count": 44,
   "metadata": {},
   "outputs": [
    {
     "data": {
      "text/plain": [
       "Ttest_indResult(statistic=1.3265861085349437, pvalue=0.18472153426038415)"
      ]
     },
     "execution_count": 44,
     "metadata": {},
     "output_type": "execute_result"
    }
   ],
   "source": [
    "d=pd.DataFrame(data['Liquor License Obtained'])\n",
    "d['revenue']=target\n",
    "t1=d[d['Liquor License Obtained']==1]['revenue']\n",
    "t2=d[d['Liquor License Obtained']==0]['revenue']\n",
    "stats.ttest_ind(t1,t2)"
   ]
  },
  {
   "cell_type": "code",
   "execution_count": 45,
   "metadata": {},
   "outputs": [],
   "source": [
    "#data['Liquor License Obtained']=data['Liquor License Obtained'].astype('object')"
   ]
  },
  {
   "cell_type": "markdown",
   "metadata": {},
   "source": [
    "###### Multiplex"
   ]
  },
  {
   "cell_type": "code",
   "execution_count": 46,
   "metadata": {},
   "outputs": [
    {
     "data": {
      "text/plain": [
       "Ttest_indResult(statistic=-3.901150012364405, pvalue=9.731344886120673e-05)"
      ]
     },
     "execution_count": 46,
     "metadata": {},
     "output_type": "execute_result"
    }
   ],
   "source": [
    "d=pd.DataFrame(data['Situated in a Multi Complex'])\n",
    "d['revenue']=target\n",
    "t1=d[d['Situated in a Multi Complex']==1]['revenue']\n",
    "t2=d[d['Situated in a Multi Complex']==0]['revenue']\n",
    "stats.ttest_ind(t1,t2)"
   ]
  },
  {
   "cell_type": "code",
   "execution_count": 47,
   "metadata": {},
   "outputs": [],
   "source": [
    "#data['Situated in a Multi Complex']=data['Situated in a Multi Complex'].astype('object')"
   ]
  },
  {
   "cell_type": "markdown",
   "metadata": {},
   "source": [
    "###### Dedicated Parking"
   ]
  },
  {
   "cell_type": "code",
   "execution_count": 48,
   "metadata": {},
   "outputs": [
    {
     "data": {
      "text/plain": [
       "Ttest_indResult(statistic=1.532017734858553, pvalue=0.12559731707236998)"
      ]
     },
     "execution_count": 48,
     "metadata": {},
     "output_type": "execute_result"
    }
   ],
   "source": [
    "d=pd.DataFrame(data['Dedicated Parking'])\n",
    "d['revenue']=target\n",
    "t1=d[d['Dedicated Parking']==1]['revenue']\n",
    "t2=d[d['Dedicated Parking']==0]['revenue']\n",
    "stats.ttest_ind(t1,t2)"
   ]
  },
  {
   "cell_type": "code",
   "execution_count": 49,
   "metadata": {},
   "outputs": [],
   "source": [
    "#data['Dedicated Parking']=data['Dedicated Parking'].astype('object')"
   ]
  },
  {
   "cell_type": "markdown",
   "metadata": {},
   "source": [
    "###### Open Sitting"
   ]
  },
  {
   "cell_type": "code",
   "execution_count": 50,
   "metadata": {},
   "outputs": [
    {
     "data": {
      "text/plain": [
       "Ttest_indResult(statistic=0.7357268457347607, pvalue=0.46194018395470204)"
      ]
     },
     "execution_count": 50,
     "metadata": {},
     "output_type": "execute_result"
    }
   ],
   "source": [
    "d=pd.DataFrame(data['Open Sitting Available'])\n",
    "d['revenue']=target\n",
    "t1=d[d['Open Sitting Available']==1]['revenue']\n",
    "t2=d[d['Open Sitting Available']==0]['revenue']\n",
    "stats.ttest_ind(t1,t2)"
   ]
  },
  {
   "cell_type": "code",
   "execution_count": 51,
   "metadata": {},
   "outputs": [],
   "source": [
    "#data['Open Sitting Available']=data['Open Sitting Available'].astype('object')"
   ]
  },
  {
   "cell_type": "markdown",
   "metadata": {},
   "source": [
    "###### Restaurant city tier"
   ]
  },
  {
   "cell_type": "code",
   "execution_count": 52,
   "metadata": {},
   "outputs": [
    {
     "data": {
      "text/plain": [
       "0    2794\n",
       "1    1199\n",
       "Name: Restaurant City Tier, dtype: int64"
      ]
     },
     "execution_count": 52,
     "metadata": {},
     "output_type": "execute_result"
    }
   ],
   "source": [
    "data['Restaurant City Tier'].value_counts()"
   ]
  },
  {
   "cell_type": "code",
   "execution_count": 53,
   "metadata": {},
   "outputs": [],
   "source": [
    "#data['Restaurant City Tier']=data['Restaurant City Tier'].astype('object')"
   ]
  },
  {
   "cell_type": "markdown",
   "metadata": {},
   "source": [
    "###### Restaurant Type"
   ]
  },
  {
   "cell_type": "code",
   "execution_count": 54,
   "metadata": {},
   "outputs": [
    {
     "data": {
      "text/plain": [
       "Bar                         3695\n",
       "Caffee                       243\n",
       "Gastro Bar                    53\n",
       "Buffet/Family Restaurant       2\n",
       "Name: Restaurant Type, dtype: int64"
      ]
     },
     "execution_count": 54,
     "metadata": {},
     "output_type": "execute_result"
    }
   ],
   "source": [
    "data['Restaurant Type'].value_counts()"
   ]
  },
  {
   "cell_type": "code",
   "execution_count": 55,
   "metadata": {},
   "outputs": [],
   "source": [
    "data['Restaurant Type']=data['Restaurant Type'].astype('object')"
   ]
  },
  {
   "cell_type": "markdown",
   "metadata": {},
   "source": [
    "###### Restaurant Zomato Rating"
   ]
  },
  {
   "cell_type": "code",
   "execution_count": 56,
   "metadata": {},
   "outputs": [
    {
     "data": {
      "text/plain": [
       "3    1877\n",
       "2    1416\n",
       "4     483\n",
       "1     161\n",
       "5      43\n",
       "0      13\n",
       "Name: Restaurant Zomato Rating, dtype: int64"
      ]
     },
     "execution_count": 56,
     "metadata": {},
     "output_type": "execute_result"
    }
   ],
   "source": [
    "data['Restaurant Zomato Rating'].value_counts()"
   ]
  },
  {
   "cell_type": "code",
   "execution_count": 57,
   "metadata": {},
   "outputs": [],
   "source": [
    "data['Restaurant Zomato Rating']=data['Restaurant Zomato Rating'].astype('object')"
   ]
  },
  {
   "cell_type": "raw",
   "metadata": {},
   "source": [
    "k=[]\n",
    "for i in test_Data['Restaurant Zomato Rating']:\n",
    "    if i<2:\n",
    "        k.append('BelowAvg')\n",
    "    elif i>=2 and i<4:\n",
    "        k.append('Avg')\n",
    "    else:\n",
    "        k.append('AboveAvg')\n",
    "test_Data['Restaurant Zomato Rating']=k"
   ]
  },
  {
   "cell_type": "markdown",
   "metadata": {},
   "source": [
    "###### Restaurant THeme"
   ]
  },
  {
   "cell_type": "code",
   "execution_count": 58,
   "metadata": {},
   "outputs": [
    {
     "data": {
      "text/plain": [
       "Arabian      1592\n",
       "Greek        1163\n",
       "90's          659\n",
       "Nature        201\n",
       "Parsi         121\n",
       "Chinese        82\n",
       "Molino         29\n",
       "Delicio        27\n",
       "English        20\n",
       "Belise         15\n",
       "Moonrise       13\n",
       "Downtown       10\n",
       "Mise En         9\n",
       "Carbone         6\n",
       "TheGem          6\n",
       "Petit           5\n",
       "Marco           5\n",
       "Picante         4\n",
       "Benedicta       4\n",
       "Umami           3\n",
       "Bettaso         2\n",
       "Savory          2\n",
       "Ambiance        2\n",
       "Resca           2\n",
       "Cafepro         2\n",
       "LaCuisine       1\n",
       "Sage            1\n",
       "Flavors         1\n",
       "Bakery          1\n",
       "Spoon           1\n",
       "Cinnamon        1\n",
       "Italica         1\n",
       "Piquant         1\n",
       "Grand           1\n",
       "Name: Restaurant Theme, dtype: int64"
      ]
     },
     "execution_count": 58,
     "metadata": {},
     "output_type": "execute_result"
    }
   ],
   "source": [
    "data['Restaurant Theme'].value_counts()\n",
    "# all the names other than arabian ,greek,90s,nature,parsi,chinese will be concidered \"others\" "
   ]
  },
  {
   "cell_type": "code",
   "execution_count": 59,
   "metadata": {},
   "outputs": [],
   "source": [
    "k=['Arabian','Greek',\"90's\",'Nature','Parsi','Chinese','Molino','Delicio','English']\n",
    "l=[]\n",
    "for i in data['Restaurant Theme']:\n",
    "    if i not in k:\n",
    "        l.append('Others')\n",
    "    else:\n",
    "        l.append(i)\n",
    "data['Restaurant Theme']=l\n"
   ]
  },
  {
   "cell_type": "code",
   "execution_count": 60,
   "metadata": {},
   "outputs": [
    {
     "data": {
      "text/plain": [
       "Arabian    1592\n",
       "Greek      1163\n",
       "90's        659\n",
       "Nature      201\n",
       "Parsi       121\n",
       "Others       99\n",
       "Chinese      82\n",
       "Molino       29\n",
       "Delicio      27\n",
       "English      20\n",
       "Name: Restaurant Theme, dtype: int64"
      ]
     },
     "execution_count": 60,
     "metadata": {},
     "output_type": "execute_result"
    }
   ],
   "source": [
    "data['Restaurant Theme'].value_counts()\n"
   ]
  },
  {
   "cell_type": "markdown",
   "metadata": {},
   "source": [
    "###### Restaurant tier "
   ]
  },
  {
   "cell_type": "code",
   "execution_count": 61,
   "metadata": {},
   "outputs": [
    {
     "data": {
      "text/plain": [
       "array([ 2.,  1., nan])"
      ]
     },
     "execution_count": 61,
     "metadata": {},
     "output_type": "execute_result"
    }
   ],
   "source": [
    "data['Resturant Tier'].unique()"
   ]
  },
  {
   "cell_type": "code",
   "execution_count": 62,
   "metadata": {},
   "outputs": [
    {
     "data": {
      "text/plain": [
       "2.0    3657\n",
       "1.0     287\n",
       "Name: Resturant Tier, dtype: int64"
      ]
     },
     "execution_count": 62,
     "metadata": {},
     "output_type": "execute_result"
    }
   ],
   "source": [
    "data['Resturant Tier'].value_counts()"
   ]
  },
  {
   "cell_type": "code",
   "execution_count": 63,
   "metadata": {
    "scrolled": true
   },
   "outputs": [
    {
     "data": {
      "text/html": [
       "<div>\n",
       "<style scoped>\n",
       "    .dataframe tbody tr th:only-of-type {\n",
       "        vertical-align: middle;\n",
       "    }\n",
       "\n",
       "    .dataframe tbody tr th {\n",
       "        vertical-align: top;\n",
       "    }\n",
       "\n",
       "    .dataframe thead th {\n",
       "        text-align: right;\n",
       "    }\n",
       "</style>\n",
       "<table border=\"1\" class=\"dataframe\">\n",
       "  <thead>\n",
       "    <tr style=\"text-align: right;\">\n",
       "      <th></th>\n",
       "      <th>Resturant Tier</th>\n",
       "      <th>Restaurant Type</th>\n",
       "      <th>Restaurant Theme</th>\n",
       "      <th>Restaurant Zomato Rating</th>\n",
       "      <th>Restaurant City Tier</th>\n",
       "    </tr>\n",
       "  </thead>\n",
       "  <tbody>\n",
       "    <tr>\n",
       "      <th>4</th>\n",
       "      <td>NaN</td>\n",
       "      <td>Bar</td>\n",
       "      <td>Greek</td>\n",
       "      <td>3</td>\n",
       "      <td>0</td>\n",
       "    </tr>\n",
       "    <tr>\n",
       "      <th>8</th>\n",
       "      <td>NaN</td>\n",
       "      <td>Bar</td>\n",
       "      <td>Greek</td>\n",
       "      <td>4</td>\n",
       "      <td>1</td>\n",
       "    </tr>\n",
       "    <tr>\n",
       "      <th>151</th>\n",
       "      <td>NaN</td>\n",
       "      <td>Bar</td>\n",
       "      <td>Greek</td>\n",
       "      <td>2</td>\n",
       "      <td>0</td>\n",
       "    </tr>\n",
       "    <tr>\n",
       "      <th>156</th>\n",
       "      <td>NaN</td>\n",
       "      <td>Bar</td>\n",
       "      <td>Chinese</td>\n",
       "      <td>3</td>\n",
       "      <td>0</td>\n",
       "    </tr>\n",
       "    <tr>\n",
       "      <th>163</th>\n",
       "      <td>NaN</td>\n",
       "      <td>Bar</td>\n",
       "      <td>90's</td>\n",
       "      <td>2</td>\n",
       "      <td>0</td>\n",
       "    </tr>\n",
       "    <tr>\n",
       "      <th>168</th>\n",
       "      <td>NaN</td>\n",
       "      <td>Bar</td>\n",
       "      <td>Arabian</td>\n",
       "      <td>3</td>\n",
       "      <td>1</td>\n",
       "    </tr>\n",
       "    <tr>\n",
       "      <th>176</th>\n",
       "      <td>NaN</td>\n",
       "      <td>Bar</td>\n",
       "      <td>Greek</td>\n",
       "      <td>3</td>\n",
       "      <td>0</td>\n",
       "    </tr>\n",
       "    <tr>\n",
       "      <th>184</th>\n",
       "      <td>NaN</td>\n",
       "      <td>Bar</td>\n",
       "      <td>Greek</td>\n",
       "      <td>2</td>\n",
       "      <td>0</td>\n",
       "    </tr>\n",
       "    <tr>\n",
       "      <th>195</th>\n",
       "      <td>NaN</td>\n",
       "      <td>Bar</td>\n",
       "      <td>Arabian</td>\n",
       "      <td>3</td>\n",
       "      <td>1</td>\n",
       "    </tr>\n",
       "    <tr>\n",
       "      <th>197</th>\n",
       "      <td>NaN</td>\n",
       "      <td>Bar</td>\n",
       "      <td>Chinese</td>\n",
       "      <td>3</td>\n",
       "      <td>0</td>\n",
       "    </tr>\n",
       "    <tr>\n",
       "      <th>200</th>\n",
       "      <td>NaN</td>\n",
       "      <td>Gastro Bar</td>\n",
       "      <td>Arabian</td>\n",
       "      <td>5</td>\n",
       "      <td>0</td>\n",
       "    </tr>\n",
       "    <tr>\n",
       "      <th>207</th>\n",
       "      <td>NaN</td>\n",
       "      <td>Bar</td>\n",
       "      <td>Arabian</td>\n",
       "      <td>4</td>\n",
       "      <td>0</td>\n",
       "    </tr>\n",
       "    <tr>\n",
       "      <th>215</th>\n",
       "      <td>NaN</td>\n",
       "      <td>Caffee</td>\n",
       "      <td>Arabian</td>\n",
       "      <td>4</td>\n",
       "      <td>0</td>\n",
       "    </tr>\n",
       "    <tr>\n",
       "      <th>227</th>\n",
       "      <td>NaN</td>\n",
       "      <td>Bar</td>\n",
       "      <td>Arabian</td>\n",
       "      <td>4</td>\n",
       "      <td>0</td>\n",
       "    </tr>\n",
       "    <tr>\n",
       "      <th>234</th>\n",
       "      <td>NaN</td>\n",
       "      <td>Bar</td>\n",
       "      <td>Arabian</td>\n",
       "      <td>1</td>\n",
       "      <td>0</td>\n",
       "    </tr>\n",
       "    <tr>\n",
       "      <th>239</th>\n",
       "      <td>NaN</td>\n",
       "      <td>Bar</td>\n",
       "      <td>90's</td>\n",
       "      <td>3</td>\n",
       "      <td>0</td>\n",
       "    </tr>\n",
       "    <tr>\n",
       "      <th>244</th>\n",
       "      <td>NaN</td>\n",
       "      <td>Bar</td>\n",
       "      <td>Arabian</td>\n",
       "      <td>3</td>\n",
       "      <td>0</td>\n",
       "    </tr>\n",
       "    <tr>\n",
       "      <th>248</th>\n",
       "      <td>NaN</td>\n",
       "      <td>Bar</td>\n",
       "      <td>90's</td>\n",
       "      <td>3</td>\n",
       "      <td>0</td>\n",
       "    </tr>\n",
       "    <tr>\n",
       "      <th>257</th>\n",
       "      <td>NaN</td>\n",
       "      <td>Bar</td>\n",
       "      <td>Delicio</td>\n",
       "      <td>2</td>\n",
       "      <td>1</td>\n",
       "    </tr>\n",
       "    <tr>\n",
       "      <th>261</th>\n",
       "      <td>NaN</td>\n",
       "      <td>Bar</td>\n",
       "      <td>90's</td>\n",
       "      <td>3</td>\n",
       "      <td>0</td>\n",
       "    </tr>\n",
       "    <tr>\n",
       "      <th>263</th>\n",
       "      <td>NaN</td>\n",
       "      <td>Bar</td>\n",
       "      <td>Greek</td>\n",
       "      <td>4</td>\n",
       "      <td>0</td>\n",
       "    </tr>\n",
       "    <tr>\n",
       "      <th>266</th>\n",
       "      <td>NaN</td>\n",
       "      <td>Bar</td>\n",
       "      <td>Greek</td>\n",
       "      <td>3</td>\n",
       "      <td>0</td>\n",
       "    </tr>\n",
       "    <tr>\n",
       "      <th>270</th>\n",
       "      <td>NaN</td>\n",
       "      <td>Bar</td>\n",
       "      <td>Greek</td>\n",
       "      <td>3</td>\n",
       "      <td>1</td>\n",
       "    </tr>\n",
       "    <tr>\n",
       "      <th>273</th>\n",
       "      <td>NaN</td>\n",
       "      <td>Bar</td>\n",
       "      <td>Arabian</td>\n",
       "      <td>2</td>\n",
       "      <td>0</td>\n",
       "    </tr>\n",
       "    <tr>\n",
       "      <th>277</th>\n",
       "      <td>NaN</td>\n",
       "      <td>Bar</td>\n",
       "      <td>Arabian</td>\n",
       "      <td>2</td>\n",
       "      <td>0</td>\n",
       "    </tr>\n",
       "    <tr>\n",
       "      <th>282</th>\n",
       "      <td>NaN</td>\n",
       "      <td>Bar</td>\n",
       "      <td>Greek</td>\n",
       "      <td>4</td>\n",
       "      <td>1</td>\n",
       "    </tr>\n",
       "    <tr>\n",
       "      <th>284</th>\n",
       "      <td>NaN</td>\n",
       "      <td>Bar</td>\n",
       "      <td>Arabian</td>\n",
       "      <td>3</td>\n",
       "      <td>1</td>\n",
       "    </tr>\n",
       "    <tr>\n",
       "      <th>639</th>\n",
       "      <td>NaN</td>\n",
       "      <td>Bar</td>\n",
       "      <td>Arabian</td>\n",
       "      <td>2</td>\n",
       "      <td>0</td>\n",
       "    </tr>\n",
       "    <tr>\n",
       "      <th>644</th>\n",
       "      <td>NaN</td>\n",
       "      <td>Bar</td>\n",
       "      <td>Arabian</td>\n",
       "      <td>2</td>\n",
       "      <td>1</td>\n",
       "    </tr>\n",
       "    <tr>\n",
       "      <th>1395</th>\n",
       "      <td>NaN</td>\n",
       "      <td>Caffee</td>\n",
       "      <td>Arabian</td>\n",
       "      <td>2</td>\n",
       "      <td>0</td>\n",
       "    </tr>\n",
       "    <tr>\n",
       "      <th>1399</th>\n",
       "      <td>NaN</td>\n",
       "      <td>Bar</td>\n",
       "      <td>Greek</td>\n",
       "      <td>2</td>\n",
       "      <td>0</td>\n",
       "    </tr>\n",
       "    <tr>\n",
       "      <th>1404</th>\n",
       "      <td>NaN</td>\n",
       "      <td>Gastro Bar</td>\n",
       "      <td>Arabian</td>\n",
       "      <td>4</td>\n",
       "      <td>0</td>\n",
       "    </tr>\n",
       "    <tr>\n",
       "      <th>1671</th>\n",
       "      <td>NaN</td>\n",
       "      <td>Bar</td>\n",
       "      <td>90's</td>\n",
       "      <td>3</td>\n",
       "      <td>0</td>\n",
       "    </tr>\n",
       "    <tr>\n",
       "      <th>1676</th>\n",
       "      <td>NaN</td>\n",
       "      <td>Bar</td>\n",
       "      <td>Arabian</td>\n",
       "      <td>3</td>\n",
       "      <td>1</td>\n",
       "    </tr>\n",
       "    <tr>\n",
       "      <th>1759</th>\n",
       "      <td>NaN</td>\n",
       "      <td>Bar</td>\n",
       "      <td>Greek</td>\n",
       "      <td>3</td>\n",
       "      <td>0</td>\n",
       "    </tr>\n",
       "    <tr>\n",
       "      <th>1764</th>\n",
       "      <td>NaN</td>\n",
       "      <td>Bar</td>\n",
       "      <td>90's</td>\n",
       "      <td>3</td>\n",
       "      <td>0</td>\n",
       "    </tr>\n",
       "    <tr>\n",
       "      <th>1793</th>\n",
       "      <td>NaN</td>\n",
       "      <td>Bar</td>\n",
       "      <td>Others</td>\n",
       "      <td>2</td>\n",
       "      <td>0</td>\n",
       "    </tr>\n",
       "    <tr>\n",
       "      <th>1798</th>\n",
       "      <td>NaN</td>\n",
       "      <td>Bar</td>\n",
       "      <td>90's</td>\n",
       "      <td>4</td>\n",
       "      <td>1</td>\n",
       "    </tr>\n",
       "    <tr>\n",
       "      <th>1882</th>\n",
       "      <td>NaN</td>\n",
       "      <td>Bar</td>\n",
       "      <td>90's</td>\n",
       "      <td>2</td>\n",
       "      <td>0</td>\n",
       "    </tr>\n",
       "    <tr>\n",
       "      <th>1889</th>\n",
       "      <td>NaN</td>\n",
       "      <td>Bar</td>\n",
       "      <td>90's</td>\n",
       "      <td>3</td>\n",
       "      <td>0</td>\n",
       "    </tr>\n",
       "    <tr>\n",
       "      <th>2422</th>\n",
       "      <td>NaN</td>\n",
       "      <td>Bar</td>\n",
       "      <td>Greek</td>\n",
       "      <td>4</td>\n",
       "      <td>1</td>\n",
       "    </tr>\n",
       "    <tr>\n",
       "      <th>2425</th>\n",
       "      <td>NaN</td>\n",
       "      <td>Bar</td>\n",
       "      <td>Arabian</td>\n",
       "      <td>3</td>\n",
       "      <td>0</td>\n",
       "    </tr>\n",
       "    <tr>\n",
       "      <th>2431</th>\n",
       "      <td>NaN</td>\n",
       "      <td>Gastro Bar</td>\n",
       "      <td>Others</td>\n",
       "      <td>4</td>\n",
       "      <td>1</td>\n",
       "    </tr>\n",
       "    <tr>\n",
       "      <th>2456</th>\n",
       "      <td>NaN</td>\n",
       "      <td>Bar</td>\n",
       "      <td>Greek</td>\n",
       "      <td>3</td>\n",
       "      <td>0</td>\n",
       "    </tr>\n",
       "    <tr>\n",
       "      <th>2669</th>\n",
       "      <td>NaN</td>\n",
       "      <td>Bar</td>\n",
       "      <td>Parsi</td>\n",
       "      <td>2</td>\n",
       "      <td>0</td>\n",
       "    </tr>\n",
       "    <tr>\n",
       "      <th>3029</th>\n",
       "      <td>NaN</td>\n",
       "      <td>Bar</td>\n",
       "      <td>Greek</td>\n",
       "      <td>3</td>\n",
       "      <td>1</td>\n",
       "    </tr>\n",
       "    <tr>\n",
       "      <th>3034</th>\n",
       "      <td>NaN</td>\n",
       "      <td>Bar</td>\n",
       "      <td>Arabian</td>\n",
       "      <td>1</td>\n",
       "      <td>1</td>\n",
       "    </tr>\n",
       "    <tr>\n",
       "      <th>3393</th>\n",
       "      <td>NaN</td>\n",
       "      <td>Bar</td>\n",
       "      <td>Arabian</td>\n",
       "      <td>3</td>\n",
       "      <td>0</td>\n",
       "    </tr>\n",
       "    <tr>\n",
       "      <th>3399</th>\n",
       "      <td>NaN</td>\n",
       "      <td>Bar</td>\n",
       "      <td>Greek</td>\n",
       "      <td>2</td>\n",
       "      <td>0</td>\n",
       "    </tr>\n",
       "  </tbody>\n",
       "</table>\n",
       "</div>"
      ],
      "text/plain": [
       "      Resturant Tier Restaurant Type Restaurant Theme  \\\n",
       "4                NaN             Bar            Greek   \n",
       "8                NaN             Bar            Greek   \n",
       "151              NaN             Bar            Greek   \n",
       "156              NaN             Bar          Chinese   \n",
       "163              NaN             Bar             90's   \n",
       "168              NaN             Bar          Arabian   \n",
       "176              NaN             Bar            Greek   \n",
       "184              NaN             Bar            Greek   \n",
       "195              NaN             Bar          Arabian   \n",
       "197              NaN             Bar          Chinese   \n",
       "200              NaN      Gastro Bar          Arabian   \n",
       "207              NaN             Bar          Arabian   \n",
       "215              NaN          Caffee          Arabian   \n",
       "227              NaN             Bar          Arabian   \n",
       "234              NaN             Bar          Arabian   \n",
       "239              NaN             Bar             90's   \n",
       "244              NaN             Bar          Arabian   \n",
       "248              NaN             Bar             90's   \n",
       "257              NaN             Bar          Delicio   \n",
       "261              NaN             Bar             90's   \n",
       "263              NaN             Bar            Greek   \n",
       "266              NaN             Bar            Greek   \n",
       "270              NaN             Bar            Greek   \n",
       "273              NaN             Bar          Arabian   \n",
       "277              NaN             Bar          Arabian   \n",
       "282              NaN             Bar            Greek   \n",
       "284              NaN             Bar          Arabian   \n",
       "639              NaN             Bar          Arabian   \n",
       "644              NaN             Bar          Arabian   \n",
       "1395             NaN          Caffee          Arabian   \n",
       "1399             NaN             Bar            Greek   \n",
       "1404             NaN      Gastro Bar          Arabian   \n",
       "1671             NaN             Bar             90's   \n",
       "1676             NaN             Bar          Arabian   \n",
       "1759             NaN             Bar            Greek   \n",
       "1764             NaN             Bar             90's   \n",
       "1793             NaN             Bar           Others   \n",
       "1798             NaN             Bar             90's   \n",
       "1882             NaN             Bar             90's   \n",
       "1889             NaN             Bar             90's   \n",
       "2422             NaN             Bar            Greek   \n",
       "2425             NaN             Bar          Arabian   \n",
       "2431             NaN      Gastro Bar           Others   \n",
       "2456             NaN             Bar            Greek   \n",
       "2669             NaN             Bar            Parsi   \n",
       "3029             NaN             Bar            Greek   \n",
       "3034             NaN             Bar          Arabian   \n",
       "3393             NaN             Bar          Arabian   \n",
       "3399             NaN             Bar            Greek   \n",
       "\n",
       "     Restaurant Zomato Rating  Restaurant City Tier  \n",
       "4                           3                     0  \n",
       "8                           4                     1  \n",
       "151                         2                     0  \n",
       "156                         3                     0  \n",
       "163                         2                     0  \n",
       "168                         3                     1  \n",
       "176                         3                     0  \n",
       "184                         2                     0  \n",
       "195                         3                     1  \n",
       "197                         3                     0  \n",
       "200                         5                     0  \n",
       "207                         4                     0  \n",
       "215                         4                     0  \n",
       "227                         4                     0  \n",
       "234                         1                     0  \n",
       "239                         3                     0  \n",
       "244                         3                     0  \n",
       "248                         3                     0  \n",
       "257                         2                     1  \n",
       "261                         3                     0  \n",
       "263                         4                     0  \n",
       "266                         3                     0  \n",
       "270                         3                     1  \n",
       "273                         2                     0  \n",
       "277                         2                     0  \n",
       "282                         4                     1  \n",
       "284                         3                     1  \n",
       "639                         2                     0  \n",
       "644                         2                     1  \n",
       "1395                        2                     0  \n",
       "1399                        2                     0  \n",
       "1404                        4                     0  \n",
       "1671                        3                     0  \n",
       "1676                        3                     1  \n",
       "1759                        3                     0  \n",
       "1764                        3                     0  \n",
       "1793                        2                     0  \n",
       "1798                        4                     1  \n",
       "1882                        2                     0  \n",
       "1889                        3                     0  \n",
       "2422                        4                     1  \n",
       "2425                        3                     0  \n",
       "2431                        4                     1  \n",
       "2456                        3                     0  \n",
       "2669                        2                     0  \n",
       "3029                        3                     1  \n",
       "3034                        1                     1  \n",
       "3393                        3                     0  \n",
       "3399                        2                     0  "
      ]
     },
     "execution_count": 63,
     "metadata": {},
     "output_type": "execute_result"
    }
   ],
   "source": [
    "data[data['Resturant Tier'].isna()==True][['Resturant Tier',\n",
    "       'Restaurant Type', 'Restaurant Theme', 'Restaurant Zomato Rating',\n",
    "       'Restaurant City Tier']]"
   ]
  },
  {
   "cell_type": "code",
   "execution_count": 64,
   "metadata": {},
   "outputs": [],
   "source": [
    "data['Resturant Tier'].fillna(2.0,inplace=True)\n",
    "data['Resturant Tier']=data['Resturant Tier'].astype('object')"
   ]
  },
  {
   "cell_type": "markdown",
   "metadata": {},
   "source": [
    "###### Order Wait Time\t|| Staff Responsivness\t|| Value for Money\t|| Hygiene Rating\t|| Food Rating\t|| Overall Restaurant Rating\t||\n",
    "  #### Live Music Rating || Ambience"
   ]
  },
  {
   "cell_type": "code",
   "execution_count": 65,
   "metadata": {},
   "outputs": [
    {
     "data": {
      "text/plain": [
       "Index(['Registration Number', 'Cuisine', 'City', 'Restaurant Location',\n",
       "       'Opening Day of Restaurant', 'Facebook Popularity Quotient',\n",
       "       'Endorsed By', 'Instagram Popularity Quotient', 'Fire Audit',\n",
       "       'Liquor License Obtained', 'Situated in a Multi Complex',\n",
       "       'Dedicated Parking', 'Open Sitting Available', 'Resturant Tier',\n",
       "       'Restaurant Type', 'Restaurant Theme', 'Restaurant Zomato Rating',\n",
       "       'Restaurant City Tier', 'Order Wait Time', 'Staff Responsivness',\n",
       "       'Value for Money', 'Hygiene Rating', 'Food Rating',\n",
       "       'Overall Restaurant Rating', 'Live Music Rating', 'Comedy Gigs Rating',\n",
       "       'Value Deals Rating', 'Live Sports Rating', 'Ambience', 'Lively',\n",
       "       'Service', 'Comfortablility', 'Privacy'],\n",
       "      dtype='object')"
      ]
     },
     "execution_count": 65,
     "metadata": {},
     "output_type": "execute_result"
    }
   ],
   "source": [
    "df_train.columns"
   ]
  },
  {
   "cell_type": "code",
   "execution_count": 66,
   "metadata": {},
   "outputs": [
    {
     "data": {
      "text/html": [
       "<div>\n",
       "<style scoped>\n",
       "    .dataframe tbody tr th:only-of-type {\n",
       "        vertical-align: middle;\n",
       "    }\n",
       "\n",
       "    .dataframe tbody tr th {\n",
       "        vertical-align: top;\n",
       "    }\n",
       "\n",
       "    .dataframe thead th {\n",
       "        text-align: right;\n",
       "    }\n",
       "</style>\n",
       "<table border=\"1\" class=\"dataframe\">\n",
       "  <thead>\n",
       "    <tr style=\"text-align: right;\">\n",
       "      <th></th>\n",
       "      <th>Order Wait Time</th>\n",
       "      <th>Staff Responsivness</th>\n",
       "      <th>Value for Money</th>\n",
       "      <th>Hygiene Rating</th>\n",
       "      <th>Food Rating</th>\n",
       "      <th>Overall Restaurant Rating</th>\n",
       "      <th>Live Music Rating</th>\n",
       "      <th>Ambience</th>\n",
       "      <th>Lively</th>\n",
       "      <th>Service</th>\n",
       "      <th>Comfortablility</th>\n",
       "      <th>Privacy</th>\n",
       "    </tr>\n",
       "  </thead>\n",
       "  <tbody>\n",
       "    <tr>\n",
       "      <th>0</th>\n",
       "      <td>2</td>\n",
       "      <td>5</td>\n",
       "      <td>5</td>\n",
       "      <td>5</td>\n",
       "      <td>7</td>\n",
       "      <td>10.0</td>\n",
       "      <td>4.0</td>\n",
       "      <td>8.0</td>\n",
       "      <td>8</td>\n",
       "      <td>6</td>\n",
       "      <td>6</td>\n",
       "      <td>6</td>\n",
       "    </tr>\n",
       "    <tr>\n",
       "      <th>1</th>\n",
       "      <td>6</td>\n",
       "      <td>6</td>\n",
       "      <td>6</td>\n",
       "      <td>7</td>\n",
       "      <td>8</td>\n",
       "      <td>9.0</td>\n",
       "      <td>NaN</td>\n",
       "      <td>5.0</td>\n",
       "      <td>7</td>\n",
       "      <td>7</td>\n",
       "      <td>3</td>\n",
       "      <td>8</td>\n",
       "    </tr>\n",
       "    <tr>\n",
       "      <th>2</th>\n",
       "      <td>2</td>\n",
       "      <td>6</td>\n",
       "      <td>5</td>\n",
       "      <td>3</td>\n",
       "      <td>7</td>\n",
       "      <td>8.0</td>\n",
       "      <td>3.0</td>\n",
       "      <td>7.0</td>\n",
       "      <td>10</td>\n",
       "      <td>5</td>\n",
       "      <td>2</td>\n",
       "      <td>8</td>\n",
       "    </tr>\n",
       "    <tr>\n",
       "      <th>3</th>\n",
       "      <td>7</td>\n",
       "      <td>6</td>\n",
       "      <td>5</td>\n",
       "      <td>6</td>\n",
       "      <td>8</td>\n",
       "      <td>9.0</td>\n",
       "      <td>6.0</td>\n",
       "      <td>7.0</td>\n",
       "      <td>7</td>\n",
       "      <td>4</td>\n",
       "      <td>3</td>\n",
       "      <td>5</td>\n",
       "    </tr>\n",
       "    <tr>\n",
       "      <th>4</th>\n",
       "      <td>10</td>\n",
       "      <td>5</td>\n",
       "      <td>6</td>\n",
       "      <td>4</td>\n",
       "      <td>8</td>\n",
       "      <td>6.0</td>\n",
       "      <td>NaN</td>\n",
       "      <td>NaN</td>\n",
       "      <td>6</td>\n",
       "      <td>2</td>\n",
       "      <td>4</td>\n",
       "      <td>6</td>\n",
       "    </tr>\n",
       "  </tbody>\n",
       "</table>\n",
       "</div>"
      ],
      "text/plain": [
       "   Order Wait Time  Staff Responsivness  Value for Money  Hygiene Rating  \\\n",
       "0                2                    5                5               5   \n",
       "1                6                    6                6               7   \n",
       "2                2                    6                5               3   \n",
       "3                7                    6                5               6   \n",
       "4               10                    5                6               4   \n",
       "\n",
       "   Food Rating  Overall Restaurant Rating  Live Music Rating  Ambience  \\\n",
       "0            7                       10.0                4.0       8.0   \n",
       "1            8                        9.0                NaN       5.0   \n",
       "2            7                        8.0                3.0       7.0   \n",
       "3            8                        9.0                6.0       7.0   \n",
       "4            8                        6.0                NaN       NaN   \n",
       "\n",
       "   Lively  Service  Comfortablility  Privacy  \n",
       "0       8        6                6        6  \n",
       "1       7        7                3        8  \n",
       "2      10        5                2        8  \n",
       "3       7        4                3        5  \n",
       "4       6        2                4        6  "
      ]
     },
     "execution_count": 66,
     "metadata": {},
     "output_type": "execute_result"
    }
   ],
   "source": [
    "data[[ 'Order Wait Time', 'Staff Responsivness',\n",
    "       'Value for Money', 'Hygiene Rating', 'Food Rating',\n",
    "       'Overall Restaurant Rating', 'Live Music Rating', 'Ambience', 'Lively',\n",
    "       'Service', 'Comfortablility', 'Privacy']].head()"
   ]
  },
  {
   "cell_type": "code",
   "execution_count": 67,
   "metadata": {},
   "outputs": [
    {
     "data": {
      "text/plain": [
       "Order Wait Time                0\n",
       "Staff Responsivness            0\n",
       "Value for Money                0\n",
       "Hygiene Rating                 0\n",
       "Food Rating                    0\n",
       "Overall Restaurant Rating    246\n",
       "Live Music Rating            867\n",
       "Ambience                      25\n",
       "Lively                         0\n",
       "Service                        0\n",
       "Comfortablility                0\n",
       "Privacy                        0\n",
       "dtype: int64"
      ]
     },
     "execution_count": 67,
     "metadata": {},
     "output_type": "execute_result"
    }
   ],
   "source": [
    "data[[ 'Order Wait Time', 'Staff Responsivness',\n",
    "       'Value for Money', 'Hygiene Rating', 'Food Rating',\n",
    "       'Overall Restaurant Rating', 'Live Music Rating', 'Ambience', 'Lively',\n",
    "       'Service', 'Comfortablility', 'Privacy']].isna().sum()"
   ]
  },
  {
   "cell_type": "code",
   "execution_count": 68,
   "metadata": {},
   "outputs": [],
   "source": [
    "from sklearn.impute import KNNImputer\n",
    "knn=KNNImputer()\n"
   ]
  },
  {
   "cell_type": "code",
   "execution_count": 69,
   "metadata": {},
   "outputs": [],
   "source": [
    "data[[ 'Order Wait Time', 'Staff Responsivness','Value for Money', 'Hygiene Rating', 'Food Rating','Overall Restaurant Rating', 'Live Music Rating', 'Ambience', 'Lively',\n",
    "       'Service', 'Comfortablility', 'Privacy']]=knn.fit_transform(data[[ 'Order Wait Time', 'Staff Responsivness', 'Value for Money', 'Hygiene Rating', \n",
    "                                                                                              'Food Rating','Overall Restaurant Rating', 'Live Music Rating', 'Ambience', 'Lively','Service', 'Comfortablility', 'Privacy']])"
   ]
  },
  {
   "cell_type": "code",
   "execution_count": 70,
   "metadata": {},
   "outputs": [
    {
     "data": {
      "text/plain": [
       "<matplotlib.axes._subplots.AxesSubplot at 0x1e517ef4730>"
      ]
     },
     "execution_count": 70,
     "metadata": {},
     "output_type": "execute_result"
    },
    {
     "data": {
      "image/png": "[encoded data removed]",
      "text/plain": [
       "<Figure size 864x576 with 2 Axes>"
      ]
     },
     "metadata": {
      "needs_background": "light"
     },
     "output_type": "display_data"
    }
   ],
   "source": [
    "plt.rcParams['figure.figsize']=[12,8]\n",
    "sns.heatmap(data[[ 'Order Wait Time', 'Staff Responsivness',\n",
    "       'Value for Money', 'Hygiene Rating', 'Food Rating',\n",
    "       'Overall Restaurant Rating', 'Live Music Rating', 'Ambience', 'Lively',\n",
    "       'Service', 'Comfortablility', 'Privacy']].corr(),annot=True)"
   ]
  },
  {
   "cell_type": "code",
   "execution_count": 71,
   "metadata": {},
   "outputs": [],
   "source": [
    "data[[ 'Order Wait Time', 'Staff Responsivness',\n",
    "       'Value for Money', 'Hygiene Rating', 'Food Rating',\n",
    "       'Overall Restaurant Rating', 'Live Music Rating', 'Ambience', 'Lively',\n",
    "       'Service', 'Comfortablility', 'Privacy']]=data[[ 'Order Wait Time', 'Staff Responsivness',\n",
    "       'Value for Money', 'Hygiene Rating', 'Food Rating',\n",
    "       'Overall Restaurant Rating', 'Live Music Rating', 'Ambience', 'Lively',\n",
    "       'Service', 'Comfortablility', 'Privacy']].astype('object')"
   ]
  },
  {
   "cell_type": "code",
   "execution_count": 72,
   "metadata": {},
   "outputs": [
    {
     "data": {
      "text/html": [
       "<div>\n",
       "<style scoped>\n",
       "    .dataframe tbody tr th:only-of-type {\n",
       "        vertical-align: middle;\n",
       "    }\n",
       "\n",
       "    .dataframe tbody tr th {\n",
       "        vertical-align: top;\n",
       "    }\n",
       "\n",
       "    .dataframe thead th {\n",
       "        text-align: right;\n",
       "    }\n",
       "</style>\n",
       "<table border=\"1\" class=\"dataframe\">\n",
       "  <thead>\n",
       "    <tr style=\"text-align: right;\">\n",
       "      <th></th>\n",
       "      <th>Registration Number</th>\n",
       "      <th>Restaurant Location</th>\n",
       "      <th>Opening Day of Restaurant</th>\n",
       "      <th>Facebook Popularity Quotient</th>\n",
       "      <th>Endorsed By</th>\n",
       "      <th>Instagram Popularity Quotient</th>\n",
       "      <th>Fire Audit</th>\n",
       "      <th>Liquor License Obtained</th>\n",
       "      <th>Situated in a Multi Complex</th>\n",
       "      <th>Dedicated Parking</th>\n",
       "      <th>...</th>\n",
       "      <th>Value for Money</th>\n",
       "      <th>Hygiene Rating</th>\n",
       "      <th>Food Rating</th>\n",
       "      <th>Overall Restaurant Rating</th>\n",
       "      <th>Live Music Rating</th>\n",
       "      <th>Ambience</th>\n",
       "      <th>Lively</th>\n",
       "      <th>Service</th>\n",
       "      <th>Comfortablility</th>\n",
       "      <th>Privacy</th>\n",
       "    </tr>\n",
       "  </thead>\n",
       "  <tbody>\n",
       "    <tr>\n",
       "      <th>0</th>\n",
       "      <td>60001</td>\n",
       "      <td>Near Business Hub</td>\n",
       "      <td>12</td>\n",
       "      <td>0.655581</td>\n",
       "      <td>Not Specific</td>\n",
       "      <td>1.957223</td>\n",
       "      <td>1</td>\n",
       "      <td>1</td>\n",
       "      <td>1</td>\n",
       "      <td>0</td>\n",
       "      <td>...</td>\n",
       "      <td>5.0</td>\n",
       "      <td>5.0</td>\n",
       "      <td>7.0</td>\n",
       "      <td>10.0</td>\n",
       "      <td>4.0</td>\n",
       "      <td>8.0</td>\n",
       "      <td>8.0</td>\n",
       "      <td>6.0</td>\n",
       "      <td>6.0</td>\n",
       "      <td>6.0</td>\n",
       "    </tr>\n",
       "    <tr>\n",
       "      <th>1</th>\n",
       "      <td>60002</td>\n",
       "      <td>Near Party Hub</td>\n",
       "      <td>13</td>\n",
       "      <td>0.768529</td>\n",
       "      <td>Tier A Celebrity</td>\n",
       "      <td>0.967493</td>\n",
       "      <td>1</td>\n",
       "      <td>1</td>\n",
       "      <td>1</td>\n",
       "      <td>1</td>\n",
       "      <td>...</td>\n",
       "      <td>6.0</td>\n",
       "      <td>7.0</td>\n",
       "      <td>8.0</td>\n",
       "      <td>9.0</td>\n",
       "      <td>4.8</td>\n",
       "      <td>5.0</td>\n",
       "      <td>7.0</td>\n",
       "      <td>7.0</td>\n",
       "      <td>3.0</td>\n",
       "      <td>8.0</td>\n",
       "    </tr>\n",
       "    <tr>\n",
       "      <th>2</th>\n",
       "      <td>60003</td>\n",
       "      <td>Near Business Hub</td>\n",
       "      <td>10</td>\n",
       "      <td>0.727457</td>\n",
       "      <td>Tier A Celebrity</td>\n",
       "      <td>-0.572088</td>\n",
       "      <td>1</td>\n",
       "      <td>1</td>\n",
       "      <td>1</td>\n",
       "      <td>1</td>\n",
       "      <td>...</td>\n",
       "      <td>5.0</td>\n",
       "      <td>3.0</td>\n",
       "      <td>7.0</td>\n",
       "      <td>8.0</td>\n",
       "      <td>3.0</td>\n",
       "      <td>7.0</td>\n",
       "      <td>10.0</td>\n",
       "      <td>5.0</td>\n",
       "      <td>2.0</td>\n",
       "      <td>8.0</td>\n",
       "    </tr>\n",
       "    <tr>\n",
       "      <th>3</th>\n",
       "      <td>60004</td>\n",
       "      <td>Near Party Hub</td>\n",
       "      <td>13</td>\n",
       "      <td>0.789065</td>\n",
       "      <td>Tier A Celebrity</td>\n",
       "      <td>0.839194</td>\n",
       "      <td>0</td>\n",
       "      <td>1</td>\n",
       "      <td>1</td>\n",
       "      <td>1</td>\n",
       "      <td>...</td>\n",
       "      <td>5.0</td>\n",
       "      <td>6.0</td>\n",
       "      <td>8.0</td>\n",
       "      <td>9.0</td>\n",
       "      <td>6.0</td>\n",
       "      <td>7.0</td>\n",
       "      <td>7.0</td>\n",
       "      <td>4.0</td>\n",
       "      <td>3.0</td>\n",
       "      <td>5.0</td>\n",
       "    </tr>\n",
       "    <tr>\n",
       "      <th>4</th>\n",
       "      <td>60005</td>\n",
       "      <td>Near Party Hub</td>\n",
       "      <td>11</td>\n",
       "      <td>0.111381</td>\n",
       "      <td>Tier A Celebrity</td>\n",
       "      <td>0.216031</td>\n",
       "      <td>1</td>\n",
       "      <td>1</td>\n",
       "      <td>1</td>\n",
       "      <td>1</td>\n",
       "      <td>...</td>\n",
       "      <td>6.0</td>\n",
       "      <td>4.0</td>\n",
       "      <td>8.0</td>\n",
       "      <td>6.0</td>\n",
       "      <td>3.8</td>\n",
       "      <td>5.4</td>\n",
       "      <td>6.0</td>\n",
       "      <td>2.0</td>\n",
       "      <td>4.0</td>\n",
       "      <td>6.0</td>\n",
       "    </tr>\n",
       "  </tbody>\n",
       "</table>\n",
       "<p>5 rows × 28 columns</p>\n",
       "</div>"
      ],
      "text/plain": [
       "   Registration Number Restaurant Location  Opening Day of Restaurant  \\\n",
       "0                60001   Near Business Hub                         12   \n",
       "1                60002      Near Party Hub                         13   \n",
       "2                60003   Near Business Hub                         10   \n",
       "3                60004      Near Party Hub                         13   \n",
       "4                60005      Near Party Hub                         11   \n",
       "\n",
       "   Facebook Popularity Quotient       Endorsed By  \\\n",
       "0                      0.655581      Not Specific   \n",
       "1                      0.768529  Tier A Celebrity   \n",
       "2                      0.727457  Tier A Celebrity   \n",
       "3                      0.789065  Tier A Celebrity   \n",
       "4                      0.111381  Tier A Celebrity   \n",
       "\n",
       "   Instagram Popularity Quotient  Fire Audit  Liquor License Obtained  \\\n",
       "0                       1.957223           1                        1   \n",
       "1                       0.967493           1                        1   \n",
       "2                      -0.572088           1                        1   \n",
       "3                       0.839194           0                        1   \n",
       "4                       0.216031           1                        1   \n",
       "\n",
       "   Situated in a Multi Complex  Dedicated Parking  ...  Value for Money  \\\n",
       "0                            1                  0  ...              5.0   \n",
       "1                            1                  1  ...              6.0   \n",
       "2                            1                  1  ...              5.0   \n",
       "3                            1                  1  ...              5.0   \n",
       "4                            1                  1  ...              6.0   \n",
       "\n",
       "  Hygiene Rating Food Rating Overall Restaurant Rating Live Music Rating  \\\n",
       "0            5.0         7.0                      10.0               4.0   \n",
       "1            7.0         8.0                       9.0               4.8   \n",
       "2            3.0         7.0                       8.0               3.0   \n",
       "3            6.0         8.0                       9.0               6.0   \n",
       "4            4.0         8.0                       6.0               3.8   \n",
       "\n",
       "   Ambience Lively Service Comfortablility Privacy  \n",
       "0       8.0    8.0     6.0             6.0     6.0  \n",
       "1       5.0    7.0     7.0             3.0     8.0  \n",
       "2       7.0   10.0     5.0             2.0     8.0  \n",
       "3       7.0    7.0     4.0             3.0     5.0  \n",
       "4       5.4    6.0     2.0             4.0     6.0  \n",
       "\n",
       "[5 rows x 28 columns]"
      ]
     },
     "execution_count": 72,
     "metadata": {},
     "output_type": "execute_result"
    }
   ],
   "source": [
    "data.head()"
   ]
  },
  {
   "cell_type": "code",
   "execution_count": 73,
   "metadata": {},
   "outputs": [
    {
     "data": {
      "text/plain": [
       "Registration Number              0\n",
       "Restaurant Location              0\n",
       "Opening Day of Restaurant        0\n",
       "Facebook Popularity Quotient     0\n",
       "Endorsed By                      0\n",
       "Instagram Popularity Quotient    0\n",
       "Fire Audit                       0\n",
       "Liquor License Obtained          0\n",
       "Situated in a Multi Complex      0\n",
       "Dedicated Parking                0\n",
       "Open Sitting Available           0\n",
       "Resturant Tier                   0\n",
       "Restaurant Type                  0\n",
       "Restaurant Theme                 0\n",
       "Restaurant Zomato Rating         0\n",
       "Restaurant City Tier             0\n",
       "Order Wait Time                  0\n",
       "Staff Responsivness              0\n",
       "Value for Money                  0\n",
       "Hygiene Rating                   0\n",
       "Food Rating                      0\n",
       "Overall Restaurant Rating        0\n",
       "Live Music Rating                0\n",
       "Ambience                         0\n",
       "Lively                           0\n",
       "Service                          0\n",
       "Comfortablility                  0\n",
       "Privacy                          0\n",
       "dtype: int64"
      ]
     },
     "execution_count": 73,
     "metadata": {},
     "output_type": "execute_result"
    }
   ],
   "source": [
    "data.isna().sum()"
   ]
  },
  {
   "cell_type": "code",
   "execution_count": 74,
   "metadata": {},
   "outputs": [
    {
     "name": "stdout",
     "output_type": "stream",
     "text": [
      "<class 'pandas.core.frame.DataFrame'>\n",
      "Int64Index: 3993 entries, 0 to 499\n",
      "Data columns (total 28 columns):\n",
      " #   Column                         Non-Null Count  Dtype  \n",
      "---  ------                         --------------  -----  \n",
      " 0   Registration Number            3993 non-null   int64  \n",
      " 1   Restaurant Location            3993 non-null   object \n",
      " 2   Opening Day of Restaurant      3993 non-null   int64  \n",
      " 3   Facebook Popularity Quotient   3993 non-null   float64\n",
      " 4   Endorsed By                    3993 non-null   object \n",
      " 5   Instagram Popularity Quotient  3993 non-null   float64\n",
      " 6   Fire Audit                     3993 non-null   int64  \n",
      " 7   Liquor License Obtained        3993 non-null   int64  \n",
      " 8   Situated in a Multi Complex    3993 non-null   int64  \n",
      " 9   Dedicated Parking              3993 non-null   int64  \n",
      " 10  Open Sitting Available         3993 non-null   int64  \n",
      " 11  Resturant Tier                 3993 non-null   object \n",
      " 12  Restaurant Type                3993 non-null   object \n",
      " 13  Restaurant Theme               3993 non-null   object \n",
      " 14  Restaurant Zomato Rating       3993 non-null   object \n",
      " 15  Restaurant City Tier           3993 non-null   int64  \n",
      " 16  Order Wait Time                3993 non-null   object \n",
      " 17  Staff Responsivness            3993 non-null   object \n",
      " 18  Value for Money                3993 non-null   object \n",
      " 19  Hygiene Rating                 3993 non-null   object \n",
      " 20  Food Rating                    3993 non-null   object \n",
      " 21  Overall Restaurant Rating      3993 non-null   object \n",
      " 22  Live Music Rating              3993 non-null   object \n",
      " 23  Ambience                       3993 non-null   object \n",
      " 24  Lively                         3993 non-null   object \n",
      " 25  Service                        3993 non-null   object \n",
      " 26  Comfortablility                3993 non-null   object \n",
      " 27  Privacy                        3993 non-null   object \n",
      "dtypes: float64(2), int64(8), object(18)\n",
      "memory usage: 904.7+ KB\n"
     ]
    }
   ],
   "source": [
    "data.info()"
   ]
  },
  {
   "cell_type": "code",
   "execution_count": 75,
   "metadata": {},
   "outputs": [],
   "source": [
    "data=data.reset_index().drop('index',axis=1).copy(deep=True)\n",
    "\n",
    "city_dummy=city_dummy.reset_index().drop('index',axis=1).copy(deep=True)\n",
    "cusine=cusine.reset_index().drop('index',axis=1).copy(deep=True)"
   ]
  },
  {
   "cell_type": "code",
   "execution_count": 76,
   "metadata": {},
   "outputs": [
    {
     "data": {
      "text/plain": [
       "Index(['Registration Number', 'Restaurant Location',\n",
       "       'Opening Day of Restaurant', 'Facebook Popularity Quotient',\n",
       "       'Endorsed By', 'Instagram Popularity Quotient', 'Fire Audit',\n",
       "       'Liquor License Obtained', 'Situated in a Multi Complex',\n",
       "       'Dedicated Parking', 'Open Sitting Available', 'Resturant Tier',\n",
       "       'Restaurant Type', 'Restaurant Theme', 'Restaurant Zomato Rating',\n",
       "       'Restaurant City Tier', 'Order Wait Time', 'Staff Responsivness',\n",
       "       'Value for Money', 'Hygiene Rating', 'Food Rating',\n",
       "       'Overall Restaurant Rating', 'Live Music Rating', 'Ambience', 'Lively',\n",
       "       'Service', 'Comfortablility', 'Privacy'],\n",
       "      dtype='object')"
      ]
     },
     "execution_count": 76,
     "metadata": {},
     "output_type": "execute_result"
    }
   ],
   "source": [
    "data.columns"
   ]
  },
  {
   "cell_type": "code",
   "execution_count": 77,
   "metadata": {},
   "outputs": [
    {
     "name": "stdout",
     "output_type": "stream",
     "text": [
      "<class 'pandas.core.frame.DataFrame'>\n",
      "RangeIndex: 3993 entries, 0 to 3992\n",
      "Data columns (total 18 columns):\n",
      " #   Column                     Non-Null Count  Dtype \n",
      "---  ------                     --------------  ----- \n",
      " 0   Restaurant Location        3993 non-null   object\n",
      " 1   Endorsed By                3993 non-null   object\n",
      " 2   Resturant Tier             3993 non-null   object\n",
      " 3   Restaurant Type            3993 non-null   object\n",
      " 4   Restaurant Theme           3993 non-null   object\n",
      " 5   Restaurant Zomato Rating   3993 non-null   object\n",
      " 6   Order Wait Time            3993 non-null   object\n",
      " 7   Staff Responsivness        3993 non-null   object\n",
      " 8   Value for Money            3993 non-null   object\n",
      " 9   Hygiene Rating             3993 non-null   object\n",
      " 10  Food Rating                3993 non-null   object\n",
      " 11  Overall Restaurant Rating  3993 non-null   object\n",
      " 12  Live Music Rating          3993 non-null   object\n",
      " 13  Ambience                   3993 non-null   object\n",
      " 14  Lively                     3993 non-null   object\n",
      " 15  Service                    3993 non-null   object\n",
      " 16  Comfortablility            3993 non-null   object\n",
      " 17  Privacy                    3993 non-null   object\n",
      "dtypes: object(18)\n",
      "memory usage: 561.6+ KB\n"
     ]
    }
   ],
   "source": [
    "cat=data.select_dtypes(include='object')\n",
    "num=data.select_dtypes(include=np.number)\n",
    "cat_dum=pd.get_dummies(cat,drop_first=True)\n",
    "cat.info()"
   ]
  },
  {
   "cell_type": "code",
   "execution_count": 78,
   "metadata": {},
   "outputs": [
    {
     "data": {
      "text/plain": [
       "((3993, 156),\n",
       " (3993, 10),\n",
       " (3993, 25),\n",
       " (3993, 25),\n",
       " (3993, 28),\n",
       " (3493, 33),\n",
       " (500, 33))"
      ]
     },
     "execution_count": 78,
     "metadata": {},
     "output_type": "execute_result"
    }
   ],
   "source": [
    "cat_dum.shape,num.shape,cusine.shape,city_dummy.shape,data.shape,df_train.shape,test_Data.shape"
   ]
  },
  {
   "cell_type": "code",
   "execution_count": 79,
   "metadata": {},
   "outputs": [
    {
     "data": {
      "text/plain": [
       "(3993, 216)"
      ]
     },
     "execution_count": 79,
     "metadata": {},
     "output_type": "execute_result"
    }
   ],
   "source": [
    "new_data=pd.concat([cat_dum,num,cusine,city_dummy],axis=1)\n",
    "new_data.shape"
   ]
  },
  {
   "cell_type": "code",
   "execution_count": 80,
   "metadata": {},
   "outputs": [
    {
     "data": {
      "text/plain": [
       "((3493, 216), (500, 216))"
      ]
     },
     "execution_count": 80,
     "metadata": {},
     "output_type": "execute_result"
    }
   ],
   "source": [
    "train=new_data.iloc[:3493]\n",
    "test=new_data.iloc[3493:3993]\n",
    "train.shape,test.shape"
   ]
  },
  {
   "cell_type": "code",
   "execution_count": 81,
   "metadata": {},
   "outputs": [],
   "source": [
    "y=list(np.log(target))"
   ]
  },
  {
   "cell_type": "code",
   "execution_count": 254,
   "metadata": {},
   "outputs": [
    {
     "data": {
      "text/plain": [
       "3493"
      ]
     },
     "execution_count": 254,
     "metadata": {},
     "output_type": "execute_result"
    }
   ],
   "source": [
    "len(y)"
   ]
  },
  {
   "cell_type": "code",
   "execution_count": 82,
   "metadata": {},
   "outputs": [
    {
     "data": {
      "text/plain": [
       "<matplotlib.axes._subplots.AxesSubplot at 0x1e515d159a0>"
      ]
     },
     "execution_count": 82,
     "metadata": {},
     "output_type": "execute_result"
    },
    {
     "data": {
      "image/png": "[encoded data removed]",
      "text/plain": [
       "<Figure size 864x576 with 1 Axes>"
      ]
     },
     "metadata": {
      "needs_background": "light"
     },
     "output_type": "display_data"
    }
   ],
   "source": [
    "sns.distplot(y)"
   ]
  },
  {
   "cell_type": "code",
   "execution_count": 83,
   "metadata": {},
   "outputs": [],
   "source": [
    "X_train, X_test, y_train, y_test = train_test_split(train, y, test_size=.2, random_state=42)"
   ]
  },
  {
   "cell_type": "code",
   "execution_count": 84,
   "metadata": {},
   "outputs": [
    {
     "data": {
      "text/plain": [
       "LinearRegression()"
      ]
     },
     "execution_count": 84,
     "metadata": {},
     "output_type": "execute_result"
    }
   ],
   "source": [
    "lir=LinearRegression()\n",
    "lir.fit(X_train,y_train)"
   ]
  },
  {
   "cell_type": "code",
   "execution_count": 94,
   "metadata": {},
   "outputs": [
    {
     "name": "stdout",
     "output_type": "stream",
     "text": [
      "train\n",
      "0.43837777559348573\n",
      "Test\n",
      "0.4662556541523264\n"
     ]
    }
   ],
   "source": [
    "print('train')\n",
    "pred=lir.predict(X_train)\n",
    "print(np.sqrt(metrics.mean_squared_error(y_train,pred)))\n",
    "print('Test')\n",
    "pred=lir.predict(X_test)\n",
    "print(np.sqrt(metrics.mean_squared_error(y_test,pred)))"
   ]
  },
  {
   "cell_type": "code",
   "execution_count": 138,
   "metadata": {},
   "outputs": [],
   "source": [
    "from xgboost import XGBRegressor"
   ]
  },
  {
   "cell_type": "code",
   "execution_count": 153,
   "metadata": {},
   "outputs": [
    {
     "name": "stdout",
     "output_type": "stream",
     "text": [
      "[00:15:01] WARNING: C:/Users/Administrator/workspace/xgboost-win64_release_1.3.0/src/objective/regression_obj.cu:170: reg:linear is now deprecated in favor of reg:squarederror.\n",
      "TRAIN 0.32397205930659545\n",
      "TEST 0.4671120924202572\n"
     ]
    }
   ],
   "source": [
    "xgb=XGBRegressor(objective ='reg:linear',learning_rate=.09,n_jobs=-1)\n",
    "xgb.fit(X_train,y_train)\n",
    "\n",
    "pred=xgb.predict(X_train)\n",
    "print('TRAIN',np.sqrt(metrics.mean_squared_error(y_train,pred)))\n",
    "\n",
    "pred=xgb.predict(X_test)\n",
    "print('TEST',np.sqrt(metrics.mean_squared_error(y_test,pred)))"
   ]
  },
  {
   "cell_type": "markdown",
   "metadata": {},
   "source": [
    "#### RIDGE LASSO ENet"
   ]
  },
  {
   "cell_type": "code",
   "execution_count": 96,
   "metadata": {},
   "outputs": [],
   "source": [
    "from sklearn.linear_model import Ridge,Lasso,ElasticNet"
   ]
  },
  {
   "cell_type": "code",
   "execution_count": 218,
   "metadata": {},
   "outputs": [
    {
     "name": "stdout",
     "output_type": "stream",
     "text": [
      "train\n",
      "0.4450144558658736\n",
      "Test\n",
      "0.45878768299301953\n"
     ]
    }
   ],
   "source": [
    "R=Ridge(alpha=15.5)\n",
    "R.fit(X_train,y_train)\n",
    "\n",
    "\n",
    "print('train')\n",
    "pred=R.predict(X_train)\n",
    "print(np.sqrt(metrics.mean_squared_error(y_train,pred)))\n",
    "print('Test')\n",
    "pred=R.predict(X_test)\n",
    "print(np.sqrt(metrics.mean_squared_error(y_test,pred)))"
   ]
  },
  {
   "cell_type": "code",
   "execution_count": 187,
   "metadata": {},
   "outputs": [
    {
     "name": "stdout",
     "output_type": "stream",
     "text": [
      "train\n",
      "0.4499603992401032\n",
      "Test\n",
      "0.4578448597278534\n"
     ]
    }
   ],
   "source": [
    "L=Lasso(alpha=.001)\n",
    "L.fit(X_train,y_train)\n",
    "\n",
    "\n",
    "print('train')\n",
    "pred=L.predict(X_train)\n",
    "print(np.sqrt(metrics.mean_squared_error(y_train,pred)))\n",
    "print('Test')\n",
    "pred=L.predict(X_test)\n",
    "print(np.sqrt(metrics.mean_squared_error(y_test,pred)))"
   ]
  },
  {
   "cell_type": "code",
   "execution_count": 223,
   "metadata": {},
   "outputs": [
    {
     "name": "stdout",
     "output_type": "stream",
     "text": [
      "train\n",
      "0.4478447735874607\n",
      "Test\n",
      "0.45869740783183577\n"
     ]
    }
   ],
   "source": [
    "EN=ElasticNet(alpha=0.01,l1_ratio=0.001)\n",
    "EN.fit(X_train,y_train)\n",
    "\n",
    "print('train')\n",
    "pred=EN.predict(X_train)\n",
    "print(np.sqrt(metrics.mean_squared_error(y_train,pred)))\n",
    "print('Test')\n",
    "pred=EN.predict(X_test)\n",
    "print(np.sqrt(metrics.mean_squared_error(y_test,pred)))"
   ]
  },
  {
   "cell_type": "code",
   "execution_count": 135,
   "metadata": {},
   "outputs": [
    {
     "name": "stdout",
     "output_type": "stream",
     "text": [
      "train\n",
      "0.48343490759460955\n",
      "Test\n",
      "0.5127213690549502\n"
     ]
    }
   ],
   "source": [
    "from sklearn.tree import DecisionTreeRegressor\n",
    "DT=DecisionTreeRegressor(max_depth=5)\n",
    "\n",
    "DT.fit(X_train,y_train)\n",
    "\n",
    "print('train')\n",
    "pred=DT.predict(X_train)\n",
    "print(np.sqrt(metrics.mean_squared_error(y_train,pred)))\n",
    "print('Test')\n",
    "pred=DT.predict(X_test)\n",
    "print(np.sqrt(metrics.mean_squared_error(y_test,pred)))"
   ]
  },
  {
   "cell_type": "code",
   "execution_count": 168,
   "metadata": {},
   "outputs": [
    {
     "name": "stdout",
     "output_type": "stream",
     "text": [
      "train\n",
      "0.5423429535949977\n",
      "Test\n",
      "0.547316344177516\n"
     ]
    }
   ],
   "source": [
    "from sklearn.neighbors import KNeighborsRegressor\n",
    "Knn=KNeighborsRegressor(n_jobs=-1,n_neighbors=40)\n",
    "Knn.fit(X_train,y_train)\n",
    "\n",
    "print('train')\n",
    "pred=Knn.predict(X_train)\n",
    "print(np.sqrt(metrics.mean_squared_error(y_train,pred)))\n",
    "print('Test')\n",
    "pred=Knn.predict(X_test)\n",
    "print(np.sqrt(metrics.mean_squared_error(y_test,pred)))"
   ]
  },
  {
   "cell_type": "code",
   "execution_count": 224,
   "metadata": {},
   "outputs": [
    {
     "data": {
      "text/plain": [
       "(3993, 216)"
      ]
     },
     "execution_count": 224,
     "metadata": {},
     "output_type": "execute_result"
    }
   ],
   "source": [
    "new_data.shape"
   ]
  },
  {
   "cell_type": "code",
   "execution_count": 235,
   "metadata": {},
   "outputs": [
    {
     "data": {
      "text/plain": [
       "PCA()"
      ]
     },
     "execution_count": 235,
     "metadata": {},
     "output_type": "execute_result"
    }
   ],
   "source": [
    "from sklearn.decomposition import PCA\n",
    "pca=PCA()\n",
    "X0=np.array(new_data)\n",
    "pca.fit(X0)"
   ]
  },
  {
   "cell_type": "code",
   "execution_count": 238,
   "metadata": {},
   "outputs": [],
   "source": [
    "var=pca.explained_variance_ratio_\n",
    "var=np.cumsum(var)"
   ]
  },
  {
   "cell_type": "code",
   "execution_count": 241,
   "metadata": {},
   "outputs": [
    {
     "data": {
      "image/png": "[encoded data removed]",
      "text/plain": [
       "<Figure size 864x576 with 1 Axes>"
      ]
     },
     "metadata": {
      "needs_background": "light"
     },
     "output_type": "display_data"
    }
   ],
   "source": [
    "plt.plot(var)\n",
    "plt.xlabel('number of components')\n",
    "plt.ylabel('cumulative explained variance')\n",
    "plt.show()"
   ]
  },
  {
   "cell_type": "code",
   "execution_count": 323,
   "metadata": {},
   "outputs": [],
   "source": [
    "pca=PCA(n_components=50)\n",
    "X1=pca.fit_transform(new_data)"
   ]
  },
  {
   "cell_type": "code",
   "execution_count": 324,
   "metadata": {},
   "outputs": [
    {
     "name": "stdout",
     "output_type": "stream",
     "text": [
      "(3493, 50) (500, 50)\n"
     ]
    }
   ],
   "source": [
    "train_pca=X1[:][:3493]\n",
    "test_pca=X1[:][3493:3993]\n",
    "print(train_pca.shape,test_pca.shape)\n",
    "\n",
    "pcaX_train, pcaX_test, pcay_train, pcay_test = train_test_split(train_pca, y, test_size=.2, random_state=42)"
   ]
  },
  {
   "cell_type": "code",
   "execution_count": 325,
   "metadata": {},
   "outputs": [],
   "source": [
    "def algo(model,x_train,x_test,train_y,test_y):\n",
    "    model.fit(x_train,train_y)\n",
    "    print('\\n------------------------------------------------------------------------------------------------------------------------------------------------------------------')\n",
    "    print(model)\n",
    "    print('train')\n",
    "    pred=model.predict(x_train)\n",
    "    print(np.sqrt(metrics.mean_squared_error(train_y,pred)))\n",
    "    print('Test')\n",
    "    pred=model.predict(x_test)\n",
    "    print(np.sqrt(metrics.mean_squared_error(test_y,pred)))"
   ]
  },
  {
   "cell_type": "code",
   "execution_count": 326,
   "metadata": {},
   "outputs": [
    {
     "name": "stdout",
     "output_type": "stream",
     "text": [
      "\n",
      "------------------------------------------------------------------------------------------------------------------------------------------------------------------\n",
      "LinearRegression()\n",
      "train\n",
      "0.47945117101947027\n",
      "Test\n",
      "0.4782010024084995\n",
      "\n",
      "------------------------------------------------------------------------------------------------------------------------------------------------------------------\n",
      "DecisionTreeRegressor(max_depth=5)\n",
      "train\n",
      "0.4685759584385755\n",
      "Test\n",
      "0.5231203330664913\n",
      "[00:56:19] WARNING: C:/Users/Administrator/workspace/xgboost-win64_release_1.3.0/src/objective/regression_obj.cu:170: reg:linear is now deprecated in favor of reg:squarederror.\n",
      "\n",
      "------------------------------------------------------------------------------------------------------------------------------------------------------------------\n",
      "XGBRegressor(base_score=0.5, booster='gbtree', colsample_bylevel=1,\n",
      "             colsample_bynode=1, colsample_bytree=1, gamma=0, gpu_id=-1,\n",
      "             importance_type='gain', interaction_constraints='',\n",
      "             learning_rate=0.09, max_delta_step=0, max_depth=6,\n",
      "             min_child_weight=1, missing=nan, monotone_constraints='()',\n",
      "             n_estimators=100, n_jobs=-1, num_parallel_tree=1,\n",
      "             objective='reg:linear', random_state=0, reg_alpha=0, reg_lambda=1,\n",
      "             scale_pos_weight=1, subsample=1, tree_method='exact',\n",
      "             validate_parameters=1, verbosity=None)\n",
      "train\n",
      "0.2553596381884709\n",
      "Test\n",
      "0.49533115105797365\n",
      "\n",
      "------------------------------------------------------------------------------------------------------------------------------------------------------------------\n",
      "Ridge(alpha=15.5)\n",
      "train\n",
      "0.47946796519201773\n",
      "Test\n",
      "0.478068675552893\n",
      "\n",
      "------------------------------------------------------------------------------------------------------------------------------------------------------------------\n",
      "Lasso(alpha=0.001)\n",
      "train\n",
      "0.4797014046758034\n",
      "Test\n",
      "0.47761912006715085\n",
      "\n",
      "------------------------------------------------------------------------------------------------------------------------------------------------------------------\n",
      "ElasticNet(alpha=0.01, l1_ratio=0.001)\n",
      "train\n",
      "0.47950486921115454\n",
      "Test\n",
      "0.4779884259952691\n"
     ]
    }
   ],
   "source": [
    "lir=LinearRegression()\n",
    "algo(lir,pcaX_train, pcaX_test, pcay_train, pcay_test)\n",
    "\n",
    "DT=DecisionTreeRegressor(max_depth=5)\n",
    "algo(DT,pcaX_train, pcaX_test, pcay_train, pcay_test)\n",
    "\n",
    "\n",
    "xgb=XGBRegressor(objective ='reg:linear',learning_rate=.09,n_jobs=-1)\n",
    "algo(xgb,pcaX_train, pcaX_test, pcay_train, pcay_test)\n",
    "\n",
    "R=Ridge(alpha=15.5)\n",
    "algo(R,pcaX_train, pcaX_test, pcay_train, pcay_test)\n",
    "\n",
    "L=Lasso(alpha=.001)\n",
    "algo(L,pcaX_train, pcaX_test, pcay_train, pcay_test)\n",
    "\n",
    "EN=ElasticNet(alpha=0.01,l1_ratio=0.001)\n",
    "algo(EN,pcaX_train, pcaX_test, pcay_train, pcay_test)\n"
   ]
  },
  {
   "cell_type": "code",
   "execution_count": null,
   "metadata": {},
   "outputs": [],
   "source": []
  },
  {
   "cell_type": "code",
   "execution_count": null,
   "metadata": {},
   "outputs": [],
   "source": []
  },
  {
   "cell_type": "code",
   "execution_count": 354,
   "metadata": {},
   "outputs": [],
   "source": [
    "AnnualTurnover=np.exp(L.predict(test_pca))"
   ]
  },
  {
   "cell_type": "code",
   "execution_count": 361,
   "metadata": {},
   "outputs": [],
   "source": [
    "sub=test_Data[['Registration Number']].copy(deep=True)\n",
    "sub['AnnualTurnover']=AnnualTurnover"
   ]
  },
  {
   "cell_type": "code",
   "execution_count": 362,
   "metadata": {},
   "outputs": [],
   "source": [
    "sub.to_csv('submission.csv')"
   ]
  },
  {
   "cell_type": "code",
   "execution_count": null,
   "metadata": {},
   "outputs": [],
   "source": []
  }
 ],
 "metadata": {
  "kernelspec": {
   "display_name": "Python 3",
   "language": "python",
   "name": "python3"
  },
  "language_info": {
   "codemirror_mode": {
    "name": "ipython",
    "version": 3
   },
   "file_extension": ".py",
   "mimetype": "text/x-python",
   "name": "python",
   "nbconvert_exporter": "python",
   "pygments_lexer": "ipython3",
   "version": "3.8.3"
  }
 },
 "nbformat": 4,
 "nbformat_minor": 4
}
