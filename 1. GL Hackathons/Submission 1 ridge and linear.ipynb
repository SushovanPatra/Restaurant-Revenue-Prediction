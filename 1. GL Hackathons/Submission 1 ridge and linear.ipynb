{
 "cells": [
  {
   "cell_type": "code",
   "execution_count": 170,
   "metadata": {},
   "outputs": [],
   "source": [
    "## Importing the libraries\n",
    "import numpy as np\n",
    "import pandas as pd\n",
    "from sklearn.linear_model import LinearRegression\n",
    "\n",
    "from sklearn.impute import KNNImputer\n",
    "from sklearn.model_selection import GridSearchCV\n",
    "\n",
    "from sklearn.preprocessing import StandardScaler\n",
    "sc=StandardScaler()\n",
    "\n",
    "from sklearn import model_selection,metrics\n",
    "\n",
    "from sklearn.model_selection import cross_val_score,train_test_split"
   ]
  },
  {
   "cell_type": "code",
   "execution_count": 171,
   "metadata": {},
   "outputs": [],
   "source": [
    "import seaborn as sns\n",
    "import matplotlib.pyplot as plt"
   ]
  },
  {
   "cell_type": "code",
   "execution_count": 172,
   "metadata": {},
   "outputs": [],
   "source": [
    "df_train=pd.read_csv('Train_dataset.csv')"
   ]
  },
  {
   "cell_type": "code",
   "execution_count": 173,
   "metadata": {},
   "outputs": [],
   "source": [
    "test_Data=pd.read_csv('Test_dataset.csv')"
   ]
  },
  {
   "cell_type": "code",
   "execution_count": 174,
   "metadata": {},
   "outputs": [
    {
     "data": {
      "text/html": [
       "<div>\n",
       "<style scoped>\n",
       "    .dataframe tbody tr th:only-of-type {\n",
       "        vertical-align: middle;\n",
       "    }\n",
       "\n",
       "    .dataframe tbody tr th {\n",
       "        vertical-align: top;\n",
       "    }\n",
       "\n",
       "    .dataframe thead th {\n",
       "        text-align: right;\n",
       "    }\n",
       "</style>\n",
       "<table border=\"1\" class=\"dataframe\">\n",
       "  <thead>\n",
       "    <tr style=\"text-align: right;\">\n",
       "      <th></th>\n",
       "      <th>Registration Number</th>\n",
       "      <th>Cuisine</th>\n",
       "      <th>City</th>\n",
       "      <th>Restaurant Location</th>\n",
       "      <th>Opening Day of Restaurant</th>\n",
       "      <th>Facebook Popularity Quotient</th>\n",
       "      <th>Endoresed By</th>\n",
       "      <th>Instagram Popularity Quotient</th>\n",
       "      <th>Fire Audit</th>\n",
       "      <th>Liquor License Obtained</th>\n",
       "      <th>...</th>\n",
       "      <th>Overall Restaurant Rating</th>\n",
       "      <th>Live Music Rating</th>\n",
       "      <th>Comedy Gigs Rating</th>\n",
       "      <th>Value Deals Rating</th>\n",
       "      <th>Live Sports Rating</th>\n",
       "      <th>Ambience</th>\n",
       "      <th>Lively</th>\n",
       "      <th>Service</th>\n",
       "      <th>Comfortablility</th>\n",
       "      <th>Privacy</th>\n",
       "    </tr>\n",
       "  </thead>\n",
       "  <tbody>\n",
       "    <tr>\n",
       "      <th>0</th>\n",
       "      <td>20001</td>\n",
       "      <td>tibetan,italian</td>\n",
       "      <td>Bangalore</td>\n",
       "      <td>Near Business Hub</td>\n",
       "      <td>13-07-2010</td>\n",
       "      <td>78.00</td>\n",
       "      <td>Tier A Celebrity</td>\n",
       "      <td>69.00</td>\n",
       "      <td>1</td>\n",
       "      <td>1</td>\n",
       "      <td>...</td>\n",
       "      <td>6.0</td>\n",
       "      <td>NaN</td>\n",
       "      <td>2.0</td>\n",
       "      <td>NaN</td>\n",
       "      <td>NaN</td>\n",
       "      <td>5</td>\n",
       "      <td>2</td>\n",
       "      <td>2</td>\n",
       "      <td>6</td>\n",
       "      <td>0</td>\n",
       "    </tr>\n",
       "    <tr>\n",
       "      <th>1</th>\n",
       "      <td>20002</td>\n",
       "      <td>tibetan,italian</td>\n",
       "      <td>Hyderabad</td>\n",
       "      <td>Near Party Hub</td>\n",
       "      <td>05-09-2011</td>\n",
       "      <td>89.17</td>\n",
       "      <td>Not Specific</td>\n",
       "      <td>96.00</td>\n",
       "      <td>1</td>\n",
       "      <td>1</td>\n",
       "      <td>...</td>\n",
       "      <td>9.0</td>\n",
       "      <td>3.0</td>\n",
       "      <td>NaN</td>\n",
       "      <td>NaN</td>\n",
       "      <td>6.0</td>\n",
       "      <td>7</td>\n",
       "      <td>8</td>\n",
       "      <td>5</td>\n",
       "      <td>1</td>\n",
       "      <td>8</td>\n",
       "    </tr>\n",
       "    <tr>\n",
       "      <th>2</th>\n",
       "      <td>20003</td>\n",
       "      <td>algerian,belgian</td>\n",
       "      <td>Hyderabad</td>\n",
       "      <td>Near Party Hub</td>\n",
       "      <td>12-04-2011</td>\n",
       "      <td>84.00</td>\n",
       "      <td>Not Specific</td>\n",
       "      <td>86.00</td>\n",
       "      <td>1</td>\n",
       "      <td>1</td>\n",
       "      <td>...</td>\n",
       "      <td>6.0</td>\n",
       "      <td>3.0</td>\n",
       "      <td>NaN</td>\n",
       "      <td>NaN</td>\n",
       "      <td>NaN</td>\n",
       "      <td>9</td>\n",
       "      <td>7</td>\n",
       "      <td>5</td>\n",
       "      <td>1</td>\n",
       "      <td>5</td>\n",
       "    </tr>\n",
       "    <tr>\n",
       "      <th>3</th>\n",
       "      <td>20004</td>\n",
       "      <td>tibetan,greek</td>\n",
       "      <td>-1</td>\n",
       "      <td>Near Party Hub</td>\n",
       "      <td>16-01-2005</td>\n",
       "      <td>79.38</td>\n",
       "      <td>Not Specific</td>\n",
       "      <td>74.40</td>\n",
       "      <td>0</td>\n",
       "      <td>1</td>\n",
       "      <td>...</td>\n",
       "      <td>9.0</td>\n",
       "      <td>6.0</td>\n",
       "      <td>NaN</td>\n",
       "      <td>NaN</td>\n",
       "      <td>NaN</td>\n",
       "      <td>6</td>\n",
       "      <td>7</td>\n",
       "      <td>6</td>\n",
       "      <td>4</td>\n",
       "      <td>7</td>\n",
       "    </tr>\n",
       "    <tr>\n",
       "      <th>4</th>\n",
       "      <td>20005</td>\n",
       "      <td>cuban,british</td>\n",
       "      <td>Pune</td>\n",
       "      <td>Near Party Hub</td>\n",
       "      <td>10-11-2008</td>\n",
       "      <td>84.67</td>\n",
       "      <td>Not Specific</td>\n",
       "      <td>86.46</td>\n",
       "      <td>1</td>\n",
       "      <td>1</td>\n",
       "      <td>...</td>\n",
       "      <td>NaN</td>\n",
       "      <td>NaN</td>\n",
       "      <td>NaN</td>\n",
       "      <td>NaN</td>\n",
       "      <td>NaN</td>\n",
       "      <td>4</td>\n",
       "      <td>4</td>\n",
       "      <td>7</td>\n",
       "      <td>7</td>\n",
       "      <td>3</td>\n",
       "    </tr>\n",
       "  </tbody>\n",
       "</table>\n",
       "<p>5 rows × 33 columns</p>\n",
       "</div>"
      ],
      "text/plain": [
       "   Registration Number           Cuisine       City Restaurant Location  \\\n",
       "0                20001   tibetan,italian  Bangalore   Near Business Hub   \n",
       "1                20002   tibetan,italian  Hyderabad      Near Party Hub   \n",
       "2                20003  algerian,belgian  Hyderabad      Near Party Hub   \n",
       "3                20004     tibetan,greek         -1      Near Party Hub   \n",
       "4                20005     cuban,british      Pune       Near Party Hub   \n",
       "\n",
       "  Opening Day of Restaurant  Facebook Popularity Quotient      Endoresed By  \\\n",
       "0                13-07-2010                         78.00  Tier A Celebrity   \n",
       "1                05-09-2011                         89.17      Not Specific   \n",
       "2                12-04-2011                         84.00      Not Specific   \n",
       "3                16-01-2005                         79.38      Not Specific   \n",
       "4                10-11-2008                         84.67      Not Specific   \n",
       "\n",
       "   Instagram Popularity Quotient  Fire Audit  Liquor License Obtained  ...  \\\n",
       "0                          69.00           1                        1  ...   \n",
       "1                          96.00           1                        1  ...   \n",
       "2                          86.00           1                        1  ...   \n",
       "3                          74.40           0                        1  ...   \n",
       "4                          86.46           1                        1  ...   \n",
       "\n",
       "   Overall Restaurant Rating  Live Music Rating  Comedy Gigs Rating  \\\n",
       "0                        6.0                NaN                 2.0   \n",
       "1                        9.0                3.0                 NaN   \n",
       "2                        6.0                3.0                 NaN   \n",
       "3                        9.0                6.0                 NaN   \n",
       "4                        NaN                NaN                 NaN   \n",
       "\n",
       "   Value Deals Rating Live Sports Rating Ambience  Lively  Service  \\\n",
       "0                 NaN                NaN        5       2        2   \n",
       "1                 NaN                6.0        7       8        5   \n",
       "2                 NaN                NaN        9       7        5   \n",
       "3                 NaN                NaN        6       7        6   \n",
       "4                 NaN                NaN        4       4        7   \n",
       "\n",
       "   Comfortablility  Privacy  \n",
       "0                6        0  \n",
       "1                1        8  \n",
       "2                1        5  \n",
       "3                4        7  \n",
       "4                7        3  \n",
       "\n",
       "[5 rows x 33 columns]"
      ]
     },
     "execution_count": 174,
     "metadata": {},
     "output_type": "execute_result"
    }
   ],
   "source": [
    "test_Data.head()"
   ]
  },
  {
   "cell_type": "code",
   "execution_count": 175,
   "metadata": {},
   "outputs": [
    {
     "data": {
      "text/plain": [
       "<matplotlib.axes._subplots.AxesSubplot at 0x1b410d2e7f0>"
      ]
     },
     "execution_count": 175,
     "metadata": {},
     "output_type": "execute_result"
    },
    {
     "data": {
      "image/png": "[encoded data removed]",
      "text/plain": [
       "<Figure size 432x288 with 1 Axes>"
      ]
     },
     "metadata": {
      "needs_background": "light"
     },
     "output_type": "display_data"
    }
   ],
   "source": [
    "sns.distplot(df_train['Instagram Popularity Quotient'])"
   ]
  },
  {
   "cell_type": "code",
   "execution_count": 176,
   "metadata": {},
   "outputs": [
    {
     "data": {
      "text/html": [
       "<div>\n",
       "<style scoped>\n",
       "    .dataframe tbody tr th:only-of-type {\n",
       "        vertical-align: middle;\n",
       "    }\n",
       "\n",
       "    .dataframe tbody tr th {\n",
       "        vertical-align: top;\n",
       "    }\n",
       "\n",
       "    .dataframe thead th {\n",
       "        text-align: right;\n",
       "    }\n",
       "</style>\n",
       "<table border=\"1\" class=\"dataframe\">\n",
       "  <thead>\n",
       "    <tr style=\"text-align: right;\">\n",
       "      <th></th>\n",
       "      <th>Registration Number</th>\n",
       "      <th>Annual Turnover</th>\n",
       "      <th>Cuisine</th>\n",
       "      <th>City</th>\n",
       "      <th>Restaurant Location</th>\n",
       "      <th>Opening Day of Restaurant</th>\n",
       "      <th>Facebook Popularity Quotient</th>\n",
       "      <th>Endorsed By</th>\n",
       "      <th>Instagram Popularity Quotient</th>\n",
       "      <th>Fire Audit</th>\n",
       "      <th>...</th>\n",
       "      <th>Overall Restaurant Rating</th>\n",
       "      <th>Live Music Rating</th>\n",
       "      <th>Comedy Gigs Rating</th>\n",
       "      <th>Value Deals Rating</th>\n",
       "      <th>Live Sports Rating</th>\n",
       "      <th>Ambience</th>\n",
       "      <th>Lively</th>\n",
       "      <th>Service</th>\n",
       "      <th>Comfortablility</th>\n",
       "      <th>Privacy</th>\n",
       "    </tr>\n",
       "  </thead>\n",
       "  <tbody>\n",
       "    <tr>\n",
       "      <th>0</th>\n",
       "      <td>60001</td>\n",
       "      <td>42000000</td>\n",
       "      <td>indian,irish</td>\n",
       "      <td>Bangalore</td>\n",
       "      <td>Near Business Hub</td>\n",
       "      <td>14-02-2009</td>\n",
       "      <td>84.3</td>\n",
       "      <td>Not Specific</td>\n",
       "      <td>95.8</td>\n",
       "      <td>1</td>\n",
       "      <td>...</td>\n",
       "      <td>10.0</td>\n",
       "      <td>4.0</td>\n",
       "      <td>NaN</td>\n",
       "      <td>NaN</td>\n",
       "      <td>NaN</td>\n",
       "      <td>8.0</td>\n",
       "      <td>8</td>\n",
       "      <td>6</td>\n",
       "      <td>6</td>\n",
       "      <td>6</td>\n",
       "    </tr>\n",
       "    <tr>\n",
       "      <th>1</th>\n",
       "      <td>60002</td>\n",
       "      <td>50000000</td>\n",
       "      <td>indian,irish</td>\n",
       "      <td>Indore</td>\n",
       "      <td>Near Party Hub</td>\n",
       "      <td>29-09-2008</td>\n",
       "      <td>85.4</td>\n",
       "      <td>Tier A Celebrity</td>\n",
       "      <td>85.0</td>\n",
       "      <td>1</td>\n",
       "      <td>...</td>\n",
       "      <td>9.0</td>\n",
       "      <td>NaN</td>\n",
       "      <td>4.0</td>\n",
       "      <td>NaN</td>\n",
       "      <td>NaN</td>\n",
       "      <td>5.0</td>\n",
       "      <td>7</td>\n",
       "      <td>7</td>\n",
       "      <td>3</td>\n",
       "      <td>8</td>\n",
       "    </tr>\n",
       "    <tr>\n",
       "      <th>2</th>\n",
       "      <td>60003</td>\n",
       "      <td>32500000</td>\n",
       "      <td>tibetan,italian</td>\n",
       "      <td>Chennai</td>\n",
       "      <td>Near Business Hub</td>\n",
       "      <td>30-07-2011</td>\n",
       "      <td>85.0</td>\n",
       "      <td>Tier A Celebrity</td>\n",
       "      <td>68.2</td>\n",
       "      <td>1</td>\n",
       "      <td>...</td>\n",
       "      <td>8.0</td>\n",
       "      <td>3.0</td>\n",
       "      <td>NaN</td>\n",
       "      <td>NaN</td>\n",
       "      <td>NaN</td>\n",
       "      <td>7.0</td>\n",
       "      <td>10</td>\n",
       "      <td>5</td>\n",
       "      <td>2</td>\n",
       "      <td>8</td>\n",
       "    </tr>\n",
       "    <tr>\n",
       "      <th>3</th>\n",
       "      <td>60004</td>\n",
       "      <td>110000000</td>\n",
       "      <td>turkish,nigerian</td>\n",
       "      <td>Gurgaon</td>\n",
       "      <td>Near Party Hub</td>\n",
       "      <td>30-11-2008</td>\n",
       "      <td>85.6</td>\n",
       "      <td>Tier A Celebrity</td>\n",
       "      <td>83.6</td>\n",
       "      <td>0</td>\n",
       "      <td>...</td>\n",
       "      <td>9.0</td>\n",
       "      <td>6.0</td>\n",
       "      <td>NaN</td>\n",
       "      <td>NaN</td>\n",
       "      <td>NaN</td>\n",
       "      <td>7.0</td>\n",
       "      <td>7</td>\n",
       "      <td>4</td>\n",
       "      <td>3</td>\n",
       "      <td>5</td>\n",
       "    </tr>\n",
       "    <tr>\n",
       "      <th>4</th>\n",
       "      <td>60005</td>\n",
       "      <td>20000000</td>\n",
       "      <td>irish,belgian</td>\n",
       "      <td>Manesar</td>\n",
       "      <td>Near Party Hub</td>\n",
       "      <td>22-02-2010</td>\n",
       "      <td>NaN</td>\n",
       "      <td>Tier A Celebrity</td>\n",
       "      <td>76.8</td>\n",
       "      <td>1</td>\n",
       "      <td>...</td>\n",
       "      <td>6.0</td>\n",
       "      <td>NaN</td>\n",
       "      <td>2.0</td>\n",
       "      <td>NaN</td>\n",
       "      <td>NaN</td>\n",
       "      <td>NaN</td>\n",
       "      <td>6</td>\n",
       "      <td>2</td>\n",
       "      <td>4</td>\n",
       "      <td>6</td>\n",
       "    </tr>\n",
       "  </tbody>\n",
       "</table>\n",
       "<p>5 rows × 34 columns</p>\n",
       "</div>"
      ],
      "text/plain": [
       "   Registration Number  Annual Turnover           Cuisine       City  \\\n",
       "0                60001         42000000      indian,irish  Bangalore   \n",
       "1                60002         50000000      indian,irish     Indore   \n",
       "2                60003         32500000   tibetan,italian    Chennai   \n",
       "3                60004        110000000  turkish,nigerian    Gurgaon   \n",
       "4                60005         20000000     irish,belgian    Manesar   \n",
       "\n",
       "  Restaurant Location Opening Day of Restaurant  Facebook Popularity Quotient  \\\n",
       "0   Near Business Hub                14-02-2009                          84.3   \n",
       "1      Near Party Hub                29-09-2008                          85.4   \n",
       "2   Near Business Hub                30-07-2011                          85.0   \n",
       "3      Near Party Hub                30-11-2008                          85.6   \n",
       "4      Near Party Hub                22-02-2010                           NaN   \n",
       "\n",
       "        Endorsed By  Instagram Popularity Quotient  Fire Audit  ...  \\\n",
       "0      Not Specific                           95.8           1  ...   \n",
       "1  Tier A Celebrity                           85.0           1  ...   \n",
       "2  Tier A Celebrity                           68.2           1  ...   \n",
       "3  Tier A Celebrity                           83.6           0  ...   \n",
       "4  Tier A Celebrity                           76.8           1  ...   \n",
       "\n",
       "   Overall Restaurant Rating  Live Music Rating  Comedy Gigs Rating  \\\n",
       "0                       10.0                4.0                 NaN   \n",
       "1                        9.0                NaN                 4.0   \n",
       "2                        8.0                3.0                 NaN   \n",
       "3                        9.0                6.0                 NaN   \n",
       "4                        6.0                NaN                 2.0   \n",
       "\n",
       "   Value Deals Rating  Live Sports Rating Ambience Lively  Service  \\\n",
       "0                 NaN                 NaN      8.0      8        6   \n",
       "1                 NaN                 NaN      5.0      7        7   \n",
       "2                 NaN                 NaN      7.0     10        5   \n",
       "3                 NaN                 NaN      7.0      7        4   \n",
       "4                 NaN                 NaN      NaN      6        2   \n",
       "\n",
       "   Comfortablility  Privacy  \n",
       "0                6        6  \n",
       "1                3        8  \n",
       "2                2        8  \n",
       "3                3        5  \n",
       "4                4        6  \n",
       "\n",
       "[5 rows x 34 columns]"
      ]
     },
     "execution_count": 176,
     "metadata": {},
     "output_type": "execute_result"
    }
   ],
   "source": [
    "df_train = pd.read_csv('Train_dataset.csv')\n",
    "df_train.head()"
   ]
  },
  {
   "cell_type": "code",
   "execution_count": 177,
   "metadata": {},
   "outputs": [
    {
     "data": {
      "text/plain": [
       "Registration Number                 0\n",
       "Annual Turnover                     0\n",
       "Cuisine                             0\n",
       "City                                0\n",
       "Restaurant Location                 0\n",
       "Opening Day of Restaurant           0\n",
       "Facebook Popularity Quotient       99\n",
       "Endorsed By                         0\n",
       "Instagram Popularity Quotient      56\n",
       "Fire Audit                          0\n",
       "Liquor License Obtained             0\n",
       "Situated in a Multi Complex         0\n",
       "Dedicated Parking                   0\n",
       "Open Sitting Available              0\n",
       "Resturant Tier                     49\n",
       "Restaurant Type                     0\n",
       "Restaurant Theme                    0\n",
       "Restaurant Zomato Rating            0\n",
       "Restaurant City Tier                0\n",
       "Order Wait Time                     0\n",
       "Staff Responsivness                 0\n",
       "Value for Money                     0\n",
       "Hygiene Rating                      0\n",
       "Food Rating                         0\n",
       "Overall Restaurant Rating         212\n",
       "Live Music Rating                 765\n",
       "Comedy Gigs Rating               2483\n",
       "Value Deals Rating               2707\n",
       "Live Sports Rating               3288\n",
       "Ambience                           25\n",
       "Lively                              0\n",
       "Service                             0\n",
       "Comfortablility                     0\n",
       "Privacy                             0\n",
       "dtype: int64"
      ]
     },
     "execution_count": 177,
     "metadata": {},
     "output_type": "execute_result"
    }
   ],
   "source": [
    "## Checking for the null values\n",
    "\n",
    "df_train.isnull().sum()"
   ]
  },
  {
   "cell_type": "code",
   "execution_count": 178,
   "metadata": {},
   "outputs": [
    {
     "data": {
      "text/plain": [
       "(3493, 34)"
      ]
     },
     "execution_count": 178,
     "metadata": {},
     "output_type": "execute_result"
    }
   ],
   "source": [
    "df_train.shape"
   ]
  },
  {
   "cell_type": "code",
   "execution_count": 179,
   "metadata": {},
   "outputs": [
    {
     "data": {
      "text/plain": [
       "(500, 33)"
      ]
     },
     "execution_count": 179,
     "metadata": {},
     "output_type": "execute_result"
    }
   ],
   "source": [
    "test_Data.shape"
   ]
  },
  {
   "cell_type": "code",
   "execution_count": 180,
   "metadata": {},
   "outputs": [
    {
     "data": {
      "text/plain": [
       "Registration Number                0\n",
       "Cuisine                            0\n",
       "City                               0\n",
       "Restaurant Location                0\n",
       "Opening Day of Restaurant          0\n",
       "Facebook Popularity Quotient       0\n",
       "Endoresed By                       0\n",
       "Instagram Popularity Quotient      0\n",
       "Fire Audit                         0\n",
       "Liquor License Obtained            0\n",
       "Situated in a Multi Complex        0\n",
       "Dedicated Parking                  0\n",
       "Open Sitting Available             0\n",
       "Resturant Tier                     0\n",
       "Restaurant Type                    0\n",
       "Restaurant Theme                   0\n",
       "Restaurant Zomato Rating           0\n",
       "Restaurant City Tier               0\n",
       "Order Wait Time                    0\n",
       "Staff Responsivness                0\n",
       "Value for Money                    0\n",
       "Hygiene Rating                     0\n",
       "Food Rating                        0\n",
       "Overall Restaurant Rating         34\n",
       "Live Music Rating                102\n",
       "Comedy Gigs Rating               370\n",
       "Value Deals Rating               385\n",
       "Live Sports Rating               471\n",
       "Ambience                           0\n",
       "Lively                             0\n",
       "Service                            0\n",
       "Comfortablility                    0\n",
       "Privacy                            0\n",
       "dtype: int64"
      ]
     },
     "execution_count": 180,
     "metadata": {},
     "output_type": "execute_result"
    }
   ],
   "source": [
    "test_Data.isna().sum()"
   ]
  },
  {
   "cell_type": "code",
   "execution_count": 181,
   "metadata": {},
   "outputs": [
    {
     "data": {
      "text/plain": [
       "3493"
      ]
     },
     "execution_count": 181,
     "metadata": {},
     "output_type": "execute_result"
    }
   ],
   "source": [
    "len(df_train['Registration Number'].unique())"
   ]
  },
  {
   "cell_type": "code",
   "execution_count": 182,
   "metadata": {},
   "outputs": [],
   "source": [
    "df_train.drop('Registration Number',axis=1,inplace=True)"
   ]
  },
  {
   "cell_type": "code",
   "execution_count": 183,
   "metadata": {},
   "outputs": [],
   "source": [
    "reg_no_test=test_Data[['Registration Number']]\n",
    "test_Data.drop('Registration Number',axis=1,inplace=True)"
   ]
  },
  {
   "cell_type": "code",
   "execution_count": null,
   "metadata": {},
   "outputs": [],
   "source": []
  },
  {
   "cell_type": "code",
   "execution_count": 184,
   "metadata": {},
   "outputs": [
    {
     "data": {
      "text/plain": [
       "<matplotlib.axes._subplots.AxesSubplot at 0x1b40d6baeb0>"
      ]
     },
     "execution_count": 184,
     "metadata": {},
     "output_type": "execute_result"
    },
    {
     "data": {
      "image/png": "[encoded data removed]",
      "text/plain": [
       "<Figure size 432x288 with 1 Axes>"
      ]
     },
     "metadata": {
      "needs_background": "light"
     },
     "output_type": "display_data"
    }
   ],
   "source": [
    "sns.distplot(df_train['Facebook Popularity Quotient'])"
   ]
  },
  {
   "cell_type": "code",
   "execution_count": null,
   "metadata": {},
   "outputs": [],
   "source": []
  },
  {
   "cell_type": "code",
   "execution_count": 185,
   "metadata": {},
   "outputs": [],
   "source": [
    "df_train[['cuisine1','cuisine2']]=df_train['Cuisine']. str. split(\",\", n = 1, expand = True)\n"
   ]
  },
  {
   "cell_type": "code",
   "execution_count": 186,
   "metadata": {},
   "outputs": [
    {
     "data": {
      "text/plain": [
       "array(['indian', 'tibetan', 'turkish', 'irish', 'chinese', 'algerian',\n",
       "       'welsh', 'peruvian', 'japanese', 'british', 'nigerian', 'polish',\n",
       "       'cuban', 'swedish', 'hawaiian'], dtype=object)"
      ]
     },
     "execution_count": 186,
     "metadata": {},
     "output_type": "execute_result"
    }
   ],
   "source": [
    "df_train['cuisine1'].unique()"
   ]
  },
  {
   "cell_type": "code",
   "execution_count": 187,
   "metadata": {},
   "outputs": [
    {
     "data": {
      "text/plain": [
       "array(['irish', 'italian', 'nigerian', 'belgian', 'greek', 'salvadorian',\n",
       "       'thai', 'cuban', 'japanese', 'cajun', 'algerian', 'jewish',\n",
       "       'british', 'korean', 'sapnish', 'latvian'], dtype=object)"
      ]
     },
     "execution_count": 187,
     "metadata": {},
     "output_type": "execute_result"
    }
   ],
   "source": [
    "df_train['cuisine2'].unique()"
   ]
  },
  {
   "cell_type": "code",
   "execution_count": 188,
   "metadata": {},
   "outputs": [
    {
     "data": {
      "text/plain": [
       "tibetan     964\n",
       "turkish     372\n",
       "welsh       345\n",
       "british     311\n",
       "algerian    305\n",
       "indian      273\n",
       "japanese    204\n",
       "chinese     159\n",
       "polish      117\n",
       "peruvian    115\n",
       "swedish      92\n",
       "irish        85\n",
       "cuban        81\n",
       "hawaiian     46\n",
       "nigerian     24\n",
       "Name: cuisine1, dtype: int64"
      ]
     },
     "execution_count": 188,
     "metadata": {},
     "output_type": "execute_result"
    }
   ],
   "source": [
    "df_train['cuisine1'].value_counts()"
   ]
  },
  {
   "cell_type": "code",
   "execution_count": 189,
   "metadata": {},
   "outputs": [
    {
     "data": {
      "text/plain": [
       "greek          778\n",
       "thai           549\n",
       "belgian        280\n",
       "italian        278\n",
       "irish          273\n",
       "japanese       271\n",
       "nigerian       225\n",
       "salvadorian    159\n",
       "sapnish        147\n",
       "jewish         117\n",
       "cuban          115\n",
       "korean          83\n",
       "british         81\n",
       "algerian        67\n",
       "latvian         46\n",
       "cajun           24\n",
       "Name: cuisine2, dtype: int64"
      ]
     },
     "execution_count": 189,
     "metadata": {},
     "output_type": "execute_result"
    }
   ],
   "source": [
    "df_train['cuisine2'].value_counts()"
   ]
  },
  {
   "cell_type": "code",
   "execution_count": 190,
   "metadata": {},
   "outputs": [
    {
     "data": {
      "text/plain": [
       "Bangalore    553\n",
       "-1           396\n",
       "Noida        324\n",
       "Hyderabad    295\n",
       "Pune         262\n",
       "            ... \n",
       "Surat          1\n",
       "sonepat        1\n",
       "Jagdalpur      1\n",
       "Jhansi         1\n",
       "Hospete        1\n",
       "Name: City, Length: 297, dtype: int64"
      ]
     },
     "execution_count": 190,
     "metadata": {},
     "output_type": "execute_result"
    }
   ],
   "source": [
    "df_train['City'].value_counts()"
   ]
  },
  {
   "cell_type": "code",
   "execution_count": null,
   "metadata": {},
   "outputs": [],
   "source": []
  },
  {
   "cell_type": "code",
   "execution_count": 191,
   "metadata": {},
   "outputs": [
    {
     "data": {
      "text/plain": [
       "array(['Near Business Hub', 'Near Party Hub'], dtype=object)"
      ]
     },
     "execution_count": 191,
     "metadata": {},
     "output_type": "execute_result"
    }
   ],
   "source": [
    "df_train['Restaurant Location'].unique()"
   ]
  },
  {
   "cell_type": "code",
   "execution_count": null,
   "metadata": {},
   "outputs": [],
   "source": []
  },
  {
   "cell_type": "code",
   "execution_count": null,
   "metadata": {},
   "outputs": [],
   "source": []
  },
  {
   "cell_type": "code",
   "execution_count": null,
   "metadata": {},
   "outputs": [],
   "source": []
  },
  {
   "cell_type": "code",
   "execution_count": 192,
   "metadata": {},
   "outputs": [
    {
     "data": {
      "text/html": [
       "<div>\n",
       "<style scoped>\n",
       "    .dataframe tbody tr th:only-of-type {\n",
       "        vertical-align: middle;\n",
       "    }\n",
       "\n",
       "    .dataframe tbody tr th {\n",
       "        vertical-align: top;\n",
       "    }\n",
       "\n",
       "    .dataframe thead th {\n",
       "        text-align: right;\n",
       "    }\n",
       "</style>\n",
       "<table border=\"1\" class=\"dataframe\">\n",
       "  <thead>\n",
       "    <tr style=\"text-align: right;\">\n",
       "      <th></th>\n",
       "      <th>Annual Turnover</th>\n",
       "      <th>Cuisine</th>\n",
       "      <th>City</th>\n",
       "      <th>Restaurant Location</th>\n",
       "      <th>Opening Day of Restaurant</th>\n",
       "      <th>Facebook Popularity Quotient</th>\n",
       "      <th>Endorsed By</th>\n",
       "      <th>Instagram Popularity Quotient</th>\n",
       "      <th>Fire Audit</th>\n",
       "      <th>Liquor License Obtained</th>\n",
       "      <th>...</th>\n",
       "      <th>Comedy Gigs Rating</th>\n",
       "      <th>Value Deals Rating</th>\n",
       "      <th>Live Sports Rating</th>\n",
       "      <th>Ambience</th>\n",
       "      <th>Lively</th>\n",
       "      <th>Service</th>\n",
       "      <th>Comfortablility</th>\n",
       "      <th>Privacy</th>\n",
       "      <th>cuisine1</th>\n",
       "      <th>cuisine2</th>\n",
       "    </tr>\n",
       "  </thead>\n",
       "  <tbody>\n",
       "    <tr>\n",
       "      <th>0</th>\n",
       "      <td>42000000</td>\n",
       "      <td>indian,irish</td>\n",
       "      <td>Bangalore</td>\n",
       "      <td>Near Business Hub</td>\n",
       "      <td>14-02-2009</td>\n",
       "      <td>84.3</td>\n",
       "      <td>Not Specific</td>\n",
       "      <td>95.8</td>\n",
       "      <td>1</td>\n",
       "      <td>1</td>\n",
       "      <td>...</td>\n",
       "      <td>NaN</td>\n",
       "      <td>NaN</td>\n",
       "      <td>NaN</td>\n",
       "      <td>8.0</td>\n",
       "      <td>8</td>\n",
       "      <td>6</td>\n",
       "      <td>6</td>\n",
       "      <td>6</td>\n",
       "      <td>indian</td>\n",
       "      <td>irish</td>\n",
       "    </tr>\n",
       "    <tr>\n",
       "      <th>1</th>\n",
       "      <td>50000000</td>\n",
       "      <td>indian,irish</td>\n",
       "      <td>Indore</td>\n",
       "      <td>Near Party Hub</td>\n",
       "      <td>29-09-2008</td>\n",
       "      <td>85.4</td>\n",
       "      <td>Tier A Celebrity</td>\n",
       "      <td>85.0</td>\n",
       "      <td>1</td>\n",
       "      <td>1</td>\n",
       "      <td>...</td>\n",
       "      <td>4.0</td>\n",
       "      <td>NaN</td>\n",
       "      <td>NaN</td>\n",
       "      <td>5.0</td>\n",
       "      <td>7</td>\n",
       "      <td>7</td>\n",
       "      <td>3</td>\n",
       "      <td>8</td>\n",
       "      <td>indian</td>\n",
       "      <td>irish</td>\n",
       "    </tr>\n",
       "    <tr>\n",
       "      <th>2</th>\n",
       "      <td>32500000</td>\n",
       "      <td>tibetan,italian</td>\n",
       "      <td>Chennai</td>\n",
       "      <td>Near Business Hub</td>\n",
       "      <td>30-07-2011</td>\n",
       "      <td>85.0</td>\n",
       "      <td>Tier A Celebrity</td>\n",
       "      <td>68.2</td>\n",
       "      <td>1</td>\n",
       "      <td>1</td>\n",
       "      <td>...</td>\n",
       "      <td>NaN</td>\n",
       "      <td>NaN</td>\n",
       "      <td>NaN</td>\n",
       "      <td>7.0</td>\n",
       "      <td>10</td>\n",
       "      <td>5</td>\n",
       "      <td>2</td>\n",
       "      <td>8</td>\n",
       "      <td>tibetan</td>\n",
       "      <td>italian</td>\n",
       "    </tr>\n",
       "    <tr>\n",
       "      <th>3</th>\n",
       "      <td>110000000</td>\n",
       "      <td>turkish,nigerian</td>\n",
       "      <td>Gurgaon</td>\n",
       "      <td>Near Party Hub</td>\n",
       "      <td>30-11-2008</td>\n",
       "      <td>85.6</td>\n",
       "      <td>Tier A Celebrity</td>\n",
       "      <td>83.6</td>\n",
       "      <td>0</td>\n",
       "      <td>1</td>\n",
       "      <td>...</td>\n",
       "      <td>NaN</td>\n",
       "      <td>NaN</td>\n",
       "      <td>NaN</td>\n",
       "      <td>7.0</td>\n",
       "      <td>7</td>\n",
       "      <td>4</td>\n",
       "      <td>3</td>\n",
       "      <td>5</td>\n",
       "      <td>turkish</td>\n",
       "      <td>nigerian</td>\n",
       "    </tr>\n",
       "    <tr>\n",
       "      <th>4</th>\n",
       "      <td>20000000</td>\n",
       "      <td>irish,belgian</td>\n",
       "      <td>Manesar</td>\n",
       "      <td>Near Party Hub</td>\n",
       "      <td>22-02-2010</td>\n",
       "      <td>NaN</td>\n",
       "      <td>Tier A Celebrity</td>\n",
       "      <td>76.8</td>\n",
       "      <td>1</td>\n",
       "      <td>1</td>\n",
       "      <td>...</td>\n",
       "      <td>2.0</td>\n",
       "      <td>NaN</td>\n",
       "      <td>NaN</td>\n",
       "      <td>NaN</td>\n",
       "      <td>6</td>\n",
       "      <td>2</td>\n",
       "      <td>4</td>\n",
       "      <td>6</td>\n",
       "      <td>irish</td>\n",
       "      <td>belgian</td>\n",
       "    </tr>\n",
       "  </tbody>\n",
       "</table>\n",
       "<p>5 rows × 35 columns</p>\n",
       "</div>"
      ],
      "text/plain": [
       "   Annual Turnover           Cuisine       City Restaurant Location  \\\n",
       "0         42000000      indian,irish  Bangalore   Near Business Hub   \n",
       "1         50000000      indian,irish     Indore      Near Party Hub   \n",
       "2         32500000   tibetan,italian    Chennai   Near Business Hub   \n",
       "3        110000000  turkish,nigerian    Gurgaon      Near Party Hub   \n",
       "4         20000000     irish,belgian    Manesar      Near Party Hub   \n",
       "\n",
       "  Opening Day of Restaurant  Facebook Popularity Quotient       Endorsed By  \\\n",
       "0                14-02-2009                          84.3      Not Specific   \n",
       "1                29-09-2008                          85.4  Tier A Celebrity   \n",
       "2                30-07-2011                          85.0  Tier A Celebrity   \n",
       "3                30-11-2008                          85.6  Tier A Celebrity   \n",
       "4                22-02-2010                           NaN  Tier A Celebrity   \n",
       "\n",
       "   Instagram Popularity Quotient  Fire Audit  Liquor License Obtained  ...  \\\n",
       "0                           95.8           1                        1  ...   \n",
       "1                           85.0           1                        1  ...   \n",
       "2                           68.2           1                        1  ...   \n",
       "3                           83.6           0                        1  ...   \n",
       "4                           76.8           1                        1  ...   \n",
       "\n",
       "   Comedy Gigs Rating  Value Deals Rating  Live Sports Rating  Ambience  \\\n",
       "0                 NaN                 NaN                 NaN       8.0   \n",
       "1                 4.0                 NaN                 NaN       5.0   \n",
       "2                 NaN                 NaN                 NaN       7.0   \n",
       "3                 NaN                 NaN                 NaN       7.0   \n",
       "4                 2.0                 NaN                 NaN       NaN   \n",
       "\n",
       "  Lively Service  Comfortablility  Privacy  cuisine1  cuisine2  \n",
       "0      8       6                6        6    indian     irish  \n",
       "1      7       7                3        8    indian     irish  \n",
       "2     10       5                2        8   tibetan   italian  \n",
       "3      7       4                3        5   turkish  nigerian  \n",
       "4      6       2                4        6     irish   belgian  \n",
       "\n",
       "[5 rows x 35 columns]"
      ]
     },
     "execution_count": 192,
     "metadata": {},
     "output_type": "execute_result"
    }
   ],
   "source": [
    "df_train.head()"
   ]
  },
  {
   "cell_type": "code",
   "execution_count": 193,
   "metadata": {},
   "outputs": [],
   "source": [
    "test_Data[['cuisine1','cuisine2']]=test_Data['Cuisine']. str. split(\",\", n = 1, expand = True)\n"
   ]
  },
  {
   "cell_type": "code",
   "execution_count": 194,
   "metadata": {},
   "outputs": [
    {
     "data": {
      "text/plain": [
       "array(['tibetan', 'algerian', 'cuban', 'japanese', 'welsh', 'british',\n",
       "       'irish', 'peruvian', 'indian', 'chinese', 'turkish', 'hawaiian',\n",
       "       'polish', 'swedish', 'nigerian'], dtype=object)"
      ]
     },
     "execution_count": 194,
     "metadata": {},
     "output_type": "execute_result"
    }
   ],
   "source": [
    "test_Data['cuisine1'].unique()"
   ]
  },
  {
   "cell_type": "code",
   "execution_count": 195,
   "metadata": {},
   "outputs": [
    {
     "data": {
      "text/plain": [
       "array(['italian', 'belgian', 'greek', 'british', 'thai', 'japanese',\n",
       "       'cuban', 'korean', 'irish', 'salvadorian', 'sapnish', 'algerian',\n",
       "       'latvian', 'jewish', 'nigerian', 'cajun'], dtype=object)"
      ]
     },
     "execution_count": 195,
     "metadata": {},
     "output_type": "execute_result"
    }
   ],
   "source": [
    "test_Data['cuisine2'].unique()"
   ]
  },
  {
   "cell_type": "code",
   "execution_count": null,
   "metadata": {},
   "outputs": [],
   "source": []
  },
  {
   "cell_type": "code",
   "execution_count": null,
   "metadata": {},
   "outputs": [],
   "source": []
  },
  {
   "cell_type": "code",
   "execution_count": 196,
   "metadata": {},
   "outputs": [
    {
     "data": {
      "text/plain": [
       "array([nan,  4.,  3.,  2.,  5.,  6.])"
      ]
     },
     "execution_count": 196,
     "metadata": {},
     "output_type": "execute_result"
    }
   ],
   "source": [
    "df_train['Live Sports Rating'].unique()"
   ]
  },
  {
   "cell_type": "code",
   "execution_count": 197,
   "metadata": {},
   "outputs": [
    {
     "data": {
      "text/plain": [
       "array([nan,  4.,  2.,  3.,  1.,  5.,  6.])"
      ]
     },
     "execution_count": 197,
     "metadata": {},
     "output_type": "execute_result"
    }
   ],
   "source": [
    "df_train['Comedy Gigs Rating'].unique()"
   ]
  },
  {
   "cell_type": "code",
   "execution_count": 198,
   "metadata": {},
   "outputs": [
    {
     "data": {
      "text/plain": [
       "array([nan,  4.,  3.,  5.,  2.,  1.,  6.,  7.])"
      ]
     },
     "execution_count": 198,
     "metadata": {},
     "output_type": "execute_result"
    }
   ],
   "source": [
    "df_train['Value Deals Rating'].unique()"
   ]
  },
  {
   "cell_type": "code",
   "execution_count": 199,
   "metadata": {},
   "outputs": [],
   "source": [
    "# dropping above 3 columns since 90 percent of the data is missing\n",
    "df_train.drop(['Live Sports Rating','Comedy Gigs Rating','Value Deals Rating'],axis=1,inplace=True)"
   ]
  },
  {
   "cell_type": "code",
   "execution_count": 200,
   "metadata": {},
   "outputs": [],
   "source": [
    "# dropping above 3 columns since 90 percent of the data is missing\n",
    "test_Data.drop(['Live Sports Rating','Comedy Gigs Rating','Value Deals Rating'],axis=1,inplace=True)"
   ]
  },
  {
   "cell_type": "code",
   "execution_count": null,
   "metadata": {},
   "outputs": [],
   "source": []
  },
  {
   "cell_type": "code",
   "execution_count": null,
   "metadata": {},
   "outputs": [],
   "source": []
  },
  {
   "cell_type": "code",
   "execution_count": 32,
   "metadata": {},
   "outputs": [
    {
     "data": {
      "text/plain": [
       "297"
      ]
     },
     "execution_count": 32,
     "metadata": {},
     "output_type": "execute_result"
    }
   ],
   "source": [
    "len(df_train['City'].unique())"
   ]
  },
  {
   "cell_type": "code",
   "execution_count": null,
   "metadata": {},
   "outputs": [],
   "source": []
  },
  {
   "cell_type": "code",
   "execution_count": 33,
   "metadata": {},
   "outputs": [
    {
     "data": {
      "text/plain": [
       "2"
      ]
     },
     "execution_count": 33,
     "metadata": {},
     "output_type": "execute_result"
    }
   ],
   "source": [
    "len(df_train['Restaurant Location'].unique())"
   ]
  },
  {
   "cell_type": "code",
   "execution_count": null,
   "metadata": {},
   "outputs": [],
   "source": []
  },
  {
   "cell_type": "code",
   "execution_count": 201,
   "metadata": {},
   "outputs": [
    {
     "data": {
      "text/plain": [
       "1778"
      ]
     },
     "execution_count": 201,
     "metadata": {},
     "output_type": "execute_result"
    }
   ],
   "source": [
    "len(df_train['Opening Day of Restaurant'].unique())"
   ]
  },
  {
   "cell_type": "code",
   "execution_count": 202,
   "metadata": {},
   "outputs": [
    {
     "data": {
      "text/plain": [
       "array(['14-02-2009', '29-09-2008', '30-07-2011', ..., '07-06-2007',\n",
       "       '27-06-2013', '15-03-2007'], dtype=object)"
      ]
     },
     "execution_count": 202,
     "metadata": {},
     "output_type": "execute_result"
    }
   ],
   "source": [
    "df_train['Opening Day of Restaurant'].unique()"
   ]
  },
  {
   "cell_type": "code",
   "execution_count": 203,
   "metadata": {},
   "outputs": [],
   "source": [
    "#converting it into date time\n",
    "df_train['Opening Day of Restaurant']=pd.to_datetime(df_train['Opening Day of Restaurant'])\n",
    "df_train['day']=df_train['Opening Day of Restaurant'].dt.day\n",
    "df_train['years_old']=2021-df_train['Opening Day of Restaurant'].dt.year\n",
    "df_train['opening_month']=df_train['Opening Day of Restaurant'].dt.month\n"
   ]
  },
  {
   "cell_type": "code",
   "execution_count": 204,
   "metadata": {},
   "outputs": [],
   "source": [
    "df_train.drop('Opening Day of Restaurant',axis=1,inplace=True)"
   ]
  },
  {
   "cell_type": "raw",
   "metadata": {},
   "source": [
    "df_train['opening_month']=df_train['opening_month'].astype('int64')"
   ]
  },
  {
   "cell_type": "code",
   "execution_count": 205,
   "metadata": {},
   "outputs": [],
   "source": [
    "#converting it into date time\n",
    "test_Data['Opening Day of Restaurant']=pd.to_datetime(test_Data['Opening Day of Restaurant'])\n",
    "test_Data['day']=test_Data['Opening Day of Restaurant'].dt.day\n",
    "\n",
    "test_Data['years_old']=2021-test_Data['Opening Day of Restaurant'].dt.year\n",
    "test_Data['opening_month']=test_Data['Opening Day of Restaurant'].dt.month\n",
    "\n",
    "test_Data.drop('Opening Day of Restaurant',axis=1,inplace=True)\n"
   ]
  },
  {
   "cell_type": "raw",
   "metadata": {},
   "source": [
    "test_Data['opening_month']=test_Data['opening_month'].astype('int64')"
   ]
  },
  {
   "cell_type": "code",
   "execution_count": null,
   "metadata": {},
   "outputs": [],
   "source": []
  },
  {
   "cell_type": "code",
   "execution_count": null,
   "metadata": {},
   "outputs": [],
   "source": []
  },
  {
   "cell_type": "code",
   "execution_count": 206,
   "metadata": {
    "scrolled": true
   },
   "outputs": [
    {
     "data": {
      "text/plain": [
       "4"
      ]
     },
     "execution_count": 206,
     "metadata": {},
     "output_type": "execute_result"
    }
   ],
   "source": [
    "len(df_train['Restaurant Type'].unique())"
   ]
  },
  {
   "cell_type": "code",
   "execution_count": 207,
   "metadata": {},
   "outputs": [
    {
     "data": {
      "text/plain": [
       "array(['Bar', 'Caffee', 'Gastro Bar', 'Buffet/Family Restaurant'],\n",
       "      dtype=object)"
      ]
     },
     "execution_count": 207,
     "metadata": {},
     "output_type": "execute_result"
    }
   ],
   "source": [
    "df_train['Restaurant Type'].unique()"
   ]
  },
  {
   "cell_type": "code",
   "execution_count": 208,
   "metadata": {},
   "outputs": [
    {
     "data": {
      "text/plain": [
       "4"
      ]
     },
     "execution_count": 208,
     "metadata": {},
     "output_type": "execute_result"
    }
   ],
   "source": [
    "len(test_Data['Restaurant Type'].unique())"
   ]
  },
  {
   "cell_type": "markdown",
   "metadata": {},
   "source": [
    "#### Theme"
   ]
  },
  {
   "cell_type": "code",
   "execution_count": 211,
   "metadata": {},
   "outputs": [
    {
     "data": {
      "text/plain": [
       "34"
      ]
     },
     "execution_count": 211,
     "metadata": {},
     "output_type": "execute_result"
    }
   ],
   "source": [
    "len(df_train['Restaurant Theme'].unique())"
   ]
  },
  {
   "cell_type": "code",
   "execution_count": 212,
   "metadata": {},
   "outputs": [
    {
     "data": {
      "text/plain": [
       "array(['Arabian', 'Greek', \"90's\", 'Nature', 'Parsi', 'English',\n",
       "       'Chinese', 'Delicio', 'Molino', 'Petit', 'Downtown', 'Italica',\n",
       "       'Bettaso', 'Bakery', 'Mise En', 'Umami', 'Moonrise', 'Belise',\n",
       "       'Cinnamon', 'Resca', 'TheGem', 'Benedicta', 'Marco', 'LaCuisine',\n",
       "       'Spoon', 'Grand', 'Picante', 'Carbone', 'Flavors', 'Cafepro',\n",
       "       'Savory', 'Piquant', 'Sage', 'Ambiance'], dtype=object)"
      ]
     },
     "execution_count": 212,
     "metadata": {},
     "output_type": "execute_result"
    }
   ],
   "source": [
    "df_train['Restaurant Theme'].unique()"
   ]
  },
  {
   "cell_type": "code",
   "execution_count": 213,
   "metadata": {},
   "outputs": [
    {
     "data": {
      "text/plain": [
       "array(['Greek', 'Nature', \"90's\", 'Mise En', 'Arabian', 'Molino', 'Parsi',\n",
       "       'Carbone', 'Chinese', 'Moonrise', 'Belise', 'Petit', 'Picante',\n",
       "       'Delicio', 'English', 'Ambiance', 'Marco', 'Benedicta'],\n",
       "      dtype=object)"
      ]
     },
     "execution_count": 213,
     "metadata": {},
     "output_type": "execute_result"
    }
   ],
   "source": [
    "test_Data['Restaurant Theme'].unique()"
   ]
  },
  {
   "cell_type": "code",
   "execution_count": 214,
   "metadata": {},
   "outputs": [
    {
     "data": {
      "text/plain": [
       "18"
      ]
     },
     "execution_count": 214,
     "metadata": {},
     "output_type": "execute_result"
    }
   ],
   "source": [
    "len(test_Data['Restaurant Theme'].unique())"
   ]
  },
  {
   "cell_type": "code",
   "execution_count": 215,
   "metadata": {},
   "outputs": [],
   "source": [
    "from sklearn.preprocessing import LabelEncoder\n",
    "le=LabelEncoder()"
   ]
  },
  {
   "cell_type": "code",
   "execution_count": 216,
   "metadata": {},
   "outputs": [],
   "source": [
    "df_train['Restaurant Theme']=df_train['Restaurant Theme'].apply(lambda city : city.upper())\n",
    "test_Data['Restaurant Theme']=test_Data['Restaurant Theme'].apply(lambda city : city.upper())"
   ]
  },
  {
   "cell_type": "code",
   "execution_count": 319,
   "metadata": {},
   "outputs": [],
   "source": [
    "lst=list(df_train['Restaurant Theme'].unique())"
   ]
  },
  {
   "cell_type": "code",
   "execution_count": 322,
   "metadata": {},
   "outputs": [
    {
     "data": {
      "text/html": [
       "<div>\n",
       "<style scoped>\n",
       "    .dataframe tbody tr th:only-of-type {\n",
       "        vertical-align: middle;\n",
       "    }\n",
       "\n",
       "    .dataframe tbody tr th {\n",
       "        vertical-align: top;\n",
       "    }\n",
       "\n",
       "    .dataframe thead th {\n",
       "        text-align: right;\n",
       "    }\n",
       "</style>\n",
       "<table border=\"1\" class=\"dataframe\">\n",
       "  <thead>\n",
       "    <tr style=\"text-align: right;\">\n",
       "      <th></th>\n",
       "      <th>ARABIAN</th>\n",
       "      <th>GREEK</th>\n",
       "      <th>90'S</th>\n",
       "      <th>NATURE</th>\n",
       "      <th>PARSI</th>\n",
       "      <th>ENGLISH</th>\n",
       "      <th>CHINESE</th>\n",
       "      <th>DELICIO</th>\n",
       "      <th>MOLINO</th>\n",
       "      <th>PETIT</th>\n",
       "      <th>...</th>\n",
       "      <th>SPOON</th>\n",
       "      <th>GRAND</th>\n",
       "      <th>PICANTE</th>\n",
       "      <th>CARBONE</th>\n",
       "      <th>FLAVORS</th>\n",
       "      <th>CAFEPRO</th>\n",
       "      <th>SAVORY</th>\n",
       "      <th>PIQUANT</th>\n",
       "      <th>SAGE</th>\n",
       "      <th>AMBIANCE</th>\n",
       "    </tr>\n",
       "  </thead>\n",
       "  <tbody>\n",
       "  </tbody>\n",
       "</table>\n",
       "<p>0 rows × 34 columns</p>\n",
       "</div>"
      ],
      "text/plain": [
       "Empty DataFrame\n",
       "Columns: [ARABIAN, GREEK, 90'S, NATURE, PARSI, ENGLISH, CHINESE, DELICIO, MOLINO, PETIT, DOWNTOWN, ITALICA, BETTASO, BAKERY, MISE EN, UMAMI, MOONRISE, BELISE, CINNAMON, RESCA, THEGEM, BENEDICTA, MARCO, LACUISINE, SPOON, GRAND, PICANTE, CARBONE, FLAVORS, CAFEPRO, SAVORY, PIQUANT, SAGE, AMBIANCE]\n",
       "Index: []\n",
       "\n",
       "[0 rows x 34 columns]"
      ]
     },
     "execution_count": 322,
     "metadata": {},
     "output_type": "execute_result"
    }
   ],
   "source": [
    "theme_dummy=pd.DataFrame(columns=lst)\n",
    "theme_dummy_test=pd.DataFrame(columns=lst)\n",
    "\n",
    "theme_dummy"
   ]
  },
  {
   "cell_type": "code",
   "execution_count": 330,
   "metadata": {},
   "outputs": [],
   "source": [
    "for i in theme_dummy:\n",
    "    k=[]\n",
    "    for j in range (len(df_train['Restaurant Theme'])):\n",
    "        if df_train['Restaurant Theme'].iloc[j]==i:\n",
    "            k.append(1)\n",
    "        else:\n",
    "            k.append(0)\n",
    "    theme_dummy[i]=k"
   ]
  },
  {
   "cell_type": "code",
   "execution_count": 331,
   "metadata": {},
   "outputs": [],
   "source": [
    "for i in theme_dummy_test:\n",
    "    k=[]\n",
    "    for j in range (len(test_Data['Restaurant Theme'])):\n",
    "        if test_Data['Restaurant Theme'].iloc[j]==i:\n",
    "            k.append(1)\n",
    "        else:\n",
    "            k.append(0)\n",
    "    theme_dummy_test[i]=k"
   ]
  },
  {
   "cell_type": "code",
   "execution_count": 332,
   "metadata": {},
   "outputs": [],
   "source": [
    "df_train.drop('Restaurant Theme',axis=1,inplace=True)\n",
    "test_Data.drop('Restaurant Theme',axis=1,inplace=True)"
   ]
  },
  {
   "cell_type": "raw",
   "metadata": {},
   "source": [
    "df_train['Restaurant Theme']=le.fit_transform(df_train['Restaurant Theme'])\n",
    "\n",
    "test_Data['Restaurant Theme']=le.transform(test_Data['Restaurant Theme'])"
   ]
  },
  {
   "cell_type": "code",
   "execution_count": null,
   "metadata": {},
   "outputs": [],
   "source": []
  },
  {
   "cell_type": "code",
   "execution_count": null,
   "metadata": {},
   "outputs": [],
   "source": []
  },
  {
   "cell_type": "code",
   "execution_count": null,
   "metadata": {},
   "outputs": [],
   "source": []
  },
  {
   "cell_type": "code",
   "execution_count": null,
   "metadata": {},
   "outputs": [],
   "source": []
  },
  {
   "cell_type": "code",
   "execution_count": null,
   "metadata": {},
   "outputs": [],
   "source": []
  },
  {
   "cell_type": "code",
   "execution_count": 218,
   "metadata": {},
   "outputs": [
    {
     "data": {
      "text/plain": [
       "array(['Not Specific', 'Tier A Celebrity', 'Local Celebrity'],\n",
       "      dtype=object)"
      ]
     },
     "execution_count": 218,
     "metadata": {},
     "output_type": "execute_result"
    }
   ],
   "source": [
    "df_train['Endorsed By'].unique()"
   ]
  },
  {
   "cell_type": "code",
   "execution_count": 219,
   "metadata": {},
   "outputs": [
    {
     "data": {
      "text/plain": [
       "array(['Tier A Celebrity', 'Not Specific', 'Local Celebrity'],\n",
       "      dtype=object)"
      ]
     },
     "execution_count": 219,
     "metadata": {},
     "output_type": "execute_result"
    }
   ],
   "source": [
    "test_Data['Endoresed By'].unique()"
   ]
  },
  {
   "cell_type": "code",
   "execution_count": null,
   "metadata": {},
   "outputs": [],
   "source": []
  },
  {
   "cell_type": "code",
   "execution_count": 220,
   "metadata": {},
   "outputs": [
    {
     "data": {
      "text/plain": [
       "array([1, 0], dtype=int64)"
      ]
     },
     "execution_count": 220,
     "metadata": {},
     "output_type": "execute_result"
    }
   ],
   "source": [
    "df_train['Fire Audit'].unique()"
   ]
  },
  {
   "cell_type": "code",
   "execution_count": 221,
   "metadata": {},
   "outputs": [
    {
     "data": {
      "text/plain": [
       "array([1, 0], dtype=int64)"
      ]
     },
     "execution_count": 221,
     "metadata": {},
     "output_type": "execute_result"
    }
   ],
   "source": [
    "test_Data['Fire Audit'].unique()"
   ]
  },
  {
   "cell_type": "code",
   "execution_count": 222,
   "metadata": {},
   "outputs": [],
   "source": [
    "df_train['Fire Audit']=df_train['Fire Audit'].astype('object')\n",
    "test_Data['Fire Audit']=test_Data['Fire Audit'].astype('object')"
   ]
  },
  {
   "cell_type": "code",
   "execution_count": null,
   "metadata": {},
   "outputs": [],
   "source": []
  },
  {
   "cell_type": "code",
   "execution_count": 223,
   "metadata": {},
   "outputs": [
    {
     "data": {
      "text/plain": [
       "array([1, 0], dtype=int64)"
      ]
     },
     "execution_count": 223,
     "metadata": {},
     "output_type": "execute_result"
    }
   ],
   "source": [
    "df_train['Liquor License Obtained'].unique()"
   ]
  },
  {
   "cell_type": "code",
   "execution_count": 224,
   "metadata": {},
   "outputs": [
    {
     "data": {
      "text/plain": [
       "array([1, 0], dtype=int64)"
      ]
     },
     "execution_count": 224,
     "metadata": {},
     "output_type": "execute_result"
    }
   ],
   "source": [
    "test_Data['Liquor License Obtained'].unique()"
   ]
  },
  {
   "cell_type": "code",
   "execution_count": 225,
   "metadata": {},
   "outputs": [],
   "source": [
    "df_train['Liquor License Obtained']=df_train['Liquor License Obtained'].astype('object')\n",
    "test_Data['Liquor License Obtained']=test_Data['Liquor License Obtained'].astype('object')"
   ]
  },
  {
   "cell_type": "code",
   "execution_count": null,
   "metadata": {},
   "outputs": [],
   "source": []
  },
  {
   "cell_type": "code",
   "execution_count": 226,
   "metadata": {},
   "outputs": [
    {
     "data": {
      "text/plain": [
       "array([1, 0], dtype=int64)"
      ]
     },
     "execution_count": 226,
     "metadata": {},
     "output_type": "execute_result"
    }
   ],
   "source": [
    "df_train['Situated in a Multi Complex'].unique()"
   ]
  },
  {
   "cell_type": "code",
   "execution_count": 227,
   "metadata": {},
   "outputs": [
    {
     "data": {
      "text/plain": [
       "array([1, 0], dtype=int64)"
      ]
     },
     "execution_count": 227,
     "metadata": {},
     "output_type": "execute_result"
    }
   ],
   "source": [
    "test_Data['Situated in a Multi Complex'].unique()"
   ]
  },
  {
   "cell_type": "code",
   "execution_count": 228,
   "metadata": {},
   "outputs": [],
   "source": [
    "df_train['Situated in a Multi Complex']=df_train['Situated in a Multi Complex'].astype('object')\n",
    "test_Data['Situated in a Multi Complex']=test_Data['Situated in a Multi Complex'].astype('object')"
   ]
  },
  {
   "cell_type": "code",
   "execution_count": null,
   "metadata": {},
   "outputs": [],
   "source": []
  },
  {
   "cell_type": "code",
   "execution_count": 229,
   "metadata": {},
   "outputs": [
    {
     "data": {
      "text/plain": [
       "array([0, 1], dtype=int64)"
      ]
     },
     "execution_count": 229,
     "metadata": {},
     "output_type": "execute_result"
    }
   ],
   "source": [
    "df_train['Dedicated Parking'].unique()"
   ]
  },
  {
   "cell_type": "code",
   "execution_count": 230,
   "metadata": {},
   "outputs": [
    {
     "data": {
      "text/plain": [
       "array([1, 0], dtype=int64)"
      ]
     },
     "execution_count": 230,
     "metadata": {},
     "output_type": "execute_result"
    }
   ],
   "source": [
    "test_Data['Dedicated Parking'].unique()"
   ]
  },
  {
   "cell_type": "code",
   "execution_count": 231,
   "metadata": {},
   "outputs": [],
   "source": [
    "df_train['Dedicated Parking']=df_train['Dedicated Parking'].astype('object')\n",
    "test_Data['Dedicated Parking']=test_Data['Dedicated Parking'].astype('object')"
   ]
  },
  {
   "cell_type": "code",
   "execution_count": null,
   "metadata": {},
   "outputs": [],
   "source": []
  },
  {
   "cell_type": "code",
   "execution_count": 232,
   "metadata": {},
   "outputs": [
    {
     "data": {
      "text/plain": [
       "array([1, 0], dtype=int64)"
      ]
     },
     "execution_count": 232,
     "metadata": {},
     "output_type": "execute_result"
    }
   ],
   "source": [
    "df_train['Open Sitting Available'].unique()"
   ]
  },
  {
   "cell_type": "code",
   "execution_count": 233,
   "metadata": {},
   "outputs": [
    {
     "data": {
      "text/plain": [
       "array([0, 1], dtype=int64)"
      ]
     },
     "execution_count": 233,
     "metadata": {},
     "output_type": "execute_result"
    }
   ],
   "source": [
    "test_Data['Open Sitting Available'].unique()"
   ]
  },
  {
   "cell_type": "code",
   "execution_count": 234,
   "metadata": {},
   "outputs": [],
   "source": [
    "df_train['Open Sitting Available']=df_train['Open Sitting Available'].astype('object')\n",
    "test_Data['Open Sitting Available']=test_Data['Open Sitting Available'].astype('object')"
   ]
  },
  {
   "cell_type": "code",
   "execution_count": null,
   "metadata": {},
   "outputs": [],
   "source": []
  },
  {
   "cell_type": "code",
   "execution_count": 235,
   "metadata": {},
   "outputs": [
    {
     "data": {
      "text/plain": [
       "array([ 2.,  1., nan])"
      ]
     },
     "execution_count": 235,
     "metadata": {},
     "output_type": "execute_result"
    }
   ],
   "source": [
    "df_train['Resturant Tier'].unique()"
   ]
  },
  {
   "cell_type": "code",
   "execution_count": 236,
   "metadata": {},
   "outputs": [
    {
     "data": {
      "text/plain": [
       "array([2, 1], dtype=int64)"
      ]
     },
     "execution_count": 236,
     "metadata": {},
     "output_type": "execute_result"
    }
   ],
   "source": [
    "test_Data['Resturant Tier'].unique()"
   ]
  },
  {
   "cell_type": "code",
   "execution_count": 237,
   "metadata": {},
   "outputs": [],
   "source": [
    "df_train['Resturant Tier']=df_train['Resturant Tier'].astype('object')\n",
    "test_Data['Resturant Tier']=test_Data['Resturant Tier'].astype('object')"
   ]
  },
  {
   "cell_type": "raw",
   "metadata": {},
   "source": []
  },
  {
   "cell_type": "code",
   "execution_count": 238,
   "metadata": {},
   "outputs": [
    {
     "data": {
      "text/plain": [
       "array(['Bar', 'Caffee', 'Gastro Bar', 'Buffet/Family Restaurant'],\n",
       "      dtype=object)"
      ]
     },
     "execution_count": 238,
     "metadata": {},
     "output_type": "execute_result"
    }
   ],
   "source": [
    "df_train['Restaurant Type'].unique()"
   ]
  },
  {
   "cell_type": "code",
   "execution_count": 239,
   "metadata": {},
   "outputs": [
    {
     "data": {
      "text/plain": [
       "array(['Bar', 'Gastro Bar', 'Caffee', 'Buffet/Family Restaurant'],\n",
       "      dtype=object)"
      ]
     },
     "execution_count": 239,
     "metadata": {},
     "output_type": "execute_result"
    }
   ],
   "source": [
    "test_Data['Restaurant Type'].unique()"
   ]
  },
  {
   "cell_type": "raw",
   "metadata": {},
   "source": []
  },
  {
   "cell_type": "code",
   "execution_count": 240,
   "metadata": {},
   "outputs": [
    {
     "data": {
      "text/plain": [
       "array([3, 0, 4, 2, 1, 5], dtype=int64)"
      ]
     },
     "execution_count": 240,
     "metadata": {},
     "output_type": "execute_result"
    }
   ],
   "source": [
    "df_train['Restaurant Zomato Rating'].unique()"
   ]
  },
  {
   "cell_type": "code",
   "execution_count": 241,
   "metadata": {},
   "outputs": [
    {
     "data": {
      "text/plain": [
       "array([3, 4, 2, 5, 1], dtype=int64)"
      ]
     },
     "execution_count": 241,
     "metadata": {},
     "output_type": "execute_result"
    }
   ],
   "source": [
    "test_Data['Restaurant Zomato Rating'].unique()"
   ]
  },
  {
   "cell_type": "raw",
   "metadata": {},
   "source": [
    "df_train['Restaurant Zomato Rating']=df_train['Restaurant Zomato Rating'].astype('object')\n",
    "test_Data['Restaurant Zomato Rating']=test_Data['Restaurant Zomato Rating'].astype('object')"
   ]
  },
  {
   "cell_type": "code",
   "execution_count": null,
   "metadata": {},
   "outputs": [],
   "source": []
  },
  {
   "cell_type": "code",
   "execution_count": 242,
   "metadata": {},
   "outputs": [
    {
     "data": {
      "text/plain": [
       "array([0, 1], dtype=int64)"
      ]
     },
     "execution_count": 242,
     "metadata": {},
     "output_type": "execute_result"
    }
   ],
   "source": [
    "df_train['Restaurant City Tier'].unique()"
   ]
  },
  {
   "cell_type": "code",
   "execution_count": 243,
   "metadata": {},
   "outputs": [],
   "source": [
    "df_train['Restaurant City Tier']=df_train['Restaurant City Tier'].astype('object')\n",
    "test_Data['Restaurant City Tier']=test_Data['Restaurant City Tier'].astype('object')"
   ]
  },
  {
   "cell_type": "code",
   "execution_count": null,
   "metadata": {},
   "outputs": [],
   "source": []
  },
  {
   "cell_type": "code",
   "execution_count": 244,
   "metadata": {},
   "outputs": [
    {
     "data": {
      "text/plain": [
       "array([ 2,  6,  7, 10,  8,  4,  9,  1,  3,  5], dtype=int64)"
      ]
     },
     "execution_count": 244,
     "metadata": {},
     "output_type": "execute_result"
    }
   ],
   "source": [
    "df_train['Order Wait Time'].unique()"
   ]
  },
  {
   "cell_type": "code",
   "execution_count": 245,
   "metadata": {},
   "outputs": [
    {
     "data": {
      "text/plain": [
       "array([10,  6,  7,  1,  5,  2,  3,  9,  4,  8], dtype=int64)"
      ]
     },
     "execution_count": 245,
     "metadata": {},
     "output_type": "execute_result"
    }
   ],
   "source": [
    "test_Data['Order Wait Time'].unique()"
   ]
  },
  {
   "cell_type": "code",
   "execution_count": 367,
   "metadata": {},
   "outputs": [],
   "source": [
    "df_train['Order Wait Time']=df_train['Order Wait Time'].astype('object')\n",
    "test_Data['Order Wait Time']=test_Data['Order Wait Time'].astype('object')"
   ]
  },
  {
   "cell_type": "code",
   "execution_count": null,
   "metadata": {},
   "outputs": [],
   "source": []
  },
  {
   "cell_type": "code",
   "execution_count": 246,
   "metadata": {},
   "outputs": [
    {
     "data": {
      "text/plain": [
       "array([5, 6, 4, 3, 7, 2, 8, 1], dtype=int64)"
      ]
     },
     "execution_count": 246,
     "metadata": {},
     "output_type": "execute_result"
    }
   ],
   "source": [
    "df_train['Staff Responsivness'].unique()"
   ]
  },
  {
   "cell_type": "code",
   "execution_count": 247,
   "metadata": {},
   "outputs": [
    {
     "data": {
      "text/plain": [
       "array([5, 4, 6, 3, 7, 2], dtype=int64)"
      ]
     },
     "execution_count": 247,
     "metadata": {},
     "output_type": "execute_result"
    }
   ],
   "source": [
    "test_Data['Staff Responsivness'].unique()"
   ]
  },
  {
   "cell_type": "raw",
   "metadata": {},
   "source": [
    "df_train['Staff Responsivness']=df_train['Staff Responsivness'].astype('object')\n",
    "test_Data['Staff Responsivness']=test_Data['Staff Responsivness'].astype('object')"
   ]
  },
  {
   "cell_type": "code",
   "execution_count": null,
   "metadata": {},
   "outputs": [],
   "source": []
  },
  {
   "cell_type": "code",
   "execution_count": 248,
   "metadata": {},
   "outputs": [
    {
     "data": {
      "text/plain": [
       "array([5, 6, 4, 3, 2, 7, 1], dtype=int64)"
      ]
     },
     "execution_count": 248,
     "metadata": {},
     "output_type": "execute_result"
    }
   ],
   "source": [
    "df_train['Value for Money'].unique()"
   ]
  },
  {
   "cell_type": "code",
   "execution_count": 249,
   "metadata": {},
   "outputs": [
    {
     "data": {
      "text/plain": [
       "array([3, 5, 6, 4, 2, 7], dtype=int64)"
      ]
     },
     "execution_count": 249,
     "metadata": {},
     "output_type": "execute_result"
    }
   ],
   "source": [
    "test_Data['Value for Money'].unique()"
   ]
  },
  {
   "cell_type": "code",
   "execution_count": null,
   "metadata": {},
   "outputs": [],
   "source": []
  },
  {
   "cell_type": "code",
   "execution_count": 250,
   "metadata": {},
   "outputs": [
    {
     "data": {
      "text/plain": [
       "array([5, 7, 3, 6, 4, 2, 8, 1, 9], dtype=int64)"
      ]
     },
     "execution_count": 250,
     "metadata": {},
     "output_type": "execute_result"
    }
   ],
   "source": [
    "df_train['Hygiene Rating'].unique()"
   ]
  },
  {
   "cell_type": "code",
   "execution_count": 251,
   "metadata": {},
   "outputs": [
    {
     "data": {
      "text/plain": [
       "array([5, 6, 7, 4, 3, 2, 8, 1], dtype=int64)"
      ]
     },
     "execution_count": 251,
     "metadata": {},
     "output_type": "execute_result"
    }
   ],
   "source": [
    "test_Data['Hygiene Rating'].unique()"
   ]
  },
  {
   "cell_type": "code",
   "execution_count": null,
   "metadata": {},
   "outputs": [],
   "source": []
  },
  {
   "cell_type": "code",
   "execution_count": 252,
   "metadata": {},
   "outputs": [
    {
     "data": {
      "text/plain": [
       "array([ 4., nan,  3.,  6.,  7.,  5.,  1.,  8.,  2.])"
      ]
     },
     "execution_count": 252,
     "metadata": {},
     "output_type": "execute_result"
    }
   ],
   "source": [
    "df_train['Live Music Rating'].unique()"
   ]
  },
  {
   "cell_type": "code",
   "execution_count": 253,
   "metadata": {},
   "outputs": [
    {
     "data": {
      "text/plain": [
       "array([nan,  3.,  6.,  4.,  2.,  5.,  7.,  1.])"
      ]
     },
     "execution_count": 253,
     "metadata": {},
     "output_type": "execute_result"
    }
   ],
   "source": [
    "test_Data['Live Music Rating'].unique()"
   ]
  },
  {
   "cell_type": "code",
   "execution_count": null,
   "metadata": {},
   "outputs": [],
   "source": []
  },
  {
   "cell_type": "code",
   "execution_count": 254,
   "metadata": {},
   "outputs": [
    {
     "data": {
      "text/plain": [
       "array([ 8.,  5.,  7., nan,  6., 10.,  4.,  2.,  9.,  0.,  1.,  3.])"
      ]
     },
     "execution_count": 254,
     "metadata": {},
     "output_type": "execute_result"
    }
   ],
   "source": [
    "df_train['Ambience'].unique()"
   ]
  },
  {
   "cell_type": "code",
   "execution_count": 255,
   "metadata": {},
   "outputs": [
    {
     "data": {
      "text/plain": [
       "array([ 5,  7,  9,  6,  4,  8, 10,  1,  2,  0,  3], dtype=int64)"
      ]
     },
     "execution_count": 255,
     "metadata": {},
     "output_type": "execute_result"
    }
   ],
   "source": [
    "test_Data['Ambience'].unique()"
   ]
  },
  {
   "cell_type": "code",
   "execution_count": null,
   "metadata": {},
   "outputs": [],
   "source": []
  },
  {
   "cell_type": "code",
   "execution_count": 256,
   "metadata": {},
   "outputs": [
    {
     "data": {
      "text/plain": [
       "array([ 8,  7, 10,  6,  5,  9,  2,  3,  4,  1,  0], dtype=int64)"
      ]
     },
     "execution_count": 256,
     "metadata": {},
     "output_type": "execute_result"
    }
   ],
   "source": [
    "df_train['Lively'].unique()"
   ]
  },
  {
   "cell_type": "code",
   "execution_count": 257,
   "metadata": {},
   "outputs": [
    {
     "data": {
      "text/plain": [
       "array([ 2,  8,  7,  4,  6,  5, 10,  9,  3,  0,  1], dtype=int64)"
      ]
     },
     "execution_count": 257,
     "metadata": {},
     "output_type": "execute_result"
    }
   ],
   "source": [
    "test_Data['Lively'].unique()"
   ]
  },
  {
   "cell_type": "code",
   "execution_count": 368,
   "metadata": {},
   "outputs": [],
   "source": [
    "df_train['Lively']=df_train['Lively'].astype('object')\n",
    "test_Data['Lively']=test_Data['Lively'].astype('object')"
   ]
  },
  {
   "cell_type": "code",
   "execution_count": null,
   "metadata": {},
   "outputs": [],
   "source": []
  },
  {
   "cell_type": "code",
   "execution_count": 258,
   "metadata": {},
   "outputs": [
    {
     "data": {
      "text/plain": [
       "array([ 6,  7,  5,  4,  2,  0,  3,  1,  9,  8, 10], dtype=int64)"
      ]
     },
     "execution_count": 258,
     "metadata": {},
     "output_type": "execute_result"
    }
   ],
   "source": [
    "df_train['Service'].unique()"
   ]
  },
  {
   "cell_type": "code",
   "execution_count": 259,
   "metadata": {},
   "outputs": [
    {
     "data": {
      "text/plain": [
       "array([ 2,  5,  6,  7,  3,  4,  8,  1,  9, 10,  0], dtype=int64)"
      ]
     },
     "execution_count": 259,
     "metadata": {},
     "output_type": "execute_result"
    }
   ],
   "source": [
    "test_Data['Service'].unique()"
   ]
  },
  {
   "cell_type": "code",
   "execution_count": 369,
   "metadata": {},
   "outputs": [],
   "source": [
    "df_train['Service']=df_train['Service'].astype('object')\n",
    "test_Data['Service']=test_Data['Service'].astype('object')"
   ]
  },
  {
   "cell_type": "code",
   "execution_count": null,
   "metadata": {},
   "outputs": [],
   "source": []
  },
  {
   "cell_type": "code",
   "execution_count": 260,
   "metadata": {},
   "outputs": [
    {
     "data": {
      "text/plain": [
       "array([ 6,  1,  4,  7,  5,  8,  2,  3,  0, 10,  9], dtype=int64)"
      ]
     },
     "execution_count": 260,
     "metadata": {},
     "output_type": "execute_result"
    }
   ],
   "source": [
    "test_Data['Comfortablility'].unique()"
   ]
  },
  {
   "cell_type": "code",
   "execution_count": 261,
   "metadata": {},
   "outputs": [
    {
     "data": {
      "text/plain": [
       "array([ 6,  3,  2,  4,  0,  5,  7,  1,  9,  8, 10], dtype=int64)"
      ]
     },
     "execution_count": 261,
     "metadata": {},
     "output_type": "execute_result"
    }
   ],
   "source": [
    "df_train['Comfortablility'].unique()"
   ]
  },
  {
   "cell_type": "code",
   "execution_count": 370,
   "metadata": {},
   "outputs": [],
   "source": [
    "df_train['Comfortablility']=df_train['Comfortablility'].astype('object')\n",
    "test_Data['Comfortablility']=test_Data['Comfortablility'].astype('object')"
   ]
  },
  {
   "cell_type": "code",
   "execution_count": null,
   "metadata": {},
   "outputs": [],
   "source": []
  },
  {
   "cell_type": "code",
   "execution_count": 262,
   "metadata": {},
   "outputs": [
    {
     "data": {
      "text/plain": [
       "array([ 6,  8,  5,  4,  9,  7,  1,  0, 10,  3,  2], dtype=int64)"
      ]
     },
     "execution_count": 262,
     "metadata": {},
     "output_type": "execute_result"
    }
   ],
   "source": [
    "df_train['Privacy'].unique()"
   ]
  },
  {
   "cell_type": "code",
   "execution_count": 263,
   "metadata": {},
   "outputs": [
    {
     "data": {
      "text/plain": [
       "array([ 0,  8,  5,  7,  3,  9,  4,  6, 10,  2,  1], dtype=int64)"
      ]
     },
     "execution_count": 263,
     "metadata": {},
     "output_type": "execute_result"
    }
   ],
   "source": [
    "test_Data['Privacy'].unique()"
   ]
  },
  {
   "cell_type": "code",
   "execution_count": 371,
   "metadata": {},
   "outputs": [],
   "source": [
    "df_train['Privacy']=df_train['Privacy'].astype('object')\n",
    "test_Data['Privacy']=test_Data['Privacy'].astype('object')"
   ]
  },
  {
   "cell_type": "code",
   "execution_count": null,
   "metadata": {},
   "outputs": [],
   "source": []
  },
  {
   "cell_type": "code",
   "execution_count": 264,
   "metadata": {},
   "outputs": [],
   "source": [
    "target=df_train['Annual Turnover']\n",
    "df_train.drop('Annual Turnover',axis=1,inplace=True)"
   ]
  },
  {
   "cell_type": "code",
   "execution_count": null,
   "metadata": {},
   "outputs": [],
   "source": []
  },
  {
   "cell_type": "code",
   "execution_count": 266,
   "metadata": {},
   "outputs": [],
   "source": [
    "df_train['City']=df_train['City'].str.upper()\n",
    "test_Data['City']=test_Data['City'].str.upper()\n",
    "\n",
    "df_train['City'] = df_train['City'].replace(['BANGALORE '],'BANGALORE')\n",
    "test_Data['City'] = test_Data['City'].replace(['BANGLORE'],'BANGALORE')\n",
    "test_Data['City'] = test_Data['City'].replace(['BANGALORE '],'BANGALORE')\n",
    "\n",
    "\n",
    "df_train['City'] = df_train['City'].replace(['GREATER NOIDA'],'NOIDA')\n",
    "test_Data['City'] = test_Data['City'].replace(['GREATER NOIDA'],'NOIDA')\n",
    "\n",
    "df_train['City'] = df_train['City'].replace(['BANGALORE '],'BANGALORE')\n",
    "test_Data['City'] = test_Data['City'].replace(['BANGLORE'],'BANGALORE')\n",
    "\n",
    "df_train['City'] = df_train['City'].replace(['NAVI MUMBAI'],'MUMBAI')\n",
    "test_Data['City'] = test_Data['City'].replace(['NAVI MUMBAI'],'MUMBAI')\n",
    "\n",
    "df_train['City'] = df_train['City'].replace(['-1'],'OTHERS')\n",
    "test_Data['City'] = test_Data['City'].replace(['-1'],'OTHERS')\n",
    "\n",
    "test_Data['City'] = test_Data['City'].replace(['BHUBANESWAR'],'BHUBANESHWAR')\n",
    "\n",
    "test_Data['City'] = test_Data['City'].replace([' MUMBAI'],'MUMBAI')\n",
    "\n",
    "\n",
    "df_train['City'] = df_train['City'].replace(['BHUBANESWAR'],'BHUBANESHWAR')\n",
    "df_train['City'] = df_train['City'].replace(['NEW DELHI'],'DELHI')\n"
   ]
  },
  {
   "cell_type": "code",
   "execution_count": 267,
   "metadata": {},
   "outputs": [
    {
     "data": {
      "text/plain": [
       "Index(['BANGALORE', 'OTHERS', 'NOIDA', 'HYDERABAD', 'PUNE', 'CHENNAI', 'DELHI',\n",
       "       'GURGAON', 'MUMBAI', 'KOLKATA', 'JAIPUR', 'MYSORE', 'LUCKNOW',\n",
       "       'BHUBANESHWAR', 'INDORE', 'CHANDIGARH', 'COIMBATORE', 'FARIDABAD',\n",
       "       'BHOPAL', 'GHAZIABAD', 'AHMEDABAD', 'KOCHI/COCHIN'],\n",
       "      dtype='object')"
      ]
     },
     "execution_count": 267,
     "metadata": {},
     "output_type": "execute_result"
    }
   ],
   "source": [
    "df=pd.DataFrame(df_train['City'].value_counts())\n",
    "df[df['City']>10].index"
   ]
  },
  {
   "cell_type": "code",
   "execution_count": 268,
   "metadata": {},
   "outputs": [],
   "source": [
    "l=['BANGALORE', 'OTHERS', 'NOIDA', 'HYDERABAD', 'PUNE', 'CHENNAI', 'DELHI',\n",
    "       'GURGAON', 'KOLKATA', 'MUMBAI', 'JAIPUR', 'MYSORE', 'LUCKNOW',\n",
    "       'BHUBANESHWAR', 'INDORE', 'CHANDIGARH', 'COIMBATORE',\n",
    "       'FARIDABAD', 'BHOPAL', 'AHMEDABAD','KOCHI/COCHIN']"
   ]
  },
  {
   "cell_type": "code",
   "execution_count": 269,
   "metadata": {},
   "outputs": [
    {
     "data": {
      "text/plain": [
       "Index(['BANGALORE', 'OTHERS', 'NOIDA', 'HYDERABAD', 'PUNE', 'MUMBAI',\n",
       "       'CHENNAI', 'GURGAON', 'NEW DELHI', 'KOLKATA', 'JAIPUR', 'LUCKNOW',\n",
       "       'BHUBANESHWAR', 'CHANDIGARH', 'COIMBATORE', 'MYSORE', 'NAGPUR',\n",
       "       'AHMEDABAD', 'INDORE', 'MOHALI', 'DELHI', 'MEERUT', 'KANPUR',\n",
       "       'GURGAON ', 'DEHRADUN', 'RAIPUR', 'FARIDABAD', 'BHOPAL'],\n",
       "      dtype='object')"
      ]
     },
     "execution_count": 269,
     "metadata": {},
     "output_type": "execute_result"
    }
   ],
   "source": [
    "df2=pd.DataFrame(test_Data['City'].value_counts())\n",
    "df2[df2['City']>1].index"
   ]
  },
  {
   "cell_type": "code",
   "execution_count": 270,
   "metadata": {},
   "outputs": [],
   "source": [
    "k2=[]\n",
    "k=list(df_train['City'])\n",
    "for i in range(len(k)):\n",
    "    if k[i] in l:\n",
    "        k2.append(k[i])\n",
    "    else:\n",
    "        k2.append('OTHERS')\n",
    "df_train['City']=k2\n",
    "\n",
    "k2=[]\n",
    "k=list(test_Data['City'])\n",
    "for i in range(len(k)):\n",
    "    if k[i] in l:\n",
    "        k2.append(k[i])\n",
    "    else:\n",
    "        k2.append('OTHERS')\n",
    "test_Data['City']=k2\n",
    "    "
   ]
  },
  {
   "cell_type": "code",
   "execution_count": 271,
   "metadata": {},
   "outputs": [],
   "source": [
    "city_test_dummy=pd.get_dummies(test_Data['City'],drop_first=True)\n",
    "city_dummy=pd.get_dummies(df_train['City'],drop_first=True)"
   ]
  },
  {
   "cell_type": "code",
   "execution_count": 272,
   "metadata": {},
   "outputs": [
    {
     "data": {
      "text/plain": [
       "(500, 20)"
      ]
     },
     "execution_count": 272,
     "metadata": {},
     "output_type": "execute_result"
    }
   ],
   "source": [
    "city_test_dummy.shape"
   ]
  },
  {
   "cell_type": "code",
   "execution_count": 273,
   "metadata": {},
   "outputs": [
    {
     "data": {
      "text/plain": [
       "(3493, 20)"
      ]
     },
     "execution_count": 273,
     "metadata": {},
     "output_type": "execute_result"
    }
   ],
   "source": [
    "city_dummy.shape"
   ]
  },
  {
   "cell_type": "code",
   "execution_count": null,
   "metadata": {},
   "outputs": [],
   "source": []
  },
  {
   "cell_type": "code",
   "execution_count": 274,
   "metadata": {},
   "outputs": [],
   "source": [
    "df_train['Cuisine']=df_train['Cuisine'].str.upper()\n",
    "\n",
    "test_Data['Cuisine']=test_Data['Cuisine'].str.upper()"
   ]
  },
  {
   "cell_type": "code",
   "execution_count": 275,
   "metadata": {},
   "outputs": [
    {
     "data": {
      "text/plain": [
       "array(['INDIAN', 'TIBETAN', 'TURKISH', 'IRISH', 'CHINESE', 'ALGERIAN',\n",
       "       'WELSH', 'PERUVIAN', 'JAPANESE', 'BRITISH', 'NIGERIAN', 'POLISH',\n",
       "       'CUBAN', 'SWEDISH', 'HAWAIIAN'], dtype=object)"
      ]
     },
     "execution_count": 275,
     "metadata": {},
     "output_type": "execute_result"
    }
   ],
   "source": [
    "cuisine= df_train[\"Cuisine\"]. str. split(\",\", n = 1, expand = True)\n",
    "cuisine[0].unique()"
   ]
  },
  {
   "cell_type": "code",
   "execution_count": 276,
   "metadata": {},
   "outputs": [
    {
     "data": {
      "text/plain": [
       "array(['IRISH', 'ITALIAN', 'NIGERIAN', 'BELGIAN', 'GREEK', 'SALVADORIAN',\n",
       "       'THAI', 'CUBAN', 'JAPANESE', 'CAJUN', 'ALGERIAN', 'JEWISH',\n",
       "       'BRITISH', 'KOREAN', 'SAPNISH', 'LATVIAN'], dtype=object)"
      ]
     },
     "execution_count": 276,
     "metadata": {},
     "output_type": "execute_result"
    }
   ],
   "source": [
    "cuisine[1].unique()"
   ]
  },
  {
   "cell_type": "code",
   "execution_count": 277,
   "metadata": {},
   "outputs": [],
   "source": [
    "col=[]\n",
    "col=list(cuisine[0].drop_duplicates())\n",
    "\n",
    "for i in cuisine[1]:\n",
    "    if i not in col:\n",
    "        col.append(i)\n",
    "\n",
    "cuisine_dummy=pd.DataFrame(columns=col)\n",
    "\n",
    "for i in col:\n",
    "    k=[]\n",
    "    for j in range(len(cuisine)):\n",
    "        if i==cuisine[0].iloc[j] or i ==cuisine[1].iloc[j]:\n",
    "            k.append(1)\n",
    "        else:\n",
    "            k.append(0)\n",
    "    cuisine_dummy[i]=k"
   ]
  },
  {
   "cell_type": "code",
   "execution_count": 278,
   "metadata": {},
   "outputs": [],
   "source": [
    "cuisine_test= test_Data[\"Cuisine\"]. str. split(\",\", n = 1, expand = True)\n",
    "col=[]\n",
    "col=list(cuisine_test[0].drop_duplicates())\n",
    "\n",
    "for i in cuisine_test[1]:\n",
    "    if i not in col:\n",
    "        col.append(i)\n",
    "\n",
    "cuisine_test_dummy=pd.DataFrame(columns=col)\n",
    "\n",
    "for i in col:\n",
    "    k=[]\n",
    "    for j in range(len(cuisine_test)):\n",
    "        if i==cuisine_test[0].iloc[j] or i ==cuisine_test[1].iloc[j]:\n",
    "            k.append(1)\n",
    "        else:\n",
    "            k.append(0)\n",
    "    cuisine_test_dummy[i]=k"
   ]
  },
  {
   "cell_type": "code",
   "execution_count": null,
   "metadata": {},
   "outputs": [],
   "source": []
  },
  {
   "cell_type": "code",
   "execution_count": 279,
   "metadata": {},
   "outputs": [],
   "source": [
    "df_train.drop(['City','Cuisine'],axis=1,inplace=True)\n",
    "test_Data.drop(['City','Cuisine'],axis=1,inplace=True)"
   ]
  },
  {
   "cell_type": "code",
   "execution_count": null,
   "metadata": {},
   "outputs": [],
   "source": []
  },
  {
   "cell_type": "raw",
   "metadata": {},
   "source": [
    "k=['Arabian','Greek',\"90's\",'Nature','Parsi','Chinese']\n",
    "l=[]\n",
    "for i in df_train['Restaurant Theme']:\n",
    "    if i not in k:\n",
    "        l.append('Others')\n",
    "    else:\n",
    "        l.append(i)\n",
    "df_train['Restaurant Theme']=l\n",
    "\n",
    "l=[]\n",
    "for i in test_Data['Restaurant Theme']:\n",
    "    if i not in k:\n",
    "        l.append('Others')\n",
    "    else:\n",
    "        l.append(i)\n",
    "test_Data['Restaurant Theme']=l"
   ]
  },
  {
   "cell_type": "code",
   "execution_count": 374,
   "metadata": {},
   "outputs": [
    {
     "name": "stdout",
     "output_type": "stream",
     "text": [
      "<class 'pandas.core.frame.DataFrame'>\n",
      "RangeIndex: 3493 entries, 0 to 3492\n",
      "Data columns (total 30 columns):\n",
      " #   Column                         Non-Null Count  Dtype  \n",
      "---  ------                         --------------  -----  \n",
      " 0   Restaurant Location            3493 non-null   object \n",
      " 1   Facebook Popularity Quotient   3394 non-null   float64\n",
      " 2   Endorsed By                    3493 non-null   object \n",
      " 3   Instagram Popularity Quotient  3437 non-null   float64\n",
      " 4   Fire Audit                     3493 non-null   object \n",
      " 5   Liquor License Obtained        3493 non-null   object \n",
      " 6   Situated in a Multi Complex    3493 non-null   object \n",
      " 7   Dedicated Parking              3493 non-null   object \n",
      " 8   Open Sitting Available         3493 non-null   object \n",
      " 9   Resturant Tier                 3444 non-null   object \n",
      " 10  Restaurant Type                3493 non-null   object \n",
      " 11  Restaurant Zomato Rating       3493 non-null   int64  \n",
      " 12  Restaurant City Tier           3493 non-null   object \n",
      " 13  Order Wait Time                3493 non-null   object \n",
      " 14  Staff Responsivness            3493 non-null   int64  \n",
      " 15  Value for Money                3493 non-null   int64  \n",
      " 16  Hygiene Rating                 3493 non-null   int64  \n",
      " 17  Food Rating                    3493 non-null   int64  \n",
      " 18  Overall Restaurant Rating      3281 non-null   float64\n",
      " 19  Live Music Rating              2728 non-null   float64\n",
      " 20  Ambience                       3468 non-null   float64\n",
      " 21  Lively                         3493 non-null   object \n",
      " 22  Service                        3493 non-null   object \n",
      " 23  Comfortablility                3493 non-null   object \n",
      " 24  Privacy                        3493 non-null   object \n",
      " 25  cuisine1                       3493 non-null   object \n",
      " 26  cuisine2                       3493 non-null   object \n",
      " 27  day                            3493 non-null   int64  \n",
      " 28  years_old                      3493 non-null   float64\n",
      " 29  opening_month                  3493 non-null   object \n",
      "dtypes: float64(6), int64(6), object(18)\n",
      "memory usage: 818.8+ KB\n"
     ]
    }
   ],
   "source": [
    "df_train.info()"
   ]
  },
  {
   "cell_type": "raw",
   "metadata": {},
   "source": [
    "test_Data.info()"
   ]
  },
  {
   "cell_type": "code",
   "execution_count": 375,
   "metadata": {},
   "outputs": [
    {
     "data": {
      "text/plain": [
       "array([10.,  9.,  8.,  6., nan,  7.])"
      ]
     },
     "execution_count": 375,
     "metadata": {},
     "output_type": "execute_result"
    }
   ],
   "source": [
    "df_train['Overall Restaurant Rating'].unique()"
   ]
  },
  {
   "cell_type": "code",
   "execution_count": null,
   "metadata": {},
   "outputs": [],
   "source": []
  },
  {
   "cell_type": "code",
   "execution_count": 281,
   "metadata": {},
   "outputs": [
    {
     "data": {
      "text/plain": [
       "<matplotlib.axes._subplots.AxesSubplot at 0x1b4118e0310>"
      ]
     },
     "execution_count": 281,
     "metadata": {},
     "output_type": "execute_result"
    },
    {
     "data": {
      "image/png": "[encoded data removed]",
      "text/plain": [
       "<Figure size 432x288 with 1 Axes>"
      ]
     },
     "metadata": {
      "needs_background": "light"
     },
     "output_type": "display_data"
    }
   ],
   "source": [
    "sns.distplot(df_train['years_old'])"
   ]
  },
  {
   "cell_type": "code",
   "execution_count": 282,
   "metadata": {},
   "outputs": [
    {
     "data": {
      "text/plain": [
       "11    850\n",
       "10    727\n",
       "12    691\n",
       "13    446\n",
       "14    283\n",
       "9     264\n",
       "15    111\n",
       "16     50\n",
       "8      26\n",
       "17     23\n",
       "18     11\n",
       "19      5\n",
       "20      2\n",
       "21      1\n",
       "7       1\n",
       "5       1\n",
       "25      1\n",
       "Name: years_old, dtype: int64"
      ]
     },
     "execution_count": 282,
     "metadata": {},
     "output_type": "execute_result"
    }
   ],
   "source": [
    "df_train['years_old'].value_counts()"
   ]
  },
  {
   "cell_type": "code",
   "execution_count": 290,
   "metadata": {},
   "outputs": [
    {
     "data": {
      "text/plain": [
       "0.8688144387518435"
      ]
     },
     "execution_count": 290,
     "metadata": {},
     "output_type": "execute_result"
    }
   ],
   "source": [
    "test_Data['years_old'].skew()"
   ]
  },
  {
   "cell_type": "code",
   "execution_count": 291,
   "metadata": {},
   "outputs": [],
   "source": [
    "df_train['years_old']=np.log(df_train['years_old'])\n",
    "test_Data['years_old']=np.log(test_Data['years_old'])"
   ]
  },
  {
   "cell_type": "raw",
   "metadata": {},
   "source": [
    "cubing the values to reduce the skewness"
   ]
  },
  {
   "cell_type": "code",
   "execution_count": 312,
   "metadata": {},
   "outputs": [],
   "source": [
    "cube=sc.fit_transform(df_train[['Facebook Popularity Quotient']]**3)\n",
    "df_train['Facebook Popularity Quotient']=pd.DataFrame(cube)[0]"
   ]
  },
  {
   "cell_type": "code",
   "execution_count": 313,
   "metadata": {},
   "outputs": [],
   "source": [
    "cube=sc.fit_transform(test_Data[['Facebook Popularity Quotient']]**3)\n",
    "test_Data['Facebook Popularity Quotient']=pd.DataFrame(cube)[0]"
   ]
  },
  {
   "cell_type": "code",
   "execution_count": null,
   "metadata": {},
   "outputs": [],
   "source": []
  },
  {
   "cell_type": "code",
   "execution_count": 366,
   "metadata": {},
   "outputs": [
    {
     "data": {
      "text/plain": [
       "array([ 2,  9,  7, 11,  6,  1,  5, 12,  8, 10,  3,  4], dtype=int64)"
      ]
     },
     "execution_count": 366,
     "metadata": {},
     "output_type": "execute_result"
    }
   ],
   "source": [
    "df_train['opening_month'].unique()"
   ]
  },
  {
   "cell_type": "code",
   "execution_count": 365,
   "metadata": {},
   "outputs": [
    {
     "data": {
      "text/plain": [
       "array([ 7,  5, 12,  1, 10,  3,  4,  8,  6,  9, 11,  2], dtype=int64)"
      ]
     },
     "execution_count": 365,
     "metadata": {},
     "output_type": "execute_result"
    }
   ],
   "source": [
    "test_Data['opening_month'].unique()"
   ]
  },
  {
   "cell_type": "code",
   "execution_count": 373,
   "metadata": {},
   "outputs": [],
   "source": [
    "df_train['opening_month']=df_train['opening_month'].astype('object')\n",
    "test_Data['opening_month']=test_Data['opening_month'].astype('object')"
   ]
  },
  {
   "cell_type": "code",
   "execution_count": 314,
   "metadata": {},
   "outputs": [],
   "source": [
    "from sklearn.impute import KNNImputer\n",
    "knnimpute=KNNImputer(n_neighbors=5)"
   ]
  },
  {
   "cell_type": "code",
   "execution_count": 334,
   "metadata": {},
   "outputs": [],
   "source": [
    "cat_dummy=pd.get_dummies(df_train.select_dtypes(include='object'),drop_first=True)\n",
    "\n",
    "num=df_train.select_dtypes(include=np.number)\n",
    "X0=pd.concat([city_dummy,theme_dummy,cuisine_dummy,cat_dummy,num],axis=1)\n",
    "y=target"
   ]
  },
  {
   "cell_type": "code",
   "execution_count": 335,
   "metadata": {},
   "outputs": [],
   "source": [
    "X=knnimpute.fit_transform(X0)"
   ]
  },
  {
   "cell_type": "code",
   "execution_count": 336,
   "metadata": {},
   "outputs": [],
   "source": [
    "cat_dummy_test=pd.get_dummies(test_Data.select_dtypes(include='object'),drop_first=True)\n",
    "\n",
    "num_test=test_Data.select_dtypes(include=np.number)\n",
    "X0_test=pd.concat([city_test_dummy,theme_dummy_test,cuisine_test_dummy,cat_dummy_test,num_test\n",
    "                  ],axis=1)\n",
    "test_X=knnimpute.transform(X0_test)"
   ]
  },
  {
   "cell_type": "raw",
   "metadata": {},
   "source": [
    "d_train=knnimputer.fit_transform(df_train)\n",
    "d_test=knnimputer.transform(test_Data)"
   ]
  },
  {
   "cell_type": "code",
   "execution_count": 338,
   "metadata": {},
   "outputs": [
    {
     "data": {
      "text/plain": [
       "(3493, 139)"
      ]
     },
     "execution_count": 338,
     "metadata": {},
     "output_type": "execute_result"
    }
   ],
   "source": [
    "X.shape"
   ]
  },
  {
   "cell_type": "code",
   "execution_count": 337,
   "metadata": {},
   "outputs": [
    {
     "data": {
      "text/plain": [
       "(500, 139)"
      ]
     },
     "execution_count": 337,
     "metadata": {},
     "output_type": "execute_result"
    }
   ],
   "source": [
    "test_X.shape"
   ]
  },
  {
   "cell_type": "raw",
   "metadata": {},
   "source": [
    "categorical=df_train.select_dtypes(include='object')\n",
    "number=df_train.select_dtypes(include=np.number)\n",
    "\n",
    "dummy_categorical=pd.get_dummies(categorical,drop_first=True)\n",
    "\n",
    "sc_number=sc.fit_transform(number)\n",
    "sc_number=pd.DataFrame(sc_number,columns=number.columns)\n",
    "\n",
    "X0=pd.concat([dummy_categorical,sc_number],axis=1)\n",
    "y=target"
   ]
  },
  {
   "cell_type": "raw",
   "metadata": {},
   "source": [
    "X=knnimputer.fit_transform(X0)"
   ]
  },
  {
   "cell_type": "raw",
   "metadata": {},
   "source": [
    "#test data\n",
    "categorical_test=test_Data.select_dtypes(include='object')\n",
    "number_test=test_Data.select_dtypes(include=np.number)\n",
    "dummy_categorical_test=pd.get_dummies(categorical_test,drop_first=True)\n",
    "\n",
    "sc_number_test=sc.transform(number_test)\n",
    "sc_number_test=pd.DataFrame(sc_number_test,columns=number.columns)\n",
    "\n",
    "X0_test=pd.concat([dummy_categorical_test,sc_number_test],axis=1)\n",
    "\n",
    "\n",
    "X_test_set=knnimputer.transform(X0_test)"
   ]
  },
  {
   "cell_type": "code",
   "execution_count": 124,
   "metadata": {},
   "outputs": [
    {
     "data": {
      "text/plain": [
       "(13972, 104)"
      ]
     },
     "execution_count": 124,
     "metadata": {},
     "output_type": "execute_result"
    }
   ],
   "source": [
    "X.shape"
   ]
  },
  {
   "cell_type": "code",
   "execution_count": 126,
   "metadata": {},
   "outputs": [
    {
     "data": {
      "text/plain": [
       "(4993, 104)"
      ]
     },
     "execution_count": 126,
     "metadata": {},
     "output_type": "execute_result"
    }
   ],
   "source": [
    "test_X.shape"
   ]
  },
  {
   "cell_type": "code",
   "execution_count": 130,
   "metadata": {},
   "outputs": [
    {
     "data": {
      "text/plain": [
       "0        42000000\n",
       "1        50000000\n",
       "2        32500000\n",
       "3       110000000\n",
       "4        20000000\n",
       "          ...    \n",
       "3488     40500000\n",
       "3489     32500000\n",
       "3490     42500000\n",
       "3491     53000000\n",
       "3492     12000000\n",
       "Name: Annual Turnover, Length: 3493, dtype: int64"
      ]
     },
     "execution_count": 130,
     "metadata": {},
     "output_type": "execute_result"
    }
   ],
   "source": [
    "target"
   ]
  },
  {
   "cell_type": "code",
   "execution_count": 339,
   "metadata": {},
   "outputs": [],
   "source": [
    "X_train, X_test, y_train, y_test = model_selection.train_test_split(X, y, test_size=0.2, random_state=110)"
   ]
  },
  {
   "cell_type": "code",
   "execution_count": null,
   "metadata": {},
   "outputs": [],
   "source": []
  },
  {
   "cell_type": "code",
   "execution_count": null,
   "metadata": {},
   "outputs": [],
   "source": []
  },
  {
   "cell_type": "code",
   "execution_count": 340,
   "metadata": {},
   "outputs": [],
   "source": [
    "from sklearn.linear_model import LinearRegression"
   ]
  },
  {
   "cell_type": "code",
   "execution_count": 341,
   "metadata": {},
   "outputs": [
    {
     "name": "stdout",
     "output_type": "stream",
     "text": [
      "rmse train 19920119.036549952\n",
      "rmse test 18755662.593057986\n"
     ]
    }
   ],
   "source": [
    "lir=LinearRegression(fit_intercept=True)\n",
    "\n",
    "\n",
    "lir.fit(X_train,y_train)\n",
    "train_pred_lir=lir.predict(X_train)\n",
    "test_pred_lir=lir.predict(X_test)\n",
    "print('rmse train',np.sqrt(metrics.mean_squared_error(y_train,train_pred_lir)))\n",
    "print('rmse test',np.sqrt(metrics.mean_squared_error(y_test,test_pred_lir)))"
   ]
  },
  {
   "cell_type": "code",
   "execution_count": null,
   "metadata": {},
   "outputs": [],
   "source": []
  },
  {
   "cell_type": "code",
   "execution_count": null,
   "metadata": {},
   "outputs": [],
   "source": []
  },
  {
   "cell_type": "code",
   "execution_count": 342,
   "metadata": {},
   "outputs": [],
   "source": [
    "lir_cv_score=cross_val_score(lir,X_train,y_train,cv=5,scoring='r2')"
   ]
  },
  {
   "cell_type": "code",
   "execution_count": 343,
   "metadata": {},
   "outputs": [],
   "source": [
    "lir_cv_predict=model_selection.cross_val_predict(lir,X_train,y_train,cv=5)"
   ]
  },
  {
   "cell_type": "code",
   "execution_count": 344,
   "metadata": {},
   "outputs": [
    {
     "name": "stdout",
     "output_type": "stream",
     "text": [
      "rmse train 20677448.609525263\n"
     ]
    }
   ],
   "source": [
    "print('rmse train',np.sqrt(metrics.mean_squared_error(y_train,lir_cv_predict)))\n"
   ]
  },
  {
   "cell_type": "code",
   "execution_count": null,
   "metadata": {},
   "outputs": [],
   "source": []
  },
  {
   "cell_type": "code",
   "execution_count": null,
   "metadata": {},
   "outputs": [],
   "source": []
  },
  {
   "cell_type": "code",
   "execution_count": 345,
   "metadata": {},
   "outputs": [],
   "source": [
    "from sklearn.linear_model import Lasso,Ridge,ElasticNet"
   ]
  },
  {
   "cell_type": "code",
   "execution_count": 346,
   "metadata": {},
   "outputs": [],
   "source": [
    "params={'alpha':[.001,.01,.1,1,10,100,1000]}\n"
   ]
  },
  {
   "cell_type": "code",
   "execution_count": 347,
   "metadata": {},
   "outputs": [
    {
     "data": {
      "text/plain": [
       "GridSearchCV(cv=10, estimator=Ridge(),\n",
       "             param_grid={'alpha': [0.001, 0.01, 0.1, 1, 10, 100, 1000]},\n",
       "             scoring='r2')"
      ]
     },
     "execution_count": 347,
     "metadata": {},
     "output_type": "execute_result"
    }
   ],
   "source": [
    "ridge=Ridge(fit_intercept=True)\n",
    "grid=GridSearchCV(estimator=ridge,\n",
    "                 param_grid=params,\n",
    "                 cv=10,\n",
    "                 scoring='r2')\n",
    "grid.fit(X_train,y_train)"
   ]
  },
  {
   "cell_type": "code",
   "execution_count": 348,
   "metadata": {},
   "outputs": [
    {
     "data": {
      "text/plain": [
       "Ridge(alpha=10)"
      ]
     },
     "execution_count": 348,
     "metadata": {},
     "output_type": "execute_result"
    }
   ],
   "source": [
    "grid.best_estimator_"
   ]
  },
  {
   "cell_type": "code",
   "execution_count": 349,
   "metadata": {},
   "outputs": [
    {
     "data": {
      "text/plain": [
       "0.15112360416488949"
      ]
     },
     "execution_count": 349,
     "metadata": {},
     "output_type": "execute_result"
    }
   ],
   "source": [
    "grid.best_score_"
   ]
  },
  {
   "cell_type": "code",
   "execution_count": 350,
   "metadata": {},
   "outputs": [
    {
     "name": "stdout",
     "output_type": "stream",
     "text": [
      "rmse train 20239708.128606573\n",
      "rmse test 18647555.464535113\n"
     ]
    }
   ],
   "source": [
    "ridge=Ridge(alpha=100,fit_intercept=True)\n",
    "ridge.fit(X_train,y_train)\n",
    "\n",
    "train_pred_ridge=ridge.predict(X_train)\n",
    "test_pred_ridge=ridge.predict(X_test)\n",
    "print('rmse train',np.sqrt(metrics.mean_squared_error(y_train,train_pred_ridge)))\n",
    "print('rmse test',np.sqrt(metrics.mean_squared_error(y_test,test_pred_ridge)))"
   ]
  },
  {
   "cell_type": "code",
   "execution_count": null,
   "metadata": {},
   "outputs": [],
   "source": []
  },
  {
   "cell_type": "code",
   "execution_count": 351,
   "metadata": {},
   "outputs": [
    {
     "data": {
      "text/plain": [
       "GridSearchCV(cv=10, estimator=Ridge(),\n",
       "             param_grid={'alpha': [0.001, 0.01, 0.1, 1, 10, 100, 1000]},\n",
       "             scoring='r2')"
      ]
     },
     "execution_count": 351,
     "metadata": {},
     "output_type": "execute_result"
    }
   ],
   "source": [
    "ridge=Ridge(fit_intercept=True)\n",
    "grid=GridSearchCV(estimator=ridge,\n",
    "                 param_grid=params,\n",
    "                 cv=10,\n",
    "                 scoring='r2')\n",
    "grid.fit(X,y)"
   ]
  },
  {
   "cell_type": "code",
   "execution_count": 352,
   "metadata": {},
   "outputs": [
    {
     "data": {
      "text/plain": [
       "Ridge(alpha=10)"
      ]
     },
     "execution_count": 352,
     "metadata": {},
     "output_type": "execute_result"
    }
   ],
   "source": [
    "grid.best_estimator_"
   ]
  },
  {
   "cell_type": "code",
   "execution_count": 353,
   "metadata": {},
   "outputs": [
    {
     "name": "stdout",
     "output_type": "stream",
     "text": [
      "rmse  19880498.21950984\n"
     ]
    }
   ],
   "source": [
    "ridge2=Ridge(alpha=100,fit_intercept=True)\n",
    "ridge2.fit(X,y)\n",
    "pred=ridge2.predict(X)\n",
    "\n",
    "print('rmse ',np.sqrt(metrics.mean_squared_error(y,pred)))\n"
   ]
  },
  {
   "cell_type": "code",
   "execution_count": 354,
   "metadata": {},
   "outputs": [
    {
     "name": "stdout",
     "output_type": "stream",
     "text": [
      "rmse  19626275.38340045\n"
     ]
    }
   ],
   "source": [
    "lir=LinearRegression(fit_intercept=True)\n",
    "\n",
    "\n",
    "lir.fit(X,y)\n",
    "pred_lir=lir.predict(X)\n",
    " \n",
    "print('rmse ',np.sqrt(metrics.mean_squared_error(y,pred_lir)))\n"
   ]
  },
  {
   "cell_type": "code",
   "execution_count": null,
   "metadata": {},
   "outputs": [],
   "source": []
  },
  {
   "cell_type": "code",
   "execution_count": null,
   "metadata": {},
   "outputs": [],
   "source": []
  },
  {
   "cell_type": "code",
   "execution_count": null,
   "metadata": {},
   "outputs": [],
   "source": []
  },
  {
   "cell_type": "code",
   "execution_count": null,
   "metadata": {},
   "outputs": [],
   "source": []
  },
  {
   "cell_type": "code",
   "execution_count": null,
   "metadata": {},
   "outputs": [],
   "source": []
  },
  {
   "cell_type": "code",
   "execution_count": null,
   "metadata": {},
   "outputs": [],
   "source": []
  },
  {
   "cell_type": "code",
   "execution_count": null,
   "metadata": {},
   "outputs": [],
   "source": []
  },
  {
   "cell_type": "code",
   "execution_count": null,
   "metadata": {},
   "outputs": [],
   "source": []
  },
  {
   "cell_type": "code",
   "execution_count": null,
   "metadata": {},
   "outputs": [],
   "source": []
  },
  {
   "cell_type": "code",
   "execution_count": null,
   "metadata": {},
   "outputs": [],
   "source": []
  },
  {
   "cell_type": "code",
   "execution_count": 355,
   "metadata": {},
   "outputs": [],
   "source": [
    "y_test_set=lir.predict(test_X)"
   ]
  },
  {
   "cell_type": "code",
   "execution_count": 356,
   "metadata": {},
   "outputs": [
    {
     "data": {
      "text/plain": [
       "500"
      ]
     },
     "execution_count": 356,
     "metadata": {},
     "output_type": "execute_result"
    }
   ],
   "source": [
    "len(y_test_set)"
   ]
  },
  {
   "cell_type": "code",
   "execution_count": 357,
   "metadata": {},
   "outputs": [],
   "source": [
    "regno=reg_no_test['Registration Number']\n"
   ]
  },
  {
   "cell_type": "code",
   "execution_count": 358,
   "metadata": {},
   "outputs": [],
   "source": [
    "submission=pd.DataFrame(regno)\n",
    "submission['Annual Turnover']=y_test_set"
   ]
  },
  {
   "cell_type": "code",
   "execution_count": 359,
   "metadata": {},
   "outputs": [],
   "source": [
    "submission.set_index('Registration Number',inplace=True)"
   ]
  },
  {
   "cell_type": "code",
   "execution_count": 360,
   "metadata": {},
   "outputs": [
    {
     "name": "stdout",
     "output_type": "stream",
     "text": [
      "<class 'pandas.core.frame.DataFrame'>\n",
      "Int64Index: 500 entries, 20001 to 20500\n",
      "Data columns (total 1 columns):\n",
      " #   Column           Non-Null Count  Dtype  \n",
      "---  ------           --------------  -----  \n",
      " 0   Annual Turnover  500 non-null    float64\n",
      "dtypes: float64(1)\n",
      "memory usage: 7.8 KB\n"
     ]
    }
   ],
   "source": [
    "submission.info()"
   ]
  },
  {
   "cell_type": "code",
   "execution_count": 361,
   "metadata": {},
   "outputs": [],
   "source": [
    "submission.to_csv('submission.csv')"
   ]
  },
  {
   "cell_type": "code",
   "execution_count": null,
   "metadata": {},
   "outputs": [],
   "source": []
  }
 ],
 "metadata": {
  "kernelspec": {
   "display_name": "Python 3",
   "language": "python",
   "name": "python3"
  },
  "language_info": {
   "codemirror_mode": {
    "name": "ipython",
    "version": 3
   },
   "file_extension": ".py",
   "mimetype": "text/x-python",
   "name": "python",
   "nbconvert_exporter": "python",
   "pygments_lexer": "ipython3",
   "version": "3.8.3"
  }
 },
 "nbformat": 4,
 "nbformat_minor": 4
}
