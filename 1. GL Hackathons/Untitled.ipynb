{
 "cells": [
  {
   "cell_type": "code",
   "execution_count": 1,
   "metadata": {},
   "outputs": [],
   "source": [
    "## Importing the libraries\n",
    "import numpy as np\n",
    "import pandas as pd\n",
    "from sklearn.linear_model import LinearRegression\n",
    "import matplotlib.pyplot as plt\n",
    "import seaborn as sns \n",
    "from sklearn.impute import KNNImputer\n",
    "from sklearn.model_selection import GridSearchCV\n",
    "\n",
    "from sklearn.preprocessing import StandardScaler\n",
    "sc=StandardScaler()\n",
    "\n",
    "from sklearn import model_selection,metrics\n",
    "\n",
    "from sklearn.model_selection import cross_val_score,train_test_split"
   ]
  },
  {
   "cell_type": "code",
   "execution_count": 2,
   "metadata": {},
   "outputs": [],
   "source": [
    "import scipy.stats as stats"
   ]
  },
  {
   "cell_type": "code",
   "execution_count": 3,
   "metadata": {},
   "outputs": [],
   "source": [
    "test_Data=pd.read_csv('Test_dataset.csv')\n",
    "df_train = pd.read_csv('Train_dataset.csv')"
   ]
  },
  {
   "cell_type": "code",
   "execution_count": 4,
   "metadata": {},
   "outputs": [
    {
     "data": {
      "text/plain": [
       "(3493, 34)"
      ]
     },
     "execution_count": 4,
     "metadata": {},
     "output_type": "execute_result"
    }
   ],
   "source": [
    "df_train.shape"
   ]
  },
  {
   "cell_type": "code",
   "execution_count": 5,
   "metadata": {},
   "outputs": [
    {
     "data": {
      "text/html": [
       "<div>\n",
       "<style scoped>\n",
       "    .dataframe tbody tr th:only-of-type {\n",
       "        vertical-align: middle;\n",
       "    }\n",
       "\n",
       "    .dataframe tbody tr th {\n",
       "        vertical-align: top;\n",
       "    }\n",
       "\n",
       "    .dataframe thead th {\n",
       "        text-align: right;\n",
       "    }\n",
       "</style>\n",
       "<table border=\"1\" class=\"dataframe\">\n",
       "  <thead>\n",
       "    <tr style=\"text-align: right;\">\n",
       "      <th></th>\n",
       "      <th>Registration Number</th>\n",
       "      <th>Annual Turnover</th>\n",
       "      <th>Cuisine</th>\n",
       "      <th>City</th>\n",
       "      <th>Restaurant Location</th>\n",
       "      <th>Opening Day of Restaurant</th>\n",
       "      <th>Facebook Popularity Quotient</th>\n",
       "      <th>Endorsed By</th>\n",
       "      <th>Instagram Popularity Quotient</th>\n",
       "      <th>Fire Audit</th>\n",
       "      <th>...</th>\n",
       "      <th>Overall Restaurant Rating</th>\n",
       "      <th>Live Music Rating</th>\n",
       "      <th>Comedy Gigs Rating</th>\n",
       "      <th>Value Deals Rating</th>\n",
       "      <th>Live Sports Rating</th>\n",
       "      <th>Ambience</th>\n",
       "      <th>Lively</th>\n",
       "      <th>Service</th>\n",
       "      <th>Comfortablility</th>\n",
       "      <th>Privacy</th>\n",
       "    </tr>\n",
       "  </thead>\n",
       "  <tbody>\n",
       "    <tr>\n",
       "      <th>0</th>\n",
       "      <td>60001</td>\n",
       "      <td>42000000</td>\n",
       "      <td>indian,irish</td>\n",
       "      <td>Bangalore</td>\n",
       "      <td>Near Business Hub</td>\n",
       "      <td>14-02-2009</td>\n",
       "      <td>84.3</td>\n",
       "      <td>Not Specific</td>\n",
       "      <td>95.8</td>\n",
       "      <td>1</td>\n",
       "      <td>...</td>\n",
       "      <td>10.0</td>\n",
       "      <td>4.0</td>\n",
       "      <td>NaN</td>\n",
       "      <td>NaN</td>\n",
       "      <td>NaN</td>\n",
       "      <td>8.0</td>\n",
       "      <td>8</td>\n",
       "      <td>6</td>\n",
       "      <td>6</td>\n",
       "      <td>6</td>\n",
       "    </tr>\n",
       "    <tr>\n",
       "      <th>1</th>\n",
       "      <td>60002</td>\n",
       "      <td>50000000</td>\n",
       "      <td>indian,irish</td>\n",
       "      <td>Indore</td>\n",
       "      <td>Near Party Hub</td>\n",
       "      <td>29-09-2008</td>\n",
       "      <td>85.4</td>\n",
       "      <td>Tier A Celebrity</td>\n",
       "      <td>85.0</td>\n",
       "      <td>1</td>\n",
       "      <td>...</td>\n",
       "      <td>9.0</td>\n",
       "      <td>NaN</td>\n",
       "      <td>4.0</td>\n",
       "      <td>NaN</td>\n",
       "      <td>NaN</td>\n",
       "      <td>5.0</td>\n",
       "      <td>7</td>\n",
       "      <td>7</td>\n",
       "      <td>3</td>\n",
       "      <td>8</td>\n",
       "    </tr>\n",
       "    <tr>\n",
       "      <th>2</th>\n",
       "      <td>60003</td>\n",
       "      <td>32500000</td>\n",
       "      <td>tibetan,italian</td>\n",
       "      <td>Chennai</td>\n",
       "      <td>Near Business Hub</td>\n",
       "      <td>30-07-2011</td>\n",
       "      <td>85.0</td>\n",
       "      <td>Tier A Celebrity</td>\n",
       "      <td>68.2</td>\n",
       "      <td>1</td>\n",
       "      <td>...</td>\n",
       "      <td>8.0</td>\n",
       "      <td>3.0</td>\n",
       "      <td>NaN</td>\n",
       "      <td>NaN</td>\n",
       "      <td>NaN</td>\n",
       "      <td>7.0</td>\n",
       "      <td>10</td>\n",
       "      <td>5</td>\n",
       "      <td>2</td>\n",
       "      <td>8</td>\n",
       "    </tr>\n",
       "    <tr>\n",
       "      <th>3</th>\n",
       "      <td>60004</td>\n",
       "      <td>110000000</td>\n",
       "      <td>turkish,nigerian</td>\n",
       "      <td>Gurgaon</td>\n",
       "      <td>Near Party Hub</td>\n",
       "      <td>30-11-2008</td>\n",
       "      <td>85.6</td>\n",
       "      <td>Tier A Celebrity</td>\n",
       "      <td>83.6</td>\n",
       "      <td>0</td>\n",
       "      <td>...</td>\n",
       "      <td>9.0</td>\n",
       "      <td>6.0</td>\n",
       "      <td>NaN</td>\n",
       "      <td>NaN</td>\n",
       "      <td>NaN</td>\n",
       "      <td>7.0</td>\n",
       "      <td>7</td>\n",
       "      <td>4</td>\n",
       "      <td>3</td>\n",
       "      <td>5</td>\n",
       "    </tr>\n",
       "    <tr>\n",
       "      <th>4</th>\n",
       "      <td>60005</td>\n",
       "      <td>20000000</td>\n",
       "      <td>irish,belgian</td>\n",
       "      <td>Manesar</td>\n",
       "      <td>Near Party Hub</td>\n",
       "      <td>22-02-2010</td>\n",
       "      <td>NaN</td>\n",
       "      <td>Tier A Celebrity</td>\n",
       "      <td>76.8</td>\n",
       "      <td>1</td>\n",
       "      <td>...</td>\n",
       "      <td>6.0</td>\n",
       "      <td>NaN</td>\n",
       "      <td>2.0</td>\n",
       "      <td>NaN</td>\n",
       "      <td>NaN</td>\n",
       "      <td>NaN</td>\n",
       "      <td>6</td>\n",
       "      <td>2</td>\n",
       "      <td>4</td>\n",
       "      <td>6</td>\n",
       "    </tr>\n",
       "  </tbody>\n",
       "</table>\n",
       "<p>5 rows × 34 columns</p>\n",
       "</div>"
      ],
      "text/plain": [
       "   Registration Number  Annual Turnover           Cuisine       City  \\\n",
       "0                60001         42000000      indian,irish  Bangalore   \n",
       "1                60002         50000000      indian,irish     Indore   \n",
       "2                60003         32500000   tibetan,italian    Chennai   \n",
       "3                60004        110000000  turkish,nigerian    Gurgaon   \n",
       "4                60005         20000000     irish,belgian    Manesar   \n",
       "\n",
       "  Restaurant Location Opening Day of Restaurant  Facebook Popularity Quotient  \\\n",
       "0   Near Business Hub                14-02-2009                          84.3   \n",
       "1      Near Party Hub                29-09-2008                          85.4   \n",
       "2   Near Business Hub                30-07-2011                          85.0   \n",
       "3      Near Party Hub                30-11-2008                          85.6   \n",
       "4      Near Party Hub                22-02-2010                           NaN   \n",
       "\n",
       "        Endorsed By  Instagram Popularity Quotient  Fire Audit  ...  \\\n",
       "0      Not Specific                           95.8           1  ...   \n",
       "1  Tier A Celebrity                           85.0           1  ...   \n",
       "2  Tier A Celebrity                           68.2           1  ...   \n",
       "3  Tier A Celebrity                           83.6           0  ...   \n",
       "4  Tier A Celebrity                           76.8           1  ...   \n",
       "\n",
       "   Overall Restaurant Rating  Live Music Rating  Comedy Gigs Rating  \\\n",
       "0                       10.0                4.0                 NaN   \n",
       "1                        9.0                NaN                 4.0   \n",
       "2                        8.0                3.0                 NaN   \n",
       "3                        9.0                6.0                 NaN   \n",
       "4                        6.0                NaN                 2.0   \n",
       "\n",
       "   Value Deals Rating  Live Sports Rating Ambience Lively  Service  \\\n",
       "0                 NaN                 NaN      8.0      8        6   \n",
       "1                 NaN                 NaN      5.0      7        7   \n",
       "2                 NaN                 NaN      7.0     10        5   \n",
       "3                 NaN                 NaN      7.0      7        4   \n",
       "4                 NaN                 NaN      NaN      6        2   \n",
       "\n",
       "   Comfortablility  Privacy  \n",
       "0                6        6  \n",
       "1                3        8  \n",
       "2                2        8  \n",
       "3                3        5  \n",
       "4                4        6  \n",
       "\n",
       "[5 rows x 34 columns]"
      ]
     },
     "execution_count": 5,
     "metadata": {},
     "output_type": "execute_result"
    }
   ],
   "source": [
    "df_train.head()"
   ]
  },
  {
   "cell_type": "code",
   "execution_count": 6,
   "metadata": {},
   "outputs": [
    {
     "data": {
      "text/plain": [
       "(500, 33)"
      ]
     },
     "execution_count": 6,
     "metadata": {},
     "output_type": "execute_result"
    }
   ],
   "source": [
    "test_Data.shape"
   ]
  },
  {
   "cell_type": "code",
   "execution_count": 7,
   "metadata": {
    "scrolled": true
   },
   "outputs": [
    {
     "data": {
      "text/html": [
       "<div>\n",
       "<style scoped>\n",
       "    .dataframe tbody tr th:only-of-type {\n",
       "        vertical-align: middle;\n",
       "    }\n",
       "\n",
       "    .dataframe tbody tr th {\n",
       "        vertical-align: top;\n",
       "    }\n",
       "\n",
       "    .dataframe thead th {\n",
       "        text-align: right;\n",
       "    }\n",
       "</style>\n",
       "<table border=\"1\" class=\"dataframe\">\n",
       "  <thead>\n",
       "    <tr style=\"text-align: right;\">\n",
       "      <th></th>\n",
       "      <th>Registration Number</th>\n",
       "      <th>Cuisine</th>\n",
       "      <th>City</th>\n",
       "      <th>Restaurant Location</th>\n",
       "      <th>Opening Day of Restaurant</th>\n",
       "      <th>Facebook Popularity Quotient</th>\n",
       "      <th>Endoresed By</th>\n",
       "      <th>Instagram Popularity Quotient</th>\n",
       "      <th>Fire Audit</th>\n",
       "      <th>Liquor License Obtained</th>\n",
       "      <th>...</th>\n",
       "      <th>Overall Restaurant Rating</th>\n",
       "      <th>Live Music Rating</th>\n",
       "      <th>Comedy Gigs Rating</th>\n",
       "      <th>Value Deals Rating</th>\n",
       "      <th>Live Sports Rating</th>\n",
       "      <th>Ambience</th>\n",
       "      <th>Lively</th>\n",
       "      <th>Service</th>\n",
       "      <th>Comfortablility</th>\n",
       "      <th>Privacy</th>\n",
       "    </tr>\n",
       "  </thead>\n",
       "  <tbody>\n",
       "    <tr>\n",
       "      <th>0</th>\n",
       "      <td>20001</td>\n",
       "      <td>tibetan,italian</td>\n",
       "      <td>Bangalore</td>\n",
       "      <td>Near Business Hub</td>\n",
       "      <td>13-07-2010</td>\n",
       "      <td>78.00</td>\n",
       "      <td>Tier A Celebrity</td>\n",
       "      <td>69.00</td>\n",
       "      <td>1</td>\n",
       "      <td>1</td>\n",
       "      <td>...</td>\n",
       "      <td>6.0</td>\n",
       "      <td>NaN</td>\n",
       "      <td>2.0</td>\n",
       "      <td>NaN</td>\n",
       "      <td>NaN</td>\n",
       "      <td>5</td>\n",
       "      <td>2</td>\n",
       "      <td>2</td>\n",
       "      <td>6</td>\n",
       "      <td>0</td>\n",
       "    </tr>\n",
       "    <tr>\n",
       "      <th>1</th>\n",
       "      <td>20002</td>\n",
       "      <td>tibetan,italian</td>\n",
       "      <td>Hyderabad</td>\n",
       "      <td>Near Party Hub</td>\n",
       "      <td>05-09-2011</td>\n",
       "      <td>89.17</td>\n",
       "      <td>Not Specific</td>\n",
       "      <td>96.00</td>\n",
       "      <td>1</td>\n",
       "      <td>1</td>\n",
       "      <td>...</td>\n",
       "      <td>9.0</td>\n",
       "      <td>3.0</td>\n",
       "      <td>NaN</td>\n",
       "      <td>NaN</td>\n",
       "      <td>6.0</td>\n",
       "      <td>7</td>\n",
       "      <td>8</td>\n",
       "      <td>5</td>\n",
       "      <td>1</td>\n",
       "      <td>8</td>\n",
       "    </tr>\n",
       "    <tr>\n",
       "      <th>2</th>\n",
       "      <td>20003</td>\n",
       "      <td>algerian,belgian</td>\n",
       "      <td>Hyderabad</td>\n",
       "      <td>Near Party Hub</td>\n",
       "      <td>12-04-2011</td>\n",
       "      <td>84.00</td>\n",
       "      <td>Not Specific</td>\n",
       "      <td>86.00</td>\n",
       "      <td>1</td>\n",
       "      <td>1</td>\n",
       "      <td>...</td>\n",
       "      <td>6.0</td>\n",
       "      <td>3.0</td>\n",
       "      <td>NaN</td>\n",
       "      <td>NaN</td>\n",
       "      <td>NaN</td>\n",
       "      <td>9</td>\n",
       "      <td>7</td>\n",
       "      <td>5</td>\n",
       "      <td>1</td>\n",
       "      <td>5</td>\n",
       "    </tr>\n",
       "    <tr>\n",
       "      <th>3</th>\n",
       "      <td>20004</td>\n",
       "      <td>tibetan,greek</td>\n",
       "      <td>-1</td>\n",
       "      <td>Near Party Hub</td>\n",
       "      <td>16-01-2005</td>\n",
       "      <td>79.38</td>\n",
       "      <td>Not Specific</td>\n",
       "      <td>74.40</td>\n",
       "      <td>0</td>\n",
       "      <td>1</td>\n",
       "      <td>...</td>\n",
       "      <td>9.0</td>\n",
       "      <td>6.0</td>\n",
       "      <td>NaN</td>\n",
       "      <td>NaN</td>\n",
       "      <td>NaN</td>\n",
       "      <td>6</td>\n",
       "      <td>7</td>\n",
       "      <td>6</td>\n",
       "      <td>4</td>\n",
       "      <td>7</td>\n",
       "    </tr>\n",
       "    <tr>\n",
       "      <th>4</th>\n",
       "      <td>20005</td>\n",
       "      <td>cuban,british</td>\n",
       "      <td>Pune</td>\n",
       "      <td>Near Party Hub</td>\n",
       "      <td>10-11-2008</td>\n",
       "      <td>84.67</td>\n",
       "      <td>Not Specific</td>\n",
       "      <td>86.46</td>\n",
       "      <td>1</td>\n",
       "      <td>1</td>\n",
       "      <td>...</td>\n",
       "      <td>NaN</td>\n",
       "      <td>NaN</td>\n",
       "      <td>NaN</td>\n",
       "      <td>NaN</td>\n",
       "      <td>NaN</td>\n",
       "      <td>4</td>\n",
       "      <td>4</td>\n",
       "      <td>7</td>\n",
       "      <td>7</td>\n",
       "      <td>3</td>\n",
       "    </tr>\n",
       "  </tbody>\n",
       "</table>\n",
       "<p>5 rows × 33 columns</p>\n",
       "</div>"
      ],
      "text/plain": [
       "   Registration Number           Cuisine       City Restaurant Location  \\\n",
       "0                20001   tibetan,italian  Bangalore   Near Business Hub   \n",
       "1                20002   tibetan,italian  Hyderabad      Near Party Hub   \n",
       "2                20003  algerian,belgian  Hyderabad      Near Party Hub   \n",
       "3                20004     tibetan,greek         -1      Near Party Hub   \n",
       "4                20005     cuban,british      Pune       Near Party Hub   \n",
       "\n",
       "  Opening Day of Restaurant  Facebook Popularity Quotient      Endoresed By  \\\n",
       "0                13-07-2010                         78.00  Tier A Celebrity   \n",
       "1                05-09-2011                         89.17      Not Specific   \n",
       "2                12-04-2011                         84.00      Not Specific   \n",
       "3                16-01-2005                         79.38      Not Specific   \n",
       "4                10-11-2008                         84.67      Not Specific   \n",
       "\n",
       "   Instagram Popularity Quotient  Fire Audit  Liquor License Obtained  ...  \\\n",
       "0                          69.00           1                        1  ...   \n",
       "1                          96.00           1                        1  ...   \n",
       "2                          86.00           1                        1  ...   \n",
       "3                          74.40           0                        1  ...   \n",
       "4                          86.46           1                        1  ...   \n",
       "\n",
       "   Overall Restaurant Rating  Live Music Rating  Comedy Gigs Rating  \\\n",
       "0                        6.0                NaN                 2.0   \n",
       "1                        9.0                3.0                 NaN   \n",
       "2                        6.0                3.0                 NaN   \n",
       "3                        9.0                6.0                 NaN   \n",
       "4                        NaN                NaN                 NaN   \n",
       "\n",
       "   Value Deals Rating Live Sports Rating Ambience  Lively  Service  \\\n",
       "0                 NaN                NaN        5       2        2   \n",
       "1                 NaN                6.0        7       8        5   \n",
       "2                 NaN                NaN        9       7        5   \n",
       "3                 NaN                NaN        6       7        6   \n",
       "4                 NaN                NaN        4       4        7   \n",
       "\n",
       "   Comfortablility  Privacy  \n",
       "0                6        0  \n",
       "1                1        8  \n",
       "2                1        5  \n",
       "3                4        7  \n",
       "4                7        3  \n",
       "\n",
       "[5 rows x 33 columns]"
      ]
     },
     "execution_count": 7,
     "metadata": {},
     "output_type": "execute_result"
    }
   ],
   "source": [
    "test_Data.head()"
   ]
  },
  {
   "cell_type": "code",
   "execution_count": 8,
   "metadata": {},
   "outputs": [],
   "source": [
    "target=df_train['Annual Turnover']\n",
    "df_train.drop('Registration Number',axis=1,inplace=True)\n",
    "test_Regno=test_Data[['Registration Number']]\n",
    "\n",
    "df_train.drop('Annual Turnover',axis=1,inplace=True)\n"
   ]
  },
  {
   "cell_type": "code",
   "execution_count": 9,
   "metadata": {},
   "outputs": [],
   "source": [
    "test_Data.drop('Registration Number',axis=1,inplace=True)\n"
   ]
  },
  {
   "cell_type": "code",
   "execution_count": 10,
   "metadata": {},
   "outputs": [],
   "source": [
    "test_Data.rename(columns={'Endoresed By': 'Endorsed By'}, inplace=True)\n"
   ]
  },
  {
   "cell_type": "markdown",
   "metadata": {},
   "source": [
    "###### City"
   ]
  },
  {
   "cell_type": "code",
   "execution_count": 11,
   "metadata": {},
   "outputs": [],
   "source": [
    "df_train['City']=df_train['City'].str.upper()\n",
    "test_Data['City']=test_Data['City'].str.upper()\n",
    "\n",
    "df_train['City'] = df_train['City'].replace(['BANGALORE '],'BANGALORE')\n",
    "test_Data['City'] = test_Data['City'].replace(['BANGLORE'],'BANGALORE')\n",
    "test_Data['City'] = test_Data['City'].replace(['BANGALORE '],'BANGALORE')\n",
    "\n",
    "\n",
    "df_train['City'] = df_train['City'].replace(['GREATER NOIDA'],'NOIDA')\n",
    "test_Data['City'] = test_Data['City'].replace(['GREATER NOIDA'],'NOIDA')\n",
    "\n",
    "df_train['City'] = df_train['City'].replace(['BANGALORE '],'BANGALORE')\n",
    "test_Data['City'] = test_Data['City'].replace(['BANGLORE'],'BANGALORE')\n",
    "\n",
    "df_train['City'] = df_train['City'].replace(['NAVI MUMBAI'],'MUMBAI')\n",
    "test_Data['City'] = test_Data['City'].replace(['NAVI MUMBAI'],'MUMBAI')\n",
    "\n",
    "df_train['City'] = df_train['City'].replace(['-1'],'OTHERS')\n",
    "test_Data['City'] = test_Data['City'].replace(['-1'],'OTHERS')\n",
    "\n",
    "test_Data['City'] = test_Data['City'].replace(['BHUBANESWAR'],'BHUBANESHWAR')\n",
    "\n",
    "test_Data['City'] = test_Data['City'].replace([' MUMBAI'],'MUMBAI')\n",
    "\n",
    "\n",
    "df_train['City'] = df_train['City'].replace(['BHUBANESWAR'],'BHUBANESHWAR')\n"
   ]
  },
  {
   "cell_type": "code",
   "execution_count": 13,
   "metadata": {},
   "outputs": [],
   "source": [
    "df_train['City'] = df_train['City'].replace(['NEW DELHI'],'DELHI')\n"
   ]
  },
  {
   "cell_type": "code",
   "execution_count": 14,
   "metadata": {},
   "outputs": [
    {
     "data": {
      "text/plain": [
       "Index(['BANGALORE', 'OTHERS', 'NOIDA', 'HYDERABAD', 'PUNE', 'CHENNAI', 'DELHI',\n",
       "       'GURGAON', 'MUMBAI', 'KOLKATA', 'JAIPUR', 'MYSORE', 'LUCKNOW',\n",
       "       'BHUBANESHWAR', 'INDORE', 'CHANDIGARH', 'COIMBATORE', 'BHOPAL',\n",
       "       'GHAZIABAD', 'FARIDABAD', 'AHMEDABAD', 'KOCHI/COCHIN'],\n",
       "      dtype='object')"
      ]
     },
     "execution_count": 14,
     "metadata": {},
     "output_type": "execute_result"
    }
   ],
   "source": [
    "df=pd.DataFrame(df_train['City'].value_counts())\n",
    "df[df['City']>10].index"
   ]
  },
  {
   "cell_type": "code",
   "execution_count": 15,
   "metadata": {},
   "outputs": [],
   "source": [
    "l=['BANGALORE', 'OTHERS', 'NOIDA', 'HYDERABAD', 'PUNE', 'CHENNAI', 'DELHI',\n",
    "       'GURGAON', 'KOLKATA', 'MUMBAI', 'JAIPUR', 'MYSORE', 'LUCKNOW',\n",
    "       'BHUBANESHWAR', 'INDORE', 'CHANDIGARH', 'COIMBATORE',\n",
    "       'FARIDABAD', 'BHOPAL', 'AHMEDABAD','KOCHI/COCHIN']"
   ]
  },
  {
   "cell_type": "code",
   "execution_count": 16,
   "metadata": {},
   "outputs": [
    {
     "data": {
      "text/plain": [
       "Index(['BANGALORE', 'OTHERS', 'NOIDA', 'HYDERABAD', 'MUMBAI', 'PUNE',\n",
       "       'CHENNAI', 'GURGAON', 'NEW DELHI', 'KOLKATA', 'JAIPUR', 'LUCKNOW',\n",
       "       'CHANDIGARH', 'BHUBANESHWAR', 'COIMBATORE', 'NAGPUR', 'MYSORE',\n",
       "       'AHMEDABAD', 'INDORE', 'MOHALI', 'DELHI', 'GURGAON ', 'FARIDABAD',\n",
       "       'DEHRADUN', 'KANPUR', 'MEERUT', 'RAIPUR', 'BHOPAL'],\n",
       "      dtype='object')"
      ]
     },
     "execution_count": 16,
     "metadata": {},
     "output_type": "execute_result"
    }
   ],
   "source": [
    "df2=pd.DataFrame(test_Data['City'].value_counts())\n",
    "df2[df2['City']>1].index"
   ]
  },
  {
   "cell_type": "code",
   "execution_count": 17,
   "metadata": {},
   "outputs": [],
   "source": [
    "k2=[]\n",
    "k=list(df_train['City'])\n",
    "for i in range(len(k)):\n",
    "    if k[i] in l:\n",
    "        k2.append(k[i])\n",
    "    else:\n",
    "        k2.append('OTHERS')\n",
    "df_train['City']=k2\n",
    "    "
   ]
  },
  {
   "cell_type": "code",
   "execution_count": 18,
   "metadata": {},
   "outputs": [],
   "source": [
    "k2=[]\n",
    "k=list(test_Data['City'])\n",
    "for i in range(len(k)):\n",
    "    if k[i] in l:\n",
    "        k2.append(k[i])\n",
    "    else:\n",
    "        k2.append('OTHERS')\n",
    "test_Data['City']=k2\n",
    "    "
   ]
  },
  {
   "cell_type": "code",
   "execution_count": 19,
   "metadata": {},
   "outputs": [],
   "source": [
    "city_test_dummy=pd.get_dummies(test_Data['City'],drop_first=True)\n",
    "city_dummy=pd.get_dummies(df_train['City'],drop_first=True)"
   ]
  },
  {
   "cell_type": "code",
   "execution_count": 20,
   "metadata": {},
   "outputs": [
    {
     "data": {
      "text/plain": [
       "(3493, 20)"
      ]
     },
     "execution_count": 20,
     "metadata": {},
     "output_type": "execute_result"
    }
   ],
   "source": [
    "city_dummy.shape"
   ]
  },
  {
   "cell_type": "code",
   "execution_count": 21,
   "metadata": {},
   "outputs": [
    {
     "data": {
      "text/plain": [
       "(500, 20)"
      ]
     },
     "execution_count": 21,
     "metadata": {},
     "output_type": "execute_result"
    }
   ],
   "source": [
    "city_test_dummy.shape"
   ]
  },
  {
   "cell_type": "code",
   "execution_count": null,
   "metadata": {},
   "outputs": [],
   "source": []
  },
  {
   "cell_type": "code",
   "execution_count": null,
   "metadata": {},
   "outputs": [],
   "source": []
  },
  {
   "cell_type": "code",
   "execution_count": null,
   "metadata": {},
   "outputs": [],
   "source": []
  },
  {
   "cell_type": "code",
   "execution_count": null,
   "metadata": {},
   "outputs": [],
   "source": []
  },
  {
   "cell_type": "code",
   "execution_count": 22,
   "metadata": {},
   "outputs": [],
   "source": [
    "df_train.drop('City',axis=1,inplace=True)\n",
    "test_Data.drop('City',axis=1,inplace=True)"
   ]
  },
  {
   "cell_type": "code",
   "execution_count": null,
   "metadata": {},
   "outputs": [],
   "source": []
  },
  {
   "cell_type": "markdown",
   "metadata": {},
   "source": [
    "###### Comedy Gigs Rating Value Deals Rating Live Sports Rating"
   ]
  },
  {
   "cell_type": "code",
   "execution_count": 23,
   "metadata": {},
   "outputs": [],
   "source": [
    "df_train.drop(['Comedy Gigs Rating','Value Deals Rating','Live Sports Rating'],axis=1,inplace=True)\n",
    "test_Data.drop(['Comedy Gigs Rating','Value Deals Rating','Live Sports Rating'],axis=1,inplace=True)"
   ]
  },
  {
   "cell_type": "code",
   "execution_count": null,
   "metadata": {},
   "outputs": [],
   "source": []
  },
  {
   "cell_type": "markdown",
   "metadata": {},
   "source": [
    "###### Cuisine"
   ]
  },
  {
   "cell_type": "code",
   "execution_count": 24,
   "metadata": {},
   "outputs": [],
   "source": [
    "df_train['Cuisine']=df_train['Cuisine'].str.upper()\n",
    "\n",
    "test_Data['Cuisine']=test_Data['Cuisine'].str.upper()"
   ]
  },
  {
   "cell_type": "code",
   "execution_count": 26,
   "metadata": {},
   "outputs": [
    {
     "data": {
      "text/plain": [
       "array(['INDIAN', 'TIBETAN', 'TURKISH', 'IRISH', 'CHINESE', 'ALGERIAN',\n",
       "       'WELSH', 'PERUVIAN', 'JAPANESE', 'BRITISH', 'NIGERIAN', 'POLISH',\n",
       "       'CUBAN', 'SWEDISH', 'HAWAIIAN'], dtype=object)"
      ]
     },
     "execution_count": 26,
     "metadata": {},
     "output_type": "execute_result"
    }
   ],
   "source": [
    "cuisine= df_train[\"Cuisine\"]. str. split(\",\", n = 1, expand = True)\n",
    "cuisine[0].unique()"
   ]
  },
  {
   "cell_type": "code",
   "execution_count": 27,
   "metadata": {},
   "outputs": [
    {
     "data": {
      "text/plain": [
       "array(['IRISH', 'ITALIAN', 'NIGERIAN', 'BELGIAN', 'GREEK', 'SALVADORIAN',\n",
       "       'THAI', 'CUBAN', 'JAPANESE', 'CAJUN', 'ALGERIAN', 'JEWISH',\n",
       "       'BRITISH', 'KOREAN', 'SAPNISH', 'LATVIAN'], dtype=object)"
      ]
     },
     "execution_count": 27,
     "metadata": {},
     "output_type": "execute_result"
    }
   ],
   "source": [
    "cuisine[1].unique()"
   ]
  },
  {
   "cell_type": "code",
   "execution_count": 28,
   "metadata": {},
   "outputs": [],
   "source": [
    "col=[]\n",
    "col=list(cuisine[0].drop_duplicates())\n",
    "\n",
    "for i in cuisine[1]:\n",
    "    if i not in col:\n",
    "        col.append(i)\n",
    "\n",
    "cuisine_dummy=pd.DataFrame(columns=col)\n",
    "\n",
    "for i in col:\n",
    "    k=[]\n",
    "    for j in range(len(cuisine)):\n",
    "        if i==cuisine[0].iloc[j] or i ==cuisine[1].iloc[j]:\n",
    "            k.append(1)\n",
    "        else:\n",
    "            k.append(0)\n",
    "    cuisine_dummy[i]=k"
   ]
  },
  {
   "cell_type": "code",
   "execution_count": 29,
   "metadata": {},
   "outputs": [],
   "source": [
    "cuisine_test= test_Data[\"Cuisine\"]. str. split(\",\", n = 1, expand = True)\n",
    "col=[]\n",
    "col=list(cuisine_test[0].drop_duplicates())\n",
    "\n",
    "for i in cuisine_test[1]:\n",
    "    if i not in col:\n",
    "        col.append(i)\n",
    "\n",
    "cuisine_test_dummy=pd.DataFrame(columns=col)\n",
    "\n",
    "for i in col:\n",
    "    k=[]\n",
    "    for j in range(len(cuisine_test)):\n",
    "        if i==cuisine_test[0].iloc[j] or i ==cuisine_test[1].iloc[j]:\n",
    "            k.append(1)\n",
    "        else:\n",
    "            k.append(0)\n",
    "    cuisine_test_dummy[i]=k"
   ]
  },
  {
   "cell_type": "code",
   "execution_count": 30,
   "metadata": {},
   "outputs": [],
   "source": [
    "df_train.drop('Cuisine',axis=1,inplace=True)\n",
    "test_Data.drop('Cuisine',axis=1,inplace=True)"
   ]
  },
  {
   "cell_type": "markdown",
   "metadata": {},
   "source": [
    "###### Restaurant Location"
   ]
  },
  {
   "cell_type": "code",
   "execution_count": 31,
   "metadata": {},
   "outputs": [
    {
     "data": {
      "text/plain": [
       "Near Party Hub       2658\n",
       "Near Business Hub     835\n",
       "Name: Restaurant Location, dtype: int64"
      ]
     },
     "execution_count": 31,
     "metadata": {},
     "output_type": "execute_result"
    }
   ],
   "source": [
    "df_train['Restaurant Location'].value_counts()"
   ]
  },
  {
   "cell_type": "markdown",
   "metadata": {},
   "source": [
    "###### Opening day"
   ]
  },
  {
   "cell_type": "code",
   "execution_count": 32,
   "metadata": {},
   "outputs": [],
   "source": [
    "#converting it into date time\n",
    "df_train['Opening Day of Restaurant']=pd.to_datetime(df_train['Opening Day of Restaurant'])\n",
    "old=pd.DataFrame(columns=['years_old'])\n",
    "old['years_old']=2021-df_train['Opening Day of Restaurant'].dt.year\n"
   ]
  },
  {
   "cell_type": "code",
   "execution_count": 33,
   "metadata": {},
   "outputs": [
    {
     "data": {
      "text/plain": [
       "11    850\n",
       "10    727\n",
       "12    691\n",
       "13    446\n",
       "14    283\n",
       "9     264\n",
       "15    111\n",
       "16     50\n",
       "8      26\n",
       "17     23\n",
       "18     11\n",
       "19      5\n",
       "20      2\n",
       "21      1\n",
       "7       1\n",
       "5       1\n",
       "25      1\n",
       "Name: years_old, dtype: int64"
      ]
     },
     "execution_count": 33,
     "metadata": {},
     "output_type": "execute_result"
    }
   ],
   "source": [
    "old['years_old'].value_counts()"
   ]
  },
  {
   "cell_type": "code",
   "execution_count": 34,
   "metadata": {},
   "outputs": [],
   "source": [
    "k=[]\n",
    "for i in old['years_old']:\n",
    "    if i <=10:\n",
    "        k.append('LessThanEq10Y')\n",
    "    elif i>10 and i<=15:\n",
    "        k.append('LessThanEq15Y-10Y')\n",
    "    else:\n",
    "        k.append('GreaterThan15Y')\n",
    "df_train['Opening Day of Restaurant']=k\n",
    "df_train.rename(columns={'Opening Day of Restaurant':'Years_Old'},inplace=True)"
   ]
  },
  {
   "cell_type": "code",
   "execution_count": 35,
   "metadata": {},
   "outputs": [],
   "source": [
    "#converting it into date time\n",
    "test_Data['Opening Day of Restaurant']=pd.to_datetime(test_Data['Opening Day of Restaurant'])\n",
    "old=pd.DataFrame(columns=['years_old'])\n",
    "old['years_old']=2021-test_Data['Opening Day of Restaurant'].dt.year\n",
    "k=[]\n",
    "for i in old['years_old']:\n",
    "    if i <=10:\n",
    "        k.append('LessThanEq10Y')\n",
    "    elif i>10 and i<=15:\n",
    "        k.append('LessThanEq15Y-10Y')\n",
    "    else:\n",
    "        k.append('GreaterThan15Y')\n",
    "test_Data['Opening Day of Restaurant']=k\n",
    "test_Data.rename(columns={'Opening Day of Restaurant':'Years_Old'},inplace=True)"
   ]
  },
  {
   "cell_type": "markdown",
   "metadata": {},
   "source": [
    "###### Facebook and Instagram Popularity"
   ]
  },
  {
   "cell_type": "code",
   "execution_count": 36,
   "metadata": {},
   "outputs": [
    {
     "name": "stdout",
     "output_type": "stream",
     "text": [
      "Facebook Popularity Quotient     77.938715\n",
      "Instagram Popularity Quotient    74.404684\n",
      "dtype: float64 \n",
      " Facebook Popularity Quotient     79.00\n",
      "Instagram Popularity Quotient    74.05\n",
      "dtype: float64\n"
     ]
    },
    {
     "data": {
      "image/png": "[encoded data removed]",
      "text/plain": [
       "<Figure size 432x288 with 2 Axes>"
      ]
     },
     "metadata": {
      "needs_background": "light"
     },
     "output_type": "display_data"
    }
   ],
   "source": [
    "popularity=df_train[['Facebook Popularity Quotient','Instagram Popularity Quotient']].copy(deep=True)\n",
    "print(popularity.mean(),'\\n',popularity.median())\n",
    "plt.subplot(1,2,1)\n",
    "popularity['Facebook Popularity Quotient'].hist()\n",
    "plt.subplot(1,2,2)\n",
    "popularity['Instagram Popularity Quotient'].hist()\n",
    "plt.show()"
   ]
  },
  {
   "cell_type": "code",
   "execution_count": 37,
   "metadata": {},
   "outputs": [],
   "source": [
    "popularity.fillna(0,inplace=True)\n",
    "k=[]\n",
    "val=0\n",
    "for i in range(len(popularity)):\n",
    "    if popularity['Facebook Popularity Quotient'].iloc[i]==0 and popularity['Instagram Popularity Quotient'].iloc[i]==0:\n",
    "        val=76.525\n",
    "        k.append(val)\n",
    "    elif popularity['Facebook Popularity Quotient'].iloc[i]==0 and popularity['Instagram Popularity Quotient'].iloc[i]>0:\n",
    "        val=popularity['Instagram Popularity Quotient'].iloc[i]\n",
    "        k.append(val)\n",
    "    elif popularity['Facebook Popularity Quotient'].iloc[i]>0 and popularity['Instagram Popularity Quotient'].iloc[i]==0:\n",
    "        val=popularity['Facebook Popularity Quotient'].iloc[i]\n",
    "        k.append(val)    \n",
    "    else:\n",
    "        val=(popularity['Facebook Popularity Quotient'].iloc[i]+popularity['Instagram Popularity Quotient'].iloc[i])/2\n",
    "        k.append(val)\n",
    "\n",
    "df_train['Facebook Popularity Quotient']=k\n",
    "\n",
    "df_train.rename(columns={'Facebook Popularity Quotient':'Popularity'},inplace=True)\n",
    "\n",
    "df_train.drop('Instagram Popularity Quotient',axis=1,inplace=True)"
   ]
  },
  {
   "cell_type": "code",
   "execution_count": 38,
   "metadata": {},
   "outputs": [
    {
     "name": "stdout",
     "output_type": "stream",
     "text": [
      "Facebook Popularity Quotient     77.54124\n",
      "Instagram Popularity Quotient    74.75326\n",
      "dtype: float64 \n",
      " Facebook Popularity Quotient     79.0\n",
      "Instagram Popularity Quotient    75.0\n",
      "dtype: float64\n"
     ]
    },
    {
     "data": {
      "image/png": "[encoded data removed]",
      "text/plain": [
       "<Figure size 432x288 with 2 Axes>"
      ]
     },
     "metadata": {
      "needs_background": "light"
     },
     "output_type": "display_data"
    }
   ],
   "source": [
    "popularity=test_Data[['Facebook Popularity Quotient','Instagram Popularity Quotient']].copy(deep=True)\n",
    "print(popularity.mean(),'\\n',popularity.median())\n",
    "plt.subplot(1,2,1)\n",
    "popularity['Facebook Popularity Quotient'].hist()\n",
    "plt.subplot(1,2,2)\n",
    "popularity['Instagram Popularity Quotient'].hist()\n",
    "plt.show()"
   ]
  },
  {
   "cell_type": "code",
   "execution_count": 39,
   "metadata": {},
   "outputs": [],
   "source": [
    "popularity.fillna(0,inplace=True)\n",
    "k=[]\n",
    "val=0\n",
    "for i in range(len(popularity)):\n",
    "    if popularity['Facebook Popularity Quotient'].iloc[i]==0 and popularity['Instagram Popularity Quotient'].iloc[i]==0:\n",
    "        val=76.525\n",
    "        k.append(val)\n",
    "    elif popularity['Facebook Popularity Quotient'].iloc[i]==0 and popularity['Instagram Popularity Quotient'].iloc[i]>0:\n",
    "        val=popularity['Instagram Popularity Quotient'].iloc[i]\n",
    "        k.append(val)\n",
    "    elif popularity['Facebook Popularity Quotient'].iloc[i]>0 and popularity['Instagram Popularity Quotient'].iloc[i]==0:\n",
    "        val=popularity['Facebook Popularity Quotient'].iloc[i]\n",
    "        k.append(val)    \n",
    "    else:\n",
    "        val=(popularity['Facebook Popularity Quotient'].iloc[i]+popularity['Instagram Popularity Quotient'].iloc[i])/2\n",
    "        k.append(val)\n",
    "\n",
    "test_Data['Facebook Popularity Quotient']=k\n",
    "\n",
    "test_Data.rename(columns={'Facebook Popularity Quotient':'Popularity'},inplace=True)\n",
    "\n",
    "test_Data.drop('Instagram Popularity Quotient',axis=1,inplace=True)"
   ]
  },
  {
   "cell_type": "code",
   "execution_count": null,
   "metadata": {},
   "outputs": [],
   "source": []
  },
  {
   "cell_type": "markdown",
   "metadata": {},
   "source": [
    "###### Endorsed By"
   ]
  },
  {
   "cell_type": "code",
   "execution_count": 40,
   "metadata": {},
   "outputs": [
    {
     "data": {
      "text/plain": [
       "Not Specific        1961\n",
       "Tier A Celebrity    1500\n",
       "Local Celebrity       32\n",
       "Name: Endorsed By, dtype: int64"
      ]
     },
     "execution_count": 40,
     "metadata": {},
     "output_type": "execute_result"
    }
   ],
   "source": [
    "df_train['Endorsed By'].value_counts()"
   ]
  },
  {
   "cell_type": "code",
   "execution_count": 41,
   "metadata": {},
   "outputs": [],
   "source": [
    "data=df_train[['Endorsed By']].copy(deep=True)\n",
    "data['revenue']=target"
   ]
  },
  {
   "cell_type": "code",
   "execution_count": 42,
   "metadata": {},
   "outputs": [
    {
     "data": {
      "text/plain": [
       "F_onewayResult(statistic=5.774935113353456, pvalue=0.0031341404982070382)"
      ]
     },
     "execution_count": 42,
     "metadata": {},
     "output_type": "execute_result"
    }
   ],
   "source": [
    "t1=data[data['Endorsed By']=='Tier A Celebrity']['revenue']\n",
    "t2=data[data['Endorsed By']=='Not Specific']['revenue']\n",
    "t3=data[data['Endorsed By']=='Local Celebrity']['revenue']\n",
    "\n",
    "stats.f_oneway(t1,t2,t3)"
   ]
  },
  {
   "cell_type": "code",
   "execution_count": null,
   "metadata": {},
   "outputs": [],
   "source": []
  },
  {
   "cell_type": "markdown",
   "metadata": {},
   "source": [
    "###### FireAudit"
   ]
  },
  {
   "cell_type": "code",
   "execution_count": 43,
   "metadata": {},
   "outputs": [
    {
     "data": {
      "text/plain": [
       "Ttest_indResult(statistic=1.8366506458900105, pvalue=0.06634645904267522)"
      ]
     },
     "execution_count": 43,
     "metadata": {},
     "output_type": "execute_result"
    }
   ],
   "source": [
    "data=pd.DataFrame(df_train['Fire Audit'])\n",
    "data['revenue']=target\n",
    "t1=data[data['Fire Audit']==1]['revenue']\n",
    "t2=data[data['Fire Audit']==0]['revenue']\n",
    "stats.ttest_ind(t1,t2)"
   ]
  },
  {
   "cell_type": "raw",
   "metadata": {},
   "source": [
    "# insignificant feature\n",
    "df_train.drop('Fire Audit',axis=1,inplace=True)\n",
    "test_Data.drop('Fire Audit',axis=1,inplace=True)"
   ]
  },
  {
   "cell_type": "markdown",
   "metadata": {},
   "source": [
    "###### Liquor"
   ]
  },
  {
   "cell_type": "code",
   "execution_count": 44,
   "metadata": {},
   "outputs": [
    {
     "data": {
      "text/plain": [
       "Ttest_indResult(statistic=1.4859242314054586, pvalue=0.13738946115201162)"
      ]
     },
     "execution_count": 44,
     "metadata": {},
     "output_type": "execute_result"
    }
   ],
   "source": [
    "data=pd.DataFrame(df_train['Liquor License Obtained'])\n",
    "data['revenue']=target\n",
    "t1=data[data['Liquor License Obtained']==1]['revenue']\n",
    "t2=data[data['Liquor License Obtained']==0]['revenue']\n",
    "stats.ttest_ind(t1,t2)"
   ]
  },
  {
   "cell_type": "raw",
   "metadata": {},
   "source": [
    "df_train.drop('Liquor License Obtained',axis=1,inplace=True)\n",
    "test_Data.drop('Liquor License Obtained',axis=1,inplace=True)"
   ]
  },
  {
   "cell_type": "markdown",
   "metadata": {},
   "source": [
    "###### Multiplex"
   ]
  },
  {
   "cell_type": "code",
   "execution_count": 45,
   "metadata": {},
   "outputs": [
    {
     "data": {
      "text/plain": [
       "Ttest_indResult(statistic=-3.365832083952008, pvalue=0.0007713795163565877)"
      ]
     },
     "execution_count": 45,
     "metadata": {},
     "output_type": "execute_result"
    }
   ],
   "source": [
    "data=pd.DataFrame(df_train['Situated in a Multi Complex'])\n",
    "data['revenue']=target\n",
    "t1=data[data['Situated in a Multi Complex']==1]['revenue']\n",
    "t2=data[data['Situated in a Multi Complex']==0]['revenue']\n",
    "stats.ttest_ind(t1,t2)"
   ]
  },
  {
   "cell_type": "markdown",
   "metadata": {},
   "source": [
    "###### Dedicated Parking"
   ]
  },
  {
   "cell_type": "code",
   "execution_count": 46,
   "metadata": {},
   "outputs": [
    {
     "data": {
      "text/plain": [
       "Ttest_indResult(statistic=1.4338471765221668, pvalue=0.15170543786718912)"
      ]
     },
     "execution_count": 46,
     "metadata": {},
     "output_type": "execute_result"
    }
   ],
   "source": [
    "data=pd.DataFrame(df_train['Dedicated Parking'])\n",
    "data['revenue']=target\n",
    "t1=data[data['Dedicated Parking']==1]['revenue']\n",
    "t2=data[data['Dedicated Parking']==0]['revenue']\n",
    "stats.ttest_ind(t1,t2)"
   ]
  },
  {
   "cell_type": "raw",
   "metadata": {},
   "source": [
    "#not significant feature \n",
    "df_train.drop('Dedicated Parking',axis=1,inplace=True)\n",
    "test_Data.drop('Dedicated Parking',axis=1,inplace=True)"
   ]
  },
  {
   "cell_type": "markdown",
   "metadata": {},
   "source": [
    "###### Open Sitting"
   ]
  },
  {
   "cell_type": "code",
   "execution_count": 47,
   "metadata": {},
   "outputs": [
    {
     "data": {
      "text/plain": [
       "Ttest_indResult(statistic=0.06359374834497598, pvalue=0.9492973506232871)"
      ]
     },
     "execution_count": 47,
     "metadata": {},
     "output_type": "execute_result"
    }
   ],
   "source": [
    "data=pd.DataFrame(df_train['Open Sitting Available'])\n",
    "data['revenue']=target\n",
    "t1=data[data['Open Sitting Available']==1]['revenue']\n",
    "t2=data[data['Open Sitting Available']==0]['revenue']\n",
    "stats.ttest_ind(t1,t2)"
   ]
  },
  {
   "cell_type": "raw",
   "metadata": {},
   "source": [
    "#insignificant\n",
    "df_train.drop('Open Sitting Available',axis=1,inplace=True)\n",
    "#insignificant\n",
    "test_Data.drop('Open Sitting Available',axis=1,inplace=True)"
   ]
  },
  {
   "cell_type": "markdown",
   "metadata": {},
   "source": [
    "###### Restaurant tier \n",
    "###### Restaurant city tier"
   ]
  },
  {
   "cell_type": "code",
   "execution_count": 48,
   "metadata": {},
   "outputs": [
    {
     "name": "stdout",
     "output_type": "stream",
     "text": [
      "<class 'pandas.core.frame.DataFrame'>\n",
      "RangeIndex: 3493 entries, 0 to 3492\n",
      "Data columns (total 5 columns):\n",
      " #   Column                    Non-Null Count  Dtype \n",
      "---  ------                    --------------  ----- \n",
      " 0   Resturant Tier            3444 non-null   object\n",
      " 1   Restaurant Type           3493 non-null   object\n",
      " 2   Restaurant Theme          3493 non-null   object\n",
      " 3   Restaurant Zomato Rating  3493 non-null   object\n",
      " 4   Restaurant City Tier      3493 non-null   object\n",
      "dtypes: object(5)\n",
      "memory usage: 136.6+ KB\n"
     ]
    }
   ],
   "source": [
    "data=df_train[['Resturant Tier', 'Restaurant Type',\n",
    "       'Restaurant Theme', 'Restaurant Zomato Rating', 'Restaurant City Tier',]]\n",
    "data=data.astype('object')\n",
    "data.info()"
   ]
  },
  {
   "cell_type": "code",
   "execution_count": 49,
   "metadata": {},
   "outputs": [
    {
     "data": {
      "text/html": [
       "<div>\n",
       "<style scoped>\n",
       "    .dataframe tbody tr th:only-of-type {\n",
       "        vertical-align: middle;\n",
       "    }\n",
       "\n",
       "    .dataframe tbody tr th {\n",
       "        vertical-align: top;\n",
       "    }\n",
       "\n",
       "    .dataframe thead th {\n",
       "        text-align: right;\n",
       "    }\n",
       "</style>\n",
       "<table border=\"1\" class=\"dataframe\">\n",
       "  <thead>\n",
       "    <tr style=\"text-align: right;\">\n",
       "      <th></th>\n",
       "      <th>Resturant Tier</th>\n",
       "      <th>Restaurant Type</th>\n",
       "      <th>Restaurant Theme</th>\n",
       "      <th>Restaurant Zomato Rating</th>\n",
       "      <th>Restaurant City Tier</th>\n",
       "    </tr>\n",
       "  </thead>\n",
       "  <tbody>\n",
       "    <tr>\n",
       "      <th>count</th>\n",
       "      <td>3444.0</td>\n",
       "      <td>3493</td>\n",
       "      <td>3493</td>\n",
       "      <td>3493</td>\n",
       "      <td>3493</td>\n",
       "    </tr>\n",
       "    <tr>\n",
       "      <th>unique</th>\n",
       "      <td>2.0</td>\n",
       "      <td>4</td>\n",
       "      <td>34</td>\n",
       "      <td>6</td>\n",
       "      <td>2</td>\n",
       "    </tr>\n",
       "    <tr>\n",
       "      <th>top</th>\n",
       "      <td>2.0</td>\n",
       "      <td>Bar</td>\n",
       "      <td>Arabian</td>\n",
       "      <td>3</td>\n",
       "      <td>0</td>\n",
       "    </tr>\n",
       "    <tr>\n",
       "      <th>freq</th>\n",
       "      <td>3191.0</td>\n",
       "      <td>3235</td>\n",
       "      <td>1373</td>\n",
       "      <td>1654</td>\n",
       "      <td>2440</td>\n",
       "    </tr>\n",
       "  </tbody>\n",
       "</table>\n",
       "</div>"
      ],
      "text/plain": [
       "        Resturant Tier Restaurant Type Restaurant Theme  \\\n",
       "count           3444.0            3493             3493   \n",
       "unique             2.0               4               34   \n",
       "top                2.0             Bar          Arabian   \n",
       "freq            3191.0            3235             1373   \n",
       "\n",
       "        Restaurant Zomato Rating  Restaurant City Tier  \n",
       "count                       3493                  3493  \n",
       "unique                         6                     2  \n",
       "top                            3                     0  \n",
       "freq                        1654                  2440  "
      ]
     },
     "execution_count": 49,
     "metadata": {},
     "output_type": "execute_result"
    }
   ],
   "source": [
    "data.describe(include='all')"
   ]
  },
  {
   "cell_type": "code",
   "execution_count": 50,
   "metadata": {},
   "outputs": [
    {
     "data": {
      "text/html": [
       "<div>\n",
       "<style scoped>\n",
       "    .dataframe tbody tr th:only-of-type {\n",
       "        vertical-align: middle;\n",
       "    }\n",
       "\n",
       "    .dataframe tbody tr th {\n",
       "        vertical-align: top;\n",
       "    }\n",
       "\n",
       "    .dataframe thead th {\n",
       "        text-align: right;\n",
       "    }\n",
       "</style>\n",
       "<table border=\"1\" class=\"dataframe\">\n",
       "  <thead>\n",
       "    <tr style=\"text-align: right;\">\n",
       "      <th>Restaurant City Tier</th>\n",
       "      <th>0</th>\n",
       "      <th>1</th>\n",
       "    </tr>\n",
       "    <tr>\n",
       "      <th>Resturant Tier</th>\n",
       "      <th></th>\n",
       "      <th></th>\n",
       "    </tr>\n",
       "  </thead>\n",
       "  <tbody>\n",
       "    <tr>\n",
       "      <th>1.0</th>\n",
       "      <td>136</td>\n",
       "      <td>117</td>\n",
       "    </tr>\n",
       "    <tr>\n",
       "      <th>2.0</th>\n",
       "      <td>2269</td>\n",
       "      <td>922</td>\n",
       "    </tr>\n",
       "  </tbody>\n",
       "</table>\n",
       "</div>"
      ],
      "text/plain": [
       "Restaurant City Tier     0    1\n",
       "Resturant Tier                 \n",
       "1.0                    136  117\n",
       "2.0                   2269  922"
      ]
     },
     "execution_count": 50,
     "metadata": {},
     "output_type": "execute_result"
    }
   ],
   "source": [
    "pd.crosstab(df_train['Resturant Tier'],df_train['Restaurant City Tier'])"
   ]
  },
  {
   "cell_type": "code",
   "execution_count": 51,
   "metadata": {},
   "outputs": [
    {
     "data": {
      "text/plain": [
       "2.0    3191\n",
       "1.0     253\n",
       "Name: Resturant Tier, dtype: int64"
      ]
     },
     "execution_count": 51,
     "metadata": {},
     "output_type": "execute_result"
    }
   ],
   "source": [
    "df_train['Resturant Tier'].value_counts()"
   ]
  },
  {
   "cell_type": "code",
   "execution_count": 52,
   "metadata": {},
   "outputs": [
    {
     "data": {
      "text/plain": [
       "Ttest_indResult(statistic=-11.049332420287769, pvalue=6.471144801782937e-28)"
      ]
     },
     "execution_count": 52,
     "metadata": {},
     "output_type": "execute_result"
    }
   ],
   "source": [
    "data=pd.DataFrame(df_train['Resturant Tier'])\n",
    "data['revenue']=target\n",
    "t1=data[data['Resturant Tier']==2]['revenue']\n",
    "t2=data[data['Resturant Tier']==1]['revenue']\n",
    "stats.ttest_ind(t1,t2)"
   ]
  },
  {
   "cell_type": "code",
   "execution_count": 53,
   "metadata": {},
   "outputs": [
    {
     "data": {
      "text/plain": [
       "Ttest_indResult(statistic=0.5880300273393511, pvalue=0.5565501743935863)"
      ]
     },
     "execution_count": 53,
     "metadata": {},
     "output_type": "execute_result"
    }
   ],
   "source": [
    "data=pd.DataFrame(df_train['Restaurant City Tier'])\n",
    "data['revenue']=target\n",
    "t1=data[data['Restaurant City Tier']==1]['revenue']\n",
    "t2=data[data['Restaurant City Tier']==0]['revenue']\n",
    "stats.ttest_ind(t1,t2)"
   ]
  },
  {
   "cell_type": "raw",
   "metadata": {},
   "source": [
    "concidering nulls as 2"
   ]
  },
  {
   "cell_type": "code",
   "execution_count": 54,
   "metadata": {},
   "outputs": [],
   "source": [
    "df_train['Resturant Tier'].fillna(2,inplace=True)"
   ]
  },
  {
   "cell_type": "code",
   "execution_count": 55,
   "metadata": {},
   "outputs": [
    {
     "data": {
      "text/plain": [
       "2    466\n",
       "1     34\n",
       "Name: Resturant Tier, dtype: int64"
      ]
     },
     "execution_count": 55,
     "metadata": {},
     "output_type": "execute_result"
    }
   ],
   "source": [
    "test_Data['Resturant Tier'].value_counts()"
   ]
  },
  {
   "cell_type": "code",
   "execution_count": 56,
   "metadata": {},
   "outputs": [
    {
     "data": {
      "text/plain": [
       "Ttest_indResult(statistic=-10.735586009550028, pvalue=1.7859428450980634e-26)"
      ]
     },
     "execution_count": 56,
     "metadata": {},
     "output_type": "execute_result"
    }
   ],
   "source": [
    "data=pd.DataFrame(df_train['Resturant Tier'])\n",
    "data['revenue']=target\n",
    "t1=data[data['Resturant Tier']==2]['revenue']\n",
    "t2=data[data['Resturant Tier']==1]['revenue']\n",
    "stats.ttest_ind(t1,t2)"
   ]
  },
  {
   "cell_type": "markdown",
   "metadata": {},
   "source": [
    "###### Restaurant Type"
   ]
  },
  {
   "cell_type": "code",
   "execution_count": 57,
   "metadata": {},
   "outputs": [
    {
     "data": {
      "text/plain": [
       "Bar                         3235\n",
       "Caffee                       212\n",
       "Gastro Bar                    45\n",
       "Buffet/Family Restaurant       1\n",
       "Name: Restaurant Type, dtype: int64"
      ]
     },
     "execution_count": 57,
     "metadata": {},
     "output_type": "execute_result"
    }
   ],
   "source": [
    "df_train['Restaurant Type'].value_counts()"
   ]
  },
  {
   "cell_type": "code",
   "execution_count": 58,
   "metadata": {},
   "outputs": [
    {
     "data": {
      "text/plain": [
       "Bar                         460\n",
       "Caffee                       31\n",
       "Gastro Bar                    8\n",
       "Buffet/Family Restaurant      1\n",
       "Name: Restaurant Type, dtype: int64"
      ]
     },
     "execution_count": 58,
     "metadata": {},
     "output_type": "execute_result"
    }
   ],
   "source": [
    "test_Data['Restaurant Type'].value_counts()"
   ]
  },
  {
   "cell_type": "code",
   "execution_count": null,
   "metadata": {},
   "outputs": [],
   "source": []
  },
  {
   "cell_type": "markdown",
   "metadata": {},
   "source": [
    "###### Restaurant Zomato Rating"
   ]
  },
  {
   "cell_type": "code",
   "execution_count": 59,
   "metadata": {},
   "outputs": [
    {
     "data": {
      "text/plain": [
       "3    1654\n",
       "2    1228\n",
       "4     417\n",
       "1     143\n",
       "5      38\n",
       "0      13\n",
       "Name: Restaurant Zomato Rating, dtype: int64"
      ]
     },
     "execution_count": 59,
     "metadata": {},
     "output_type": "execute_result"
    }
   ],
   "source": [
    "df_train['Restaurant Zomato Rating'].value_counts()"
   ]
  },
  {
   "cell_type": "code",
   "execution_count": 60,
   "metadata": {},
   "outputs": [],
   "source": [
    "k=[]\n",
    "for i in df_train['Restaurant Zomato Rating']:\n",
    "    if i<2:\n",
    "        k.append('BelowAvg')\n",
    "    elif i>=2 and i<4:\n",
    "        k.append('Avg')\n",
    "    else:\n",
    "        k.append('AboveAvg')\n",
    "df_train['Restaurant Zomato Rating']=k"
   ]
  },
  {
   "cell_type": "code",
   "execution_count": 61,
   "metadata": {},
   "outputs": [
    {
     "data": {
      "text/plain": [
       "3    223\n",
       "2    188\n",
       "4     66\n",
       "1     18\n",
       "5      5\n",
       "Name: Restaurant Zomato Rating, dtype: int64"
      ]
     },
     "execution_count": 61,
     "metadata": {},
     "output_type": "execute_result"
    }
   ],
   "source": [
    "test_Data['Restaurant Zomato Rating'].value_counts()"
   ]
  },
  {
   "cell_type": "code",
   "execution_count": 62,
   "metadata": {},
   "outputs": [],
   "source": [
    "k=[]\n",
    "for i in test_Data['Restaurant Zomato Rating']:\n",
    "    if i<2:\n",
    "        k.append('BelowAvg')\n",
    "    elif i>=2 and i<4:\n",
    "        k.append('Avg')\n",
    "    else:\n",
    "        k.append('AboveAvg')\n",
    "test_Data['Restaurant Zomato Rating']=k"
   ]
  },
  {
   "cell_type": "markdown",
   "metadata": {},
   "source": [
    "###### Restaurant THeme"
   ]
  },
  {
   "cell_type": "code",
   "execution_count": 63,
   "metadata": {},
   "outputs": [
    {
     "data": {
      "text/plain": [
       "Arabian      1373\n",
       "Greek        1030\n",
       "90's          584\n",
       "Nature        179\n",
       "Parsi         103\n",
       "Chinese        74\n",
       "Delicio        23\n",
       "Molino         22\n",
       "English        19\n",
       "Belise         14\n",
       "Downtown       10\n",
       "Moonrise       10\n",
       "Mise En         7\n",
       "TheGem          6\n",
       "Carbone         4\n",
       "Petit           4\n",
       "Marco           4\n",
       "Picante         3\n",
       "Benedicta       3\n",
       "Umami           3\n",
       "Cafepro         2\n",
       "Savory          2\n",
       "Bettaso         2\n",
       "Resca           2\n",
       "Cinnamon        1\n",
       "Italica         1\n",
       "Grand           1\n",
       "Bakery          1\n",
       "Piquant         1\n",
       "Ambiance        1\n",
       "Flavors         1\n",
       "Sage            1\n",
       "Spoon           1\n",
       "LaCuisine       1\n",
       "Name: Restaurant Theme, dtype: int64"
      ]
     },
     "execution_count": 63,
     "metadata": {},
     "output_type": "execute_result"
    }
   ],
   "source": [
    "df_train['Restaurant Theme'].value_counts()\n",
    "# all the names other than arabian ,greek,90s,nature,parsi,chinese will be concidered \"others\" "
   ]
  },
  {
   "cell_type": "code",
   "execution_count": 64,
   "metadata": {},
   "outputs": [
    {
     "data": {
      "text/plain": [
       "Arabian      219\n",
       "Greek        133\n",
       "90's          75\n",
       "Nature        22\n",
       "Parsi         18\n",
       "Chinese        8\n",
       "Molino         7\n",
       "Delicio        4\n",
       "Moonrise       3\n",
       "Mise En        2\n",
       "Carbone        2\n",
       "Belise         1\n",
       "Ambiance       1\n",
       "Petit          1\n",
       "Picante        1\n",
       "Benedicta      1\n",
       "Marco          1\n",
       "English        1\n",
       "Name: Restaurant Theme, dtype: int64"
      ]
     },
     "execution_count": 64,
     "metadata": {},
     "output_type": "execute_result"
    }
   ],
   "source": [
    "test_Data['Restaurant Theme'].value_counts()"
   ]
  },
  {
   "cell_type": "code",
   "execution_count": 65,
   "metadata": {},
   "outputs": [],
   "source": [
    "k=['Arabian','Greek',\"90's\",'Nature','Parsi','Chinese']\n",
    "l=[]\n",
    "for i in df_train['Restaurant Theme']:\n",
    "    if i not in k:\n",
    "        l.append('Others')\n",
    "    else:\n",
    "        l.append(i)\n",
    "df_train['Restaurant Theme']=l\n",
    "\n",
    "l=[]\n",
    "for i in test_Data['Restaurant Theme']:\n",
    "    if i not in k:\n",
    "        l.append('Others')\n",
    "    else:\n",
    "        l.append(i)\n",
    "test_Data['Restaurant Theme']=l"
   ]
  },
  {
   "cell_type": "code",
   "execution_count": 66,
   "metadata": {},
   "outputs": [
    {
     "data": {
      "text/plain": [
       "Arabian    1373\n",
       "Greek      1030\n",
       "90's        584\n",
       "Nature      179\n",
       "Others      150\n",
       "Parsi       103\n",
       "Chinese      74\n",
       "Name: Restaurant Theme, dtype: int64"
      ]
     },
     "execution_count": 66,
     "metadata": {},
     "output_type": "execute_result"
    }
   ],
   "source": [
    "df_train['Restaurant Theme'].value_counts()\n"
   ]
  },
  {
   "cell_type": "code",
   "execution_count": 67,
   "metadata": {},
   "outputs": [
    {
     "data": {
      "text/plain": [
       "Arabian    219\n",
       "Greek      133\n",
       "90's        75\n",
       "Others      25\n",
       "Nature      22\n",
       "Parsi       18\n",
       "Chinese      8\n",
       "Name: Restaurant Theme, dtype: int64"
      ]
     },
     "execution_count": 67,
     "metadata": {},
     "output_type": "execute_result"
    }
   ],
   "source": [
    "test_Data['Restaurant Theme'].value_counts()"
   ]
  },
  {
   "cell_type": "code",
   "execution_count": null,
   "metadata": {},
   "outputs": [],
   "source": []
  },
  {
   "cell_type": "markdown",
   "metadata": {},
   "source": [
    "###### Order Wait Time\t|| Staff Responsivness\t|| Value for Money\t|| Hygiene Rating\t|| Food Rating\t|| Overall Restaurant Rating\t||\n",
    "  #### Live Music Rating || Ambience"
   ]
  },
  {
   "cell_type": "code",
   "execution_count": 68,
   "metadata": {},
   "outputs": [
    {
     "data": {
      "text/plain": [
       "Index(['Restaurant Location', 'Years_Old', 'Popularity', 'Endorsed By',\n",
       "       'Fire Audit', 'Liquor License Obtained', 'Situated in a Multi Complex',\n",
       "       'Dedicated Parking', 'Open Sitting Available', 'Resturant Tier',\n",
       "       'Restaurant Type', 'Restaurant Theme', 'Restaurant Zomato Rating',\n",
       "       'Restaurant City Tier', 'Order Wait Time', 'Staff Responsivness',\n",
       "       'Value for Money', 'Hygiene Rating', 'Food Rating',\n",
       "       'Overall Restaurant Rating', 'Live Music Rating', 'Ambience', 'Lively',\n",
       "       'Service', 'Comfortablility', 'Privacy'],\n",
       "      dtype='object')"
      ]
     },
     "execution_count": 68,
     "metadata": {},
     "output_type": "execute_result"
    }
   ],
   "source": [
    "df_train.columns"
   ]
  },
  {
   "cell_type": "code",
   "execution_count": 69,
   "metadata": {},
   "outputs": [],
   "source": [
    "data=df_train[['Order Wait Time', 'Staff Responsivness', 'Value for Money',\n",
    "       'Hygiene Rating', 'Food Rating', 'Overall Restaurant Rating',\n",
    "       'Live Music Rating','Ambience','Lively', 'Service', 'Comfortablility',\n",
    "       'Privacy']].copy(deep=True)"
   ]
  },
  {
   "cell_type": "code",
   "execution_count": 70,
   "metadata": {},
   "outputs": [],
   "source": [
    "data_test_rating=test_Data[['Order Wait Time', 'Staff Responsivness', 'Value for Money',\n",
    "       'Hygiene Rating', 'Food Rating', 'Overall Restaurant Rating',\n",
    "       'Live Music Rating','Ambience','Lively', 'Service', 'Comfortablility',\n",
    "       'Privacy']].copy(deep=True)"
   ]
  },
  {
   "cell_type": "code",
   "execution_count": 71,
   "metadata": {},
   "outputs": [
    {
     "data": {
      "text/html": [
       "<div>\n",
       "<style scoped>\n",
       "    .dataframe tbody tr th:only-of-type {\n",
       "        vertical-align: middle;\n",
       "    }\n",
       "\n",
       "    .dataframe tbody tr th {\n",
       "        vertical-align: top;\n",
       "    }\n",
       "\n",
       "    .dataframe thead th {\n",
       "        text-align: right;\n",
       "    }\n",
       "</style>\n",
       "<table border=\"1\" class=\"dataframe\">\n",
       "  <thead>\n",
       "    <tr style=\"text-align: right;\">\n",
       "      <th></th>\n",
       "      <th>Order Wait Time</th>\n",
       "      <th>Staff Responsivness</th>\n",
       "      <th>Value for Money</th>\n",
       "      <th>Hygiene Rating</th>\n",
       "      <th>Food Rating</th>\n",
       "      <th>Overall Restaurant Rating</th>\n",
       "      <th>Live Music Rating</th>\n",
       "      <th>Ambience</th>\n",
       "      <th>Lively</th>\n",
       "      <th>Service</th>\n",
       "      <th>Comfortablility</th>\n",
       "      <th>Privacy</th>\n",
       "    </tr>\n",
       "  </thead>\n",
       "  <tbody>\n",
       "    <tr>\n",
       "      <th>0</th>\n",
       "      <td>2</td>\n",
       "      <td>5</td>\n",
       "      <td>5</td>\n",
       "      <td>5</td>\n",
       "      <td>7</td>\n",
       "      <td>10.0</td>\n",
       "      <td>4.0</td>\n",
       "      <td>8.0</td>\n",
       "      <td>8</td>\n",
       "      <td>6</td>\n",
       "      <td>6</td>\n",
       "      <td>6</td>\n",
       "    </tr>\n",
       "    <tr>\n",
       "      <th>1</th>\n",
       "      <td>6</td>\n",
       "      <td>6</td>\n",
       "      <td>6</td>\n",
       "      <td>7</td>\n",
       "      <td>8</td>\n",
       "      <td>9.0</td>\n",
       "      <td>NaN</td>\n",
       "      <td>5.0</td>\n",
       "      <td>7</td>\n",
       "      <td>7</td>\n",
       "      <td>3</td>\n",
       "      <td>8</td>\n",
       "    </tr>\n",
       "    <tr>\n",
       "      <th>2</th>\n",
       "      <td>2</td>\n",
       "      <td>6</td>\n",
       "      <td>5</td>\n",
       "      <td>3</td>\n",
       "      <td>7</td>\n",
       "      <td>8.0</td>\n",
       "      <td>3.0</td>\n",
       "      <td>7.0</td>\n",
       "      <td>10</td>\n",
       "      <td>5</td>\n",
       "      <td>2</td>\n",
       "      <td>8</td>\n",
       "    </tr>\n",
       "    <tr>\n",
       "      <th>3</th>\n",
       "      <td>7</td>\n",
       "      <td>6</td>\n",
       "      <td>5</td>\n",
       "      <td>6</td>\n",
       "      <td>8</td>\n",
       "      <td>9.0</td>\n",
       "      <td>6.0</td>\n",
       "      <td>7.0</td>\n",
       "      <td>7</td>\n",
       "      <td>4</td>\n",
       "      <td>3</td>\n",
       "      <td>5</td>\n",
       "    </tr>\n",
       "    <tr>\n",
       "      <th>4</th>\n",
       "      <td>10</td>\n",
       "      <td>5</td>\n",
       "      <td>6</td>\n",
       "      <td>4</td>\n",
       "      <td>8</td>\n",
       "      <td>6.0</td>\n",
       "      <td>NaN</td>\n",
       "      <td>NaN</td>\n",
       "      <td>6</td>\n",
       "      <td>2</td>\n",
       "      <td>4</td>\n",
       "      <td>6</td>\n",
       "    </tr>\n",
       "  </tbody>\n",
       "</table>\n",
       "</div>"
      ],
      "text/plain": [
       "   Order Wait Time  Staff Responsivness  Value for Money  Hygiene Rating  \\\n",
       "0                2                    5                5               5   \n",
       "1                6                    6                6               7   \n",
       "2                2                    6                5               3   \n",
       "3                7                    6                5               6   \n",
       "4               10                    5                6               4   \n",
       "\n",
       "   Food Rating  Overall Restaurant Rating  Live Music Rating  Ambience  \\\n",
       "0            7                       10.0                4.0       8.0   \n",
       "1            8                        9.0                NaN       5.0   \n",
       "2            7                        8.0                3.0       7.0   \n",
       "3            8                        9.0                6.0       7.0   \n",
       "4            8                        6.0                NaN       NaN   \n",
       "\n",
       "   Lively  Service  Comfortablility  Privacy  \n",
       "0       8        6                6        6  \n",
       "1       7        7                3        8  \n",
       "2      10        5                2        8  \n",
       "3       7        4                3        5  \n",
       "4       6        2                4        6  "
      ]
     },
     "execution_count": 71,
     "metadata": {},
     "output_type": "execute_result"
    }
   ],
   "source": [
    "data.head()"
   ]
  },
  {
   "cell_type": "code",
   "execution_count": 72,
   "metadata": {},
   "outputs": [
    {
     "name": "stdout",
     "output_type": "stream",
     "text": [
      "4.01282991202346\n",
      "4.0\n",
      "6.423010380622838\n",
      "7.0\n"
     ]
    }
   ],
   "source": [
    "print(data['Live Music Rating'].mean())\n",
    "print(data['Live Music Rating'].median())\n",
    "print(data['Ambience'].mean())\n",
    "print(data['Ambience'].median())\n"
   ]
  },
  {
   "cell_type": "code",
   "execution_count": 73,
   "metadata": {},
   "outputs": [],
   "source": [
    "df_train['Live Music Rating'].fillna(4,inplace=True)\n",
    "data['Live Music Rating'].fillna(4,inplace=True)# replacing by median\n",
    "df_train['Ambience'].fillna(7,inplace=True)\n",
    "data['Ambience'].fillna(7,inplace=True)# replacing by median\n",
    "df_train['Overall Restaurant Rating'].fillna(7,inplace=True)\n",
    "data['Overall Restaurant Rating'].fillna(7,inplace=True)"
   ]
  },
  {
   "cell_type": "code",
   "execution_count": 74,
   "metadata": {},
   "outputs": [],
   "source": [
    "test_Data['Live Music Rating'].fillna(4,inplace=True)\n",
    "data_test_rating['Live Music Rating'].fillna(4,inplace=True)# replacing by median\n",
    "test_Data['Ambience'].fillna(7,inplace=True)\n",
    "data_test_rating['Ambience'].fillna(7,inplace=True)# replacing by median"
   ]
  },
  {
   "cell_type": "code",
   "execution_count": 75,
   "metadata": {},
   "outputs": [],
   "source": [
    "df_train['Overall Restaurant Rating'].fillna(9.0,inplace=True)\n",
    "data['Overall Restaurant Rating'].fillna(9.0,inplace=True)"
   ]
  },
  {
   "cell_type": "code",
   "execution_count": 76,
   "metadata": {},
   "outputs": [],
   "source": [
    "test_Data['Overall Restaurant Rating'].fillna(9.0,inplace=True)\n",
    "data_test_rating['Overall Restaurant Rating'].fillna(9.0,inplace=True)"
   ]
  },
  {
   "cell_type": "code",
   "execution_count": 77,
   "metadata": {},
   "outputs": [
    {
     "data": {
      "text/plain": [
       "Index(['Order Wait Time', 'Staff Responsivness', 'Value for Money',\n",
       "       'Hygiene Rating', 'Food Rating', 'Overall Restaurant Rating',\n",
       "       'Live Music Rating', 'Ambience', 'Lively', 'Service', 'Comfortablility',\n",
       "       'Privacy'],\n",
       "      dtype='object')"
      ]
     },
     "execution_count": 77,
     "metadata": {},
     "output_type": "execute_result"
    }
   ],
   "source": [
    "data.columns"
   ]
  },
  {
   "cell_type": "raw",
   "metadata": {},
   "source": [
    "for i in data:\n",
    "    print(data[i].value_counts(),'\\n')"
   ]
  },
  {
   "cell_type": "code",
   "execution_count": 78,
   "metadata": {},
   "outputs": [
    {
     "data": {
      "text/plain": [
       "<matplotlib.axes._subplots.AxesSubplot at 0x174be4cef70>"
      ]
     },
     "execution_count": 78,
     "metadata": {},
     "output_type": "execute_result"
    },
    {
     "data": {
      "image/png": "[encoded data removed]",
      "text/plain": [
       "<Figure size 864x576 with 2 Axes>"
      ]
     },
     "metadata": {
      "needs_background": "light"
     },
     "output_type": "display_data"
    }
   ],
   "source": [
    "plt.rcParams['figure.figsize']=[12,8]\n",
    "sns.heatmap(data.corr(),annot=True)"
   ]
  },
  {
   "cell_type": "markdown",
   "metadata": {},
   "source": [
    "    Overall Restaiurant Rating, Overall wait time and Food rating shows no collinearity with any variable"
   ]
  },
  {
   "cell_type": "code",
   "execution_count": 79,
   "metadata": {},
   "outputs": [
    {
     "data": {
      "text/plain": [
       "<matplotlib.axes._subplots.AxesSubplot at 0x174be39eb20>"
      ]
     },
     "execution_count": 79,
     "metadata": {},
     "output_type": "execute_result"
    },
    {
     "data": {
      "image/png": "[encoded data removed]",
      "text/plain": [
       "<Figure size 1008x360 with 4 Axes>"
      ]
     },
     "metadata": {
      "needs_background": "light"
     },
     "output_type": "display_data"
    }
   ],
   "source": [
    "plt.rcParams['figure.figsize']=[14,5]\n",
    "plt.subplot(1,2,1)\n",
    "sns.heatmap(data[[ 'Staff Responsivness', 'Value for Money',\n",
    "       'Hygiene Rating','Live Music Rating','Overall Restaurant Rating']].corr(),annot=True)\n",
    "plt.subplot(1,2,2)\n",
    "sns.heatmap(data[['Ambience', 'Lively', 'Service', 'Comfortablility',\n",
    "       'Privacy']].corr(),annot=True)"
   ]
  },
  {
   "cell_type": "markdown",
   "metadata": {},
   "source": [
    "    we can see the 2 heat mat forming 2 groups \n",
    "    'Ambience', 'Lively', 'Service', 'Privacy'\n",
    "\n",
    "    'Staff Responsivness', 'Value for Money','Hygiene Rating','Live Music Rating'"
   ]
  },
  {
   "cell_type": "code",
   "execution_count": 80,
   "metadata": {},
   "outputs": [],
   "source": [
    "group2=(data['Ambience']+data['Lively']+data['Service']+data['Privacy'])/4\n",
    "group1=(data['Staff Responsivness']+data['Value for Money']+data['Hygiene Rating']+data['Live Music Rating'])/4\n",
    "data['group1']=group1\n",
    "data['group2']=group2"
   ]
  },
  {
   "cell_type": "code",
   "execution_count": 81,
   "metadata": {},
   "outputs": [],
   "source": [
    "group2_test=(data_test_rating['Ambience']+data_test_rating['Lively']+data_test_rating['Service']+data_test_rating['Privacy'])/4\n",
    "group1_test=(data_test_rating['Staff Responsivness']+data_test_rating['Value for Money']+\n",
    "             data_test_rating['Hygiene Rating']+data_test_rating['Live Music Rating'])/4\n",
    "data_test_rating['group1']=group1_test\n",
    "data_test_rating['group2']=group2_test"
   ]
  },
  {
   "cell_type": "code",
   "execution_count": 82,
   "metadata": {},
   "outputs": [
    {
     "data": {
      "text/plain": [
       "<matplotlib.axes._subplots.AxesSubplot at 0x174bec440d0>"
      ]
     },
     "execution_count": 82,
     "metadata": {},
     "output_type": "execute_result"
    },
    {
     "data": {
      "image/png": "[encoded data removed]",
      "text/plain": [
       "<Figure size 1008x360 with 2 Axes>"
      ]
     },
     "metadata": {
      "needs_background": "light"
     },
     "output_type": "display_data"
    }
   ],
   "source": [
    "plt.subplot(1,2,1)\n",
    "group1.hist()\n",
    "plt.subplot(1,2,2)\n",
    "group2.hist()"
   ]
  },
  {
   "cell_type": "code",
   "execution_count": 83,
   "metadata": {},
   "outputs": [
    {
     "data": {
      "text/plain": [
       "Index(['Order Wait Time', 'Staff Responsivness', 'Value for Money',\n",
       "       'Hygiene Rating', 'Food Rating', 'Overall Restaurant Rating',\n",
       "       'Live Music Rating', 'Ambience', 'Lively', 'Service', 'Comfortablility',\n",
       "       'Privacy', 'group1', 'group2'],\n",
       "      dtype='object')"
      ]
     },
     "execution_count": 83,
     "metadata": {},
     "output_type": "execute_result"
    }
   ],
   "source": [
    "data.columns"
   ]
  },
  {
   "cell_type": "code",
   "execution_count": 84,
   "metadata": {},
   "outputs": [
    {
     "data": {
      "text/plain": [
       "<matplotlib.axes._subplots.AxesSubplot at 0x174bec19190>"
      ]
     },
     "execution_count": 84,
     "metadata": {},
     "output_type": "execute_result"
    },
    {
     "data": {
      "image/png": "[encoded data removed]",
      "text/plain": [
       "<Figure size 576x360 with 2 Axes>"
      ]
     },
     "metadata": {
      "needs_background": "light"
     },
     "output_type": "display_data"
    }
   ],
   "source": [
    "plt.rcParams['figure.figsize']=[8,5]\n",
    "\n",
    "sns.heatmap(data[['Order Wait Time','Food Rating', 'Comfortablility','group1', 'group2','Overall Restaurant Rating']].corr(),\n",
    "            annot=True)"
   ]
  },
  {
   "cell_type": "code",
   "execution_count": 85,
   "metadata": {},
   "outputs": [],
   "source": [
    "## dropping from main dataframe\n",
    "df_train.drop(['Ambience', 'Lively', 'Service', 'Privacy','Staff Responsivness',\n",
    "               'Value for Money','Hygiene Rating','Live Music Rating'],axis=1,inplace=True)\n",
    "\n",
    "## dropping from main dataframe\n",
    "test_Data.drop(['Ambience', 'Lively', 'Service', 'Privacy','Staff Responsivness',\n",
    "               'Value for Money','Hygiene Rating','Live Music Rating'],axis=1,inplace=True)\n"
   ]
  },
  {
   "cell_type": "code",
   "execution_count": 86,
   "metadata": {},
   "outputs": [
    {
     "data": {
      "image/png": "[encoded data removed]",
      "text/plain": [
       "<Figure size 1008x720 with 6 Axes>"
      ]
     },
     "metadata": {
      "needs_background": "light"
     },
     "output_type": "display_data"
    }
   ],
   "source": [
    "plt.rcParams['figure.figsize']=[14,10]\n",
    "plt.subplot(3,2,1)\n",
    "group1.hist()\n",
    "plt.xlabel('group1')\n",
    "plt.subplot(3,2,2)\n",
    "group2.hist()\n",
    "plt.xlabel('group2')\n",
    "plt.subplot(3,2,3)\n",
    "data['Order Wait Time'].hist()\n",
    "plt.xlabel('Order Wait Time')\n",
    "plt.subplot(3,2,4)\n",
    "data['Food Rating'].hist()\n",
    "plt.xlabel('FoodRating')\n",
    "plt.subplot(3,2,5)\n",
    "data['Comfortablility'].hist()\n",
    "plt.xlabel('confortablity')\n",
    "plt.subplot(3,2,6)\n",
    "data['Overall Restaurant Rating'].hist()\n",
    "plt.xlabel('Overall Restaurant Rating')\n",
    "plt.show()"
   ]
  },
  {
   "cell_type": "code",
   "execution_count": 87,
   "metadata": {
    "scrolled": true
   },
   "outputs": [
    {
     "name": "stdout",
     "output_type": "stream",
     "text": [
      "8     371\n",
      "5     368\n",
      "4     360\n",
      "10    351\n",
      "2     349\n",
      "6     349\n",
      "7     343\n",
      "1     340\n",
      "3     334\n",
      "9     328\n",
      "Name: Order Wait Time, dtype: int64 \n",
      "\n",
      "10    618\n",
      "7     611\n",
      "5     588\n",
      "9     576\n",
      "6     552\n",
      "8     548\n",
      "Name: Food Rating, dtype: int64 \n",
      "\n",
      "3     669\n",
      "2     638\n",
      "4     603\n",
      "5     417\n",
      "0     361\n",
      "1     323\n",
      "6     276\n",
      "7     142\n",
      "8      47\n",
      "9      12\n",
      "10      5\n",
      "Name: Comfortablility, dtype: int64 \n",
      "\n",
      "9.0     1016\n",
      "10.0     859\n",
      "7.0      797\n",
      "8.0      533\n",
      "6.0      288\n",
      "Name: Overall Restaurant Rating, dtype: int64 \n",
      "\n"
     ]
    }
   ],
   "source": [
    "for i in data[['Order Wait Time','Food Rating', 'Comfortablility','Overall Restaurant Rating']]:\n",
    "    print(data[i].value_counts(),'\\n')"
   ]
  },
  {
   "cell_type": "raw",
   "metadata": {},
   "source": [
    "## dropping from main dataframe\n",
    "df_train.drop(['Order Wait Time', 'Staff Responsivness', 'Value for Money',\n",
    "       'Hygiene Rating', 'Food Rating'],axis=1,inplace=True)\n",
    "\n",
    "df_train.drop('Live Music Rating',axis=1,inplace=True)\n",
    "\n",
    "## dropping from main dataframe\n",
    "test_Data.drop(['Order Wait Time', 'Staff Responsivness', 'Value for Money',\n",
    "       'Hygiene Rating', 'Food Rating'],axis=1,inplace=True)\n",
    "\n",
    "test_Data.drop('Live Music Rating',axis=1,inplace=True)"
   ]
  },
  {
   "cell_type": "raw",
   "metadata": {},
   "source": [
    "k=(data['Order Wait Time']+data['Staff Responsivness']+data['Value for Money']+data['Hygiene Rating']+data['Food Rating']\n",
    "  +data['Live Music Rating']+data['Ambience'])/7\n",
    "data['avg']=np.round(k)\n",
    "\n",
    "k=(data_test_rating['Order Wait Time']+data_test_rating['Staff Responsivness']+data_test_rating['Value for Money']+\n",
    "   data_test_rating['Hygiene Rating']+data_test_rating['Food Rating']\n",
    "  +data_test_rating['Live Music Rating']+data_test_rating['Ambience'])/7\n",
    "data_test_rating['avg']=np.round(k)"
   ]
  },
  {
   "cell_type": "code",
   "execution_count": 88,
   "metadata": {},
   "outputs": [],
   "source": [
    "k=[]\n",
    "for i in data['Food Rating']:\n",
    "    if i<7:\n",
    "        k.append('LowFoodRating')\n",
    "    elif i>8:\n",
    "        k.append('HighFoodRating')\n",
    "    else:\n",
    "        k.append('MediumFoodRating')\n",
    "df_train['Food Rating']=k\n",
    "k=[]\n",
    "for i in data['Overall Restaurant Rating']:\n",
    "    if i<7:\n",
    "        k.append('LowOverallRating')\n",
    "    elif i>8:\n",
    "        k.append('HighOverallRating')\n",
    "    else:\n",
    "        k.append('MediumOverallRating')\n",
    "df_train['Overall Restaurant Rating']=k\n",
    "\n",
    "k=[]\n",
    "for i in data['Order Wait Time']:\n",
    "    if i<6:\n",
    "        k.append('LowOrderWaitTime')\n",
    "    else:\n",
    "        k.append('HighOrderWaitTime')\n",
    "\n",
    "df_train['Order Wait Time']=k\n",
    "\n",
    "#G2-'Ambience', 'Lively', 'Service', 'Privacy',=Mood\n",
    "#G1-'Staff Responsivness','Value for Money','Hygiene Rating','Live Music Rating'=Hospitality\n",
    "\n",
    "k=[]\n",
    "for i in data['group1']:\n",
    "    if i<4:\n",
    "        k.append('LowHospitality')\n",
    "    elif i>6:\n",
    "        k.append('HighHospitality')\n",
    "    else:\n",
    "        k.append('MediumHospitality')\n",
    "df_train['Group1_Hospitality']=k\n",
    "k=[]\n",
    "for i in data['group2']:\n",
    "    if i<4:\n",
    "        k.append('LowMood')\n",
    "    elif i>6:\n",
    "        k.append('HighMood')\n",
    "    else:\n",
    "        k.append('MediumMood')\n",
    "df_train['Group2_Mood']=k\n",
    "k=[]\n",
    "for i in data['Comfortablility']:\n",
    "    if i<4:\n",
    "        k.append('LowComfort')\n",
    "    elif i>6:\n",
    "        k.append('HighComfort')\n",
    "    else:\n",
    "        k.append('MediumComfort')\n",
    "df_train['Comfortablility']=k"
   ]
  },
  {
   "cell_type": "code",
   "execution_count": null,
   "metadata": {},
   "outputs": [],
   "source": []
  },
  {
   "cell_type": "code",
   "execution_count": 89,
   "metadata": {},
   "outputs": [],
   "source": [
    "k=[]\n",
    "for i in data_test_rating['Food Rating']:\n",
    "    if i<7:\n",
    "        k.append('LowFoodRating')\n",
    "    elif i>8:\n",
    "        k.append('HighFoodRating')\n",
    "    else:\n",
    "        k.append('MediumFoodRating')\n",
    "test_Data['Food Rating']=k\n",
    "k=[]\n",
    "for i in data_test_rating['Overall Restaurant Rating']:\n",
    "    if i<7:\n",
    "        k.append('LowOverallRating')\n",
    "    elif i>8:\n",
    "        k.append('HighOverallRating')\n",
    "    else:\n",
    "        k.append('MediumOverallRating')\n",
    "test_Data['Overall Restaurant Rating']=k\n",
    "\n",
    "k=[]\n",
    "for i in data_test_rating['Order Wait Time']:\n",
    "    if i<6:\n",
    "        k.append('LowOrderWaitTime')\n",
    "    else:\n",
    "        k.append('HighOrderWaitTime')\n",
    "\n",
    "test_Data['Order Wait Time']=k\n",
    "\n",
    "k=[]\n",
    "for i in data_test_rating['group1']:\n",
    "    if i<4:\n",
    "        k.append('LowHospitality')\n",
    "    elif i>6:\n",
    "        k.append('HighHospitality')\n",
    "    else:\n",
    "        k.append('MediumHospitality')\n",
    "test_Data['Group1_Hospitality']=k\n",
    "k=[]\n",
    "for i in data_test_rating['group2']:\n",
    "    if i<4:\n",
    "        k.append('LowMood')\n",
    "    elif i>6:\n",
    "        k.append('HighMood')\n",
    "    else:\n",
    "        k.append('MediumMood')\n",
    "test_Data['Group2_Mood']=k\n",
    "k=[]\n",
    "for i in data_test_rating['Comfortablility']:\n",
    "    if i<4:\n",
    "        k.append('LowComfort')\n",
    "    elif i>6:\n",
    "        k.append('HighComfort')\n",
    "    else:\n",
    "        k.append('MediumComfort')\n",
    "test_Data['Comfortablility']=k"
   ]
  },
  {
   "cell_type": "raw",
   "metadata": {},
   "source": [
    "k=data['aggregate_overall']=(data['avg']+data['Overall Restaurant Rating'])/2\n",
    "\n",
    "df_train['aggregate_overall']=(data['avg']+data['Overall Restaurant Rating'])/2"
   ]
  },
  {
   "cell_type": "raw",
   "metadata": {},
   "source": []
  },
  {
   "cell_type": "code",
   "execution_count": 90,
   "metadata": {},
   "outputs": [
    {
     "data": {
      "text/html": [
       "<div>\n",
       "<style scoped>\n",
       "    .dataframe tbody tr th:only-of-type {\n",
       "        vertical-align: middle;\n",
       "    }\n",
       "\n",
       "    .dataframe tbody tr th {\n",
       "        vertical-align: top;\n",
       "    }\n",
       "\n",
       "    .dataframe thead th {\n",
       "        text-align: right;\n",
       "    }\n",
       "</style>\n",
       "<table border=\"1\" class=\"dataframe\">\n",
       "  <thead>\n",
       "    <tr style=\"text-align: right;\">\n",
       "      <th></th>\n",
       "      <th>Restaurant Location</th>\n",
       "      <th>Years_Old</th>\n",
       "      <th>Popularity</th>\n",
       "      <th>Endorsed By</th>\n",
       "      <th>Fire Audit</th>\n",
       "      <th>Liquor License Obtained</th>\n",
       "      <th>Situated in a Multi Complex</th>\n",
       "      <th>Dedicated Parking</th>\n",
       "      <th>Open Sitting Available</th>\n",
       "      <th>Resturant Tier</th>\n",
       "      <th>Restaurant Type</th>\n",
       "      <th>Restaurant Theme</th>\n",
       "      <th>Restaurant Zomato Rating</th>\n",
       "      <th>Restaurant City Tier</th>\n",
       "      <th>Order Wait Time</th>\n",
       "      <th>Food Rating</th>\n",
       "      <th>Overall Restaurant Rating</th>\n",
       "      <th>Comfortablility</th>\n",
       "      <th>Group1_Hospitality</th>\n",
       "      <th>Group2_Mood</th>\n",
       "    </tr>\n",
       "  </thead>\n",
       "  <tbody>\n",
       "    <tr>\n",
       "      <th>0</th>\n",
       "      <td>Near Business Hub</td>\n",
       "      <td>LessThanEq15Y-10Y</td>\n",
       "      <td>90.05</td>\n",
       "      <td>Not Specific</td>\n",
       "      <td>1</td>\n",
       "      <td>1</td>\n",
       "      <td>1</td>\n",
       "      <td>0</td>\n",
       "      <td>1</td>\n",
       "      <td>2.0</td>\n",
       "      <td>Bar</td>\n",
       "      <td>Arabian</td>\n",
       "      <td>Avg</td>\n",
       "      <td>0</td>\n",
       "      <td>LowOrderWaitTime</td>\n",
       "      <td>MediumFoodRating</td>\n",
       "      <td>HighOverallRating</td>\n",
       "      <td>MediumComfort</td>\n",
       "      <td>MediumHospitality</td>\n",
       "      <td>HighMood</td>\n",
       "    </tr>\n",
       "    <tr>\n",
       "      <th>1</th>\n",
       "      <td>Near Party Hub</td>\n",
       "      <td>LessThanEq15Y-10Y</td>\n",
       "      <td>85.20</td>\n",
       "      <td>Tier A Celebrity</td>\n",
       "      <td>1</td>\n",
       "      <td>1</td>\n",
       "      <td>1</td>\n",
       "      <td>1</td>\n",
       "      <td>0</td>\n",
       "      <td>2.0</td>\n",
       "      <td>Bar</td>\n",
       "      <td>Greek</td>\n",
       "      <td>Avg</td>\n",
       "      <td>0</td>\n",
       "      <td>HighOrderWaitTime</td>\n",
       "      <td>MediumFoodRating</td>\n",
       "      <td>HighOverallRating</td>\n",
       "      <td>LowComfort</td>\n",
       "      <td>MediumHospitality</td>\n",
       "      <td>HighMood</td>\n",
       "    </tr>\n",
       "    <tr>\n",
       "      <th>2</th>\n",
       "      <td>Near Business Hub</td>\n",
       "      <td>LessThanEq10Y</td>\n",
       "      <td>76.60</td>\n",
       "      <td>Tier A Celebrity</td>\n",
       "      <td>1</td>\n",
       "      <td>1</td>\n",
       "      <td>1</td>\n",
       "      <td>1</td>\n",
       "      <td>0</td>\n",
       "      <td>2.0</td>\n",
       "      <td>Bar</td>\n",
       "      <td>90's</td>\n",
       "      <td>Avg</td>\n",
       "      <td>0</td>\n",
       "      <td>LowOrderWaitTime</td>\n",
       "      <td>MediumFoodRating</td>\n",
       "      <td>MediumOverallRating</td>\n",
       "      <td>LowComfort</td>\n",
       "      <td>MediumHospitality</td>\n",
       "      <td>HighMood</td>\n",
       "    </tr>\n",
       "    <tr>\n",
       "      <th>3</th>\n",
       "      <td>Near Party Hub</td>\n",
       "      <td>LessThanEq15Y-10Y</td>\n",
       "      <td>84.60</td>\n",
       "      <td>Tier A Celebrity</td>\n",
       "      <td>0</td>\n",
       "      <td>1</td>\n",
       "      <td>1</td>\n",
       "      <td>1</td>\n",
       "      <td>1</td>\n",
       "      <td>1.0</td>\n",
       "      <td>Bar</td>\n",
       "      <td>Arabian</td>\n",
       "      <td>Avg</td>\n",
       "      <td>1</td>\n",
       "      <td>HighOrderWaitTime</td>\n",
       "      <td>MediumFoodRating</td>\n",
       "      <td>HighOverallRating</td>\n",
       "      <td>LowComfort</td>\n",
       "      <td>MediumHospitality</td>\n",
       "      <td>MediumMood</td>\n",
       "    </tr>\n",
       "    <tr>\n",
       "      <th>4</th>\n",
       "      <td>Near Party Hub</td>\n",
       "      <td>LessThanEq15Y-10Y</td>\n",
       "      <td>76.80</td>\n",
       "      <td>Tier A Celebrity</td>\n",
       "      <td>1</td>\n",
       "      <td>1</td>\n",
       "      <td>1</td>\n",
       "      <td>1</td>\n",
       "      <td>1</td>\n",
       "      <td>2.0</td>\n",
       "      <td>Bar</td>\n",
       "      <td>Greek</td>\n",
       "      <td>Avg</td>\n",
       "      <td>0</td>\n",
       "      <td>HighOrderWaitTime</td>\n",
       "      <td>MediumFoodRating</td>\n",
       "      <td>LowOverallRating</td>\n",
       "      <td>MediumComfort</td>\n",
       "      <td>MediumHospitality</td>\n",
       "      <td>MediumMood</td>\n",
       "    </tr>\n",
       "  </tbody>\n",
       "</table>\n",
       "</div>"
      ],
      "text/plain": [
       "  Restaurant Location          Years_Old  Popularity       Endorsed By  \\\n",
       "0   Near Business Hub  LessThanEq15Y-10Y       90.05      Not Specific   \n",
       "1      Near Party Hub  LessThanEq15Y-10Y       85.20  Tier A Celebrity   \n",
       "2   Near Business Hub      LessThanEq10Y       76.60  Tier A Celebrity   \n",
       "3      Near Party Hub  LessThanEq15Y-10Y       84.60  Tier A Celebrity   \n",
       "4      Near Party Hub  LessThanEq15Y-10Y       76.80  Tier A Celebrity   \n",
       "\n",
       "   Fire Audit  Liquor License Obtained  Situated in a Multi Complex  \\\n",
       "0           1                        1                            1   \n",
       "1           1                        1                            1   \n",
       "2           1                        1                            1   \n",
       "3           0                        1                            1   \n",
       "4           1                        1                            1   \n",
       "\n",
       "   Dedicated Parking  Open Sitting Available  Resturant Tier Restaurant Type  \\\n",
       "0                  0                       1             2.0             Bar   \n",
       "1                  1                       0             2.0             Bar   \n",
       "2                  1                       0             2.0             Bar   \n",
       "3                  1                       1             1.0             Bar   \n",
       "4                  1                       1             2.0             Bar   \n",
       "\n",
       "  Restaurant Theme Restaurant Zomato Rating  Restaurant City Tier  \\\n",
       "0          Arabian                      Avg                     0   \n",
       "1            Greek                      Avg                     0   \n",
       "2             90's                      Avg                     0   \n",
       "3          Arabian                      Avg                     1   \n",
       "4            Greek                      Avg                     0   \n",
       "\n",
       "     Order Wait Time       Food Rating Overall Restaurant Rating  \\\n",
       "0   LowOrderWaitTime  MediumFoodRating         HighOverallRating   \n",
       "1  HighOrderWaitTime  MediumFoodRating         HighOverallRating   \n",
       "2   LowOrderWaitTime  MediumFoodRating       MediumOverallRating   \n",
       "3  HighOrderWaitTime  MediumFoodRating         HighOverallRating   \n",
       "4  HighOrderWaitTime  MediumFoodRating          LowOverallRating   \n",
       "\n",
       "  Comfortablility Group1_Hospitality Group2_Mood  \n",
       "0   MediumComfort  MediumHospitality    HighMood  \n",
       "1      LowComfort  MediumHospitality    HighMood  \n",
       "2      LowComfort  MediumHospitality    HighMood  \n",
       "3      LowComfort  MediumHospitality  MediumMood  \n",
       "4   MediumComfort  MediumHospitality  MediumMood  "
      ]
     },
     "execution_count": 90,
     "metadata": {},
     "output_type": "execute_result"
    }
   ],
   "source": [
    "df_train.head()"
   ]
  },
  {
   "cell_type": "code",
   "execution_count": 91,
   "metadata": {},
   "outputs": [
    {
     "data": {
      "text/plain": [
       "Restaurant Location            0\n",
       "Years_Old                      0\n",
       "Popularity                     0\n",
       "Endorsed By                    0\n",
       "Fire Audit                     0\n",
       "Liquor License Obtained        0\n",
       "Situated in a Multi Complex    0\n",
       "Dedicated Parking              0\n",
       "Open Sitting Available         0\n",
       "Resturant Tier                 0\n",
       "Restaurant Type                0\n",
       "Restaurant Theme               0\n",
       "Restaurant Zomato Rating       0\n",
       "Restaurant City Tier           0\n",
       "Order Wait Time                0\n",
       "Food Rating                    0\n",
       "Overall Restaurant Rating      0\n",
       "Comfortablility                0\n",
       "Group1_Hospitality             0\n",
       "Group2_Mood                    0\n",
       "dtype: int64"
      ]
     },
     "execution_count": 91,
     "metadata": {},
     "output_type": "execute_result"
    }
   ],
   "source": [
    "df_train.isna().sum()"
   ]
  },
  {
   "cell_type": "code",
   "execution_count": 92,
   "metadata": {},
   "outputs": [
    {
     "name": "stdout",
     "output_type": "stream",
     "text": [
      "<class 'pandas.core.frame.DataFrame'>\n",
      "RangeIndex: 3493 entries, 0 to 3492\n",
      "Data columns (total 20 columns):\n",
      " #   Column                       Non-Null Count  Dtype  \n",
      "---  ------                       --------------  -----  \n",
      " 0   Restaurant Location          3493 non-null   object \n",
      " 1   Years_Old                    3493 non-null   object \n",
      " 2   Popularity                   3493 non-null   float64\n",
      " 3   Endorsed By                  3493 non-null   object \n",
      " 4   Fire Audit                   3493 non-null   int64  \n",
      " 5   Liquor License Obtained      3493 non-null   int64  \n",
      " 6   Situated in a Multi Complex  3493 non-null   int64  \n",
      " 7   Dedicated Parking            3493 non-null   int64  \n",
      " 8   Open Sitting Available       3493 non-null   int64  \n",
      " 9   Resturant Tier               3493 non-null   float64\n",
      " 10  Restaurant Type              3493 non-null   object \n",
      " 11  Restaurant Theme             3493 non-null   object \n",
      " 12  Restaurant Zomato Rating     3493 non-null   object \n",
      " 13  Restaurant City Tier         3493 non-null   int64  \n",
      " 14  Order Wait Time              3493 non-null   object \n",
      " 15  Food Rating                  3493 non-null   object \n",
      " 16  Overall Restaurant Rating    3493 non-null   object \n",
      " 17  Comfortablility              3493 non-null   object \n",
      " 18  Group1_Hospitality           3493 non-null   object \n",
      " 19  Group2_Mood                  3493 non-null   object \n",
      "dtypes: float64(2), int64(6), object(12)\n",
      "memory usage: 545.9+ KB\n"
     ]
    }
   ],
   "source": [
    "df_train.info()"
   ]
  },
  {
   "cell_type": "code",
   "execution_count": 93,
   "metadata": {},
   "outputs": [
    {
     "data": {
      "text/plain": [
       "(3493, 20)"
      ]
     },
     "execution_count": 93,
     "metadata": {},
     "output_type": "execute_result"
    }
   ],
   "source": [
    "df_train.shape"
   ]
  },
  {
   "cell_type": "code",
   "execution_count": 94,
   "metadata": {},
   "outputs": [
    {
     "data": {
      "text/plain": [
       "(500, 20)"
      ]
     },
     "execution_count": 94,
     "metadata": {},
     "output_type": "execute_result"
    }
   ],
   "source": [
    "test_Data.shape"
   ]
  },
  {
   "cell_type": "code",
   "execution_count": 95,
   "metadata": {},
   "outputs": [
    {
     "data": {
      "text/plain": [
       "(3493, 25)"
      ]
     },
     "execution_count": 95,
     "metadata": {},
     "output_type": "execute_result"
    }
   ],
   "source": [
    "cuisine_dummy.shape"
   ]
  },
  {
   "cell_type": "code",
   "execution_count": 96,
   "metadata": {},
   "outputs": [
    {
     "data": {
      "text/plain": [
       "(500, 25)"
      ]
     },
     "execution_count": 96,
     "metadata": {},
     "output_type": "execute_result"
    }
   ],
   "source": [
    "cuisine_test_dummy.shape"
   ]
  },
  {
   "cell_type": "code",
   "execution_count": 97,
   "metadata": {},
   "outputs": [],
   "source": [
    "df_train['Resturant Tier']=df_train['Resturant Tier'].astype('object')\n",
    "test_Data['Resturant Tier']=test_Data['Resturant Tier'].astype('object')"
   ]
  },
  {
   "cell_type": "code",
   "execution_count": 98,
   "metadata": {},
   "outputs": [
    {
     "name": "stdout",
     "output_type": "stream",
     "text": [
      "<class 'pandas.core.frame.DataFrame'>\n",
      "RangeIndex: 3493 entries, 0 to 3492\n",
      "Data columns (total 13 columns):\n",
      " #   Column                     Non-Null Count  Dtype \n",
      "---  ------                     --------------  ----- \n",
      " 0   Restaurant Location        3493 non-null   object\n",
      " 1   Years_Old                  3493 non-null   object\n",
      " 2   Endorsed By                3493 non-null   object\n",
      " 3   Resturant Tier             3493 non-null   object\n",
      " 4   Restaurant Type            3493 non-null   object\n",
      " 5   Restaurant Theme           3493 non-null   object\n",
      " 6   Restaurant Zomato Rating   3493 non-null   object\n",
      " 7   Order Wait Time            3493 non-null   object\n",
      " 8   Food Rating                3493 non-null   object\n",
      " 9   Overall Restaurant Rating  3493 non-null   object\n",
      " 10  Comfortablility            3493 non-null   object\n",
      " 11  Group1_Hospitality         3493 non-null   object\n",
      " 12  Group2_Mood                3493 non-null   object\n",
      "dtypes: object(13)\n",
      "memory usage: 354.9+ KB\n"
     ]
    }
   ],
   "source": [
    "cate=df_train.select_dtypes(include='object')\n",
    "cate.info()"
   ]
  },
  {
   "cell_type": "code",
   "execution_count": 99,
   "metadata": {
    "scrolled": true
   },
   "outputs": [
    {
     "name": "stdout",
     "output_type": "stream",
     "text": [
      "<class 'pandas.core.frame.DataFrame'>\n",
      "RangeIndex: 3493 entries, 0 to 3492\n",
      "Data columns (total 7 columns):\n",
      " #   Column                       Non-Null Count  Dtype  \n",
      "---  ------                       --------------  -----  \n",
      " 0   Popularity                   3493 non-null   float64\n",
      " 1   Fire Audit                   3493 non-null   int64  \n",
      " 2   Liquor License Obtained      3493 non-null   int64  \n",
      " 3   Situated in a Multi Complex  3493 non-null   int64  \n",
      " 4   Dedicated Parking            3493 non-null   int64  \n",
      " 5   Open Sitting Available       3493 non-null   int64  \n",
      " 6   Restaurant City Tier         3493 non-null   int64  \n",
      "dtypes: float64(1), int64(6)\n",
      "memory usage: 191.1 KB\n"
     ]
    }
   ],
   "source": [
    "num=df_train.select_dtypes(include=np.number)#.drop(['Dedicated Parking','Restaurant City Tier','Open Sitting Available']\n",
    "                                                   #,axis=1)\n",
    "num.info()"
   ]
  },
  {
   "cell_type": "code",
   "execution_count": 100,
   "metadata": {},
   "outputs": [],
   "source": [
    "import xgboost as xg"
   ]
  },
  {
   "cell_type": "code",
   "execution_count": 101,
   "metadata": {},
   "outputs": [],
   "source": [
    "cate_dummy=pd.get_dummies(cate,drop_first=True)\n",
    "X=pd.concat([city_dummy,cuisine_dummy,cate_dummy,num],axis=1).values\n",
    "y=target"
   ]
  },
  {
   "cell_type": "code",
   "execution_count": 102,
   "metadata": {},
   "outputs": [],
   "source": [
    "X_train, X_test, y_train, y_test = train_test_split(X, y, test_size=.2, random_state=42)"
   ]
  },
  {
   "cell_type": "code",
   "execution_count": 103,
   "metadata": {},
   "outputs": [
    {
     "data": {
      "text/plain": [
       "LinearRegression()"
      ]
     },
     "execution_count": 103,
     "metadata": {},
     "output_type": "execute_result"
    }
   ],
   "source": [
    "lir=LinearRegression()\n",
    "lir.fit(X_train,y_train)"
   ]
  },
  {
   "cell_type": "code",
   "execution_count": 104,
   "metadata": {},
   "outputs": [
    {
     "data": {
      "text/plain": [
       "20170015.88892505"
      ]
     },
     "execution_count": 104,
     "metadata": {},
     "output_type": "execute_result"
    }
   ],
   "source": [
    "pred=lir.predict(X_train)\n",
    "np.sqrt(metrics.mean_squared_error(y_train,pred))"
   ]
  },
  {
   "cell_type": "code",
   "execution_count": 105,
   "metadata": {},
   "outputs": [
    {
     "data": {
      "text/plain": [
       "19674221.591313243"
      ]
     },
     "execution_count": 105,
     "metadata": {},
     "output_type": "execute_result"
    }
   ],
   "source": [
    "pred=lir.predict(X_test)\n",
    "np.sqrt(metrics.mean_squared_error(y_test,pred))"
   ]
  },
  {
   "cell_type": "code",
   "execution_count": 106,
   "metadata": {},
   "outputs": [],
   "source": [
    "from xgboost import XGBRegressor"
   ]
  },
  {
   "cell_type": "code",
   "execution_count": 107,
   "metadata": {},
   "outputs": [
    {
     "name": "stdout",
     "output_type": "stream",
     "text": [
      "[20:00:55] WARNING: C:/Users/Administrator/workspace/xgboost-win64_release_1.3.0/src/objective/regression_obj.cu:170: reg:linear is now deprecated in favor of reg:squarederror.\n"
     ]
    },
    {
     "data": {
      "text/plain": [
       "XGBRegressor(base_score=0.5, booster='gbtree', colsample_bylevel=1,\n",
       "             colsample_bynode=1, colsample_bytree=1, gamma=0, gpu_id=-1,\n",
       "             importance_type='gain', interaction_constraints='',\n",
       "             learning_rate=0.300000012, max_delta_step=0, max_depth=6,\n",
       "             min_child_weight=1, missing=nan, monotone_constraints='()',\n",
       "             n_estimators=10, n_jobs=4, num_parallel_tree=1,\n",
       "             objective='reg:linear', random_state=123, reg_alpha=0,\n",
       "             reg_lambda=1, scale_pos_weight=1, seed=123, subsample=1,\n",
       "             tree_method='exact', validate_parameters=1, verbosity=None)"
      ]
     },
     "execution_count": 107,
     "metadata": {},
     "output_type": "execute_result"
    }
   ],
   "source": [
    "xgb=XGBRegressor(objective ='reg:linear',n_estimators = 10, seed = 123)\n",
    "xgb.fit(X_train,y_train)"
   ]
  },
  {
   "cell_type": "code",
   "execution_count": 108,
   "metadata": {},
   "outputs": [
    {
     "data": {
      "text/plain": [
       "15059662.647446107"
      ]
     },
     "execution_count": 108,
     "metadata": {},
     "output_type": "execute_result"
    }
   ],
   "source": [
    "pred=xgb.predict(X_train)\n",
    "np.sqrt(metrics.mean_squared_error(y_train,pred))"
   ]
  },
  {
   "cell_type": "code",
   "execution_count": 109,
   "metadata": {},
   "outputs": [
    {
     "data": {
      "text/plain": [
       "20003906.97764853"
      ]
     },
     "execution_count": 109,
     "metadata": {},
     "output_type": "execute_result"
    }
   ],
   "source": [
    "pred=xgb.predict(X_test)\n",
    "np.sqrt(metrics.mean_squared_error(y_test,pred))"
   ]
  },
  {
   "cell_type": "raw",
   "metadata": {},
   "source": [
    "train_dmatrix = xg.DMatrix(data = X_train, label = y_train)\n",
    "test_dmatrix = xg.DMatrix(data = X_test, label = y_test)\n",
    "  \n",
    "# Parameter dictionary specifying base learner\n",
    "param = {\"booster\":\"gblinear\", \"objective\":\"reg:linear\"}\n",
    "  \n",
    "xgb_r = xg.train(params = param, dtrain = train_dmatrix, num_boost_round = 10)\n",
    "pred = xgb_r.predict(test_dmatrix)\n",
    "rmse = np.sqrt(metrics.mean_squared_error(y_test, pred))\n",
    "rmse"
   ]
  },
  {
   "cell_type": "code",
   "execution_count": 110,
   "metadata": {},
   "outputs": [],
   "source": [
    "from sklearn.model_selection import GridSearchCV"
   ]
  },
  {
   "cell_type": "code",
   "execution_count": 116,
   "metadata": {},
   "outputs": [],
   "source": [
    "xgb=XGBRegressor(booster='gblinear',objective='reg:squarederror')"
   ]
  },
  {
   "cell_type": "code",
   "execution_count": 119,
   "metadata": {},
   "outputs": [
    {
     "name": "stdout",
     "output_type": "stream",
     "text": [
      "[20:41:05] WARNING: C:/Users/Administrator/workspace/xgboost-win64_release_1.3.0/src/learner.cc:541: \n",
      "Parameters: { gamma, max_depth } might not be used.\n",
      "\n",
      "  This may not be accurate due to some parameters are only used in language bindings but\n",
      "  passed down to XGBoost core.  Or some parameters are not used but slip through this\n",
      "  verification. Please open an issue if you find above cases.\n",
      "\n",
      "\n"
     ]
    },
    {
     "data": {
      "text/plain": [
       "GridSearchCV(estimator=XGBRegressor(base_score=None, booster='gblinear',\n",
       "                                    colsample_bylevel=None,\n",
       "                                    colsample_bynode=None,\n",
       "                                    colsample_bytree=None, gamma=None,\n",
       "                                    gpu_id=None, importance_type='gain',\n",
       "                                    interaction_constraints=None,\n",
       "                                    learning_rate=None, max_delta_step=None,\n",
       "                                    max_depth=None, min_child_weight=None,\n",
       "                                    missing=nan, monotone_constraints=None,\n",
       "                                    n_estimators=100, n_jobs=None,\n",
       "                                    num_parallel_tree=None, random_state=None,\n",
       "                                    reg_alpha=None, reg_lambda=None,\n",
       "                                    scale_pos_weight=None, subsample=None,\n",
       "                                    tree_method=None, validate_parameters=None,\n",
       "                                    verbosity=None),\n",
       "             n_jobs=-1,\n",
       "             param_grid={'gamma': [1, 2, 3, 4, 5],\n",
       "                         'learning_rate': [0.001, 0.01, 0.1, 0.15, 0.25],\n",
       "                         'max_depth': [4, 6, 8, 10],\n",
       "                         'n_estimators': [50, 80, 120, 150]})"
      ]
     },
     "execution_count": 119,
     "metadata": {},
     "output_type": "execute_result"
    }
   ],
   "source": [
    "params={'n_estimators' :[50,80,120,150],\n",
    "       'learning_rate':[0.001,0.01,0.1,0.15,0.25],\n",
    "       }\n",
    "grid=GridSearchCV(estimator=xgb,\n",
    "                 param_grid=params,\n",
    "                 n_jobs=-1)\n",
    "grid.fit(X_train,y_train)"
   ]
  },
  {
   "cell_type": "code",
   "execution_count": 120,
   "metadata": {},
   "outputs": [
    {
     "data": {
      "text/plain": [
       "{'gamma': 4, 'learning_rate': 0.25, 'max_depth': 6, 'n_estimators': 150}"
      ]
     },
     "execution_count": 120,
     "metadata": {},
     "output_type": "execute_result"
    }
   ],
   "source": [
    "grid.best_params_"
   ]
  },
  {
   "cell_type": "code",
   "execution_count": 123,
   "metadata": {},
   "outputs": [],
   "source": [
    "xgb=XGBRegressor(booster='gblinear',objective='reg:squarederror',\n",
    "                gamma= 4, learning_rate= 0.55, max_depth= 6, n_estimators=300)"
   ]
  },
  {
   "cell_type": "code",
   "execution_count": 126,
   "metadata": {},
   "outputs": [
    {
     "name": "stdout",
     "output_type": "stream",
     "text": [
      "[21:13:19] WARNING: C:/Users/Administrator/workspace/xgboost-win64_release_1.3.0/src/learner.cc:541: \n",
      "Parameters: { gamma, max_depth } might not be used.\n",
      "\n",
      "  This may not be accurate due to some parameters are only used in language bindings but\n",
      "  passed down to XGBoost core.  Or some parameters are not used but slip through this\n",
      "  verification. Please open an issue if you find above cases.\n",
      "\n",
      "\n"
     ]
    },
    {
     "data": {
      "text/plain": [
       "20177036.21631986"
      ]
     },
     "execution_count": 126,
     "metadata": {},
     "output_type": "execute_result"
    }
   ],
   "source": [
    "xgb.fit(X_train,y_train)\n",
    "pred=xgb.predict(X_train)\n",
    "\n",
    "np.sqrt(metrics.mean_squared_error(y_train,pred))"
   ]
  },
  {
   "cell_type": "code",
   "execution_count": null,
   "metadata": {},
   "outputs": [],
   "source": []
  },
  {
   "cell_type": "code",
   "execution_count": null,
   "metadata": {},
   "outputs": [],
   "source": []
  },
  {
   "cell_type": "code",
   "execution_count": null,
   "metadata": {},
   "outputs": [],
   "source": []
  },
  {
   "cell_type": "code",
   "execution_count": null,
   "metadata": {},
   "outputs": [],
   "source": []
  },
  {
   "cell_type": "code",
   "execution_count": 115,
   "metadata": {},
   "outputs": [
    {
     "ename": "KeyError",
     "evalue": "\"['Cuisine'] not found in axis\"",
     "output_type": "error",
     "traceback": [
      "\u001b[1;31m---------------------------------------------------------------------------\u001b[0m",
      "\u001b[1;31mKeyError\u001b[0m                                  Traceback (most recent call last)",
      "\u001b[1;32m<ipython-input-115-c28b81dba4fd>\u001b[0m in \u001b[0;36m<module>\u001b[1;34m\u001b[0m\n\u001b[1;32m----> 1\u001b[1;33m \u001b[0mcate_test\u001b[0m\u001b[1;33m=\u001b[0m\u001b[0mtest_Data\u001b[0m\u001b[1;33m.\u001b[0m\u001b[0mselect_dtypes\u001b[0m\u001b[1;33m(\u001b[0m\u001b[0minclude\u001b[0m\u001b[1;33m=\u001b[0m\u001b[1;34m'object'\u001b[0m\u001b[1;33m)\u001b[0m\u001b[1;33m.\u001b[0m\u001b[0mdrop\u001b[0m\u001b[1;33m(\u001b[0m\u001b[1;33m[\u001b[0m\u001b[1;34m'Cuisine'\u001b[0m\u001b[1;33m]\u001b[0m\u001b[1;33m,\u001b[0m\u001b[0maxis\u001b[0m\u001b[1;33m=\u001b[0m\u001b[1;36m1\u001b[0m\u001b[1;33m)\u001b[0m\u001b[1;31m#'Resturant Tier'\u001b[0m\u001b[1;33m\u001b[0m\u001b[1;33m\u001b[0m\u001b[0m\n\u001b[0m\u001b[0;32m      2\u001b[0m \u001b[0mnum_test\u001b[0m\u001b[1;33m=\u001b[0m\u001b[0mtest_Data\u001b[0m\u001b[1;33m.\u001b[0m\u001b[0mselect_dtypes\u001b[0m\u001b[1;33m(\u001b[0m\u001b[0minclude\u001b[0m\u001b[1;33m=\u001b[0m\u001b[0mnp\u001b[0m\u001b[1;33m.\u001b[0m\u001b[0mnumber\u001b[0m\u001b[1;33m)\u001b[0m\u001b[1;33m\u001b[0m\u001b[1;33m\u001b[0m\u001b[0m\n\u001b[0;32m      3\u001b[0m \u001b[0mcate_dummy_test\u001b[0m\u001b[1;33m=\u001b[0m\u001b[0mpd\u001b[0m\u001b[1;33m.\u001b[0m\u001b[0mget_dummies\u001b[0m\u001b[1;33m(\u001b[0m\u001b[0mcate_test\u001b[0m\u001b[1;33m,\u001b[0m\u001b[0mdrop_first\u001b[0m\u001b[1;33m=\u001b[0m\u001b[1;32mTrue\u001b[0m\u001b[1;33m)\u001b[0m\u001b[1;33m\u001b[0m\u001b[1;33m\u001b[0m\u001b[0m\n\u001b[0;32m      4\u001b[0m \u001b[0mX_test_data\u001b[0m\u001b[1;33m=\u001b[0m\u001b[0mpd\u001b[0m\u001b[1;33m.\u001b[0m\u001b[0mconcat\u001b[0m\u001b[1;33m(\u001b[0m\u001b[1;33m[\u001b[0m\u001b[0mcuisine_test_dummy\u001b[0m\u001b[1;33m,\u001b[0m\u001b[0mcate_dummy_test\u001b[0m\u001b[1;33m,\u001b[0m\u001b[0mnum_test\u001b[0m\u001b[1;33m]\u001b[0m\u001b[1;33m,\u001b[0m\u001b[0maxis\u001b[0m\u001b[1;33m=\u001b[0m\u001b[1;36m1\u001b[0m\u001b[1;33m)\u001b[0m\u001b[1;33m.\u001b[0m\u001b[0mvalues\u001b[0m\u001b[1;33m\u001b[0m\u001b[1;33m\u001b[0m\u001b[0m\n",
      "\u001b[1;32m~\\anaconda3\\lib\\site-packages\\pandas\\core\\frame.py\u001b[0m in \u001b[0;36mdrop\u001b[1;34m(self, labels, axis, index, columns, level, inplace, errors)\u001b[0m\n\u001b[0;32m   4306\u001b[0m                 \u001b[0mweight\u001b[0m  \u001b[1;36m1.0\u001b[0m     \u001b[1;36m0.8\u001b[0m\u001b[1;33m\u001b[0m\u001b[1;33m\u001b[0m\u001b[0m\n\u001b[0;32m   4307\u001b[0m         \"\"\"\n\u001b[1;32m-> 4308\u001b[1;33m         return super().drop(\n\u001b[0m\u001b[0;32m   4309\u001b[0m             \u001b[0mlabels\u001b[0m\u001b[1;33m=\u001b[0m\u001b[0mlabels\u001b[0m\u001b[1;33m,\u001b[0m\u001b[1;33m\u001b[0m\u001b[1;33m\u001b[0m\u001b[0m\n\u001b[0;32m   4310\u001b[0m             \u001b[0maxis\u001b[0m\u001b[1;33m=\u001b[0m\u001b[0maxis\u001b[0m\u001b[1;33m,\u001b[0m\u001b[1;33m\u001b[0m\u001b[1;33m\u001b[0m\u001b[0m\n",
      "\u001b[1;32m~\\anaconda3\\lib\\site-packages\\pandas\\core\\generic.py\u001b[0m in \u001b[0;36mdrop\u001b[1;34m(self, labels, axis, index, columns, level, inplace, errors)\u001b[0m\n\u001b[0;32m   4151\u001b[0m         \u001b[1;32mfor\u001b[0m \u001b[0maxis\u001b[0m\u001b[1;33m,\u001b[0m \u001b[0mlabels\u001b[0m \u001b[1;32min\u001b[0m \u001b[0maxes\u001b[0m\u001b[1;33m.\u001b[0m\u001b[0mitems\u001b[0m\u001b[1;33m(\u001b[0m\u001b[1;33m)\u001b[0m\u001b[1;33m:\u001b[0m\u001b[1;33m\u001b[0m\u001b[1;33m\u001b[0m\u001b[0m\n\u001b[0;32m   4152\u001b[0m             \u001b[1;32mif\u001b[0m \u001b[0mlabels\u001b[0m \u001b[1;32mis\u001b[0m \u001b[1;32mnot\u001b[0m \u001b[1;32mNone\u001b[0m\u001b[1;33m:\u001b[0m\u001b[1;33m\u001b[0m\u001b[1;33m\u001b[0m\u001b[0m\n\u001b[1;32m-> 4153\u001b[1;33m                 \u001b[0mobj\u001b[0m \u001b[1;33m=\u001b[0m \u001b[0mobj\u001b[0m\u001b[1;33m.\u001b[0m\u001b[0m_drop_axis\u001b[0m\u001b[1;33m(\u001b[0m\u001b[0mlabels\u001b[0m\u001b[1;33m,\u001b[0m \u001b[0maxis\u001b[0m\u001b[1;33m,\u001b[0m \u001b[0mlevel\u001b[0m\u001b[1;33m=\u001b[0m\u001b[0mlevel\u001b[0m\u001b[1;33m,\u001b[0m \u001b[0merrors\u001b[0m\u001b[1;33m=\u001b[0m\u001b[0merrors\u001b[0m\u001b[1;33m)\u001b[0m\u001b[1;33m\u001b[0m\u001b[1;33m\u001b[0m\u001b[0m\n\u001b[0m\u001b[0;32m   4154\u001b[0m \u001b[1;33m\u001b[0m\u001b[0m\n\u001b[0;32m   4155\u001b[0m         \u001b[1;32mif\u001b[0m \u001b[0minplace\u001b[0m\u001b[1;33m:\u001b[0m\u001b[1;33m\u001b[0m\u001b[1;33m\u001b[0m\u001b[0m\n",
      "\u001b[1;32m~\\anaconda3\\lib\\site-packages\\pandas\\core\\generic.py\u001b[0m in \u001b[0;36m_drop_axis\u001b[1;34m(self, labels, axis, level, errors)\u001b[0m\n\u001b[0;32m   4186\u001b[0m                 \u001b[0mnew_axis\u001b[0m \u001b[1;33m=\u001b[0m \u001b[0maxis\u001b[0m\u001b[1;33m.\u001b[0m\u001b[0mdrop\u001b[0m\u001b[1;33m(\u001b[0m\u001b[0mlabels\u001b[0m\u001b[1;33m,\u001b[0m \u001b[0mlevel\u001b[0m\u001b[1;33m=\u001b[0m\u001b[0mlevel\u001b[0m\u001b[1;33m,\u001b[0m \u001b[0merrors\u001b[0m\u001b[1;33m=\u001b[0m\u001b[0merrors\u001b[0m\u001b[1;33m)\u001b[0m\u001b[1;33m\u001b[0m\u001b[1;33m\u001b[0m\u001b[0m\n\u001b[0;32m   4187\u001b[0m             \u001b[1;32melse\u001b[0m\u001b[1;33m:\u001b[0m\u001b[1;33m\u001b[0m\u001b[1;33m\u001b[0m\u001b[0m\n\u001b[1;32m-> 4188\u001b[1;33m                 \u001b[0mnew_axis\u001b[0m \u001b[1;33m=\u001b[0m \u001b[0maxis\u001b[0m\u001b[1;33m.\u001b[0m\u001b[0mdrop\u001b[0m\u001b[1;33m(\u001b[0m\u001b[0mlabels\u001b[0m\u001b[1;33m,\u001b[0m \u001b[0merrors\u001b[0m\u001b[1;33m=\u001b[0m\u001b[0merrors\u001b[0m\u001b[1;33m)\u001b[0m\u001b[1;33m\u001b[0m\u001b[1;33m\u001b[0m\u001b[0m\n\u001b[0m\u001b[0;32m   4189\u001b[0m             \u001b[0mresult\u001b[0m \u001b[1;33m=\u001b[0m \u001b[0mself\u001b[0m\u001b[1;33m.\u001b[0m\u001b[0mreindex\u001b[0m\u001b[1;33m(\u001b[0m\u001b[1;33m**\u001b[0m\u001b[1;33m{\u001b[0m\u001b[0maxis_name\u001b[0m\u001b[1;33m:\u001b[0m \u001b[0mnew_axis\u001b[0m\u001b[1;33m}\u001b[0m\u001b[1;33m)\u001b[0m\u001b[1;33m\u001b[0m\u001b[1;33m\u001b[0m\u001b[0m\n\u001b[0;32m   4190\u001b[0m \u001b[1;33m\u001b[0m\u001b[0m\n",
      "\u001b[1;32m~\\anaconda3\\lib\\site-packages\\pandas\\core\\indexes\\base.py\u001b[0m in \u001b[0;36mdrop\u001b[1;34m(self, labels, errors)\u001b[0m\n\u001b[0;32m   5589\u001b[0m         \u001b[1;32mif\u001b[0m \u001b[0mmask\u001b[0m\u001b[1;33m.\u001b[0m\u001b[0many\u001b[0m\u001b[1;33m(\u001b[0m\u001b[1;33m)\u001b[0m\u001b[1;33m:\u001b[0m\u001b[1;33m\u001b[0m\u001b[1;33m\u001b[0m\u001b[0m\n\u001b[0;32m   5590\u001b[0m             \u001b[1;32mif\u001b[0m \u001b[0merrors\u001b[0m \u001b[1;33m!=\u001b[0m \u001b[1;34m\"ignore\"\u001b[0m\u001b[1;33m:\u001b[0m\u001b[1;33m\u001b[0m\u001b[1;33m\u001b[0m\u001b[0m\n\u001b[1;32m-> 5591\u001b[1;33m                 \u001b[1;32mraise\u001b[0m \u001b[0mKeyError\u001b[0m\u001b[1;33m(\u001b[0m\u001b[1;34mf\"{labels[mask]} not found in axis\"\u001b[0m\u001b[1;33m)\u001b[0m\u001b[1;33m\u001b[0m\u001b[1;33m\u001b[0m\u001b[0m\n\u001b[0m\u001b[0;32m   5592\u001b[0m             \u001b[0mindexer\u001b[0m \u001b[1;33m=\u001b[0m \u001b[0mindexer\u001b[0m\u001b[1;33m[\u001b[0m\u001b[1;33m~\u001b[0m\u001b[0mmask\u001b[0m\u001b[1;33m]\u001b[0m\u001b[1;33m\u001b[0m\u001b[1;33m\u001b[0m\u001b[0m\n\u001b[0;32m   5593\u001b[0m         \u001b[1;32mreturn\u001b[0m \u001b[0mself\u001b[0m\u001b[1;33m.\u001b[0m\u001b[0mdelete\u001b[0m\u001b[1;33m(\u001b[0m\u001b[0mindexer\u001b[0m\u001b[1;33m)\u001b[0m\u001b[1;33m\u001b[0m\u001b[1;33m\u001b[0m\u001b[0m\n",
      "\u001b[1;31mKeyError\u001b[0m: \"['Cuisine'] not found in axis\""
     ]
    }
   ],
   "source": [
    "cate_test=test_Data.select_dtypes(include='object').drop(['Cuisine'],axis=1)#'Resturant Tier'\n",
    "num_test=test_Data.select_dtypes(include=np.number)\n",
    "cate_dummy_test=pd.get_dummies(cate_test,drop_first=True)\n",
    "X_test_data=pd.concat([cuisine_test_dummy,cate_dummy_test,num_test],axis=1).values"
   ]
  },
  {
   "cell_type": "raw",
   "metadata": {},
   "source": [
    "X_test_data.rename(columns={'Resturant Tier_2':'Resturant Tier_2.0'},inplace=True)"
   ]
  },
  {
   "cell_type": "code",
   "execution_count": null,
   "metadata": {},
   "outputs": [],
   "source": [
    "cate_test.shape"
   ]
  },
  {
   "cell_type": "code",
   "execution_count": null,
   "metadata": {},
   "outputs": [],
   "source": [
    "cate.shape"
   ]
  },
  {
   "cell_type": "code",
   "execution_count": null,
   "metadata": {},
   "outputs": [],
   "source": [
    "cate_dummy_test.shape"
   ]
  },
  {
   "cell_type": "code",
   "execution_count": null,
   "metadata": {},
   "outputs": [],
   "source": [
    "cate_dummy.shape"
   ]
  },
  {
   "cell_type": "code",
   "execution_count": null,
   "metadata": {},
   "outputs": [],
   "source": [
    "cuisine_dummy.columns"
   ]
  },
  {
   "cell_type": "code",
   "execution_count": null,
   "metadata": {},
   "outputs": [],
   "source": [
    "cuisine_test_dummy.columns"
   ]
  },
  {
   "cell_type": "code",
   "execution_count": null,
   "metadata": {},
   "outputs": [],
   "source": [
    "submit=xgb.predict(X_test_data)"
   ]
  },
  {
   "cell_type": "code",
   "execution_count": null,
   "metadata": {},
   "outputs": [],
   "source": [
    "len(submit)"
   ]
  },
  {
   "cell_type": "raw",
   "metadata": {},
   "source": [
    "Registration Number\n",
    "2.    Annual Turnover"
   ]
  },
  {
   "cell_type": "code",
   "execution_count": null,
   "metadata": {},
   "outputs": [],
   "source": [
    "X.shape"
   ]
  },
  {
   "cell_type": "code",
   "execution_count": null,
   "metadata": {},
   "outputs": [],
   "source": [
    "X_test.shape"
   ]
  },
  {
   "cell_type": "code",
   "execution_count": null,
   "metadata": {},
   "outputs": [],
   "source": [
    "Registration_Number=list(test_Regno['Registration Number'])\n",
    "submission=pd.DataFrame({'Registration Number':Registration_Number,'Annual Turnover':submit})\n",
    "submission=submission.set_index('Registration Number')\n",
    "submission"
   ]
  },
  {
   "cell_type": "raw",
   "metadata": {},
   "source": [
    "submission.to_csv('submission_xgb.csv')"
   ]
  },
  {
   "cell_type": "code",
   "execution_count": null,
   "metadata": {},
   "outputs": [],
   "source": []
  }
 ],
 "metadata": {
  "kernelspec": {
   "display_name": "Python 3",
   "language": "python",
   "name": "python3"
  },
  "language_info": {
   "codemirror_mode": {
    "name": "ipython",
    "version": 3
   },
   "file_extension": ".py",
   "mimetype": "text/x-python",
   "name": "python",
   "nbconvert_exporter": "python",
   "pygments_lexer": "ipython3",
   "version": "3.8.3"
  }
 },
 "nbformat": 4,
 "nbformat_minor": 4
}
