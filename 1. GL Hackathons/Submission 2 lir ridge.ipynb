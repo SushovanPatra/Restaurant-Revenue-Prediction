{
 "cells": [
  {
   "cell_type": "code",
   "execution_count": 1,
   "metadata": {},
   "outputs": [],
   "source": [
    "## Importing the libraries\n",
    "import numpy as np\n",
    "import pandas as pd\n",
    "from sklearn.linear_model import LinearRegression\n",
    "\n",
    "from sklearn.impute import KNNImputer\n",
    "from sklearn.model_selection import GridSearchCV\n",
    "\n",
    "from sklearn.preprocessing import StandardScaler\n",
    "sc=StandardScaler()\n",
    "import seaborn as sns\n",
    "\n",
    "import matplotlib.pyplot as plt\n",
    "from sklearn import model_selection,metrics\n",
    "\n",
    "from sklearn.model_selection import cross_val_score,train_test_split"
   ]
  },
  {
   "cell_type": "code",
   "execution_count": 2,
   "metadata": {},
   "outputs": [],
   "source": [
    "import scipy.stats as stats"
   ]
  },
  {
   "cell_type": "code",
   "execution_count": 3,
   "metadata": {},
   "outputs": [],
   "source": [
    "test_Data=pd.read_csv('Test_dataset.csv')"
   ]
  },
  {
   "cell_type": "code",
   "execution_count": 4,
   "metadata": {},
   "outputs": [
    {
     "data": {
      "text/html": [
       "<div>\n",
       "<style scoped>\n",
       "    .dataframe tbody tr th:only-of-type {\n",
       "        vertical-align: middle;\n",
       "    }\n",
       "\n",
       "    .dataframe tbody tr th {\n",
       "        vertical-align: top;\n",
       "    }\n",
       "\n",
       "    .dataframe thead th {\n",
       "        text-align: right;\n",
       "    }\n",
       "</style>\n",
       "<table border=\"1\" class=\"dataframe\">\n",
       "  <thead>\n",
       "    <tr style=\"text-align: right;\">\n",
       "      <th></th>\n",
       "      <th>Registration Number</th>\n",
       "      <th>Cuisine</th>\n",
       "      <th>City</th>\n",
       "      <th>Restaurant Location</th>\n",
       "      <th>Opening Day of Restaurant</th>\n",
       "      <th>Facebook Popularity Quotient</th>\n",
       "      <th>Endoresed By</th>\n",
       "      <th>Instagram Popularity Quotient</th>\n",
       "      <th>Fire Audit</th>\n",
       "      <th>Liquor License Obtained</th>\n",
       "      <th>...</th>\n",
       "      <th>Overall Restaurant Rating</th>\n",
       "      <th>Live Music Rating</th>\n",
       "      <th>Comedy Gigs Rating</th>\n",
       "      <th>Value Deals Rating</th>\n",
       "      <th>Live Sports Rating</th>\n",
       "      <th>Ambience</th>\n",
       "      <th>Lively</th>\n",
       "      <th>Service</th>\n",
       "      <th>Comfortablility</th>\n",
       "      <th>Privacy</th>\n",
       "    </tr>\n",
       "  </thead>\n",
       "  <tbody>\n",
       "    <tr>\n",
       "      <th>0</th>\n",
       "      <td>20001</td>\n",
       "      <td>tibetan,italian</td>\n",
       "      <td>Bangalore</td>\n",
       "      <td>Near Business Hub</td>\n",
       "      <td>13-07-2010</td>\n",
       "      <td>78.00</td>\n",
       "      <td>Tier A Celebrity</td>\n",
       "      <td>69.00</td>\n",
       "      <td>1</td>\n",
       "      <td>1</td>\n",
       "      <td>...</td>\n",
       "      <td>6.0</td>\n",
       "      <td>NaN</td>\n",
       "      <td>2.0</td>\n",
       "      <td>NaN</td>\n",
       "      <td>NaN</td>\n",
       "      <td>5</td>\n",
       "      <td>2</td>\n",
       "      <td>2</td>\n",
       "      <td>6</td>\n",
       "      <td>0</td>\n",
       "    </tr>\n",
       "    <tr>\n",
       "      <th>1</th>\n",
       "      <td>20002</td>\n",
       "      <td>tibetan,italian</td>\n",
       "      <td>Hyderabad</td>\n",
       "      <td>Near Party Hub</td>\n",
       "      <td>05-09-2011</td>\n",
       "      <td>89.17</td>\n",
       "      <td>Not Specific</td>\n",
       "      <td>96.00</td>\n",
       "      <td>1</td>\n",
       "      <td>1</td>\n",
       "      <td>...</td>\n",
       "      <td>9.0</td>\n",
       "      <td>3.0</td>\n",
       "      <td>NaN</td>\n",
       "      <td>NaN</td>\n",
       "      <td>6.0</td>\n",
       "      <td>7</td>\n",
       "      <td>8</td>\n",
       "      <td>5</td>\n",
       "      <td>1</td>\n",
       "      <td>8</td>\n",
       "    </tr>\n",
       "    <tr>\n",
       "      <th>2</th>\n",
       "      <td>20003</td>\n",
       "      <td>algerian,belgian</td>\n",
       "      <td>Hyderabad</td>\n",
       "      <td>Near Party Hub</td>\n",
       "      <td>12-04-2011</td>\n",
       "      <td>84.00</td>\n",
       "      <td>Not Specific</td>\n",
       "      <td>86.00</td>\n",
       "      <td>1</td>\n",
       "      <td>1</td>\n",
       "      <td>...</td>\n",
       "      <td>6.0</td>\n",
       "      <td>3.0</td>\n",
       "      <td>NaN</td>\n",
       "      <td>NaN</td>\n",
       "      <td>NaN</td>\n",
       "      <td>9</td>\n",
       "      <td>7</td>\n",
       "      <td>5</td>\n",
       "      <td>1</td>\n",
       "      <td>5</td>\n",
       "    </tr>\n",
       "    <tr>\n",
       "      <th>3</th>\n",
       "      <td>20004</td>\n",
       "      <td>tibetan,greek</td>\n",
       "      <td>-1</td>\n",
       "      <td>Near Party Hub</td>\n",
       "      <td>16-01-2005</td>\n",
       "      <td>79.38</td>\n",
       "      <td>Not Specific</td>\n",
       "      <td>74.40</td>\n",
       "      <td>0</td>\n",
       "      <td>1</td>\n",
       "      <td>...</td>\n",
       "      <td>9.0</td>\n",
       "      <td>6.0</td>\n",
       "      <td>NaN</td>\n",
       "      <td>NaN</td>\n",
       "      <td>NaN</td>\n",
       "      <td>6</td>\n",
       "      <td>7</td>\n",
       "      <td>6</td>\n",
       "      <td>4</td>\n",
       "      <td>7</td>\n",
       "    </tr>\n",
       "    <tr>\n",
       "      <th>4</th>\n",
       "      <td>20005</td>\n",
       "      <td>cuban,british</td>\n",
       "      <td>Pune</td>\n",
       "      <td>Near Party Hub</td>\n",
       "      <td>10-11-2008</td>\n",
       "      <td>84.67</td>\n",
       "      <td>Not Specific</td>\n",
       "      <td>86.46</td>\n",
       "      <td>1</td>\n",
       "      <td>1</td>\n",
       "      <td>...</td>\n",
       "      <td>NaN</td>\n",
       "      <td>NaN</td>\n",
       "      <td>NaN</td>\n",
       "      <td>NaN</td>\n",
       "      <td>NaN</td>\n",
       "      <td>4</td>\n",
       "      <td>4</td>\n",
       "      <td>7</td>\n",
       "      <td>7</td>\n",
       "      <td>3</td>\n",
       "    </tr>\n",
       "  </tbody>\n",
       "</table>\n",
       "<p>5 rows × 33 columns</p>\n",
       "</div>"
      ],
      "text/plain": [
       "   Registration Number           Cuisine       City Restaurant Location  \\\n",
       "0                20001   tibetan,italian  Bangalore   Near Business Hub   \n",
       "1                20002   tibetan,italian  Hyderabad      Near Party Hub   \n",
       "2                20003  algerian,belgian  Hyderabad      Near Party Hub   \n",
       "3                20004     tibetan,greek         -1      Near Party Hub   \n",
       "4                20005     cuban,british      Pune       Near Party Hub   \n",
       "\n",
       "  Opening Day of Restaurant  Facebook Popularity Quotient      Endoresed By  \\\n",
       "0                13-07-2010                         78.00  Tier A Celebrity   \n",
       "1                05-09-2011                         89.17      Not Specific   \n",
       "2                12-04-2011                         84.00      Not Specific   \n",
       "3                16-01-2005                         79.38      Not Specific   \n",
       "4                10-11-2008                         84.67      Not Specific   \n",
       "\n",
       "   Instagram Popularity Quotient  Fire Audit  Liquor License Obtained  ...  \\\n",
       "0                          69.00           1                        1  ...   \n",
       "1                          96.00           1                        1  ...   \n",
       "2                          86.00           1                        1  ...   \n",
       "3                          74.40           0                        1  ...   \n",
       "4                          86.46           1                        1  ...   \n",
       "\n",
       "   Overall Restaurant Rating  Live Music Rating  Comedy Gigs Rating  \\\n",
       "0                        6.0                NaN                 2.0   \n",
       "1                        9.0                3.0                 NaN   \n",
       "2                        6.0                3.0                 NaN   \n",
       "3                        9.0                6.0                 NaN   \n",
       "4                        NaN                NaN                 NaN   \n",
       "\n",
       "   Value Deals Rating Live Sports Rating Ambience  Lively  Service  \\\n",
       "0                 NaN                NaN        5       2        2   \n",
       "1                 NaN                6.0        7       8        5   \n",
       "2                 NaN                NaN        9       7        5   \n",
       "3                 NaN                NaN        6       7        6   \n",
       "4                 NaN                NaN        4       4        7   \n",
       "\n",
       "   Comfortablility  Privacy  \n",
       "0                6        0  \n",
       "1                1        8  \n",
       "2                1        5  \n",
       "3                4        7  \n",
       "4                7        3  \n",
       "\n",
       "[5 rows x 33 columns]"
      ]
     },
     "execution_count": 4,
     "metadata": {},
     "output_type": "execute_result"
    }
   ],
   "source": [
    "test_Data.head()"
   ]
  },
  {
   "cell_type": "code",
   "execution_count": 5,
   "metadata": {},
   "outputs": [
    {
     "data": {
      "text/html": [
       "<div>\n",
       "<style scoped>\n",
       "    .dataframe tbody tr th:only-of-type {\n",
       "        vertical-align: middle;\n",
       "    }\n",
       "\n",
       "    .dataframe tbody tr th {\n",
       "        vertical-align: top;\n",
       "    }\n",
       "\n",
       "    .dataframe thead th {\n",
       "        text-align: right;\n",
       "    }\n",
       "</style>\n",
       "<table border=\"1\" class=\"dataframe\">\n",
       "  <thead>\n",
       "    <tr style=\"text-align: right;\">\n",
       "      <th></th>\n",
       "      <th>Registration Number</th>\n",
       "      <th>Annual Turnover</th>\n",
       "      <th>Cuisine</th>\n",
       "      <th>City</th>\n",
       "      <th>Restaurant Location</th>\n",
       "      <th>Opening Day of Restaurant</th>\n",
       "      <th>Facebook Popularity Quotient</th>\n",
       "      <th>Endorsed By</th>\n",
       "      <th>Instagram Popularity Quotient</th>\n",
       "      <th>Fire Audit</th>\n",
       "      <th>...</th>\n",
       "      <th>Overall Restaurant Rating</th>\n",
       "      <th>Live Music Rating</th>\n",
       "      <th>Comedy Gigs Rating</th>\n",
       "      <th>Value Deals Rating</th>\n",
       "      <th>Live Sports Rating</th>\n",
       "      <th>Ambience</th>\n",
       "      <th>Lively</th>\n",
       "      <th>Service</th>\n",
       "      <th>Comfortablility</th>\n",
       "      <th>Privacy</th>\n",
       "    </tr>\n",
       "  </thead>\n",
       "  <tbody>\n",
       "    <tr>\n",
       "      <th>0</th>\n",
       "      <td>60001</td>\n",
       "      <td>42000000</td>\n",
       "      <td>indian,irish</td>\n",
       "      <td>Bangalore</td>\n",
       "      <td>Near Business Hub</td>\n",
       "      <td>14-02-2009</td>\n",
       "      <td>84.3</td>\n",
       "      <td>Not Specific</td>\n",
       "      <td>95.8</td>\n",
       "      <td>1</td>\n",
       "      <td>...</td>\n",
       "      <td>10.0</td>\n",
       "      <td>4.0</td>\n",
       "      <td>NaN</td>\n",
       "      <td>NaN</td>\n",
       "      <td>NaN</td>\n",
       "      <td>8.0</td>\n",
       "      <td>8</td>\n",
       "      <td>6</td>\n",
       "      <td>6</td>\n",
       "      <td>6</td>\n",
       "    </tr>\n",
       "    <tr>\n",
       "      <th>1</th>\n",
       "      <td>60002</td>\n",
       "      <td>50000000</td>\n",
       "      <td>indian,irish</td>\n",
       "      <td>Indore</td>\n",
       "      <td>Near Party Hub</td>\n",
       "      <td>29-09-2008</td>\n",
       "      <td>85.4</td>\n",
       "      <td>Tier A Celebrity</td>\n",
       "      <td>85.0</td>\n",
       "      <td>1</td>\n",
       "      <td>...</td>\n",
       "      <td>9.0</td>\n",
       "      <td>NaN</td>\n",
       "      <td>4.0</td>\n",
       "      <td>NaN</td>\n",
       "      <td>NaN</td>\n",
       "      <td>5.0</td>\n",
       "      <td>7</td>\n",
       "      <td>7</td>\n",
       "      <td>3</td>\n",
       "      <td>8</td>\n",
       "    </tr>\n",
       "    <tr>\n",
       "      <th>2</th>\n",
       "      <td>60003</td>\n",
       "      <td>32500000</td>\n",
       "      <td>tibetan,italian</td>\n",
       "      <td>Chennai</td>\n",
       "      <td>Near Business Hub</td>\n",
       "      <td>30-07-2011</td>\n",
       "      <td>85.0</td>\n",
       "      <td>Tier A Celebrity</td>\n",
       "      <td>68.2</td>\n",
       "      <td>1</td>\n",
       "      <td>...</td>\n",
       "      <td>8.0</td>\n",
       "      <td>3.0</td>\n",
       "      <td>NaN</td>\n",
       "      <td>NaN</td>\n",
       "      <td>NaN</td>\n",
       "      <td>7.0</td>\n",
       "      <td>10</td>\n",
       "      <td>5</td>\n",
       "      <td>2</td>\n",
       "      <td>8</td>\n",
       "    </tr>\n",
       "    <tr>\n",
       "      <th>3</th>\n",
       "      <td>60004</td>\n",
       "      <td>110000000</td>\n",
       "      <td>turkish,nigerian</td>\n",
       "      <td>Gurgaon</td>\n",
       "      <td>Near Party Hub</td>\n",
       "      <td>30-11-2008</td>\n",
       "      <td>85.6</td>\n",
       "      <td>Tier A Celebrity</td>\n",
       "      <td>83.6</td>\n",
       "      <td>0</td>\n",
       "      <td>...</td>\n",
       "      <td>9.0</td>\n",
       "      <td>6.0</td>\n",
       "      <td>NaN</td>\n",
       "      <td>NaN</td>\n",
       "      <td>NaN</td>\n",
       "      <td>7.0</td>\n",
       "      <td>7</td>\n",
       "      <td>4</td>\n",
       "      <td>3</td>\n",
       "      <td>5</td>\n",
       "    </tr>\n",
       "    <tr>\n",
       "      <th>4</th>\n",
       "      <td>60005</td>\n",
       "      <td>20000000</td>\n",
       "      <td>irish,belgian</td>\n",
       "      <td>Manesar</td>\n",
       "      <td>Near Party Hub</td>\n",
       "      <td>22-02-2010</td>\n",
       "      <td>NaN</td>\n",
       "      <td>Tier A Celebrity</td>\n",
       "      <td>76.8</td>\n",
       "      <td>1</td>\n",
       "      <td>...</td>\n",
       "      <td>6.0</td>\n",
       "      <td>NaN</td>\n",
       "      <td>2.0</td>\n",
       "      <td>NaN</td>\n",
       "      <td>NaN</td>\n",
       "      <td>NaN</td>\n",
       "      <td>6</td>\n",
       "      <td>2</td>\n",
       "      <td>4</td>\n",
       "      <td>6</td>\n",
       "    </tr>\n",
       "  </tbody>\n",
       "</table>\n",
       "<p>5 rows × 34 columns</p>\n",
       "</div>"
      ],
      "text/plain": [
       "   Registration Number  Annual Turnover           Cuisine       City  \\\n",
       "0                60001         42000000      indian,irish  Bangalore   \n",
       "1                60002         50000000      indian,irish     Indore   \n",
       "2                60003         32500000   tibetan,italian    Chennai   \n",
       "3                60004        110000000  turkish,nigerian    Gurgaon   \n",
       "4                60005         20000000     irish,belgian    Manesar   \n",
       "\n",
       "  Restaurant Location Opening Day of Restaurant  Facebook Popularity Quotient  \\\n",
       "0   Near Business Hub                14-02-2009                          84.3   \n",
       "1      Near Party Hub                29-09-2008                          85.4   \n",
       "2   Near Business Hub                30-07-2011                          85.0   \n",
       "3      Near Party Hub                30-11-2008                          85.6   \n",
       "4      Near Party Hub                22-02-2010                           NaN   \n",
       "\n",
       "        Endorsed By  Instagram Popularity Quotient  Fire Audit  ...  \\\n",
       "0      Not Specific                           95.8           1  ...   \n",
       "1  Tier A Celebrity                           85.0           1  ...   \n",
       "2  Tier A Celebrity                           68.2           1  ...   \n",
       "3  Tier A Celebrity                           83.6           0  ...   \n",
       "4  Tier A Celebrity                           76.8           1  ...   \n",
       "\n",
       "   Overall Restaurant Rating  Live Music Rating  Comedy Gigs Rating  \\\n",
       "0                       10.0                4.0                 NaN   \n",
       "1                        9.0                NaN                 4.0   \n",
       "2                        8.0                3.0                 NaN   \n",
       "3                        9.0                6.0                 NaN   \n",
       "4                        6.0                NaN                 2.0   \n",
       "\n",
       "   Value Deals Rating  Live Sports Rating Ambience Lively  Service  \\\n",
       "0                 NaN                 NaN      8.0      8        6   \n",
       "1                 NaN                 NaN      5.0      7        7   \n",
       "2                 NaN                 NaN      7.0     10        5   \n",
       "3                 NaN                 NaN      7.0      7        4   \n",
       "4                 NaN                 NaN      NaN      6        2   \n",
       "\n",
       "   Comfortablility  Privacy  \n",
       "0                6        6  \n",
       "1                3        8  \n",
       "2                2        8  \n",
       "3                3        5  \n",
       "4                4        6  \n",
       "\n",
       "[5 rows x 34 columns]"
      ]
     },
     "execution_count": 5,
     "metadata": {},
     "output_type": "execute_result"
    }
   ],
   "source": [
    "df_train = pd.read_csv('Train_dataset.csv')\n",
    "df_train.head()"
   ]
  },
  {
   "cell_type": "code",
   "execution_count": 6,
   "metadata": {},
   "outputs": [
    {
     "data": {
      "text/plain": [
       "Registration Number                 0\n",
       "Annual Turnover                     0\n",
       "Cuisine                             0\n",
       "City                                0\n",
       "Restaurant Location                 0\n",
       "Opening Day of Restaurant           0\n",
       "Facebook Popularity Quotient       99\n",
       "Endorsed By                         0\n",
       "Instagram Popularity Quotient      56\n",
       "Fire Audit                          0\n",
       "Liquor License Obtained             0\n",
       "Situated in a Multi Complex         0\n",
       "Dedicated Parking                   0\n",
       "Open Sitting Available              0\n",
       "Resturant Tier                     49\n",
       "Restaurant Type                     0\n",
       "Restaurant Theme                    0\n",
       "Restaurant Zomato Rating            0\n",
       "Restaurant City Tier                0\n",
       "Order Wait Time                     0\n",
       "Staff Responsivness                 0\n",
       "Value for Money                     0\n",
       "Hygiene Rating                      0\n",
       "Food Rating                         0\n",
       "Overall Restaurant Rating         212\n",
       "Live Music Rating                 765\n",
       "Comedy Gigs Rating               2483\n",
       "Value Deals Rating               2707\n",
       "Live Sports Rating               3288\n",
       "Ambience                           25\n",
       "Lively                              0\n",
       "Service                             0\n",
       "Comfortablility                     0\n",
       "Privacy                             0\n",
       "dtype: int64"
      ]
     },
     "execution_count": 6,
     "metadata": {},
     "output_type": "execute_result"
    }
   ],
   "source": [
    "## Checking for the null values\n",
    "\n",
    "df_train.isnull().sum()"
   ]
  },
  {
   "cell_type": "code",
   "execution_count": 7,
   "metadata": {},
   "outputs": [
    {
     "data": {
      "text/plain": [
       "(3493, 34)"
      ]
     },
     "execution_count": 7,
     "metadata": {},
     "output_type": "execute_result"
    }
   ],
   "source": [
    "df_train.shape"
   ]
  },
  {
   "cell_type": "code",
   "execution_count": 8,
   "metadata": {},
   "outputs": [
    {
     "data": {
      "text/plain": [
       "(500, 33)"
      ]
     },
     "execution_count": 8,
     "metadata": {},
     "output_type": "execute_result"
    }
   ],
   "source": [
    "test_Data.shape"
   ]
  },
  {
   "cell_type": "code",
   "execution_count": 9,
   "metadata": {},
   "outputs": [
    {
     "data": {
      "text/plain": [
       "Registration Number                0\n",
       "Cuisine                            0\n",
       "City                               0\n",
       "Restaurant Location                0\n",
       "Opening Day of Restaurant          0\n",
       "Facebook Popularity Quotient       0\n",
       "Endoresed By                       0\n",
       "Instagram Popularity Quotient      0\n",
       "Fire Audit                         0\n",
       "Liquor License Obtained            0\n",
       "Situated in a Multi Complex        0\n",
       "Dedicated Parking                  0\n",
       "Open Sitting Available             0\n",
       "Resturant Tier                     0\n",
       "Restaurant Type                    0\n",
       "Restaurant Theme                   0\n",
       "Restaurant Zomato Rating           0\n",
       "Restaurant City Tier               0\n",
       "Order Wait Time                    0\n",
       "Staff Responsivness                0\n",
       "Value for Money                    0\n",
       "Hygiene Rating                     0\n",
       "Food Rating                        0\n",
       "Overall Restaurant Rating         34\n",
       "Live Music Rating                102\n",
       "Comedy Gigs Rating               370\n",
       "Value Deals Rating               385\n",
       "Live Sports Rating               471\n",
       "Ambience                           0\n",
       "Lively                             0\n",
       "Service                            0\n",
       "Comfortablility                    0\n",
       "Privacy                            0\n",
       "dtype: int64"
      ]
     },
     "execution_count": 9,
     "metadata": {},
     "output_type": "execute_result"
    }
   ],
   "source": [
    "test_Data.isna().sum()"
   ]
  },
  {
   "cell_type": "code",
   "execution_count": null,
   "metadata": {},
   "outputs": [],
   "source": []
  },
  {
   "cell_type": "code",
   "execution_count": 10,
   "metadata": {},
   "outputs": [],
   "source": [
    "target=df_train['Annual Turnover']\n",
    "df_train.drop('Annual Turnover',axis=1,inplace=True)"
   ]
  },
  {
   "cell_type": "code",
   "execution_count": 11,
   "metadata": {},
   "outputs": [
    {
     "data": {
      "text/plain": [
       "3493"
      ]
     },
     "execution_count": 11,
     "metadata": {},
     "output_type": "execute_result"
    }
   ],
   "source": [
    "len(df_train['Registration Number'].unique())"
   ]
  },
  {
   "cell_type": "code",
   "execution_count": 12,
   "metadata": {},
   "outputs": [],
   "source": [
    "df_train.drop('Registration Number',axis=1,inplace=True)"
   ]
  },
  {
   "cell_type": "code",
   "execution_count": 13,
   "metadata": {},
   "outputs": [],
   "source": [
    "reg_no_test=test_Data[['Registration Number']]\n",
    "test_Data.drop('Registration Number',axis=1,inplace=True)"
   ]
  },
  {
   "cell_type": "code",
   "execution_count": null,
   "metadata": {},
   "outputs": [],
   "source": []
  },
  {
   "cell_type": "code",
   "execution_count": 14,
   "metadata": {},
   "outputs": [
    {
     "data": {
      "text/plain": [
       "array([nan,  4.,  3.,  2.,  5.,  6.])"
      ]
     },
     "execution_count": 14,
     "metadata": {},
     "output_type": "execute_result"
    }
   ],
   "source": [
    "df_train['Live Sports Rating'].unique()"
   ]
  },
  {
   "cell_type": "code",
   "execution_count": 15,
   "metadata": {},
   "outputs": [
    {
     "data": {
      "text/plain": [
       "array([nan,  4.,  2.,  3.,  1.,  5.,  6.])"
      ]
     },
     "execution_count": 15,
     "metadata": {},
     "output_type": "execute_result"
    }
   ],
   "source": [
    "df_train['Comedy Gigs Rating'].unique()"
   ]
  },
  {
   "cell_type": "code",
   "execution_count": 16,
   "metadata": {},
   "outputs": [
    {
     "data": {
      "text/plain": [
       "array([nan,  4.,  3.,  5.,  2.,  1.,  6.,  7.])"
      ]
     },
     "execution_count": 16,
     "metadata": {},
     "output_type": "execute_result"
    }
   ],
   "source": [
    "df_train['Value Deals Rating'].unique()"
   ]
  },
  {
   "cell_type": "code",
   "execution_count": 17,
   "metadata": {},
   "outputs": [],
   "source": [
    "# dropping above 3 columns since 90 percent of the data is missing\n",
    "df_train.drop(['Live Sports Rating','Comedy Gigs Rating','Value Deals Rating'],axis=1,inplace=True)"
   ]
  },
  {
   "cell_type": "code",
   "execution_count": 18,
   "metadata": {},
   "outputs": [],
   "source": [
    "# dropping above 3 columns since 90 percent of the data is missing\n",
    "test_Data.drop(['Live Sports Rating','Comedy Gigs Rating','Value Deals Rating'],axis=1,inplace=True)"
   ]
  },
  {
   "cell_type": "code",
   "execution_count": null,
   "metadata": {},
   "outputs": [],
   "source": []
  },
  {
   "cell_type": "code",
   "execution_count": null,
   "metadata": {},
   "outputs": [],
   "source": []
  },
  {
   "cell_type": "code",
   "execution_count": 19,
   "metadata": {},
   "outputs": [
    {
     "data": {
      "text/plain": [
       "297"
      ]
     },
     "execution_count": 19,
     "metadata": {},
     "output_type": "execute_result"
    }
   ],
   "source": [
    "len(df_train['City'].unique())"
   ]
  },
  {
   "cell_type": "code",
   "execution_count": null,
   "metadata": {},
   "outputs": [],
   "source": []
  },
  {
   "cell_type": "code",
   "execution_count": 20,
   "metadata": {},
   "outputs": [
    {
     "data": {
      "text/plain": [
       "2"
      ]
     },
     "execution_count": 20,
     "metadata": {},
     "output_type": "execute_result"
    }
   ],
   "source": [
    "len(df_train['Restaurant Location'].unique())"
   ]
  },
  {
   "cell_type": "markdown",
   "metadata": {},
   "source": [
    "#### Opening Day of Restaurant"
   ]
  },
  {
   "cell_type": "code",
   "execution_count": 21,
   "metadata": {},
   "outputs": [
    {
     "data": {
      "text/plain": [
       "1778"
      ]
     },
     "execution_count": 21,
     "metadata": {},
     "output_type": "execute_result"
    }
   ],
   "source": [
    "len(df_train['Opening Day of Restaurant'].unique())"
   ]
  },
  {
   "cell_type": "code",
   "execution_count": 22,
   "metadata": {},
   "outputs": [
    {
     "data": {
      "text/plain": [
       "array(['14-02-2009', '29-09-2008', '30-07-2011', ..., '07-06-2007',\n",
       "       '27-06-2013', '15-03-2007'], dtype=object)"
      ]
     },
     "execution_count": 22,
     "metadata": {},
     "output_type": "execute_result"
    }
   ],
   "source": [
    "df_train['Opening Day of Restaurant'].unique()"
   ]
  },
  {
   "cell_type": "code",
   "execution_count": 23,
   "metadata": {},
   "outputs": [],
   "source": [
    "#converting it into date time\n",
    "df_train['Opening Day of Restaurant']=pd.to_datetime(df_train['Opening Day of Restaurant'])\n",
    "\n",
    "df_train['opening_year']=df_train['Opening Day of Restaurant'].dt.year\n",
    "df_train['opening_month']=df_train['Opening Day of Restaurant'].dt.month\n",
    "df_train['opening_day']=df_train['Opening Day of Restaurant'].dt.day\n"
   ]
  },
  {
   "cell_type": "code",
   "execution_count": 24,
   "metadata": {},
   "outputs": [],
   "source": [
    "df_train.drop('Opening Day of Restaurant',axis=1,inplace=True)"
   ]
  },
  {
   "cell_type": "raw",
   "metadata": {},
   "source": [
    "df_train['opening_month']=df_train['opening_month'].astype('int64')"
   ]
  },
  {
   "cell_type": "code",
   "execution_count": 25,
   "metadata": {},
   "outputs": [],
   "source": [
    "#converting it into date time\n",
    "test_Data['Opening Day of Restaurant']=pd.to_datetime(test_Data['Opening Day of Restaurant'])\n",
    "test_Data['opening_year']=test_Data['Opening Day of Restaurant'].dt.year\n",
    "test_Data['opening_month']=test_Data['Opening Day of Restaurant'].dt.month\n",
    "test_Data['opening_day']=test_Data['Opening Day of Restaurant'].dt.day\n",
    "test_Data.drop('Opening Day of Restaurant',axis=1,inplace=True)\n"
   ]
  },
  {
   "cell_type": "raw",
   "metadata": {},
   "source": [
    "test_Data['opening_month']=test_Data['opening_month'].astype('int64')"
   ]
  },
  {
   "cell_type": "code",
   "execution_count": null,
   "metadata": {},
   "outputs": [],
   "source": []
  },
  {
   "cell_type": "markdown",
   "metadata": {},
   "source": [
    "#### Restaurant Type"
   ]
  },
  {
   "cell_type": "code",
   "execution_count": 26,
   "metadata": {
    "scrolled": true
   },
   "outputs": [
    {
     "data": {
      "text/plain": [
       "4"
      ]
     },
     "execution_count": 26,
     "metadata": {},
     "output_type": "execute_result"
    }
   ],
   "source": [
    "len(df_train['Restaurant Type'].unique())"
   ]
  },
  {
   "cell_type": "code",
   "execution_count": 27,
   "metadata": {},
   "outputs": [
    {
     "data": {
      "text/plain": [
       "array(['Bar', 'Caffee', 'Gastro Bar', 'Buffet/Family Restaurant'],\n",
       "      dtype=object)"
      ]
     },
     "execution_count": 27,
     "metadata": {},
     "output_type": "execute_result"
    }
   ],
   "source": [
    "df_train['Restaurant Type'].unique()"
   ]
  },
  {
   "cell_type": "code",
   "execution_count": 28,
   "metadata": {},
   "outputs": [
    {
     "data": {
      "text/plain": [
       "4"
      ]
     },
     "execution_count": 28,
     "metadata": {},
     "output_type": "execute_result"
    }
   ],
   "source": [
    "len(test_Data['Restaurant Type'].unique())"
   ]
  },
  {
   "cell_type": "code",
   "execution_count": 29,
   "metadata": {},
   "outputs": [
    {
     "data": {
      "text/plain": [
       "F_onewayResult(statistic=2.5599162499034507, pvalue=0.05329016750709972)"
      ]
     },
     "execution_count": 29,
     "metadata": {},
     "output_type": "execute_result"
    }
   ],
   "source": [
    "data=pd.DataFrame(df_train['Restaurant Type'])\n",
    "data['revenue']=target\n",
    "t1=data[data['Restaurant Type']=='Bar']['revenue']\n",
    "t2=data[data['Restaurant Type']=='Caffee']['revenue']\n",
    "t3=data[data['Restaurant Type']=='Gastro Bar']['revenue']\n",
    "t4=data[data['Restaurant Type']=='Buffet/Family Restaurant']['revenue']\n",
    "\n",
    "\n",
    "stats.f_oneway(t1,t2,t3,t4)"
   ]
  },
  {
   "cell_type": "markdown",
   "metadata": {},
   "source": [
    "#### Restaurant Theme"
   ]
  },
  {
   "cell_type": "code",
   "execution_count": 30,
   "metadata": {},
   "outputs": [
    {
     "data": {
      "text/plain": [
       "34"
      ]
     },
     "execution_count": 30,
     "metadata": {},
     "output_type": "execute_result"
    }
   ],
   "source": [
    "len(df_train['Restaurant Theme'].unique())"
   ]
  },
  {
   "cell_type": "code",
   "execution_count": 31,
   "metadata": {},
   "outputs": [
    {
     "data": {
      "text/plain": [
       "array(['Arabian', 'Greek', \"90's\", 'Nature', 'Parsi', 'English',\n",
       "       'Chinese', 'Delicio', 'Molino', 'Petit', 'Downtown', 'Italica',\n",
       "       'Bettaso', 'Bakery', 'Mise En', 'Umami', 'Moonrise', 'Belise',\n",
       "       'Cinnamon', 'Resca', 'TheGem', 'Benedicta', 'Marco', 'LaCuisine',\n",
       "       'Spoon', 'Grand', 'Picante', 'Carbone', 'Flavors', 'Cafepro',\n",
       "       'Savory', 'Piquant', 'Sage', 'Ambiance'], dtype=object)"
      ]
     },
     "execution_count": 31,
     "metadata": {},
     "output_type": "execute_result"
    }
   ],
   "source": [
    "df_train['Restaurant Theme'].unique()"
   ]
  },
  {
   "cell_type": "code",
   "execution_count": 32,
   "metadata": {},
   "outputs": [
    {
     "data": {
      "text/plain": [
       "18"
      ]
     },
     "execution_count": 32,
     "metadata": {},
     "output_type": "execute_result"
    }
   ],
   "source": [
    "len(test_Data['Restaurant Theme'].unique())"
   ]
  },
  {
   "cell_type": "code",
   "execution_count": 33,
   "metadata": {},
   "outputs": [],
   "source": [
    "from sklearn.preprocessing import LabelEncoder\n",
    "le=LabelEncoder()"
   ]
  },
  {
   "cell_type": "code",
   "execution_count": 34,
   "metadata": {},
   "outputs": [],
   "source": [
    "df_train['Restaurant Theme']=df_train['Restaurant Theme'].apply(lambda city : city.upper())\n",
    "test_Data['Restaurant Theme']=test_Data['Restaurant Theme'].apply(lambda city : city.upper())\n",
    "\n",
    "df_train['Restaurant Theme']=le.fit_transform(df_train['Restaurant Theme'])\n",
    "\n",
    "test_Data['Restaurant Theme']=le.transform(test_Data['Restaurant Theme'])"
   ]
  },
  {
   "cell_type": "markdown",
   "metadata": {},
   "source": [
    "#### City"
   ]
  },
  {
   "cell_type": "code",
   "execution_count": 35,
   "metadata": {},
   "outputs": [
    {
     "data": {
      "text/plain": [
       "297"
      ]
     },
     "execution_count": 35,
     "metadata": {},
     "output_type": "execute_result"
    }
   ],
   "source": [
    "len(df_train.City.unique())"
   ]
  },
  {
   "cell_type": "code",
   "execution_count": 36,
   "metadata": {},
   "outputs": [
    {
     "data": {
      "text/plain": [
       "97"
      ]
     },
     "execution_count": 36,
     "metadata": {},
     "output_type": "execute_result"
    }
   ],
   "source": [
    "len(test_Data.City.unique())"
   ]
  },
  {
   "cell_type": "code",
   "execution_count": 37,
   "metadata": {},
   "outputs": [],
   "source": [
    "df_train['City']=df_train['City'].apply(lambda city : city.upper())\n",
    "test_Data['City']=test_Data['City'].apply(lambda city : city.upper())"
   ]
  },
  {
   "cell_type": "raw",
   "metadata": {},
   "source": [
    "df_train['City']=le.fit_transform(df_train['City'])\n",
    "\n",
    "test_Data['City']=le.transform(test_Data['City'])"
   ]
  },
  {
   "cell_type": "raw",
   "metadata": {},
   "source": [
    "since due to presence of unseen labels in train and test set we will drop city column"
   ]
  },
  {
   "cell_type": "code",
   "execution_count": 38,
   "metadata": {},
   "outputs": [],
   "source": [
    "df_train.drop('City',inplace=True,axis=1)\n",
    "test_Data.drop('City',inplace=True,axis=1)"
   ]
  },
  {
   "cell_type": "code",
   "execution_count": null,
   "metadata": {},
   "outputs": [],
   "source": []
  },
  {
   "cell_type": "markdown",
   "metadata": {},
   "source": [
    "#### Endorsed by"
   ]
  },
  {
   "cell_type": "code",
   "execution_count": 39,
   "metadata": {},
   "outputs": [
    {
     "data": {
      "text/plain": [
       "array(['Not Specific', 'Tier A Celebrity', 'Local Celebrity'],\n",
       "      dtype=object)"
      ]
     },
     "execution_count": 39,
     "metadata": {},
     "output_type": "execute_result"
    }
   ],
   "source": [
    "df_train['Endorsed By'].unique()"
   ]
  },
  {
   "cell_type": "code",
   "execution_count": 40,
   "metadata": {},
   "outputs": [
    {
     "data": {
      "text/plain": [
       "array(['Tier A Celebrity', 'Not Specific', 'Local Celebrity'],\n",
       "      dtype=object)"
      ]
     },
     "execution_count": 40,
     "metadata": {},
     "output_type": "execute_result"
    }
   ],
   "source": [
    "test_Data['Endoresed By'].unique()"
   ]
  },
  {
   "cell_type": "code",
   "execution_count": 41,
   "metadata": {},
   "outputs": [],
   "source": [
    "from statsmodels.formula.api import ols\n",
    "from statsmodels.stats.anova import anova_lm\n"
   ]
  },
  {
   "cell_type": "code",
   "execution_count": 42,
   "metadata": {},
   "outputs": [
    {
     "data": {
      "text/plain": [
       "F_onewayResult(statistic=5.774935113353456, pvalue=0.0031341404982070382)"
      ]
     },
     "execution_count": 42,
     "metadata": {},
     "output_type": "execute_result"
    }
   ],
   "source": [
    "data=pd.DataFrame(df_train['Endorsed By'])\n",
    "data['revenue']=target\n",
    "t1=data[data['Endorsed By']=='Tier A Celebrity']['revenue']\n",
    "t2=data[data['Endorsed By']=='Not Specific']['revenue']\n",
    "t3=data[data['Endorsed By']=='Local Celebrity']['revenue']\n",
    "\n",
    "stats.f_oneway(t1,t2,t3)"
   ]
  },
  {
   "cell_type": "markdown",
   "metadata": {},
   "source": [
    "#### Fire Audit"
   ]
  },
  {
   "cell_type": "code",
   "execution_count": 43,
   "metadata": {},
   "outputs": [
    {
     "data": {
      "text/plain": [
       "array([1, 0], dtype=int64)"
      ]
     },
     "execution_count": 43,
     "metadata": {},
     "output_type": "execute_result"
    }
   ],
   "source": [
    "df_train['Fire Audit'].unique()"
   ]
  },
  {
   "cell_type": "code",
   "execution_count": 44,
   "metadata": {},
   "outputs": [
    {
     "data": {
      "text/plain": [
       "array([1, 0], dtype=int64)"
      ]
     },
     "execution_count": 44,
     "metadata": {},
     "output_type": "execute_result"
    }
   ],
   "source": [
    "test_Data['Fire Audit'].unique()"
   ]
  },
  {
   "cell_type": "code",
   "execution_count": 45,
   "metadata": {},
   "outputs": [],
   "source": [
    "df_train['Fire Audit']=df_train['Fire Audit'].astype('object')\n",
    "test_Data['Fire Audit']=test_Data['Fire Audit'].astype('object')"
   ]
  },
  {
   "cell_type": "code",
   "execution_count": 46,
   "metadata": {},
   "outputs": [
    {
     "data": {
      "text/plain": [
       "Ttest_indResult(statistic=1.8366506458900105, pvalue=0.06634645904267522)"
      ]
     },
     "execution_count": 46,
     "metadata": {},
     "output_type": "execute_result"
    }
   ],
   "source": [
    "data=pd.DataFrame(df_train['Fire Audit'])\n",
    "data['revenue']=target\n",
    "t1=data[data['Fire Audit']==1]['revenue']\n",
    "t2=data[data['Fire Audit']==0]['revenue']\n",
    "stats.ttest_ind(t1,t2)"
   ]
  },
  {
   "cell_type": "code",
   "execution_count": 47,
   "metadata": {},
   "outputs": [],
   "source": [
    "# insignificant feature\n",
    "df_train.drop('Fire Audit',axis=1,inplace=True)\n",
    "test_Data.drop('Fire Audit',axis=1,inplace=True)"
   ]
  },
  {
   "cell_type": "markdown",
   "metadata": {},
   "source": [
    "#### Liquor License Obtained"
   ]
  },
  {
   "cell_type": "code",
   "execution_count": 48,
   "metadata": {},
   "outputs": [
    {
     "data": {
      "text/plain": [
       "array([1, 0], dtype=int64)"
      ]
     },
     "execution_count": 48,
     "metadata": {},
     "output_type": "execute_result"
    }
   ],
   "source": [
    "df_train['Liquor License Obtained'].unique()"
   ]
  },
  {
   "cell_type": "code",
   "execution_count": 49,
   "metadata": {},
   "outputs": [
    {
     "data": {
      "text/plain": [
       "array([1, 0], dtype=int64)"
      ]
     },
     "execution_count": 49,
     "metadata": {},
     "output_type": "execute_result"
    }
   ],
   "source": [
    "test_Data['Liquor License Obtained'].unique()"
   ]
  },
  {
   "cell_type": "code",
   "execution_count": 50,
   "metadata": {},
   "outputs": [],
   "source": [
    "df_train['Liquor License Obtained']=df_train['Liquor License Obtained'].astype('object')\n",
    "test_Data['Liquor License Obtained']=test_Data['Liquor License Obtained'].astype('object')"
   ]
  },
  {
   "cell_type": "code",
   "execution_count": 51,
   "metadata": {},
   "outputs": [
    {
     "data": {
      "text/plain": [
       "Ttest_indResult(statistic=1.4859242314054586, pvalue=0.13738946115201162)"
      ]
     },
     "execution_count": 51,
     "metadata": {},
     "output_type": "execute_result"
    }
   ],
   "source": [
    "data=pd.DataFrame(df_train['Liquor License Obtained'])\n",
    "data['revenue']=target\n",
    "t1=data[data['Liquor License Obtained']==1]['revenue']\n",
    "t2=data[data['Liquor License Obtained']==0]['revenue']\n",
    "stats.ttest_ind(t1,t2)"
   ]
  },
  {
   "cell_type": "raw",
   "metadata": {},
   "source": [
    "since pvalue is greater than 0.05 and t stat<1.96 it is least significant"
   ]
  },
  {
   "cell_type": "code",
   "execution_count": 52,
   "metadata": {},
   "outputs": [],
   "source": [
    "df_train.drop('Liquor License Obtained',axis=1,inplace=True)\n",
    "test_Data.drop('Liquor License Obtained',axis=1,inplace=True)"
   ]
  },
  {
   "cell_type": "code",
   "execution_count": null,
   "metadata": {},
   "outputs": [],
   "source": []
  },
  {
   "cell_type": "markdown",
   "metadata": {},
   "source": [
    "#### Situated in a Multi Complex"
   ]
  },
  {
   "cell_type": "code",
   "execution_count": 53,
   "metadata": {},
   "outputs": [
    {
     "data": {
      "text/plain": [
       "array([1, 0], dtype=int64)"
      ]
     },
     "execution_count": 53,
     "metadata": {},
     "output_type": "execute_result"
    }
   ],
   "source": [
    "df_train['Situated in a Multi Complex'].unique()"
   ]
  },
  {
   "cell_type": "code",
   "execution_count": 54,
   "metadata": {},
   "outputs": [
    {
     "data": {
      "text/plain": [
       "array([1, 0], dtype=int64)"
      ]
     },
     "execution_count": 54,
     "metadata": {},
     "output_type": "execute_result"
    }
   ],
   "source": [
    "test_Data['Situated in a Multi Complex'].unique()"
   ]
  },
  {
   "cell_type": "code",
   "execution_count": 55,
   "metadata": {},
   "outputs": [],
   "source": [
    "df_train['Situated in a Multi Complex']=df_train['Situated in a Multi Complex'].astype('object')\n",
    "test_Data['Situated in a Multi Complex']=test_Data['Situated in a Multi Complex'].astype('object')"
   ]
  },
  {
   "cell_type": "code",
   "execution_count": 56,
   "metadata": {},
   "outputs": [
    {
     "data": {
      "text/plain": [
       "Ttest_indResult(statistic=-3.365832083952008, pvalue=0.0007713795163565877)"
      ]
     },
     "execution_count": 56,
     "metadata": {},
     "output_type": "execute_result"
    }
   ],
   "source": [
    "data=pd.DataFrame(df_train['Situated in a Multi Complex'])\n",
    "data['revenue']=target\n",
    "t1=data[data['Situated in a Multi Complex']==1]['revenue']\n",
    "t2=data[data['Situated in a Multi Complex']==0]['revenue']\n",
    "stats.ttest_ind(t1,t2)"
   ]
  },
  {
   "cell_type": "raw",
   "metadata": {},
   "source": [
    "Significant feature"
   ]
  },
  {
   "cell_type": "markdown",
   "metadata": {},
   "source": [
    "#### Dedicated Parking'"
   ]
  },
  {
   "cell_type": "code",
   "execution_count": 57,
   "metadata": {},
   "outputs": [
    {
     "data": {
      "text/plain": [
       "array([0, 1], dtype=int64)"
      ]
     },
     "execution_count": 57,
     "metadata": {},
     "output_type": "execute_result"
    }
   ],
   "source": [
    "df_train['Dedicated Parking'].unique()"
   ]
  },
  {
   "cell_type": "code",
   "execution_count": 58,
   "metadata": {},
   "outputs": [
    {
     "data": {
      "text/plain": [
       "array([1, 0], dtype=int64)"
      ]
     },
     "execution_count": 58,
     "metadata": {},
     "output_type": "execute_result"
    }
   ],
   "source": [
    "test_Data['Dedicated Parking'].unique()"
   ]
  },
  {
   "cell_type": "code",
   "execution_count": 59,
   "metadata": {},
   "outputs": [],
   "source": [
    "df_train['Dedicated Parking']=df_train['Dedicated Parking'].astype('object')\n",
    "test_Data['Dedicated Parking']=test_Data['Dedicated Parking'].astype('object')"
   ]
  },
  {
   "cell_type": "code",
   "execution_count": 60,
   "metadata": {},
   "outputs": [
    {
     "data": {
      "text/plain": [
       "Ttest_indResult(statistic=1.4338471765221668, pvalue=0.15170543786718912)"
      ]
     },
     "execution_count": 60,
     "metadata": {},
     "output_type": "execute_result"
    }
   ],
   "source": [
    "data=pd.DataFrame(df_train['Dedicated Parking'])\n",
    "data['revenue']=target\n",
    "t1=data[data['Dedicated Parking']==1]['revenue']\n",
    "t2=data[data['Dedicated Parking']==0]['revenue']\n",
    "stats.ttest_ind(t1,t2)"
   ]
  },
  {
   "cell_type": "code",
   "execution_count": 61,
   "metadata": {},
   "outputs": [],
   "source": [
    "#not significant feature \n",
    "df_train.drop('Dedicated Parking',axis=1,inplace=True)\n",
    "test_Data.drop('Dedicated Parking',axis=1,inplace=True)"
   ]
  },
  {
   "cell_type": "code",
   "execution_count": null,
   "metadata": {},
   "outputs": [],
   "source": []
  },
  {
   "cell_type": "markdown",
   "metadata": {},
   "source": [
    "#### Open Sitting Available"
   ]
  },
  {
   "cell_type": "code",
   "execution_count": 62,
   "metadata": {},
   "outputs": [
    {
     "data": {
      "text/plain": [
       "array([1, 0], dtype=int64)"
      ]
     },
     "execution_count": 62,
     "metadata": {},
     "output_type": "execute_result"
    }
   ],
   "source": [
    "df_train['Open Sitting Available'].unique()"
   ]
  },
  {
   "cell_type": "code",
   "execution_count": 63,
   "metadata": {},
   "outputs": [
    {
     "data": {
      "text/plain": [
       "array([0, 1], dtype=int64)"
      ]
     },
     "execution_count": 63,
     "metadata": {},
     "output_type": "execute_result"
    }
   ],
   "source": [
    "test_Data['Open Sitting Available'].unique()"
   ]
  },
  {
   "cell_type": "code",
   "execution_count": 64,
   "metadata": {},
   "outputs": [],
   "source": [
    "df_train['Open Sitting Available']=df_train['Open Sitting Available'].astype('object')\n",
    "test_Data['Open Sitting Available']=test_Data['Open Sitting Available'].astype('object')"
   ]
  },
  {
   "cell_type": "code",
   "execution_count": 65,
   "metadata": {},
   "outputs": [
    {
     "data": {
      "text/plain": [
       "Ttest_indResult(statistic=0.06359374834497598, pvalue=0.9492973506232871)"
      ]
     },
     "execution_count": 65,
     "metadata": {},
     "output_type": "execute_result"
    }
   ],
   "source": [
    "data=pd.DataFrame(df_train['Open Sitting Available'])\n",
    "data['revenue']=target\n",
    "t1=data[data['Open Sitting Available']==1]['revenue']\n",
    "t2=data[data['Open Sitting Available']==0]['revenue']\n",
    "stats.ttest_ind(t1,t2)"
   ]
  },
  {
   "cell_type": "code",
   "execution_count": 66,
   "metadata": {},
   "outputs": [],
   "source": [
    "#insignificant\n",
    "df_train.drop('Open Sitting Available',axis=1,inplace=True)\n",
    "#insignificant\n",
    "test_Data.drop('Open Sitting Available',axis=1,inplace=True)"
   ]
  },
  {
   "cell_type": "code",
   "execution_count": null,
   "metadata": {},
   "outputs": [],
   "source": []
  },
  {
   "cell_type": "markdown",
   "metadata": {},
   "source": [
    "#### Resturant Tier"
   ]
  },
  {
   "cell_type": "code",
   "execution_count": 67,
   "metadata": {},
   "outputs": [
    {
     "data": {
      "text/plain": [
       "array([ 2.,  1., nan])"
      ]
     },
     "execution_count": 67,
     "metadata": {},
     "output_type": "execute_result"
    }
   ],
   "source": [
    "df_train['Resturant Tier'].unique()"
   ]
  },
  {
   "cell_type": "code",
   "execution_count": 68,
   "metadata": {},
   "outputs": [
    {
     "data": {
      "text/plain": [
       "array([2, 1], dtype=int64)"
      ]
     },
     "execution_count": 68,
     "metadata": {},
     "output_type": "execute_result"
    }
   ],
   "source": [
    "test_Data['Resturant Tier'].unique()"
   ]
  },
  {
   "cell_type": "code",
   "execution_count": 69,
   "metadata": {},
   "outputs": [],
   "source": [
    "df_train['Resturant Tier']=df_train['Resturant Tier'].astype('object')\n",
    "test_Data['Resturant Tier']=test_Data['Resturant Tier'].astype('object')"
   ]
  },
  {
   "cell_type": "raw",
   "metadata": {},
   "source": []
  },
  {
   "cell_type": "raw",
   "metadata": {},
   "source": []
  },
  {
   "cell_type": "code",
   "execution_count": 70,
   "metadata": {},
   "outputs": [
    {
     "data": {
      "text/plain": [
       "array([3, 0, 4, 2, 1, 5], dtype=int64)"
      ]
     },
     "execution_count": 70,
     "metadata": {},
     "output_type": "execute_result"
    }
   ],
   "source": [
    "df_train['Restaurant Zomato Rating'].unique()"
   ]
  },
  {
   "cell_type": "code",
   "execution_count": 71,
   "metadata": {},
   "outputs": [
    {
     "data": {
      "text/plain": [
       "array([3, 4, 2, 5, 1], dtype=int64)"
      ]
     },
     "execution_count": 71,
     "metadata": {},
     "output_type": "execute_result"
    }
   ],
   "source": [
    "test_Data['Restaurant Zomato Rating'].unique()"
   ]
  },
  {
   "cell_type": "raw",
   "metadata": {},
   "source": [
    "df_train['Restaurant Zomato Rating']=df_train['Restaurant Zomato Rating'].astype('object')\n",
    "test_Data['Restaurant Zomato Rating']=test_Data['Restaurant Zomato Rating'].astype('object')"
   ]
  },
  {
   "cell_type": "code",
   "execution_count": null,
   "metadata": {},
   "outputs": [],
   "source": []
  },
  {
   "cell_type": "code",
   "execution_count": 72,
   "metadata": {},
   "outputs": [
    {
     "data": {
      "text/plain": [
       "array([0, 1], dtype=int64)"
      ]
     },
     "execution_count": 72,
     "metadata": {},
     "output_type": "execute_result"
    }
   ],
   "source": [
    "df_train['Restaurant City Tier'].unique()"
   ]
  },
  {
   "cell_type": "code",
   "execution_count": 73,
   "metadata": {},
   "outputs": [],
   "source": [
    "df_train['Restaurant City Tier']=df_train['Restaurant City Tier'].astype('object')\n",
    "test_Data['Restaurant City Tier']=test_Data['Restaurant City Tier'].astype('object')"
   ]
  },
  {
   "cell_type": "code",
   "execution_count": null,
   "metadata": {},
   "outputs": [],
   "source": []
  },
  {
   "cell_type": "code",
   "execution_count": 74,
   "metadata": {},
   "outputs": [
    {
     "data": {
      "text/plain": [
       "array([ 2,  6,  7, 10,  8,  4,  9,  1,  3,  5], dtype=int64)"
      ]
     },
     "execution_count": 74,
     "metadata": {},
     "output_type": "execute_result"
    }
   ],
   "source": [
    "df_train['Order Wait Time'].unique()"
   ]
  },
  {
   "cell_type": "code",
   "execution_count": 75,
   "metadata": {},
   "outputs": [
    {
     "data": {
      "text/plain": [
       "array([10,  6,  7,  1,  5,  2,  3,  9,  4,  8], dtype=int64)"
      ]
     },
     "execution_count": 75,
     "metadata": {},
     "output_type": "execute_result"
    }
   ],
   "source": [
    "test_Data['Order Wait Time'].unique()"
   ]
  },
  {
   "cell_type": "raw",
   "metadata": {},
   "source": [
    "df_train['Order Wait Time']=df_train['Order Wait Time'].astype('object')\n",
    "test_Data['Order Wait Time']=test_Data['Order Wait Time'].astype('object')"
   ]
  },
  {
   "cell_type": "code",
   "execution_count": null,
   "metadata": {},
   "outputs": [],
   "source": []
  },
  {
   "cell_type": "code",
   "execution_count": 76,
   "metadata": {},
   "outputs": [
    {
     "data": {
      "text/plain": [
       "array([5, 6, 4, 3, 7, 2, 8, 1], dtype=int64)"
      ]
     },
     "execution_count": 76,
     "metadata": {},
     "output_type": "execute_result"
    }
   ],
   "source": [
    "df_train['Staff Responsivness'].unique()"
   ]
  },
  {
   "cell_type": "code",
   "execution_count": 77,
   "metadata": {},
   "outputs": [
    {
     "data": {
      "text/plain": [
       "array([5, 4, 6, 3, 7, 2], dtype=int64)"
      ]
     },
     "execution_count": 77,
     "metadata": {},
     "output_type": "execute_result"
    }
   ],
   "source": [
    "test_Data['Staff Responsivness'].unique()"
   ]
  },
  {
   "cell_type": "raw",
   "metadata": {},
   "source": [
    "df_train['Staff Responsivness']=df_train['Staff Responsivness'].astype('object')\n",
    "test_Data['Staff Responsivness']=test_Data['Staff Responsivness'].astype('object')"
   ]
  },
  {
   "cell_type": "code",
   "execution_count": null,
   "metadata": {},
   "outputs": [],
   "source": []
  },
  {
   "cell_type": "code",
   "execution_count": 78,
   "metadata": {},
   "outputs": [
    {
     "data": {
      "text/plain": [
       "array([5, 6, 4, 3, 2, 7, 1], dtype=int64)"
      ]
     },
     "execution_count": 78,
     "metadata": {},
     "output_type": "execute_result"
    }
   ],
   "source": [
    "df_train['Value for Money'].unique()"
   ]
  },
  {
   "cell_type": "code",
   "execution_count": 79,
   "metadata": {},
   "outputs": [
    {
     "data": {
      "text/plain": [
       "array([3, 5, 6, 4, 2, 7], dtype=int64)"
      ]
     },
     "execution_count": 79,
     "metadata": {},
     "output_type": "execute_result"
    }
   ],
   "source": [
    "test_Data['Value for Money'].unique()"
   ]
  },
  {
   "cell_type": "code",
   "execution_count": null,
   "metadata": {},
   "outputs": [],
   "source": []
  },
  {
   "cell_type": "code",
   "execution_count": 80,
   "metadata": {},
   "outputs": [
    {
     "data": {
      "text/plain": [
       "array([5, 7, 3, 6, 4, 2, 8, 1, 9], dtype=int64)"
      ]
     },
     "execution_count": 80,
     "metadata": {},
     "output_type": "execute_result"
    }
   ],
   "source": [
    "df_train['Hygiene Rating'].unique()"
   ]
  },
  {
   "cell_type": "code",
   "execution_count": 81,
   "metadata": {},
   "outputs": [
    {
     "data": {
      "text/plain": [
       "array([5, 6, 7, 4, 3, 2, 8, 1], dtype=int64)"
      ]
     },
     "execution_count": 81,
     "metadata": {},
     "output_type": "execute_result"
    }
   ],
   "source": [
    "test_Data['Hygiene Rating'].unique()"
   ]
  },
  {
   "cell_type": "code",
   "execution_count": null,
   "metadata": {},
   "outputs": [],
   "source": []
  },
  {
   "cell_type": "code",
   "execution_count": 82,
   "metadata": {},
   "outputs": [
    {
     "data": {
      "text/plain": [
       "array([ 4., nan,  3.,  6.,  7.,  5.,  1.,  8.,  2.])"
      ]
     },
     "execution_count": 82,
     "metadata": {},
     "output_type": "execute_result"
    }
   ],
   "source": [
    "df_train['Live Music Rating'].unique()"
   ]
  },
  {
   "cell_type": "code",
   "execution_count": 83,
   "metadata": {},
   "outputs": [
    {
     "data": {
      "text/plain": [
       "array([nan,  3.,  6.,  4.,  2.,  5.,  7.,  1.])"
      ]
     },
     "execution_count": 83,
     "metadata": {},
     "output_type": "execute_result"
    }
   ],
   "source": [
    "test_Data['Live Music Rating'].unique()"
   ]
  },
  {
   "cell_type": "code",
   "execution_count": null,
   "metadata": {},
   "outputs": [],
   "source": []
  },
  {
   "cell_type": "code",
   "execution_count": 84,
   "metadata": {},
   "outputs": [
    {
     "data": {
      "text/plain": [
       "array([ 8.,  5.,  7., nan,  6., 10.,  4.,  2.,  9.,  0.,  1.,  3.])"
      ]
     },
     "execution_count": 84,
     "metadata": {},
     "output_type": "execute_result"
    }
   ],
   "source": [
    "df_train['Ambience'].unique()"
   ]
  },
  {
   "cell_type": "code",
   "execution_count": 85,
   "metadata": {},
   "outputs": [
    {
     "data": {
      "text/plain": [
       "array([ 5,  7,  9,  6,  4,  8, 10,  1,  2,  0,  3], dtype=int64)"
      ]
     },
     "execution_count": 85,
     "metadata": {},
     "output_type": "execute_result"
    }
   ],
   "source": [
    "test_Data['Ambience'].unique()"
   ]
  },
  {
   "cell_type": "code",
   "execution_count": null,
   "metadata": {},
   "outputs": [],
   "source": []
  },
  {
   "cell_type": "code",
   "execution_count": 86,
   "metadata": {},
   "outputs": [
    {
     "data": {
      "text/plain": [
       "array([ 8,  7, 10,  6,  5,  9,  2,  3,  4,  1,  0], dtype=int64)"
      ]
     },
     "execution_count": 86,
     "metadata": {},
     "output_type": "execute_result"
    }
   ],
   "source": [
    "df_train['Lively'].unique()"
   ]
  },
  {
   "cell_type": "code",
   "execution_count": 87,
   "metadata": {},
   "outputs": [
    {
     "data": {
      "text/plain": [
       "array([ 2,  8,  7,  4,  6,  5, 10,  9,  3,  0,  1], dtype=int64)"
      ]
     },
     "execution_count": 87,
     "metadata": {},
     "output_type": "execute_result"
    }
   ],
   "source": [
    "test_Data['Lively'].unique()"
   ]
  },
  {
   "cell_type": "code",
   "execution_count": null,
   "metadata": {},
   "outputs": [],
   "source": []
  },
  {
   "cell_type": "code",
   "execution_count": 88,
   "metadata": {},
   "outputs": [
    {
     "data": {
      "text/plain": [
       "array([ 6,  7,  5,  4,  2,  0,  3,  1,  9,  8, 10], dtype=int64)"
      ]
     },
     "execution_count": 88,
     "metadata": {},
     "output_type": "execute_result"
    }
   ],
   "source": [
    "df_train['Service'].unique()"
   ]
  },
  {
   "cell_type": "code",
   "execution_count": 89,
   "metadata": {},
   "outputs": [
    {
     "data": {
      "text/plain": [
       "array([ 2,  5,  6,  7,  3,  4,  8,  1,  9, 10,  0], dtype=int64)"
      ]
     },
     "execution_count": 89,
     "metadata": {},
     "output_type": "execute_result"
    }
   ],
   "source": [
    "test_Data['Service'].unique()"
   ]
  },
  {
   "cell_type": "code",
   "execution_count": null,
   "metadata": {},
   "outputs": [],
   "source": []
  },
  {
   "cell_type": "code",
   "execution_count": 90,
   "metadata": {},
   "outputs": [
    {
     "data": {
      "text/plain": [
       "array([ 6,  1,  4,  7,  5,  8,  2,  3,  0, 10,  9], dtype=int64)"
      ]
     },
     "execution_count": 90,
     "metadata": {},
     "output_type": "execute_result"
    }
   ],
   "source": [
    "test_Data['Comfortablility'].unique()"
   ]
  },
  {
   "cell_type": "code",
   "execution_count": 91,
   "metadata": {},
   "outputs": [
    {
     "data": {
      "text/plain": [
       "array([ 6,  3,  2,  4,  0,  5,  7,  1,  9,  8, 10], dtype=int64)"
      ]
     },
     "execution_count": 91,
     "metadata": {},
     "output_type": "execute_result"
    }
   ],
   "source": [
    "df_train['Comfortablility'].unique()"
   ]
  },
  {
   "cell_type": "code",
   "execution_count": null,
   "metadata": {},
   "outputs": [],
   "source": []
  },
  {
   "cell_type": "code",
   "execution_count": 92,
   "metadata": {},
   "outputs": [
    {
     "data": {
      "text/plain": [
       "array([ 6,  8,  5,  4,  9,  7,  1,  0, 10,  3,  2], dtype=int64)"
      ]
     },
     "execution_count": 92,
     "metadata": {},
     "output_type": "execute_result"
    }
   ],
   "source": [
    "df_train['Privacy'].unique()"
   ]
  },
  {
   "cell_type": "code",
   "execution_count": 93,
   "metadata": {},
   "outputs": [
    {
     "data": {
      "text/plain": [
       "array([ 0,  8,  5,  7,  3,  9,  4,  6, 10,  2,  1], dtype=int64)"
      ]
     },
     "execution_count": 93,
     "metadata": {},
     "output_type": "execute_result"
    }
   ],
   "source": [
    "test_Data['Privacy'].unique()"
   ]
  },
  {
   "cell_type": "markdown",
   "metadata": {},
   "source": [
    "#### Cuisine"
   ]
  },
  {
   "cell_type": "code",
   "execution_count": 94,
   "metadata": {},
   "outputs": [
    {
     "data": {
      "text/plain": [
       "20"
      ]
     },
     "execution_count": 94,
     "metadata": {},
     "output_type": "execute_result"
    }
   ],
   "source": [
    "len(df_train['Cuisine'].unique())"
   ]
  },
  {
   "cell_type": "code",
   "execution_count": 95,
   "metadata": {},
   "outputs": [
    {
     "data": {
      "text/plain": [
       "20"
      ]
     },
     "execution_count": 95,
     "metadata": {},
     "output_type": "execute_result"
    }
   ],
   "source": [
    "len(test_Data['Cuisine'].unique())"
   ]
  },
  {
   "cell_type": "code",
   "execution_count": 96,
   "metadata": {},
   "outputs": [
    {
     "data": {
      "text/html": [
       "<div>\n",
       "<style scoped>\n",
       "    .dataframe tbody tr th:only-of-type {\n",
       "        vertical-align: middle;\n",
       "    }\n",
       "\n",
       "    .dataframe tbody tr th {\n",
       "        vertical-align: top;\n",
       "    }\n",
       "\n",
       "    .dataframe thead th {\n",
       "        text-align: right;\n",
       "    }\n",
       "</style>\n",
       "<table border=\"1\" class=\"dataframe\">\n",
       "  <thead>\n",
       "    <tr style=\"text-align: right;\">\n",
       "      <th></th>\n",
       "      <th>df</th>\n",
       "      <th>sum_sq</th>\n",
       "      <th>mean_sq</th>\n",
       "      <th>F</th>\n",
       "      <th>PR(&gt;F)</th>\n",
       "    </tr>\n",
       "  </thead>\n",
       "  <tbody>\n",
       "    <tr>\n",
       "      <th>C(Cuisine)</th>\n",
       "      <td>19.0</td>\n",
       "      <td>4.475548e+16</td>\n",
       "      <td>2.355552e+15</td>\n",
       "      <td>5.138028</td>\n",
       "      <td>2.282704e-12</td>\n",
       "    </tr>\n",
       "    <tr>\n",
       "      <th>Residual</th>\n",
       "      <td>3473.0</td>\n",
       "      <td>1.592212e+18</td>\n",
       "      <td>4.584544e+14</td>\n",
       "      <td>NaN</td>\n",
       "      <td>NaN</td>\n",
       "    </tr>\n",
       "  </tbody>\n",
       "</table>\n",
       "</div>"
      ],
      "text/plain": [
       "                df        sum_sq       mean_sq         F        PR(>F)\n",
       "C(Cuisine)    19.0  4.475548e+16  2.355552e+15  5.138028  2.282704e-12\n",
       "Residual    3473.0  1.592212e+18  4.584544e+14       NaN           NaN"
      ]
     },
     "execution_count": 96,
     "metadata": {},
     "output_type": "execute_result"
    }
   ],
   "source": [
    "data=df_train[['Cuisine']].copy(deep=True)\n",
    "data['revenue']=target\n",
    "m1=ols('revenue~C(Cuisine)',data=data).fit()\n",
    "anova_lm(m1)"
   ]
  },
  {
   "cell_type": "raw",
   "metadata": {},
   "source": [
    "Significant feature\n",
    "\n",
    "Label encoding cuisine"
   ]
  },
  {
   "cell_type": "code",
   "execution_count": 97,
   "metadata": {},
   "outputs": [],
   "source": [
    "k=le.fit_transform(df_train['Cuisine'])\n",
    "df_train['Cuisine']=k\n",
    "\n",
    "test_Data['Cuisine']=le.transform(test_Data['Cuisine'])"
   ]
  },
  {
   "cell_type": "markdown",
   "metadata": {},
   "source": [
    "#### Restaurant Location"
   ]
  },
  {
   "cell_type": "code",
   "execution_count": 98,
   "metadata": {},
   "outputs": [
    {
     "data": {
      "text/plain": [
       "array(['Near Business Hub', 'Near Party Hub'], dtype=object)"
      ]
     },
     "execution_count": 98,
     "metadata": {},
     "output_type": "execute_result"
    }
   ],
   "source": [
    "df_train['Restaurant Location'].unique()"
   ]
  },
  {
   "cell_type": "code",
   "execution_count": null,
   "metadata": {},
   "outputs": [],
   "source": []
  },
  {
   "cell_type": "code",
   "execution_count": null,
   "metadata": {},
   "outputs": [],
   "source": []
  },
  {
   "cell_type": "code",
   "execution_count": 99,
   "metadata": {},
   "outputs": [
    {
     "name": "stdout",
     "output_type": "stream",
     "text": [
      "<class 'pandas.core.frame.DataFrame'>\n",
      "RangeIndex: 3493 entries, 0 to 3492\n",
      "Data columns (total 26 columns):\n",
      " #   Column                         Non-Null Count  Dtype  \n",
      "---  ------                         --------------  -----  \n",
      " 0   Cuisine                        3493 non-null   int32  \n",
      " 1   Restaurant Location            3493 non-null   object \n",
      " 2   Facebook Popularity Quotient   3394 non-null   float64\n",
      " 3   Endorsed By                    3493 non-null   object \n",
      " 4   Instagram Popularity Quotient  3437 non-null   float64\n",
      " 5   Situated in a Multi Complex    3493 non-null   object \n",
      " 6   Resturant Tier                 3444 non-null   object \n",
      " 7   Restaurant Type                3493 non-null   object \n",
      " 8   Restaurant Theme               3493 non-null   int32  \n",
      " 9   Restaurant Zomato Rating       3493 non-null   int64  \n",
      " 10  Restaurant City Tier           3493 non-null   object \n",
      " 11  Order Wait Time                3493 non-null   int64  \n",
      " 12  Staff Responsivness            3493 non-null   int64  \n",
      " 13  Value for Money                3493 non-null   int64  \n",
      " 14  Hygiene Rating                 3493 non-null   int64  \n",
      " 15  Food Rating                    3493 non-null   int64  \n",
      " 16  Overall Restaurant Rating      3281 non-null   float64\n",
      " 17  Live Music Rating              2728 non-null   float64\n",
      " 18  Ambience                       3468 non-null   float64\n",
      " 19  Lively                         3493 non-null   int64  \n",
      " 20  Service                        3493 non-null   int64  \n",
      " 21  Comfortablility                3493 non-null   int64  \n",
      " 22  Privacy                        3493 non-null   int64  \n",
      " 23  opening_year                   3493 non-null   int64  \n",
      " 24  opening_month                  3493 non-null   int64  \n",
      " 25  opening_day                    3493 non-null   int64  \n",
      "dtypes: float64(5), int32(2), int64(13), object(6)\n",
      "memory usage: 682.4+ KB\n"
     ]
    }
   ],
   "source": [
    "df_train.info()"
   ]
  },
  {
   "cell_type": "code",
   "execution_count": 100,
   "metadata": {},
   "outputs": [
    {
     "name": "stdout",
     "output_type": "stream",
     "text": [
      "<class 'pandas.core.frame.DataFrame'>\n",
      "RangeIndex: 500 entries, 0 to 499\n",
      "Data columns (total 26 columns):\n",
      " #   Column                         Non-Null Count  Dtype  \n",
      "---  ------                         --------------  -----  \n",
      " 0   Cuisine                        500 non-null    int32  \n",
      " 1   Restaurant Location            500 non-null    object \n",
      " 2   Facebook Popularity Quotient   500 non-null    float64\n",
      " 3   Endoresed By                   500 non-null    object \n",
      " 4   Instagram Popularity Quotient  500 non-null    float64\n",
      " 5   Situated in a Multi Complex    500 non-null    object \n",
      " 6   Resturant Tier                 500 non-null    object \n",
      " 7   Restaurant Type                500 non-null    object \n",
      " 8   Restaurant Theme               500 non-null    int32  \n",
      " 9   Restaurant Zomato Rating       500 non-null    int64  \n",
      " 10  Restaurant City Tier           500 non-null    object \n",
      " 11  Order Wait Time                500 non-null    int64  \n",
      " 12  Staff Responsivness            500 non-null    int64  \n",
      " 13  Value for Money                500 non-null    int64  \n",
      " 14  Hygiene Rating                 500 non-null    int64  \n",
      " 15  Food Rating                    500 non-null    int64  \n",
      " 16  Overall Restaurant Rating      466 non-null    float64\n",
      " 17  Live Music Rating              398 non-null    float64\n",
      " 18  Ambience                       500 non-null    int64  \n",
      " 19  Lively                         500 non-null    int64  \n",
      " 20  Service                        500 non-null    int64  \n",
      " 21  Comfortablility                500 non-null    int64  \n",
      " 22  Privacy                        500 non-null    int64  \n",
      " 23  opening_year                   500 non-null    int64  \n",
      " 24  opening_month                  500 non-null    int64  \n",
      " 25  opening_day                    500 non-null    int64  \n",
      "dtypes: float64(4), int32(2), int64(14), object(6)\n",
      "memory usage: 97.8+ KB\n"
     ]
    }
   ],
   "source": [
    "test_Data.info()"
   ]
  },
  {
   "cell_type": "code",
   "execution_count": null,
   "metadata": {},
   "outputs": [],
   "source": []
  },
  {
   "cell_type": "code",
   "execution_count": 101,
   "metadata": {},
   "outputs": [],
   "source": [
    "knnimputer=KNNImputer(n_neighbors=5)"
   ]
  },
  {
   "cell_type": "raw",
   "metadata": {},
   "source": [
    "d_train=knnimputer.fit_transform(df_train)\n",
    "d_test=knnimputer.transform(test_Data)"
   ]
  },
  {
   "cell_type": "code",
   "execution_count": null,
   "metadata": {},
   "outputs": [],
   "source": []
  },
  {
   "cell_type": "code",
   "execution_count": 102,
   "metadata": {},
   "outputs": [],
   "source": [
    "categorical=df_train.select_dtypes(include='object')\n",
    "number=df_train.select_dtypes(include=np.number)\n",
    "\n",
    "dummy_categorical=pd.get_dummies(categorical,drop_first=True)\n",
    "\n",
    "sc_number=sc.fit_transform(number)\n",
    "sc_number=pd.DataFrame(sc_number,columns=number.columns)\n",
    "\n",
    "X0=pd.concat([dummy_categorical,sc_number],axis=1)\n",
    "y=target\n",
    "\n",
    "X=knnimputer.fit_transform(X0)"
   ]
  },
  {
   "cell_type": "code",
   "execution_count": 103,
   "metadata": {},
   "outputs": [
    {
     "data": {
      "text/plain": [
       "(3493, 29)"
      ]
     },
     "execution_count": 103,
     "metadata": {},
     "output_type": "execute_result"
    }
   ],
   "source": [
    "X.shape"
   ]
  },
  {
   "cell_type": "code",
   "execution_count": 105,
   "metadata": {},
   "outputs": [],
   "source": [
    "import statsmodels.api as sm"
   ]
  },
  {
   "cell_type": "code",
   "execution_count": 107,
   "metadata": {},
   "outputs": [
    {
     "name": "stdout",
     "output_type": "stream",
     "text": [
      "                                                vif\n",
      "Restaurant Location_Near Party Hub         1.120402\n",
      "Endorsed By_Not Specific                  27.705214\n",
      "Endorsed By_Tier A Celebrity              27.883413\n",
      "Situated in a Multi Complex_1              1.005629\n",
      "Resturant Tier_2.0                         1.132574\n",
      "Restaurant Type_Buffet/Family Restaurant   1.019566\n",
      "Restaurant Type_Caffee                     1.233280\n",
      "Restaurant Type_Gastro Bar                 1.039184\n",
      "Restaurant City Tier_1                     1.056937\n",
      "Cuisine                                    1.029508\n",
      "Facebook Popularity Quotient               2.012858\n",
      "Instagram Popularity Quotient              1.988377\n",
      "Restaurant Theme                           1.298427\n",
      "Restaurant Zomato Rating                   1.280753\n",
      "Order Wait Time                            1.006699\n",
      "Staff Responsivness                        1.460464\n",
      "Value for Money                            1.550147\n",
      "Hygiene Rating                             1.590748\n",
      "Food Rating                                1.005994\n",
      "Overall Restaurant Rating                  1.171088\n",
      "Live Music Rating                          1.647939\n",
      "Ambience                                   1.488039\n",
      "Lively                                     1.804369\n",
      "Service                                    1.342205\n",
      "Comfortablility                            1.175623\n",
      "Privacy                                    1.550374\n",
      "opening_year                               1.229412\n",
      "opening_month                              1.018924\n",
      "opening_day                                1.009285\n"
     ]
    }
   ],
   "source": [
    "df=pd.DataFrame(X,columns=X0.columns)\n",
    "from statsmodels.stats.outliers_influence import variance_inflation_factor as vif\n",
    "xc=sm.add_constant(df)\n",
    "vif=[vif(xc.values,i) for i in range (xc.shape[1])]\n",
    "vif=pd.DataFrame({'vif':vif[1:]},index=df.columns)\n",
    "print(vif)"
   ]
  },
  {
   "cell_type": "code",
   "execution_count": null,
   "metadata": {},
   "outputs": [],
   "source": [
    "df_train.drop('Endorsed By',axis=1,inplace=True)"
   ]
  },
  {
   "cell_type": "code",
   "execution_count": 110,
   "metadata": {},
   "outputs": [],
   "source": [
    "test_Data.drop('Endoresed By',axis=1,inplace=True)"
   ]
  },
  {
   "cell_type": "code",
   "execution_count": null,
   "metadata": {},
   "outputs": [],
   "source": []
  },
  {
   "cell_type": "code",
   "execution_count": null,
   "metadata": {},
   "outputs": [],
   "source": []
  },
  {
   "cell_type": "code",
   "execution_count": null,
   "metadata": {},
   "outputs": [],
   "source": []
  },
  {
   "cell_type": "code",
   "execution_count": 111,
   "metadata": {},
   "outputs": [],
   "source": [
    "X_train, X_test, y_train, y_test = model_selection.train_test_split(X, y, test_size=0.2, random_state=110)"
   ]
  },
  {
   "cell_type": "code",
   "execution_count": null,
   "metadata": {},
   "outputs": [],
   "source": []
  },
  {
   "cell_type": "code",
   "execution_count": null,
   "metadata": {},
   "outputs": [],
   "source": []
  },
  {
   "cell_type": "code",
   "execution_count": 112,
   "metadata": {},
   "outputs": [],
   "source": [
    "from sklearn.linear_model import LinearRegression"
   ]
  },
  {
   "cell_type": "code",
   "execution_count": 113,
   "metadata": {},
   "outputs": [
    {
     "name": "stdout",
     "output_type": "stream",
     "text": [
      "rmse train 20400428.325293604\n",
      "rmse test 18859201.95391569\n"
     ]
    }
   ],
   "source": [
    "lir=LinearRegression(fit_intercept=True)\n",
    "\n",
    "\n",
    "lir.fit(X_train,y_train)\n",
    "train_pred_lir=lir.predict(X_train)\n",
    "test_pred_lir=lir.predict(X_test)\n",
    "print('rmse train',np.sqrt(metrics.mean_squared_error(y_train,train_pred_lir)))\n",
    "print('rmse test',np.sqrt(metrics.mean_squared_error(y_test,test_pred_lir)))"
   ]
  },
  {
   "cell_type": "code",
   "execution_count": null,
   "metadata": {},
   "outputs": [],
   "source": []
  },
  {
   "cell_type": "code",
   "execution_count": null,
   "metadata": {},
   "outputs": [],
   "source": []
  },
  {
   "cell_type": "code",
   "execution_count": 114,
   "metadata": {},
   "outputs": [],
   "source": [
    "df_x=pd.DataFrame(X,columns=X0.columns)\n",
    "import statsmodels.api as sm\n",
    "Xc=sm.add_constant(df_x)\n",
    "model=sm.OLS(y,Xc).fit()"
   ]
  },
  {
   "cell_type": "code",
   "execution_count": 115,
   "metadata": {},
   "outputs": [
    {
     "data": {
      "text/plain": [
       "<matplotlib.axes._subplots.AxesSubplot at 0x13150bdd970>"
      ]
     },
     "execution_count": 115,
     "metadata": {},
     "output_type": "execute_result"
    },
    {
     "data": {
      "image/png": "[encoded data removed]",
      "text/plain": [
       "<Figure size 432x288 with 1 Axes>"
      ]
     },
     "metadata": {
      "needs_background": "light"
     },
     "output_type": "display_data"
    }
   ],
   "source": [
    "sns.regplot(x=model.predict(Xc),\n",
    "           y=model.resid,\n",
    "           line_kws={'color':'red'},\n",
    "           lowess=True)"
   ]
  },
  {
   "cell_type": "code",
   "execution_count": 116,
   "metadata": {},
   "outputs": [
    {
     "data": {
      "text/plain": [
       "<matplotlib.axes._subplots.AxesSubplot at 0x13151262d30>"
      ]
     },
     "execution_count": 116,
     "metadata": {},
     "output_type": "execute_result"
    },
    {
     "data": {
      "image/png": "[encoded data removed]",
      "text/plain": [
       "<Figure size 432x288 with 1 Axes>"
      ]
     },
     "metadata": {
      "needs_background": "light"
     },
     "output_type": "display_data"
    }
   ],
   "source": [
    "sns.distplot(model.resid)"
   ]
  },
  {
   "cell_type": "code",
   "execution_count": 117,
   "metadata": {},
   "outputs": [
    {
     "data": {
      "text/plain": [
       "<matplotlib.axes._subplots.AxesSubplot at 0x13151084be0>"
      ]
     },
     "execution_count": 117,
     "metadata": {},
     "output_type": "execute_result"
    },
    {
     "data": {
      "image/png": "[encoded data removed]",
      "text/plain": [
       "<Figure size 432x288 with 1 Axes>"
      ]
     },
     "metadata": {
      "needs_background": "light"
     },
     "output_type": "display_data"
    }
   ],
   "source": [
    "sns.distplot(y)"
   ]
  },
  {
   "cell_type": "code",
   "execution_count": 118,
   "metadata": {},
   "outputs": [
    {
     "data": {
      "text/plain": [
       "<matplotlib.axes._subplots.AxesSubplot at 0x13150758250>"
      ]
     },
     "execution_count": 118,
     "metadata": {},
     "output_type": "execute_result"
    },
    {
     "data": {
      "image/png": "[encoded data removed]",
      "text/plain": [
       "<Figure size 432x288 with 1 Axes>"
      ]
     },
     "metadata": {
      "needs_background": "light"
     },
     "output_type": "display_data"
    }
   ],
   "source": [
    "sns.boxplot(y)"
   ]
  },
  {
   "cell_type": "code",
   "execution_count": 132,
   "metadata": {},
   "outputs": [
    {
     "data": {
      "text/plain": [
       "20076131.2994402"
      ]
     },
     "execution_count": 132,
     "metadata": {},
     "output_type": "execute_result"
    }
   ],
   "source": [
    "y1=model.predict(Xc)\n",
    "rmse=np.sqrt(metrics.mean_squared_error(y,y1))\n",
    "rmse"
   ]
  },
  {
   "cell_type": "code",
   "execution_count": 125,
   "metadata": {},
   "outputs": [
    {
     "name": "stdout",
     "output_type": "stream",
     "text": [
      "['const', 'Restaurant Location_Near Party Hub', 'Situated in a Multi Complex_1', 'Resturant Tier_2.0', 'Restaurant Type_Caffee', 'Restaurant City Tier_1', 'Facebook Popularity Quotient', 'Instagram Popularity Quotient', 'Restaurant Zomato Rating', 'Staff Responsivness', 'Hygiene Rating', 'Live Music Rating', 'Ambience', 'Lively', 'Comfortablility', 'Privacy', 'opening_year']\n"
     ]
    }
   ],
   "source": [
    "#selecting the most important features\n",
    "col=list(Xc.columns)\n",
    "pmax=1\n",
    "\n",
    "while len(col)>0:\n",
    "    x1=Xc[col]\n",
    "    model=sm.OLS(y,x1).fit()\n",
    "    p=model.pvalues\n",
    "    p=p.drop(labels=['const'])\n",
    "    pmax=max(p)\n",
    "    feature=p.idxmax()\n",
    "    if pmax>0.05:\n",
    "        col.remove(feature)\n",
    "    else:\n",
    "        break\n",
    "print(col)"
   ]
  },
  {
   "cell_type": "code",
   "execution_count": 127,
   "metadata": {},
   "outputs": [],
   "source": [
    "m2=sm.OLS(y,Xc[col]).fit()"
   ]
  },
  {
   "cell_type": "code",
   "execution_count": 129,
   "metadata": {},
   "outputs": [
    {
     "data": {
      "text/plain": [
       "20104174.527655493"
      ]
     },
     "execution_count": 129,
     "metadata": {},
     "output_type": "execute_result"
    }
   ],
   "source": [
    "y2=m2.predict(Xc[col])\n",
    "rmse=np.sqrt(metrics.mean_squared_error(y,y2))\n",
    "rmse"
   ]
  },
  {
   "cell_type": "code",
   "execution_count": null,
   "metadata": {},
   "outputs": [],
   "source": []
  },
  {
   "cell_type": "code",
   "execution_count": null,
   "metadata": {},
   "outputs": [],
   "source": []
  },
  {
   "cell_type": "code",
   "execution_count": null,
   "metadata": {},
   "outputs": [],
   "source": []
  },
  {
   "cell_type": "code",
   "execution_count": 113,
   "metadata": {},
   "outputs": [],
   "source": [
    "from sklearn.linear_model import Lasso,Ridge,ElasticNet"
   ]
  },
  {
   "cell_type": "code",
   "execution_count": 114,
   "metadata": {},
   "outputs": [],
   "source": [
    "params={'alpha':[.001,.01,.1,1,10,100,1000]}\n"
   ]
  },
  {
   "cell_type": "code",
   "execution_count": 115,
   "metadata": {},
   "outputs": [
    {
     "data": {
      "text/plain": [
       "GridSearchCV(cv=10, estimator=Ridge(),\n",
       "             param_grid={'alpha': [0.001, 0.01, 0.1, 1, 10, 100, 1000]},\n",
       "             scoring='r2')"
      ]
     },
     "execution_count": 115,
     "metadata": {},
     "output_type": "execute_result"
    }
   ],
   "source": [
    "ridge=Ridge(fit_intercept=True)\n",
    "grid=GridSearchCV(estimator=ridge,\n",
    "                 param_grid=params,\n",
    "                 cv=10,\n",
    "                 scoring='r2')\n",
    "grid.fit(X_train,y_train)"
   ]
  },
  {
   "cell_type": "code",
   "execution_count": 116,
   "metadata": {},
   "outputs": [
    {
     "data": {
      "text/plain": [
       "Ridge(alpha=100)"
      ]
     },
     "execution_count": 116,
     "metadata": {},
     "output_type": "execute_result"
    }
   ],
   "source": [
    "grid.best_estimator_"
   ]
  },
  {
   "cell_type": "code",
   "execution_count": 117,
   "metadata": {},
   "outputs": [
    {
     "data": {
      "text/plain": [
       "0.13857182089442427"
      ]
     },
     "execution_count": 117,
     "metadata": {},
     "output_type": "execute_result"
    }
   ],
   "source": [
    "grid.best_score_"
   ]
  },
  {
   "cell_type": "code",
   "execution_count": 118,
   "metadata": {},
   "outputs": [
    {
     "name": "stdout",
     "output_type": "stream",
     "text": [
      "rmse train 20425377.56358217\n",
      "rmse test 18782596.93010952\n"
     ]
    }
   ],
   "source": [
    "ridge=Ridge(alpha=100,fit_intercept=True)\n",
    "ridge.fit(X_train,y_train)\n",
    "\n",
    "train_pred_ridge=ridge.predict(X_train)\n",
    "test_pred_ridge=ridge.predict(X_test)\n",
    "print('rmse train',np.sqrt(metrics.mean_squared_error(y_train,train_pred_ridge)))\n",
    "print('rmse test',np.sqrt(metrics.mean_squared_error(y_test,test_pred_ridge)))"
   ]
  },
  {
   "cell_type": "code",
   "execution_count": null,
   "metadata": {},
   "outputs": [],
   "source": []
  },
  {
   "cell_type": "code",
   "execution_count": 119,
   "metadata": {},
   "outputs": [
    {
     "data": {
      "text/plain": [
       "GridSearchCV(cv=10, estimator=Ridge(),\n",
       "             param_grid={'alpha': [0.001, 0.01, 0.1, 1, 10, 100, 1000]},\n",
       "             scoring='r2')"
      ]
     },
     "execution_count": 119,
     "metadata": {},
     "output_type": "execute_result"
    }
   ],
   "source": [
    "ridge=Ridge(fit_intercept=True)\n",
    "grid=GridSearchCV(estimator=ridge,\n",
    "                 param_grid=params,\n",
    "                 cv=10,\n",
    "                 scoring='r2')\n",
    "grid.fit(X,y)"
   ]
  },
  {
   "cell_type": "code",
   "execution_count": 120,
   "metadata": {},
   "outputs": [
    {
     "data": {
      "text/plain": [
       "Ridge(alpha=100)"
      ]
     },
     "execution_count": 120,
     "metadata": {},
     "output_type": "execute_result"
    }
   ],
   "source": [
    "grid.best_estimator_"
   ]
  },
  {
   "cell_type": "code",
   "execution_count": 139,
   "metadata": {},
   "outputs": [
    {
     "name": "stdout",
     "output_type": "stream",
     "text": [
      "rmse  20094550.261960477\n"
     ]
    }
   ],
   "source": [
    "ridge2=Ridge(alpha=100,fit_intercept=True)\n",
    "ridge2.fit(X,y)\n",
    "pred=ridge2.predict(X)\n",
    "\n",
    "print('rmse ',np.sqrt(metrics.mean_squared_error(y,pred)))\n"
   ]
  },
  {
   "cell_type": "code",
   "execution_count": 133,
   "metadata": {},
   "outputs": [
    {
     "name": "stdout",
     "output_type": "stream",
     "text": [
      "rmse  20076131.2994402\n"
     ]
    }
   ],
   "source": [
    "lir=LinearRegression(fit_intercept=True)\n",
    "\n",
    "\n",
    "lir.fit(X,y)\n",
    "pred_lir=lir.predict(X)\n",
    " \n",
    "print('rmse ',np.sqrt(metrics.mean_squared_error(y,pred_lir)))\n"
   ]
  },
  {
   "cell_type": "code",
   "execution_count": null,
   "metadata": {},
   "outputs": [],
   "source": []
  },
  {
   "cell_type": "raw",
   "metadata": {},
   "source": [
    "top features using back ward elemination"
   ]
  },
  {
   "cell_type": "code",
   "execution_count": null,
   "metadata": {},
   "outputs": [],
   "source": []
  },
  {
   "cell_type": "code",
   "execution_count": null,
   "metadata": {},
   "outputs": [],
   "source": []
  },
  {
   "cell_type": "code",
   "execution_count": null,
   "metadata": {},
   "outputs": [],
   "source": []
  },
  {
   "cell_type": "code",
   "execution_count": null,
   "metadata": {},
   "outputs": [],
   "source": []
  },
  {
   "cell_type": "code",
   "execution_count": null,
   "metadata": {},
   "outputs": [],
   "source": []
  },
  {
   "cell_type": "code",
   "execution_count": null,
   "metadata": {},
   "outputs": [],
   "source": []
  },
  {
   "cell_type": "code",
   "execution_count": null,
   "metadata": {},
   "outputs": [],
   "source": []
  },
  {
   "cell_type": "code",
   "execution_count": null,
   "metadata": {},
   "outputs": [],
   "source": []
  },
  {
   "cell_type": "code",
   "execution_count": 135,
   "metadata": {},
   "outputs": [],
   "source": [
    "#test data\n",
    "categorical_test=test_Data.select_dtypes(include='object')\n",
    "number_test=test_Data.select_dtypes(include=np.number)\n",
    "dummy_categorical_test=pd.get_dummies(categorical_test,drop_first=True)\n",
    "\n",
    "sc_number_test=sc.transform(number_test)\n",
    "sc_number_test=pd.DataFrame(sc_number_test,columns=number.columns)\n",
    "\n",
    "X0_test=pd.concat([dummy_categorical_test,sc_number_test],axis=1)\n",
    "\n",
    "\n",
    "X_test_set=knnimputer.transform(X0_test)"
   ]
  },
  {
   "cell_type": "code",
   "execution_count": 137,
   "metadata": {},
   "outputs": [
    {
     "data": {
      "text/plain": [
       "(500, 29)"
      ]
     },
     "execution_count": 137,
     "metadata": {},
     "output_type": "execute_result"
    }
   ],
   "source": [
    "X_test_set.shape"
   ]
  },
  {
   "cell_type": "code",
   "execution_count": 138,
   "metadata": {},
   "outputs": [
    {
     "data": {
      "text/plain": [
       "(3493, 29)"
      ]
     },
     "execution_count": 138,
     "metadata": {},
     "output_type": "execute_result"
    }
   ],
   "source": [
    "X.shape"
   ]
  },
  {
   "cell_type": "code",
   "execution_count": 141,
   "metadata": {},
   "outputs": [],
   "source": [
    "y_test_set=ridge2.predict(X_test_set)"
   ]
  },
  {
   "cell_type": "code",
   "execution_count": 142,
   "metadata": {},
   "outputs": [
    {
     "data": {
      "text/plain": [
       "500"
      ]
     },
     "execution_count": 142,
     "metadata": {},
     "output_type": "execute_result"
    }
   ],
   "source": [
    "len(y_test_set)"
   ]
  },
  {
   "cell_type": "code",
   "execution_count": 143,
   "metadata": {},
   "outputs": [],
   "source": [
    "regno=reg_no_test['Registration Number']\n"
   ]
  },
  {
   "cell_type": "code",
   "execution_count": 144,
   "metadata": {},
   "outputs": [],
   "source": [
    "submission=pd.DataFrame(regno)\n",
    "submission['Annual Turnover']=y_test_set"
   ]
  },
  {
   "cell_type": "code",
   "execution_count": 145,
   "metadata": {},
   "outputs": [],
   "source": [
    "submission.set_index('Registration Number',inplace=True)"
   ]
  },
  {
   "cell_type": "code",
   "execution_count": 146,
   "metadata": {},
   "outputs": [
    {
     "name": "stdout",
     "output_type": "stream",
     "text": [
      "<class 'pandas.core.frame.DataFrame'>\n",
      "Int64Index: 500 entries, 20001 to 20500\n",
      "Data columns (total 1 columns):\n",
      " #   Column           Non-Null Count  Dtype  \n",
      "---  ------           --------------  -----  \n",
      " 0   Annual Turnover  500 non-null    float64\n",
      "dtypes: float64(1)\n",
      "memory usage: 7.8 KB\n"
     ]
    }
   ],
   "source": [
    "submission.info()"
   ]
  },
  {
   "cell_type": "code",
   "execution_count": 147,
   "metadata": {},
   "outputs": [],
   "source": [
    "submission.to_csv('submission.csv')"
   ]
  },
  {
   "cell_type": "code",
   "execution_count": null,
   "metadata": {},
   "outputs": [],
   "source": []
  }
 ],
 "metadata": {
  "kernelspec": {
   "display_name": "Python 3",
   "language": "python",
   "name": "python3"
  },
  "language_info": {
   "codemirror_mode": {
    "name": "ipython",
    "version": 3
   },
   "file_extension": ".py",
   "mimetype": "text/x-python",
   "name": "python",
   "nbconvert_exporter": "python",
   "pygments_lexer": "ipython3",
   "version": "3.8.3"
  }
 },
 "nbformat": 4,
 "nbformat_minor": 4
}
