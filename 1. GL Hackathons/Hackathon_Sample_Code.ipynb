{
 "cells": [
  {
   "cell_type": "code",
   "execution_count": 78,
   "metadata": {
    "ExecuteTime": {
     "end_time": "2020-09-16T14:08:47.244579Z",
     "start_time": "2020-09-16T14:08:47.236547Z"
    }
   },
   "outputs": [],
   "source": [
    "## Importing the libraries\n",
    "\n",
    "import pandas as pd\n",
    "from sklearn.linear_model import LinearRegression"
   ]
  },
  {
   "cell_type": "markdown",
   "metadata": {},
   "source": [
    "# Loading the Training Data and using the Training Data to build the Model"
   ]
  },
  {
   "cell_type": "code",
   "execution_count": 40,
   "metadata": {
    "ExecuteTime": {
     "end_time": "2020-09-16T13:19:51.066441Z",
     "start_time": "2020-09-16T13:19:50.965370Z"
    }
   },
   "outputs": [
    {
     "data": {
      "text/html": [
       "<div>\n",
       "<style scoped>\n",
       "    .dataframe tbody tr th:only-of-type {\n",
       "        vertical-align: middle;\n",
       "    }\n",
       "\n",
       "    .dataframe tbody tr th {\n",
       "        vertical-align: top;\n",
       "    }\n",
       "\n",
       "    .dataframe thead th {\n",
       "        text-align: right;\n",
       "    }\n",
       "</style>\n",
       "<table border=\"1\" class=\"dataframe\">\n",
       "  <thead>\n",
       "    <tr style=\"text-align: right;\">\n",
       "      <th></th>\n",
       "      <th>Registration Number</th>\n",
       "      <th>Annual Turnover</th>\n",
       "      <th>Cuisine</th>\n",
       "      <th>City</th>\n",
       "      <th>Restaurant Location</th>\n",
       "      <th>Opening Day of Restaurant</th>\n",
       "      <th>Facebook Popularity Quotient</th>\n",
       "      <th>Endorsed By</th>\n",
       "      <th>Instagram Popularity Quotient</th>\n",
       "      <th>Fire Audit</th>\n",
       "      <th>...</th>\n",
       "      <th>Overall Restaurant Rating</th>\n",
       "      <th>Live Music Rating</th>\n",
       "      <th>Comedy Gigs Rating</th>\n",
       "      <th>Value Deals Rating</th>\n",
       "      <th>Live Sports Rating</th>\n",
       "      <th>Ambience</th>\n",
       "      <th>Lively</th>\n",
       "      <th>Service</th>\n",
       "      <th>Comfortablility</th>\n",
       "      <th>Privacy</th>\n",
       "    </tr>\n",
       "  </thead>\n",
       "  <tbody>\n",
       "    <tr>\n",
       "      <th>0</th>\n",
       "      <td>60001</td>\n",
       "      <td>42000000</td>\n",
       "      <td>indian,irish</td>\n",
       "      <td>Bangalore</td>\n",
       "      <td>Near Business Hub</td>\n",
       "      <td>14-02-2009</td>\n",
       "      <td>84.3</td>\n",
       "      <td>Not Specific</td>\n",
       "      <td>95.8</td>\n",
       "      <td>1</td>\n",
       "      <td>...</td>\n",
       "      <td>10.0</td>\n",
       "      <td>4.0</td>\n",
       "      <td>NaN</td>\n",
       "      <td>NaN</td>\n",
       "      <td>NaN</td>\n",
       "      <td>8.0</td>\n",
       "      <td>8</td>\n",
       "      <td>6</td>\n",
       "      <td>6</td>\n",
       "      <td>6</td>\n",
       "    </tr>\n",
       "    <tr>\n",
       "      <th>1</th>\n",
       "      <td>60002</td>\n",
       "      <td>50000000</td>\n",
       "      <td>indian,irish</td>\n",
       "      <td>Indore</td>\n",
       "      <td>Near Party Hub</td>\n",
       "      <td>29-09-2008</td>\n",
       "      <td>85.4</td>\n",
       "      <td>Tier A Celebrity</td>\n",
       "      <td>85.0</td>\n",
       "      <td>1</td>\n",
       "      <td>...</td>\n",
       "      <td>9.0</td>\n",
       "      <td>NaN</td>\n",
       "      <td>4.0</td>\n",
       "      <td>NaN</td>\n",
       "      <td>NaN</td>\n",
       "      <td>5.0</td>\n",
       "      <td>7</td>\n",
       "      <td>7</td>\n",
       "      <td>3</td>\n",
       "      <td>8</td>\n",
       "    </tr>\n",
       "    <tr>\n",
       "      <th>2</th>\n",
       "      <td>60003</td>\n",
       "      <td>32500000</td>\n",
       "      <td>tibetan,italian</td>\n",
       "      <td>Chennai</td>\n",
       "      <td>Near Business Hub</td>\n",
       "      <td>30-07-2011</td>\n",
       "      <td>85.0</td>\n",
       "      <td>Tier A Celebrity</td>\n",
       "      <td>68.2</td>\n",
       "      <td>1</td>\n",
       "      <td>...</td>\n",
       "      <td>8.0</td>\n",
       "      <td>3.0</td>\n",
       "      <td>NaN</td>\n",
       "      <td>NaN</td>\n",
       "      <td>NaN</td>\n",
       "      <td>7.0</td>\n",
       "      <td>10</td>\n",
       "      <td>5</td>\n",
       "      <td>2</td>\n",
       "      <td>8</td>\n",
       "    </tr>\n",
       "    <tr>\n",
       "      <th>3</th>\n",
       "      <td>60004</td>\n",
       "      <td>110000000</td>\n",
       "      <td>turkish,nigerian</td>\n",
       "      <td>Gurgaon</td>\n",
       "      <td>Near Party Hub</td>\n",
       "      <td>30-11-2008</td>\n",
       "      <td>85.6</td>\n",
       "      <td>Tier A Celebrity</td>\n",
       "      <td>83.6</td>\n",
       "      <td>0</td>\n",
       "      <td>...</td>\n",
       "      <td>9.0</td>\n",
       "      <td>6.0</td>\n",
       "      <td>NaN</td>\n",
       "      <td>NaN</td>\n",
       "      <td>NaN</td>\n",
       "      <td>7.0</td>\n",
       "      <td>7</td>\n",
       "      <td>4</td>\n",
       "      <td>3</td>\n",
       "      <td>5</td>\n",
       "    </tr>\n",
       "    <tr>\n",
       "      <th>4</th>\n",
       "      <td>60005</td>\n",
       "      <td>20000000</td>\n",
       "      <td>irish,belgian</td>\n",
       "      <td>Manesar</td>\n",
       "      <td>Near Party Hub</td>\n",
       "      <td>22-02-2010</td>\n",
       "      <td>NaN</td>\n",
       "      <td>Tier A Celebrity</td>\n",
       "      <td>76.8</td>\n",
       "      <td>1</td>\n",
       "      <td>...</td>\n",
       "      <td>6.0</td>\n",
       "      <td>NaN</td>\n",
       "      <td>2.0</td>\n",
       "      <td>NaN</td>\n",
       "      <td>NaN</td>\n",
       "      <td>NaN</td>\n",
       "      <td>6</td>\n",
       "      <td>2</td>\n",
       "      <td>4</td>\n",
       "      <td>6</td>\n",
       "    </tr>\n",
       "  </tbody>\n",
       "</table>\n",
       "<p>5 rows × 34 columns</p>\n",
       "</div>"
      ],
      "text/plain": [
       "   Registration Number  Annual Turnover           Cuisine       City  \\\n",
       "0                60001         42000000      indian,irish  Bangalore   \n",
       "1                60002         50000000      indian,irish     Indore   \n",
       "2                60003         32500000   tibetan,italian    Chennai   \n",
       "3                60004        110000000  turkish,nigerian    Gurgaon   \n",
       "4                60005         20000000     irish,belgian    Manesar   \n",
       "\n",
       "  Restaurant Location Opening Day of Restaurant  Facebook Popularity Quotient  \\\n",
       "0   Near Business Hub                14-02-2009                          84.3   \n",
       "1      Near Party Hub                29-09-2008                          85.4   \n",
       "2   Near Business Hub                30-07-2011                          85.0   \n",
       "3      Near Party Hub                30-11-2008                          85.6   \n",
       "4      Near Party Hub                22-02-2010                           NaN   \n",
       "\n",
       "        Endorsed By  Instagram Popularity Quotient  Fire Audit  ...  \\\n",
       "0      Not Specific                           95.8           1  ...   \n",
       "1  Tier A Celebrity                           85.0           1  ...   \n",
       "2  Tier A Celebrity                           68.2           1  ...   \n",
       "3  Tier A Celebrity                           83.6           0  ...   \n",
       "4  Tier A Celebrity                           76.8           1  ...   \n",
       "\n",
       "   Overall Restaurant Rating  Live Music Rating  Comedy Gigs Rating  \\\n",
       "0                       10.0                4.0                 NaN   \n",
       "1                        9.0                NaN                 4.0   \n",
       "2                        8.0                3.0                 NaN   \n",
       "3                        9.0                6.0                 NaN   \n",
       "4                        6.0                NaN                 2.0   \n",
       "\n",
       "   Value Deals Rating  Live Sports Rating Ambience Lively  Service  \\\n",
       "0                 NaN                 NaN      8.0      8        6   \n",
       "1                 NaN                 NaN      5.0      7        7   \n",
       "2                 NaN                 NaN      7.0     10        5   \n",
       "3                 NaN                 NaN      7.0      7        4   \n",
       "4                 NaN                 NaN      NaN      6        2   \n",
       "\n",
       "   Comfortablility  Privacy  \n",
       "0                6        6  \n",
       "1                3        8  \n",
       "2                2        8  \n",
       "3                3        5  \n",
       "4                4        6  \n",
       "\n",
       "[5 rows x 34 columns]"
      ]
     },
     "execution_count": 40,
     "metadata": {},
     "output_type": "execute_result"
    }
   ],
   "source": [
    "df_train = pd.read_csv('D:/Hackathon/Train dataset.csv')\n",
    "df_train.head()"
   ]
  },
  {
   "cell_type": "code",
   "execution_count": 41,
   "metadata": {
    "ExecuteTime": {
     "end_time": "2020-09-16T13:19:59.753437Z",
     "start_time": "2020-09-16T13:19:59.739592Z"
    }
   },
   "outputs": [
    {
     "data": {
      "text/plain": [
       "Registration Number                 0\n",
       "Annual Turnover                     0\n",
       "Cuisine                             0\n",
       "City                                0\n",
       "Restaurant Location                 0\n",
       "Opening Day of Restaurant           0\n",
       "Facebook Popularity Quotient       99\n",
       "Endorsed By                         0\n",
       "Instagram Popularity Quotient      56\n",
       "Fire Audit                          0\n",
       "Liquor License Obtained             0\n",
       "Situated in a Multi Complex         0\n",
       "Dedicated Parking                   0\n",
       "Open Sitting Available              0\n",
       "Resturant Tier                     49\n",
       "Restaurant Type                     0\n",
       "Restaurant Theme                    0\n",
       "Restaurant Zomato Rating            0\n",
       "Restaurant City Tier                0\n",
       "Order Wait Time                     0\n",
       "Staff Responsivness                 0\n",
       "Value for Money                     0\n",
       "Hygiene Rating                      0\n",
       "Food Rating                         0\n",
       "Overall Restaurant Rating         212\n",
       "Live Music Rating                 765\n",
       "Comedy Gigs Rating               2483\n",
       "Value Deals Rating               2707\n",
       "Live Sports Rating               3288\n",
       "Ambience                           25\n",
       "Lively                              0\n",
       "Service                             0\n",
       "Comfortablility                     0\n",
       "Privacy                             0\n",
       "dtype: int64"
      ]
     },
     "execution_count": 41,
     "metadata": {},
     "output_type": "execute_result"
    }
   ],
   "source": [
    "## Checking for the null values\n",
    "\n",
    "df_train.isnull().sum()"
   ]
  },
  {
   "cell_type": "code",
   "execution_count": 42,
   "metadata": {
    "ExecuteTime": {
     "end_time": "2020-09-16T13:20:13.069645Z",
     "start_time": "2020-09-16T13:20:13.063565Z"
    }
   },
   "outputs": [],
   "source": [
    "## Importing Simple Imputer to treat the null values\n",
    "\n",
    "from sklearn.impute import SimpleImputer"
   ]
  },
  {
   "cell_type": "code",
   "execution_count": 9,
   "metadata": {
    "ExecuteTime": {
     "end_time": "2020-09-16T13:13:45.659151Z",
     "start_time": "2020-09-16T13:13:45.653193Z"
    }
   },
   "outputs": [],
   "source": [
    "## Defning the Simple Imputer funtion to use 'mean' as a strategy of imputation\n",
    "\n",
    "SI = SimpleImputer(strategy='mean')"
   ]
  },
  {
   "cell_type": "code",
   "execution_count": 43,
   "metadata": {
    "ExecuteTime": {
     "end_time": "2020-09-16T13:20:51.824773Z",
     "start_time": "2020-09-16T13:20:51.805817Z"
    }
   },
   "outputs": [
    {
     "data": {
      "text/plain": [
       "SimpleImputer()"
      ]
     },
     "execution_count": 43,
     "metadata": {},
     "output_type": "execute_result"
    }
   ],
   "source": [
    "## Fitting the Simple Imputer function to get the mean of the variable\n",
    "\n",
    "SI.fit(df_train[['Instagram Popularity Quotient']])"
   ]
  },
  {
   "cell_type": "code",
   "execution_count": 35,
   "metadata": {
    "ExecuteTime": {
     "end_time": "2020-09-16T13:18:16.913471Z",
     "start_time": "2020-09-16T13:18:16.899347Z"
    }
   },
   "outputs": [
    {
     "data": {
      "text/plain": [
       "array([[95.8],\n",
       "       [85. ],\n",
       "       [68.2],\n",
       "       ...,\n",
       "       [86.8],\n",
       "       [86. ],\n",
       "       [67. ]])"
      ]
     },
     "execution_count": 35,
     "metadata": {},
     "output_type": "execute_result"
    }
   ],
   "source": [
    "## Transforming the variable --> Imputing the variable with its mean\n",
    "\n",
    "IPQ = SI.transform(df_train[['Instagram Popularity Quotient']])\n",
    "IPQ"
   ]
  },
  {
   "cell_type": "code",
   "execution_count": 36,
   "metadata": {
    "ExecuteTime": {
     "end_time": "2020-09-16T13:18:18.519407Z",
     "start_time": "2020-09-16T13:18:18.514427Z"
    }
   },
   "outputs": [],
   "source": [
    "## Declaring the Linear Regression function\n",
    "\n",
    "LR = LinearRegression()"
   ]
  },
  {
   "cell_type": "code",
   "execution_count": 37,
   "metadata": {
    "ExecuteTime": {
     "end_time": "2020-09-16T13:18:19.989648Z",
     "start_time": "2020-09-16T13:18:19.207083Z"
    }
   },
   "outputs": [],
   "source": [
    "## Fitting the Linear Regression function\n",
    "\n",
    "model = LR.fit(IPQ,df_train['Annual Turnover'])"
   ]
  },
  {
   "cell_type": "code",
   "execution_count": 38,
   "metadata": {
    "ExecuteTime": {
     "end_time": "2020-09-16T13:18:20.334449Z",
     "start_time": "2020-09-16T13:18:20.321919Z"
    }
   },
   "outputs": [
    {
     "data": {
      "text/plain": [
       "0.026482712263984687"
      ]
     },
     "execution_count": 38,
     "metadata": {},
     "output_type": "execute_result"
    }
   ],
   "source": [
    "## Checking the score of the function on the training data\n",
    "\n",
    "model.score(IPQ,df_train['Annual Turnover'])"
   ]
  },
  {
   "cell_type": "markdown",
   "metadata": {},
   "source": [
    "# Loading the Test Data and using the Test Data to Predict the target Variable"
   ]
  },
  {
   "cell_type": "code",
   "execution_count": 44,
   "metadata": {
    "ExecuteTime": {
     "end_time": "2020-09-16T13:27:27.995077Z",
     "start_time": "2020-09-16T13:27:27.913992Z"
    }
   },
   "outputs": [
    {
     "data": {
      "text/html": [
       "<div>\n",
       "<style scoped>\n",
       "    .dataframe tbody tr th:only-of-type {\n",
       "        vertical-align: middle;\n",
       "    }\n",
       "\n",
       "    .dataframe tbody tr th {\n",
       "        vertical-align: top;\n",
       "    }\n",
       "\n",
       "    .dataframe thead th {\n",
       "        text-align: right;\n",
       "    }\n",
       "</style>\n",
       "<table border=\"1\" class=\"dataframe\">\n",
       "  <thead>\n",
       "    <tr style=\"text-align: right;\">\n",
       "      <th></th>\n",
       "      <th>Registration Number</th>\n",
       "      <th>Cuisine</th>\n",
       "      <th>City</th>\n",
       "      <th>Restaurant Location</th>\n",
       "      <th>Opening Day of Restaurant</th>\n",
       "      <th>Facebook Popularity Quotient</th>\n",
       "      <th>Endoresed By</th>\n",
       "      <th>Instagram Popularity Quotient</th>\n",
       "      <th>Fire Audit</th>\n",
       "      <th>Liquor License Obtained</th>\n",
       "      <th>...</th>\n",
       "      <th>Overall Restaurant Rating</th>\n",
       "      <th>Live Music Rating</th>\n",
       "      <th>Comedy Gigs Rating</th>\n",
       "      <th>Value Deals Rating</th>\n",
       "      <th>Live Sports Rating</th>\n",
       "      <th>Ambience</th>\n",
       "      <th>Lively</th>\n",
       "      <th>Service</th>\n",
       "      <th>Comfortablility</th>\n",
       "      <th>Privacy</th>\n",
       "    </tr>\n",
       "  </thead>\n",
       "  <tbody>\n",
       "    <tr>\n",
       "      <th>0</th>\n",
       "      <td>20001</td>\n",
       "      <td>tibetan,italian</td>\n",
       "      <td>Bangalore</td>\n",
       "      <td>Near Business Hub</td>\n",
       "      <td>13-07-2010</td>\n",
       "      <td>78.00</td>\n",
       "      <td>Tier A Celebrity</td>\n",
       "      <td>69.00</td>\n",
       "      <td>1</td>\n",
       "      <td>1</td>\n",
       "      <td>...</td>\n",
       "      <td>6.0</td>\n",
       "      <td>NaN</td>\n",
       "      <td>2.0</td>\n",
       "      <td>NaN</td>\n",
       "      <td>NaN</td>\n",
       "      <td>5</td>\n",
       "      <td>2</td>\n",
       "      <td>2</td>\n",
       "      <td>6</td>\n",
       "      <td>0</td>\n",
       "    </tr>\n",
       "    <tr>\n",
       "      <th>1</th>\n",
       "      <td>20002</td>\n",
       "      <td>tibetan,italian</td>\n",
       "      <td>Hyderabad</td>\n",
       "      <td>Near Party Hub</td>\n",
       "      <td>05-09-2011</td>\n",
       "      <td>89.17</td>\n",
       "      <td>Not Specific</td>\n",
       "      <td>96.00</td>\n",
       "      <td>1</td>\n",
       "      <td>1</td>\n",
       "      <td>...</td>\n",
       "      <td>9.0</td>\n",
       "      <td>3.0</td>\n",
       "      <td>NaN</td>\n",
       "      <td>NaN</td>\n",
       "      <td>6.0</td>\n",
       "      <td>7</td>\n",
       "      <td>8</td>\n",
       "      <td>5</td>\n",
       "      <td>1</td>\n",
       "      <td>8</td>\n",
       "    </tr>\n",
       "    <tr>\n",
       "      <th>2</th>\n",
       "      <td>20003</td>\n",
       "      <td>algerian,belgian</td>\n",
       "      <td>Hyderabad</td>\n",
       "      <td>Near Party Hub</td>\n",
       "      <td>12-04-2011</td>\n",
       "      <td>84.00</td>\n",
       "      <td>Not Specific</td>\n",
       "      <td>86.00</td>\n",
       "      <td>1</td>\n",
       "      <td>1</td>\n",
       "      <td>...</td>\n",
       "      <td>6.0</td>\n",
       "      <td>3.0</td>\n",
       "      <td>NaN</td>\n",
       "      <td>NaN</td>\n",
       "      <td>NaN</td>\n",
       "      <td>9</td>\n",
       "      <td>7</td>\n",
       "      <td>5</td>\n",
       "      <td>1</td>\n",
       "      <td>5</td>\n",
       "    </tr>\n",
       "    <tr>\n",
       "      <th>3</th>\n",
       "      <td>20004</td>\n",
       "      <td>tibetan,greek</td>\n",
       "      <td>-1</td>\n",
       "      <td>Near Party Hub</td>\n",
       "      <td>16-01-2005</td>\n",
       "      <td>79.38</td>\n",
       "      <td>Not Specific</td>\n",
       "      <td>74.40</td>\n",
       "      <td>0</td>\n",
       "      <td>1</td>\n",
       "      <td>...</td>\n",
       "      <td>9.0</td>\n",
       "      <td>6.0</td>\n",
       "      <td>NaN</td>\n",
       "      <td>NaN</td>\n",
       "      <td>NaN</td>\n",
       "      <td>6</td>\n",
       "      <td>7</td>\n",
       "      <td>6</td>\n",
       "      <td>4</td>\n",
       "      <td>7</td>\n",
       "    </tr>\n",
       "    <tr>\n",
       "      <th>4</th>\n",
       "      <td>20005</td>\n",
       "      <td>cuban,british</td>\n",
       "      <td>Pune</td>\n",
       "      <td>Near Party Hub</td>\n",
       "      <td>10-11-2008</td>\n",
       "      <td>84.67</td>\n",
       "      <td>Not Specific</td>\n",
       "      <td>86.46</td>\n",
       "      <td>1</td>\n",
       "      <td>1</td>\n",
       "      <td>...</td>\n",
       "      <td>NaN</td>\n",
       "      <td>NaN</td>\n",
       "      <td>NaN</td>\n",
       "      <td>NaN</td>\n",
       "      <td>NaN</td>\n",
       "      <td>4</td>\n",
       "      <td>4</td>\n",
       "      <td>7</td>\n",
       "      <td>7</td>\n",
       "      <td>3</td>\n",
       "    </tr>\n",
       "  </tbody>\n",
       "</table>\n",
       "<p>5 rows × 33 columns</p>\n",
       "</div>"
      ],
      "text/plain": [
       "   Registration Number           Cuisine       City Restaurant Location  \\\n",
       "0                20001   tibetan,italian  Bangalore   Near Business Hub   \n",
       "1                20002   tibetan,italian  Hyderabad      Near Party Hub   \n",
       "2                20003  algerian,belgian  Hyderabad      Near Party Hub   \n",
       "3                20004     tibetan,greek         -1      Near Party Hub   \n",
       "4                20005     cuban,british      Pune       Near Party Hub   \n",
       "\n",
       "  Opening Day of Restaurant  Facebook Popularity Quotient      Endoresed By  \\\n",
       "0                13-07-2010                         78.00  Tier A Celebrity   \n",
       "1                05-09-2011                         89.17      Not Specific   \n",
       "2                12-04-2011                         84.00      Not Specific   \n",
       "3                16-01-2005                         79.38      Not Specific   \n",
       "4                10-11-2008                         84.67      Not Specific   \n",
       "\n",
       "   Instagram Popularity Quotient  Fire Audit  Liquor License Obtained  ...  \\\n",
       "0                          69.00           1                        1  ...   \n",
       "1                          96.00           1                        1  ...   \n",
       "2                          86.00           1                        1  ...   \n",
       "3                          74.40           0                        1  ...   \n",
       "4                          86.46           1                        1  ...   \n",
       "\n",
       "   Overall Restaurant Rating  Live Music Rating  Comedy Gigs Rating  \\\n",
       "0                        6.0                NaN                 2.0   \n",
       "1                        9.0                3.0                 NaN   \n",
       "2                        6.0                3.0                 NaN   \n",
       "3                        9.0                6.0                 NaN   \n",
       "4                        NaN                NaN                 NaN   \n",
       "\n",
       "   Value Deals Rating Live Sports Rating Ambience  Lively  Service  \\\n",
       "0                 NaN                NaN        5       2        2   \n",
       "1                 NaN                6.0        7       8        5   \n",
       "2                 NaN                NaN        9       7        5   \n",
       "3                 NaN                NaN        6       7        6   \n",
       "4                 NaN                NaN        4       4        7   \n",
       "\n",
       "   Comfortablility  Privacy  \n",
       "0                6        0  \n",
       "1                1        8  \n",
       "2                1        5  \n",
       "3                4        7  \n",
       "4                7        3  \n",
       "\n",
       "[5 rows x 33 columns]"
      ]
     },
     "execution_count": 44,
     "metadata": {},
     "output_type": "execute_result"
    }
   ],
   "source": [
    "df_test = pd.read_csv('D:/Hackathon/Test dataset.csv')\n",
    "df_test.head()"
   ]
  },
  {
   "cell_type": "code",
   "execution_count": 46,
   "metadata": {
    "ExecuteTime": {
     "end_time": "2020-09-16T13:27:49.517810Z",
     "start_time": "2020-09-16T13:27:49.503853Z"
    }
   },
   "outputs": [
    {
     "data": {
      "text/plain": [
       "Registration Number                0\n",
       "Cuisine                            0\n",
       "City                               0\n",
       "Restaurant Location                0\n",
       "Opening Day of Restaurant          0\n",
       "Facebook Popularity Quotient       0\n",
       "Endoresed By                       0\n",
       "Instagram Popularity Quotient      0\n",
       "Fire Audit                         0\n",
       "Liquor License Obtained            0\n",
       "Situated in a Multi Complex        0\n",
       "Dedicated Parking                  0\n",
       "Open Sitting Available             0\n",
       "Resturant Tier                     0\n",
       "Restaurant Type                    0\n",
       "Restaurant Theme                   0\n",
       "Restaurant Zomato Rating           0\n",
       "Restaurant City Tier               0\n",
       "Order Wait Time                    0\n",
       "Staff Responsivness                0\n",
       "Value for Money                    0\n",
       "Hygiene Rating                     0\n",
       "Food Rating                        0\n",
       "Overall Restaurant Rating         34\n",
       "Live Music Rating                102\n",
       "Comedy Gigs Rating               370\n",
       "Value Deals Rating               385\n",
       "Live Sports Rating               471\n",
       "Ambience                           0\n",
       "Lively                             0\n",
       "Service                            0\n",
       "Comfortablility                    0\n",
       "Privacy                            0\n",
       "dtype: int64"
      ]
     },
     "execution_count": 46,
     "metadata": {},
     "output_type": "execute_result"
    }
   ],
   "source": [
    "## Checking for the null values\n",
    "\n",
    "df_test.isnull().sum()"
   ]
  },
  {
   "cell_type": "code",
   "execution_count": 49,
   "metadata": {
    "ExecuteTime": {
     "end_time": "2020-09-16T13:28:33.529118Z",
     "start_time": "2020-09-16T13:28:33.500936Z"
    }
   },
   "outputs": [
    {
     "data": {
      "text/plain": [
       "array([28970960.71768262, 37737095.60304943, 34490378.9788395 ,\n",
       "       30724187.69475598, 34639727.94355315, 25759957.976339  ,\n",
       "       23906082.78391513, 27347602.40557766, 31243662.35462957,\n",
       "       27448250.62092816, 30399516.03233499, 33711166.98902911,\n",
       "       35139722.30368149, 31081326.52341907, 29078102.36628155,\n",
       "       27724221.53398601, 33776101.32151331, 27867077.06545124,\n",
       "       34165707.31641851, 28191748.72787223, 28646289.05526163,\n",
       "       33516363.99157652, 27996945.73041964, 27996945.73041964,\n",
       "       31935212.99558628, 26308653.08583048, 36373474.62088126,\n",
       "       35139722.30368149, 32996889.33170293, 35789065.62852347,\n",
       "       27120332.24188296, 31243662.35462957, 36146204.45718656,\n",
       "       36535810.45209175, 31243662.35462957, 22802199.13168376,\n",
       "       32542349.00431354, 29490435.37755621, 28743690.55398792,\n",
       "       24360623.11130452, 36730613.44954436, 27802142.73296705,\n",
       "       29321606.11309729, 27802142.73296705, 35983868.62597606,\n",
       "       31568334.01705056, 27672274.06799865, 33711166.98902911,\n",
       "       29295632.38010361, 28711223.38774583, 31893005.67947156,\n",
       "       33386495.32660812, 26828127.74570407, 32477414.67182934,\n",
       "       34944919.30622889, 29944975.7049456 , 28776157.72023003,\n",
       "       26568390.41576727, 31633268.34953476, 36925416.44699694,\n",
       "       24263221.61257822, 29727445.69112353, 35383226.05049723,\n",
       "       36763080.61578645, 28743690.55398792, 37737095.60304943,\n",
       "       31763137.01450316, 26373587.41831468, 27737208.40048285,\n",
       "       30594319.02978759, 30399516.03233499, 25854112.75844109,\n",
       "       29100829.38265102, 28256683.06035643, 28970960.71768262,\n",
       "       34490378.9788395 , 36058543.10833289, 32444947.50558725,\n",
       "       29889781.52233403, 26698259.08073567, 37379956.77438633,\n",
       "       30659253.36227179, 37055285.11196534, 34425444.6463553 ,\n",
       "       33191692.32915553, 31568334.01705056, 25399572.4310517 ,\n",
       "       33191692.32915553, 30399516.03233499, 29750172.707493  ,\n",
       "       32867020.66673454, 26698259.08073567, 29880041.3724614 ,\n",
       "       30789122.02724018, 35139722.30368149, 31341063.85335587,\n",
       "       36178671.62342866, 37737095.60304943, 24370363.26117715,\n",
       "       30269647.36736659, 37639694.10432313, 27711234.66748917,\n",
       "       32477414.67182934, 27087865.07564086, 33568311.45756388,\n",
       "       31503399.68456636, 31243662.35462957, 31438465.35208216,\n",
       "       33841035.65399751, 28906026.38519842, 29100829.38265102,\n",
       "       31503399.68456636, 34003371.485208  , 34555313.3113237 ,\n",
       "       36276073.12215496, 34944919.30622889, 28743690.55398792,\n",
       "       33451429.65909232, 26178784.42086208, 26535923.24952517,\n",
       "       30529384.69730338, 33386495.32660812, 32347546.00686095,\n",
       "       24425557.44378872, 34750116.30877629, 32282611.67437675,\n",
       "       31944953.14545891, 27022930.74315666, 34879984.97374469,\n",
       "       33363768.31023866, 27996945.73041964, 27996945.73041964,\n",
       "       32542349.00431354, 31243662.35462957, 32347546.00686095,\n",
       "       24587893.27499922, 31893005.67947156, 29230698.04761941,\n",
       "       34451418.37934898, 35594262.63107087, 34490378.9788395 ,\n",
       "       29295632.38010361, 35139722.30368149, 27022930.74315666,\n",
       "       29880041.3724614 , 30139778.70239819, 32477414.67182934,\n",
       "       35464393.96610248, 33516363.99157652, 35084528.12106992,\n",
       "       35139722.30368149, 24165820.11385193, 28211229.0276175 ,\n",
       "       36763080.61578645, 36178671.62342866, 30334581.69985079,\n",
       "       32412480.33934514, 33321560.99412392, 26308653.08583048,\n",
       "       34165707.31641851, 37737095.60304943, 32737152.00176613,\n",
       "       30918990.69220858, 27152799.40812506, 30675486.94539283,\n",
       "       30009910.0374298 , 26191771.28735892, 31893005.67947156,\n",
       "       34360510.3138711 , 29513162.39392568, 33841035.65399751,\n",
       "       24782696.27245181, 29188490.73150469, 27152799.40812506,\n",
       "       34165707.31641851, 36535810.45209175, 29133296.54889312,\n",
       "       26990463.57691456, 23883355.76754566, 34717649.1425342 ,\n",
       "       31828071.34698736, 31893005.67947156, 35464393.96610248,\n",
       "       30269647.36736659, 26373587.41831468, 36113737.29094446,\n",
       "       29295632.38010361, 32948188.58233978, 34295575.9813869 ,\n",
       "       34165707.31641851, 30269647.36736659, 31750150.14800632,\n",
       "       33516363.99157652, 26860594.91194617, 32477414.67182934,\n",
       "       23451542.45652574, 27087865.07564086, 26048915.75589368,\n",
       "       25334638.0985675 , 33613765.49030282, 37087752.27820744,\n",
       "       33516363.99157652, 26373587.41831468, 27996945.73041964,\n",
       "       29944975.7049456 , 36243605.95591286, 27867077.06545124,\n",
       "       32574816.17055564, 28191748.72787223, 35594262.63107087,\n",
       "       27672274.06799865, 32607283.33679774, 37250088.10941794,\n",
       "       25399572.4310517 , 29295632.38010361, 26698259.08073567,\n",
       "       35464393.96610248, 32217677.34189255, 34815050.64126049,\n",
       "       30854056.35972438, 29620304.04252461, 27347602.40557766,\n",
       "       25724244.09347269, 30789122.02724018, 26698259.08073567,\n",
       "       27996945.73041964, 30594319.02978759, 29009921.31717314,\n",
       "       33370261.74348707, 31513139.83443899, 26156057.40449261,\n",
       "       30954704.57507489, 35334525.30113408, 34360510.3138711 ,\n",
       "       28970960.71768262, 35724131.29603927, 32867020.66673454,\n",
       "       26535923.24952517, 25334638.0985675 , 33256626.66163973,\n",
       "       28321617.39284064, 36503343.28584966, 35681923.97992454,\n",
       "       27022930.74315666, 28354084.55908273, 27347602.40557766,\n",
       "       32899487.83297663, 27347602.40557766, 33711166.98902911,\n",
       "       35139722.30368149, 34230641.64890271, 26828127.74570407,\n",
       "       24100885.78136773, 34360510.3138711 , 30594319.02978759,\n",
       "       26698259.08073567, 26048915.75589368, 35759845.17890558,\n",
       "       36925416.44699694, 28646289.05526163, 29360566.71258781,\n",
       "       26243718.75334628, 26243718.75334628, 30918990.69220858,\n",
       "       31568334.01705056, 35107255.13743939, 29944975.7049456 ,\n",
       "       29295632.38010361, 26805400.7293346 , 32951435.29896399,\n",
       "       31633268.34953476, 37055285.11196534, 36243605.95591286,\n",
       "       24100885.78136773, 35464393.96610248, 30854056.35972438,\n",
       "       28970960.71768262, 26698259.08073567, 30659253.36227179,\n",
       "       30529384.69730338, 30918990.69220858, 31143014.13927906,\n",
       "       30789122.02724018, 26211251.58710418, 22477527.46926276,\n",
       "       33126757.99667133, 31143014.13927906, 26185277.8541105 ,\n",
       "       27315135.23933556, 32178716.74240203, 33256626.66163973,\n",
       "       36016335.79221816, 31405998.18584007, 33516363.99157652,\n",
       "       32542349.00431354, 30854056.35972438, 23841148.45143094,\n",
       "       28776157.72023003, 36892949.28075485, 30854056.35972438,\n",
       "       26052162.47251789, 35334525.30113408, 27380069.57181975,\n",
       "       28970960.71768262, 27347602.40557766, 24100885.78136773,\n",
       "       31243662.35462957, 29944975.7049456 , 33191692.32915553,\n",
       "       29165763.71513521, 26048915.75589368, 33256626.66163973,\n",
       "       30639773.06252652, 28776157.72023003, 29620304.04252461,\n",
       "       24425557.44378872, 26535923.24952517, 34328043.14762901,\n",
       "       26698259.08073567, 27996945.73041964, 31113793.68966117,\n",
       "       27185266.57436716, 35464393.96610248, 30594319.02978759,\n",
       "       35789065.62852347, 34815050.64126049, 32542349.00431354,\n",
       "       26568390.41576727, 22152855.80684177, 28711223.38774583,\n",
       "       34785830.1916426 , 34860504.67399943, 30918990.69220858,\n",
       "       34379990.61361636, 33386495.32660812, 31620281.48303792,\n",
       "       35464393.96610248, 30162505.71876767, 33061823.66418713,\n",
       "       25399572.4310517 , 34815050.64126049, 26698259.08073567,\n",
       "       37217620.94317584, 21828184.14442078, 26308653.08583048,\n",
       "       30204713.03488239, 33126757.99667133, 31587814.31679582,\n",
       "       28321617.39284064, 28808624.88647212, 35853999.96100767,\n",
       "       31633268.34953476, 33970904.31896591, 25334638.0985675 ,\n",
       "       33516363.99157652, 31568334.01705056, 34652714.81005   ,\n",
       "       33418962.49285022, 24639840.74098657, 27347602.40557766,\n",
       "       32461181.08870829, 27373576.13857133, 34587780.4775658 ,\n",
       "       38126701.59795462, 24587893.27499922, 31373531.01959797,\n",
       "       27022930.74315666, 28321617.39284064, 36600744.78457595,\n",
       "       36535810.45209175, 31828071.34698736, 32867020.66673454,\n",
       "       28906026.38519842, 27672274.06799865, 28646289.05526163,\n",
       "       28970960.71768262, 27217733.74060926, 31568334.01705056,\n",
       "       32867020.66673454, 34383237.33024057, 33451429.65909232,\n",
       "       31503399.68456636, 35139722.30368149, 32613776.77004616,\n",
       "       28321617.39284064, 28646289.05526163, 31957940.01195576,\n",
       "       30204713.03488239, 35691664.12979718, 36113737.29094446,\n",
       "       31600801.18329266, 38126701.59795462, 26308653.08583048,\n",
       "       27996945.73041964, 24425557.44378872, 32623516.91991879,\n",
       "       27347602.40557766, 30009910.0374298 , 27834609.89920915,\n",
       "       36113737.29094446, 31243662.35462957, 25399572.4310517 ,\n",
       "       35366992.46737618, 28646289.05526163, 28321617.39284064,\n",
       "       27886557.3651965 , 23224272.29283105, 29977442.87118769,\n",
       "       28321617.39284064, 27996945.73041964, 30594319.02978759,\n",
       "       31438465.35208216, 37383203.49101055, 25399572.4310517 ,\n",
       "       37120219.44444954, 33626752.35679966, 26795660.57946197,\n",
       "       34328043.14762901, 26698259.08073567, 31957940.01195576,\n",
       "       35139722.30368149, 33081303.96393239, 26178784.42086208,\n",
       "       22802199.13168376, 28701483.2378732 , 32542349.00431354,\n",
       "       35107255.13743939, 33841035.65399751, 28061880.06290384,\n",
       "       29295632.38010361, 32996889.33170293, 23201545.27646158,\n",
       "       27022930.74315666, 27347602.40557766, 28776157.72023003,\n",
       "       34165707.31641851, 32867020.66673454, 35529328.29858668,\n",
       "       37818263.51865467, 27347602.40557766, 29944975.7049456 ,\n",
       "       27347602.40557766, 31503399.68456636, 32412480.33934514,\n",
       "       34652714.81005   , 30918990.69220858, 30269647.36736659,\n",
       "       25399572.4310517 , 31243662.35462957, 32867020.66673454,\n",
       "       28159281.56163014, 26373587.41831468, 35464393.96610248,\n",
       "       29295632.38010361, 35383226.05049723, 29256671.78061309,\n",
       "       34263108.81514481, 29944975.7049456 , 30918990.69220858,\n",
       "       31026132.3408075 , 37964365.76674412, 28321617.39284064,\n",
       "       33841035.65399751, 31113793.68966117, 29035895.05016682,\n",
       "       24750229.10620971, 26698259.08073567, 26448261.9006715 ,\n",
       "       36178671.62342866, 30863796.50959701, 24750229.10620971,\n",
       "       33191692.32915553, 32867020.66673454, 33841035.65399751,\n",
       "       34685181.97629209, 24568412.97525395, 32087808.67692415,\n",
       "       27347602.40557766, 35983868.62597606, 33678699.82278702,\n",
       "       34685181.97629209, 34879984.97374469, 33126757.99667133,\n",
       "       33084550.6805566 , 27022930.74315666, 30074844.369914  ,\n",
       "       24360623.11130452, 32737152.00176613, 33256626.66163973,\n",
       "       29165763.71513521, 27802142.73296705, 32477414.67182934,\n",
       "       36113737.29094446, 28061880.06290384, 29295632.38010361,\n",
       "       29944975.7049456 , 23954783.53327828, 29750172.707493  ,\n",
       "       37704628.43680733, 28711223.38774583])"
      ]
     },
     "execution_count": 49,
     "metadata": {},
     "output_type": "execute_result"
    }
   ],
   "source": [
    "## Using the model built on the Training set to predict on the Test Set\n",
    "\n",
    "prediction = model.predict(df_test[['Instagram Popularity Quotient']])\n",
    "prediction"
   ]
  },
  {
   "cell_type": "markdown",
   "metadata": {},
   "source": [
    "# Saving the output in a data frame and then exporting it to a '.csv' file with the appropriate 'Registration Number'."
   ]
  },
  {
   "cell_type": "code",
   "execution_count": 64,
   "metadata": {
    "ExecuteTime": {
     "end_time": "2020-09-16T13:38:44.072923Z",
     "start_time": "2020-09-16T13:38:44.055736Z"
    }
   },
   "outputs": [
    {
     "data": {
      "text/html": [
       "<div>\n",
       "<style scoped>\n",
       "    .dataframe tbody tr th:only-of-type {\n",
       "        vertical-align: middle;\n",
       "    }\n",
       "\n",
       "    .dataframe tbody tr th {\n",
       "        vertical-align: top;\n",
       "    }\n",
       "\n",
       "    .dataframe thead th {\n",
       "        text-align: right;\n",
       "    }\n",
       "</style>\n",
       "<table border=\"1\" class=\"dataframe\">\n",
       "  <thead>\n",
       "    <tr style=\"text-align: right;\">\n",
       "      <th></th>\n",
       "      <th>Registration Number</th>\n",
       "    </tr>\n",
       "  </thead>\n",
       "  <tbody>\n",
       "    <tr>\n",
       "      <th>0</th>\n",
       "      <td>20001</td>\n",
       "    </tr>\n",
       "    <tr>\n",
       "      <th>1</th>\n",
       "      <td>20002</td>\n",
       "    </tr>\n",
       "    <tr>\n",
       "      <th>2</th>\n",
       "      <td>20003</td>\n",
       "    </tr>\n",
       "    <tr>\n",
       "      <th>3</th>\n",
       "      <td>20004</td>\n",
       "    </tr>\n",
       "    <tr>\n",
       "      <th>4</th>\n",
       "      <td>20005</td>\n",
       "    </tr>\n",
       "    <tr>\n",
       "      <th>...</th>\n",
       "      <td>...</td>\n",
       "    </tr>\n",
       "    <tr>\n",
       "      <th>495</th>\n",
       "      <td>20496</td>\n",
       "    </tr>\n",
       "    <tr>\n",
       "      <th>496</th>\n",
       "      <td>20497</td>\n",
       "    </tr>\n",
       "    <tr>\n",
       "      <th>497</th>\n",
       "      <td>20498</td>\n",
       "    </tr>\n",
       "    <tr>\n",
       "      <th>498</th>\n",
       "      <td>20499</td>\n",
       "    </tr>\n",
       "    <tr>\n",
       "      <th>499</th>\n",
       "      <td>20500</td>\n",
       "    </tr>\n",
       "  </tbody>\n",
       "</table>\n",
       "<p>500 rows × 1 columns</p>\n",
       "</div>"
      ],
      "text/plain": [
       "     Registration Number\n",
       "0                  20001\n",
       "1                  20002\n",
       "2                  20003\n",
       "3                  20004\n",
       "4                  20005\n",
       "..                   ...\n",
       "495                20496\n",
       "496                20497\n",
       "497                20498\n",
       "498                20499\n",
       "499                20500\n",
       "\n",
       "[500 rows x 1 columns]"
      ]
     },
     "execution_count": 64,
     "metadata": {},
     "output_type": "execute_result"
    }
   ],
   "source": [
    "solution_df = pd.DataFrame(df_test['Registration Number'])\n",
    "solution_df"
   ]
  },
  {
   "cell_type": "code",
   "execution_count": 69,
   "metadata": {
    "ExecuteTime": {
     "end_time": "2020-09-16T13:40:01.957550Z",
     "start_time": "2020-09-16T13:40:01.935844Z"
    }
   },
   "outputs": [
    {
     "data": {
      "text/html": [
       "<div>\n",
       "<style scoped>\n",
       "    .dataframe tbody tr th:only-of-type {\n",
       "        vertical-align: middle;\n",
       "    }\n",
       "\n",
       "    .dataframe tbody tr th {\n",
       "        vertical-align: top;\n",
       "    }\n",
       "\n",
       "    .dataframe thead th {\n",
       "        text-align: right;\n",
       "    }\n",
       "</style>\n",
       "<table border=\"1\" class=\"dataframe\">\n",
       "  <thead>\n",
       "    <tr style=\"text-align: right;\">\n",
       "      <th></th>\n",
       "      <th>Registration Number</th>\n",
       "      <th>Annual Turnover</th>\n",
       "    </tr>\n",
       "  </thead>\n",
       "  <tbody>\n",
       "    <tr>\n",
       "      <th>0</th>\n",
       "      <td>20001</td>\n",
       "      <td>2.897096e+07</td>\n",
       "    </tr>\n",
       "    <tr>\n",
       "      <th>1</th>\n",
       "      <td>20002</td>\n",
       "      <td>3.773710e+07</td>\n",
       "    </tr>\n",
       "    <tr>\n",
       "      <th>2</th>\n",
       "      <td>20003</td>\n",
       "      <td>3.449038e+07</td>\n",
       "    </tr>\n",
       "    <tr>\n",
       "      <th>3</th>\n",
       "      <td>20004</td>\n",
       "      <td>3.072419e+07</td>\n",
       "    </tr>\n",
       "    <tr>\n",
       "      <th>4</th>\n",
       "      <td>20005</td>\n",
       "      <td>3.463973e+07</td>\n",
       "    </tr>\n",
       "    <tr>\n",
       "      <th>...</th>\n",
       "      <td>...</td>\n",
       "      <td>...</td>\n",
       "    </tr>\n",
       "    <tr>\n",
       "      <th>495</th>\n",
       "      <td>20496</td>\n",
       "      <td>2.994498e+07</td>\n",
       "    </tr>\n",
       "    <tr>\n",
       "      <th>496</th>\n",
       "      <td>20497</td>\n",
       "      <td>2.395478e+07</td>\n",
       "    </tr>\n",
       "    <tr>\n",
       "      <th>497</th>\n",
       "      <td>20498</td>\n",
       "      <td>2.975017e+07</td>\n",
       "    </tr>\n",
       "    <tr>\n",
       "      <th>498</th>\n",
       "      <td>20499</td>\n",
       "      <td>3.770463e+07</td>\n",
       "    </tr>\n",
       "    <tr>\n",
       "      <th>499</th>\n",
       "      <td>20500</td>\n",
       "      <td>2.871122e+07</td>\n",
       "    </tr>\n",
       "  </tbody>\n",
       "</table>\n",
       "<p>500 rows × 2 columns</p>\n",
       "</div>"
      ],
      "text/plain": [
       "     Registration Number  Annual Turnover\n",
       "0                  20001     2.897096e+07\n",
       "1                  20002     3.773710e+07\n",
       "2                  20003     3.449038e+07\n",
       "3                  20004     3.072419e+07\n",
       "4                  20005     3.463973e+07\n",
       "..                   ...              ...\n",
       "495                20496     2.994498e+07\n",
       "496                20497     2.395478e+07\n",
       "497                20498     2.975017e+07\n",
       "498                20499     3.770463e+07\n",
       "499                20500     2.871122e+07\n",
       "\n",
       "[500 rows x 2 columns]"
      ]
     },
     "execution_count": 69,
     "metadata": {},
     "output_type": "execute_result"
    }
   ],
   "source": [
    "solution_df['Annual Turnover'] = prediction\n",
    "solution_df"
   ]
  },
  {
   "cell_type": "code",
   "execution_count": 77,
   "metadata": {
    "ExecuteTime": {
     "end_time": "2020-09-16T14:08:38.203042Z",
     "start_time": "2020-09-16T14:08:38.196084Z"
    }
   },
   "outputs": [],
   "source": [
    "## Setting the directory to export the file as a '.csv'\n",
    "\n",
    "import os\n",
    "os.chdir('D:/Hackathon')"
   ]
  },
  {
   "cell_type": "code",
   "execution_count": 75,
   "metadata": {
    "ExecuteTime": {
     "end_time": "2020-09-16T14:07:06.368811Z",
     "start_time": "2020-09-16T14:07:06.345683Z"
    }
   },
   "outputs": [],
   "source": [
    "## Exporting the data frame to a '.csv' file and setting the index = False as we do want the index\n",
    "\n",
    "solution_df.to_csv('Submission.csv',index=False)"
   ]
  },
  {
   "cell_type": "markdown",
   "metadata": {},
   "source": [
    "# END"
   ]
  }
 ],
 "metadata": {
  "kernelspec": {
   "display_name": "Python 3",
   "language": "python",
   "name": "python3"
  },
  "language_info": {
   "codemirror_mode": {
    "name": "ipython",
    "version": 3
   },
   "file_extension": ".py",
   "mimetype": "text/x-python",
   "name": "python",
   "nbconvert_exporter": "python",
   "pygments_lexer": "ipython3",
   "version": "3.8.3"
  },
  "toc": {
   "base_numbering": 1,
   "nav_menu": {},
   "number_sections": true,
   "sideBar": true,
   "skip_h1_title": false,
   "title_cell": "Table of Contents",
   "title_sidebar": "Contents",
   "toc_cell": false,
   "toc_position": {},
   "toc_section_display": true,
   "toc_window_display": false
  },
  "varInspector": {
   "cols": {
    "lenName": 16,
    "lenType": 16,
    "lenVar": 40
   },
   "kernels_config": {
    "python": {
     "delete_cmd_postfix": "",
     "delete_cmd_prefix": "del ",
     "library": "var_list.py",
     "varRefreshCmd": "print(var_dic_list())"
    },
    "r": {
     "delete_cmd_postfix": ") ",
     "delete_cmd_prefix": "rm(",
     "library": "var_list.r",
     "varRefreshCmd": "cat(var_dic_list()) "
    }
   },
   "types_to_exclude": [
    "module",
    "function",
    "builtin_function_or_method",
    "instance",
    "_Feature"
   ],
   "window_display": false
  }
 },
 "nbformat": 4,
 "nbformat_minor": 4
}
